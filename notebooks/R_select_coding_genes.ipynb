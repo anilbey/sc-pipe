{
 "cells": [
  {
   "cell_type": "code",
   "execution_count": 1,
   "metadata": {},
   "outputs": [],
   "source": [
    "library(rhdf5)\n",
    "library(biomaRt)"
   ]
  },
  {
   "cell_type": "code",
   "execution_count": 2,
   "metadata": {},
   "outputs": [],
   "source": [
    "path = \"../hdf5_data/raw_melanomaS2.h5\""
   ]
  },
  {
   "cell_type": "code",
   "execution_count": 3,
   "metadata": {},
   "outputs": [],
   "source": [
    "h5f = H5Fopen(path)"
   ]
  },
  {
   "cell_type": "code",
   "execution_count": 4,
   "metadata": {},
   "outputs": [],
   "source": [
    "gene_ids = h5f$gene_attrs$gene_ids"
   ]
  },
  {
   "cell_type": "code",
   "execution_count": null,
   "metadata": {},
   "outputs": [],
   "source": []
  },
  {
   "cell_type": "code",
   "execution_count": 5,
   "metadata": {},
   "outputs": [],
   "source": [
    "ensembl = useMart(\"ensembl\")\n",
    "mart = useDataset(\"hsapiens_gene_ensembl\", mart=ensembl)"
   ]
  },
  {
   "cell_type": "code",
   "execution_count": 6,
   "metadata": {},
   "outputs": [
    {
     "data": {
      "text/plain": [
       "Object of class 'Mart':\n",
       "  Using the ENSEMBL_MART_ENSEMBL BioMart database\n",
       "  Using the hsapiens_gene_ensembl dataset"
      ]
     },
     "metadata": {},
     "output_type": "display_data"
    }
   ],
   "source": [
    "mart"
   ]
  },
  {
   "cell_type": "code",
   "execution_count": 7,
   "metadata": {},
   "outputs": [
    {
     "data": {
      "text/plain": [
       "R version 3.4.3 (2017-11-30)\n",
       "Platform: x86_64-pc-linux-gnu (64-bit)\n",
       "Running under: CentOS Linux 7 (Core)\n",
       "\n",
       "Matrix products: default\n",
       "BLAS: /cluster/work/bewi/members/tuncel/anaconda3/envs/r-3.4.1-env/lib/R/lib/libRblas.so\n",
       "LAPACK: /cluster/work/bewi/members/tuncel/anaconda3/envs/r-3.4.1-env/lib/R/lib/libRlapack.so\n",
       "\n",
       "locale:\n",
       " [1] LC_CTYPE=en_US.UTF-8       LC_NUMERIC=C              \n",
       " [3] LC_TIME=en_US.UTF-8        LC_COLLATE=en_US.UTF-8    \n",
       " [5] LC_MONETARY=en_US.UTF-8    LC_MESSAGES=en_US.UTF-8   \n",
       " [7] LC_PAPER=en_US.UTF-8       LC_NAME=C                 \n",
       " [9] LC_ADDRESS=C               LC_TELEPHONE=C            \n",
       "[11] LC_MEASUREMENT=en_US.UTF-8 LC_IDENTIFICATION=C       \n",
       "\n",
       "attached base packages:\n",
       "[1] stats     graphics  grDevices utils     datasets  methods   base     \n",
       "\n",
       "other attached packages:\n",
       "[1] biomaRt_2.34.2   rhdf5_2.22.0     RevoUtils_10.0.8\n",
       "\n",
       "loaded via a namespace (and not attached):\n",
       " [1] Rcpp_0.12.16         compiler_3.4.3       prettyunits_1.0.2   \n",
       " [4] bitops_1.0-6         tools_3.4.3          zlibbioc_1.24.0     \n",
       " [7] progress_1.1.2       digest_0.6.15        uuid_0.1-2          \n",
       "[10] bit_1.1-12           jsonlite_1.5         RSQLite_2.0         \n",
       "[13] evaluate_0.10.1      memoise_1.1.0        IRdisplay_0.4.4     \n",
       "[16] DBI_0.8              IRkernel_0.7.1       parallel_3.4.3      \n",
       "[19] repr_0.12.0          stringr_1.3.0        httr_1.3.1          \n",
       "[22] S4Vectors_0.16.0     IRanges_2.12.0       stats4_3.4.3        \n",
       "[25] bit64_0.9-7          Biobase_2.38.0       R6_2.2.2            \n",
       "[28] AnnotationDbi_1.40.0 XML_3.98-1.10        pbdZMQ_0.3-2        \n",
       "[31] blob_1.1.1           magrittr_1.5         BiocGenerics_0.24.0 \n",
       "[34] assertthat_0.2.0     stringi_1.1.7        RCurl_1.95-4.10     \n",
       "[37] crayon_1.3.4        "
      ]
     },
     "metadata": {},
     "output_type": "display_data"
    }
   ],
   "source": [
    "sessionInfo()"
   ]
  },
  {
   "cell_type": "code",
   "execution_count": 8,
   "metadata": {},
   "outputs": [
    {
     "ename": "ERROR",
     "evalue": "Error in dyn.load(file, DLLpath = DLLpath, ...): unable to load shared object '/cluster/work/bewi/members/tuncel/anaconda3/envs/r-3.4.1-env/lib/R/library/curl/libs/curl.so':\n  libgfortran.so.4: cannot open shared object file: No such file or directory\n",
     "output_type": "error",
     "traceback": [
      "Error in dyn.load(file, DLLpath = DLLpath, ...): unable to load shared object '/cluster/work/bewi/members/tuncel/anaconda3/envs/r-3.4.1-env/lib/R/library/curl/libs/curl.so':\n  libgfortran.so.4: cannot open shared object file: No such file or directory\nTraceback:\n",
      "1. getBM(attributes = c(\"ensembl_gene_id\", \"entrezgene\", \"hgnc_symbol\", \n .     \"description\"), filters = c(\"ensembl_gene_id\", \"biotype\"), \n .     values = list(gene_ids, \"protein_coding\"), mart = mart, uniqueRows = T)",
      "2. .submitQuery(host = paste0(martHost(mart), sep), query = fullXmlQuery)",
      "3. httr::POST(url = host, body = list(query = query))",
      "4. handle_url(handle, url, ...)",
      "5. handle_find(url)",
      "6. handle_name(url)",
      "7. build_url(parse_url(url)[c(\"scheme\", \"hostname\", \"port\")])",
      "8. stopifnot(is.url(url))",
      "9. is.url(url)",
      "10. inherits(x, \"url\")",
      "11. parse_url(url)",
      "12. parse_query(query)",
      "13. as.list(curl::curl_unescape(params[2, ]))",
      "14. curl::curl_unescape",
      "15. getExportedValue(pkg, name)",
      "16. asNamespace(ns)",
      "17. getNamespace(ns)",
      "18. tryCatch(loadNamespace(name), error = function(e) stop(e))",
      "19. tryCatchList(expr, classes, parentenv, handlers)",
      "20. tryCatchOne(expr, names, parentenv, handlers[[1L]])",
      "21. value[[3L]](cond)"
     ]
    }
   ],
   "source": [
    "entrezGeneMapping_proteinCoding = getBM(\n",
    "  attributes= c(\"ensembl_gene_id\", \"entrezgene\", \"hgnc_symbol\", \"description\"),\n",
    "  filters = c(\"ensembl_gene_id\",\"biotype\"),\n",
    "  values= list(gene_ids,'protein_coding'),\n",
    "  mart= mart,\n",
    "  uniqueRows=T)"
   ]
  },
  {
   "cell_type": "code",
   "execution_count": 22,
   "metadata": {},
   "outputs": [
    {
     "ename": "ERROR",
     "evalue": "Error in na.omit(entrezGeneMapping_proteinCoding): object 'entrezGeneMapping_proteinCoding' not found\n",
     "output_type": "error",
     "traceback": [
      "Error in na.omit(entrezGeneMapping_proteinCoding): object 'entrezGeneMapping_proteinCoding' not found\nTraceback:\n",
      "1. na.omit(entrezGeneMapping_proteinCoding)"
     ]
    }
   ],
   "source": [
    "# filter NAs and multiple entries\n",
    "entrezGeneMapping_proteinCoding_noNa = na.omit(entrezGeneMapping_proteinCoding)\n",
    "entrezGeneMapping_proteinCoding_noNa_unique = entrezGeneMapping_proteinCoding_noNa[!duplicated(entrezGeneMapping_proteinCoding_noNa$ensembl_gene_id),]\n",
    "\n",
    "print(paste('Mapped to entrez and kept only protein coding genes. Remaining #genes:', dim(entrezGeneMapping_proteinCoding_noNa_unique)[1], sep =' '))\n"
   ]
  },
  {
   "cell_type": "code",
   "execution_count": 12,
   "metadata": {},
   "outputs": [
    {
     "data": {
      "text/html": [
       "15339"
      ],
      "text/latex": [
       "15339"
      ],
      "text/markdown": [
       "15339"
      ],
      "text/plain": [
       "[1] 15339"
      ]
     },
     "metadata": {},
     "output_type": "display_data"
    }
   ],
   "source": [
    "length(entrezGeneMapping_proteinCoding_noNa_unique$ensembl_gene_id)"
   ]
  },
  {
   "cell_type": "code",
   "execution_count": 9,
   "metadata": {},
   "outputs": [],
   "source": [
    "res = gene_ids %in% entrezGeneMapping_proteinCoding_noNa_unique$ensembl_gene_id"
   ]
  },
  {
   "cell_type": "code",
   "execution_count": 38,
   "metadata": {},
   "outputs": [],
   "source": [
    "data = h5f$matrix\n",
    "f_name = 'coding_genes_output_hdf5'\n",
    "gene_names = h5f$gene_attrs$gene_names[res]\n",
    "gene_ids = h5f$gene_attrs$gene_ids[res]\n",
    "cell_names = h5f$cell_attrs$cell_names\n",
    "filtered_matrix = data[res,]"
   ]
  },
  {
   "cell_type": "code",
   "execution_count": 40,
   "metadata": {},
   "outputs": [
    {
     "data": {
      "text/html": [
       "TRUE"
      ],
      "text/latex": [
       "TRUE"
      ],
      "text/markdown": [
       "TRUE"
      ],
      "text/plain": [
       "[1] TRUE"
      ]
     },
     "metadata": {},
     "output_type": "display_data"
    },
    {
     "data": {
      "text/html": [
       "TRUE"
      ],
      "text/latex": [
       "TRUE"
      ],
      "text/markdown": [
       "TRUE"
      ],
      "text/plain": [
       "[1] TRUE"
      ]
     },
     "metadata": {},
     "output_type": "display_data"
    },
    {
     "data": {
      "text/html": [
       "TRUE"
      ],
      "text/latex": [
       "TRUE"
      ],
      "text/markdown": [
       "TRUE"
      ],
      "text/plain": [
       "[1] TRUE"
      ]
     },
     "metadata": {},
     "output_type": "display_data"
    },
    {
     "name": "stderr",
     "output_type": "stream",
     "text": [
      "Warning message in h5createDataset(h5loc, name, dim(obj), storage.mode = storage.mode(obj), :\n",
      "“You created a large dataset with compression and chunking. The chunk size is equal to the dataset dimensions. If you want to read subsets of the dataset, you should test smaller chunk sizes to improve read times. Turn off this warning with showWarnings=FALSE.”"
     ]
    }
   ],
   "source": [
    "h5createFile(f_name)\n",
    "h5createGroup(f_name, \"cell_attrs\")\n",
    "h5createGroup(f_name, \"gene_attrs\")\n",
    "h5write(gene_names, f_name, \"gene_attrs/gene_names\")\n",
    "h5write(gene_ids, f_name, \"gene_attrs/gene_ids\")\n",
    "h5write(filtered_matrix, f_name,\"matrix\")\n",
    "h5write(cell_names, f_name, \"cell_attrs/cell_names\")"
   ]
  },
  {
   "cell_type": "code",
   "execution_count": 41,
   "metadata": {},
   "outputs": [],
   "source": [
    "H5Fclose(h5f)"
   ]
  },
  {
   "cell_type": "code",
   "execution_count": null,
   "metadata": {},
   "outputs": [],
   "source": []
  }
 ],
 "metadata": {
  "kernelspec": {
   "display_name": "R",
   "language": "R",
   "name": "ir"
  },
  "language_info": {
   "codemirror_mode": "r",
   "file_extension": ".r",
   "mimetype": "text/x-r-source",
   "name": "R",
   "pygments_lexer": "r",
   "version": "3.4.3"
  }
 },
 "nbformat": 4,
 "nbformat_minor": 2
}
