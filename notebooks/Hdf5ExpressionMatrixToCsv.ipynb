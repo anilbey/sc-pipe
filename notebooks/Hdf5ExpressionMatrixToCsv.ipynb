{
 "cells": [
  {
   "cell_type": "code",
   "execution_count": 1,
   "metadata": {},
   "outputs": [
    {
     "name": "stderr",
     "output_type": "stream",
     "text": [
      "/cluster/work/bewi/members/tuncel/anaconda3/lib/python3.6/site-packages/h5py/__init__.py:34: FutureWarning: Conversion of the second argument of issubdtype from `float` to `np.floating` is deprecated. In future, it will be treated as `np.float64 == np.dtype(float).type`.\n",
      "  from ._conv import register_converters as _register_converters\n"
     ]
    }
   ],
   "source": [
    "import h5py\n",
    "import numpy as np\n",
    "import time\n",
    "import pandas as pd"
   ]
  },
  {
   "cell_type": "code",
   "execution_count": 2,
   "metadata": {},
   "outputs": [
    {
     "name": "stdout",
     "output_type": "stream",
     "text": [
      "total 983792\r\n",
      "-rw-rw---- 1 mtuncel mtuncel-group 136372956 Apr 24 13:15 cell_cycle_removed_melanomaS2.h5\r\n",
      "-rw-rw---- 1 mtuncel mtuncel-group       669 Apr 11 12:09 cluster_celltype_confusionmatrix.txt\r\n",
      "-rw-rw---- 1 mtuncel mtuncel-group 272188839 Apr 24 13:13 coding_region_only_melanomaS2.h5\r\n",
      "-rw-rw---- 1 mtuncel mtuncel-group 136372956 Apr 23 14:52 log_cell_cycle_removed_melanomaS2.h5\r\n",
      "-rw-rw---- 1 mtuncel mtuncel-group 177321089 Apr 24 13:12 raw_melanomaS2.h5\r\n",
      "-rw-rw---- 1 mtuncel mtuncel-group 272188839 Apr 16 17:49 test.hdf5\r\n",
      "-rw-rw---- 1 mtuncel mtuncel-group   8960976 Apr 24 13:15 zheng17_melanomaS2.h5\r\n"
     ]
    }
   ],
   "source": [
    "! ls -l /cluster/home/mtuncel/sc-pipe/intermediate_files/"
   ]
  },
  {
   "cell_type": "code",
   "execution_count": 3,
   "metadata": {
    "collapsed": true
   },
   "outputs": [],
   "source": [
    "input_file = '/cluster/home/mtuncel/sc-pipe/intermediate_files/cell_cycle_removed_melanomaS2.h5'"
   ]
  },
  {
   "cell_type": "code",
   "execution_count": null,
   "metadata": {
    "collapsed": true
   },
   "outputs": [],
   "source": []
  },
  {
   "cell_type": "code",
   "execution_count": 4,
   "metadata": {
    "collapsed": true
   },
   "outputs": [],
   "source": [
    "h5f = h5py.File(input_file, 'r')"
   ]
  },
  {
   "cell_type": "code",
   "execution_count": 5,
   "metadata": {},
   "outputs": [
    {
     "data": {
      "text/plain": [
       "['cell_names', 'cell_phase']"
      ]
     },
     "execution_count": 5,
     "metadata": {},
     "output_type": "execute_result"
    }
   ],
   "source": [
    "list(h5f['cell_attrs'].keys())"
   ]
  },
  {
   "cell_type": "code",
   "execution_count": 6,
   "metadata": {},
   "outputs": [
    {
     "data": {
      "text/plain": [
       "array([b'G1', b'G2M', b'G1', ..., b'G1', b'G1', b'G1'], dtype='|S10')"
      ]
     },
     "execution_count": 6,
     "metadata": {},
     "output_type": "execute_result"
    }
   ],
   "source": [
    "h5f['cell_attrs']['cell_phase'].value"
   ]
  },
  {
   "cell_type": "code",
   "execution_count": 7,
   "metadata": {},
   "outputs": [
    {
     "data": {
      "text/plain": [
       "['gene_ids', 'gene_names']"
      ]
     },
     "execution_count": 7,
     "metadata": {},
     "output_type": "execute_result"
    }
   ],
   "source": [
    "list(h5f['gene_attrs'].keys())"
   ]
  },
  {
   "cell_type": "code",
   "execution_count": 8,
   "metadata": {
    "collapsed": true
   },
   "outputs": [],
   "source": [
    "matrix = h5f['matrix'][:]\n",
    "barcodes = h5f['cell_attrs']['cell_names'].value\n",
    "gene_ids = h5f['gene_attrs']['gene_ids'].value\n",
    "gene_names = h5f['gene_attrs']['gene_names'].value\n",
    "cell_phase = h5f['cell_attrs']['cell_phase'].value"
   ]
  },
  {
   "cell_type": "code",
   "execution_count": 9,
   "metadata": {
    "collapsed": true
   },
   "outputs": [],
   "source": [
    "decoder = np.vectorize(lambda t: t.decode('UTF-8'))"
   ]
  },
  {
   "cell_type": "code",
   "execution_count": 10,
   "metadata": {
    "collapsed": true
   },
   "outputs": [],
   "source": [
    "barcodes = decoder(barcodes)\n",
    "gene_ids = decoder(gene_ids)\n",
    "gene_names = decoder(gene_names)\n",
    "cell_phase = decoder(cell_phase)"
   ]
  },
  {
   "cell_type": "code",
   "execution_count": 11,
   "metadata": {},
   "outputs": [
    {
     "data": {
      "text/plain": [
       "(2216, 15324)"
      ]
     },
     "execution_count": 11,
     "metadata": {},
     "output_type": "execute_result"
    }
   ],
   "source": [
    "matrix.shape"
   ]
  },
  {
   "cell_type": "code",
   "execution_count": 12,
   "metadata": {},
   "outputs": [
    {
     "data": {
      "text/plain": [
       "numpy.ndarray"
      ]
     },
     "execution_count": 12,
     "metadata": {},
     "output_type": "execute_result"
    }
   ],
   "source": [
    "type(matrix)"
   ]
  },
  {
   "cell_type": "code",
   "execution_count": 13,
   "metadata": {
    "collapsed": true
   },
   "outputs": [],
   "source": [
    "detected_genes_index = ~(matrix == 0).all(axis=0)"
   ]
  },
  {
   "cell_type": "code",
   "execution_count": 14,
   "metadata": {},
   "outputs": [
    {
     "data": {
      "text/plain": [
       "array([ True,  True,  True, ...,  True,  True,  True])"
      ]
     },
     "execution_count": 14,
     "metadata": {},
     "output_type": "execute_result"
    }
   ],
   "source": [
    "detected_genes_index"
   ]
  },
  {
   "cell_type": "code",
   "execution_count": 15,
   "metadata": {},
   "outputs": [
    {
     "data": {
      "text/plain": [
       "15324"
      ]
     },
     "execution_count": 15,
     "metadata": {},
     "output_type": "execute_result"
    }
   ],
   "source": [
    "sum(detected_genes_index)"
   ]
  },
  {
   "cell_type": "code",
   "execution_count": 16,
   "metadata": {},
   "outputs": [
    {
     "data": {
      "text/plain": [
       "(15324,)"
      ]
     },
     "execution_count": 16,
     "metadata": {},
     "output_type": "execute_result"
    }
   ],
   "source": [
    "gene_names.shape"
   ]
  },
  {
   "cell_type": "code",
   "execution_count": 17,
   "metadata": {},
   "outputs": [
    {
     "data": {
      "text/plain": [
       "(15324,)"
      ]
     },
     "execution_count": 17,
     "metadata": {},
     "output_type": "execute_result"
    }
   ],
   "source": [
    "gene_names[detected_genes_index].shape"
   ]
  },
  {
   "cell_type": "code",
   "execution_count": 18,
   "metadata": {},
   "outputs": [
    {
     "data": {
      "text/plain": [
       "0"
      ]
     },
     "execution_count": 18,
     "metadata": {},
     "output_type": "execute_result"
    }
   ],
   "source": [
    "len(np.where(~matrix.any(axis=0))[0])"
   ]
  },
  {
   "cell_type": "code",
   "execution_count": 19,
   "metadata": {},
   "outputs": [
    {
     "data": {
      "text/plain": [
       "(2216, 15324)"
      ]
     },
     "execution_count": 19,
     "metadata": {},
     "output_type": "execute_result"
    }
   ],
   "source": [
    "matrix.shape"
   ]
  },
  {
   "cell_type": "code",
   "execution_count": 20,
   "metadata": {},
   "outputs": [
    {
     "data": {
      "text/plain": [
       "array([[-4.96326108e-03, -1.25327274e-01, -3.53636523e-03, ...,\n",
       "        -2.95644259e+00, -5.32092214e-01, -3.07317519e+00],\n",
       "       [-4.42326861e-03, -1.30447447e-01, -6.06072601e-03, ...,\n",
       "        -2.20450115e+00, -6.16022348e-01, -2.32758117e+00],\n",
       "       [ 5.54294288e-01, -1.25789836e-01, -3.74200102e-03, ...,\n",
       "        -2.75881171e+00, -5.57653606e-01, -3.76119757e+00],\n",
       "       ...,\n",
       "       [-4.72440710e-03, -1.25965908e-01, -3.83498566e-03, ...,\n",
       "        -1.03707099e+00, -5.55587709e-01, -2.61977983e+00],\n",
       "       [-4.78246063e-03, -1.26354054e-01, -4.03572107e-03, ...,\n",
       "        -1.55430377e+00,  1.09639645e-01, -2.31915975e+00],\n",
       "       [-4.96826693e-03, -1.28499746e-01, -5.13262395e-03, ...,\n",
       "        -3.19688463e+00, -5.58300972e-01, -4.05960131e+00]], dtype=float32)"
      ]
     },
     "execution_count": 20,
     "metadata": {},
     "output_type": "execute_result"
    }
   ],
   "source": [
    "matrix"
   ]
  },
  {
   "cell_type": "code",
   "execution_count": 21,
   "metadata": {},
   "outputs": [
    {
     "data": {
      "text/plain": [
       "115.58208"
      ]
     },
     "execution_count": 21,
     "metadata": {},
     "output_type": "execute_result"
    }
   ],
   "source": [
    "matrix.max()"
   ]
  },
  {
   "cell_type": "code",
   "execution_count": 22,
   "metadata": {},
   "outputs": [
    {
     "data": {
      "text/plain": [
       "0.0004043579"
      ]
     },
     "execution_count": 22,
     "metadata": {},
     "output_type": "execute_result"
    }
   ],
   "source": [
    "matrix.sum()"
   ]
  },
  {
   "cell_type": "code",
   "execution_count": 23,
   "metadata": {
    "collapsed": true
   },
   "outputs": [],
   "source": [
    "b = (matrix==0).sum(axis=0)==0"
   ]
  },
  {
   "cell_type": "code",
   "execution_count": 24,
   "metadata": {},
   "outputs": [
    {
     "data": {
      "text/plain": [
       "0"
      ]
     },
     "execution_count": 24,
     "metadata": {},
     "output_type": "execute_result"
    }
   ],
   "source": [
    "b.searchsorted(True)"
   ]
  },
  {
   "cell_type": "code",
   "execution_count": 25,
   "metadata": {
    "collapsed": true
   },
   "outputs": [],
   "source": [
    "df_cell_attrs = pd.DataFrame(barcodes)"
   ]
  },
  {
   "cell_type": "code",
   "execution_count": 26,
   "metadata": {
    "collapsed": true
   },
   "outputs": [],
   "source": [
    "df_cell_attrs.columns = ['barcodes']"
   ]
  },
  {
   "cell_type": "code",
   "execution_count": 27,
   "metadata": {
    "collapsed": true
   },
   "outputs": [],
   "source": [
    "df_cell_attrs['cell_phase'] = cell_phase"
   ]
  },
  {
   "cell_type": "code",
   "execution_count": 28,
   "metadata": {},
   "outputs": [
    {
     "data": {
      "text/html": [
       "<div>\n",
       "<style scoped>\n",
       "    .dataframe tbody tr th:only-of-type {\n",
       "        vertical-align: middle;\n",
       "    }\n",
       "\n",
       "    .dataframe tbody tr th {\n",
       "        vertical-align: top;\n",
       "    }\n",
       "\n",
       "    .dataframe thead th {\n",
       "        text-align: right;\n",
       "    }\n",
       "</style>\n",
       "<table border=\"1\" class=\"dataframe\">\n",
       "  <thead>\n",
       "    <tr style=\"text-align: right;\">\n",
       "      <th></th>\n",
       "      <th>barcodes</th>\n",
       "      <th>cell_phase</th>\n",
       "    </tr>\n",
       "  </thead>\n",
       "  <tbody>\n",
       "    <tr>\n",
       "      <th>0</th>\n",
       "      <td>AAACCTGAGGGCATGT</td>\n",
       "      <td>G1</td>\n",
       "    </tr>\n",
       "    <tr>\n",
       "      <th>1</th>\n",
       "      <td>AAACCTGAGTACTTGC</td>\n",
       "      <td>G2M</td>\n",
       "    </tr>\n",
       "    <tr>\n",
       "      <th>2</th>\n",
       "      <td>AAACCTGCATCTCCCA</td>\n",
       "      <td>G1</td>\n",
       "    </tr>\n",
       "    <tr>\n",
       "      <th>3</th>\n",
       "      <td>AAACCTGGTAAGGGCT</td>\n",
       "      <td>S</td>\n",
       "    </tr>\n",
       "    <tr>\n",
       "      <th>4</th>\n",
       "      <td>AAACCTGGTACCGTTA</td>\n",
       "      <td>G1</td>\n",
       "    </tr>\n",
       "  </tbody>\n",
       "</table>\n",
       "</div>"
      ],
      "text/plain": [
       "           barcodes cell_phase\n",
       "0  AAACCTGAGGGCATGT         G1\n",
       "1  AAACCTGAGTACTTGC        G2M\n",
       "2  AAACCTGCATCTCCCA         G1\n",
       "3  AAACCTGGTAAGGGCT          S\n",
       "4  AAACCTGGTACCGTTA         G1"
      ]
     },
     "execution_count": 28,
     "metadata": {},
     "output_type": "execute_result"
    }
   ],
   "source": [
    "df_cell_attrs.head()"
   ]
  },
  {
   "cell_type": "code",
   "execution_count": 29,
   "metadata": {
    "collapsed": true
   },
   "outputs": [],
   "source": [
    "df_gene_attrs = pd.DataFrame(gene_ids)\n",
    "df_gene_attrs.columns = ['gene_ids']\n",
    "df_gene_attrs['gene_names'] = gene_names"
   ]
  },
  {
   "cell_type": "code",
   "execution_count": 30,
   "metadata": {},
   "outputs": [
    {
     "data": {
      "text/html": [
       "<div>\n",
       "<style scoped>\n",
       "    .dataframe tbody tr th:only-of-type {\n",
       "        vertical-align: middle;\n",
       "    }\n",
       "\n",
       "    .dataframe tbody tr th {\n",
       "        vertical-align: top;\n",
       "    }\n",
       "\n",
       "    .dataframe thead th {\n",
       "        text-align: right;\n",
       "    }\n",
       "</style>\n",
       "<table border=\"1\" class=\"dataframe\">\n",
       "  <thead>\n",
       "    <tr style=\"text-align: right;\">\n",
       "      <th></th>\n",
       "      <th>gene_ids</th>\n",
       "      <th>gene_names</th>\n",
       "    </tr>\n",
       "  </thead>\n",
       "  <tbody>\n",
       "    <tr>\n",
       "      <th>0</th>\n",
       "      <td>ENSG00000187634</td>\n",
       "      <td>SAMD11</td>\n",
       "    </tr>\n",
       "    <tr>\n",
       "      <th>1</th>\n",
       "      <td>ENSG00000188976</td>\n",
       "      <td>NOC2L</td>\n",
       "    </tr>\n",
       "    <tr>\n",
       "      <th>2</th>\n",
       "      <td>ENSG00000187961</td>\n",
       "      <td>KLHL17</td>\n",
       "    </tr>\n",
       "    <tr>\n",
       "      <th>3</th>\n",
       "      <td>ENSG00000187583</td>\n",
       "      <td>PLEKHN1</td>\n",
       "    </tr>\n",
       "    <tr>\n",
       "      <th>4</th>\n",
       "      <td>ENSG00000188290</td>\n",
       "      <td>HES4</td>\n",
       "    </tr>\n",
       "  </tbody>\n",
       "</table>\n",
       "</div>"
      ],
      "text/plain": [
       "          gene_ids gene_names\n",
       "0  ENSG00000187634     SAMD11\n",
       "1  ENSG00000188976      NOC2L\n",
       "2  ENSG00000187961     KLHL17\n",
       "3  ENSG00000187583    PLEKHN1\n",
       "4  ENSG00000188290       HES4"
      ]
     },
     "execution_count": 30,
     "metadata": {},
     "output_type": "execute_result"
    }
   ],
   "source": [
    "df_gene_attrs.head()"
   ]
  },
  {
   "cell_type": "code",
   "execution_count": 31,
   "metadata": {
    "collapsed": true
   },
   "outputs": [],
   "source": [
    "df = pd.DataFrame(data=matrix, columns=gene_ids, index=barcodes)"
   ]
  },
  {
   "cell_type": "code",
   "execution_count": null,
   "metadata": {
    "collapsed": true
   },
   "outputs": [],
   "source": []
  },
  {
   "cell_type": "code",
   "execution_count": 32,
   "metadata": {
    "collapsed": true
   },
   "outputs": [],
   "source": [
    "df = df.T"
   ]
  },
  {
   "cell_type": "code",
   "execution_count": 33,
   "metadata": {},
   "outputs": [
    {
     "data": {
      "text/html": [
       "<div>\n",
       "<style scoped>\n",
       "    .dataframe tbody tr th:only-of-type {\n",
       "        vertical-align: middle;\n",
       "    }\n",
       "\n",
       "    .dataframe tbody tr th {\n",
       "        vertical-align: top;\n",
       "    }\n",
       "\n",
       "    .dataframe thead th {\n",
       "        text-align: right;\n",
       "    }\n",
       "</style>\n",
       "<table border=\"1\" class=\"dataframe\">\n",
       "  <thead>\n",
       "    <tr style=\"text-align: right;\">\n",
       "      <th></th>\n",
       "      <th>AAACCTGAGGGCATGT</th>\n",
       "      <th>AAACCTGAGTACTTGC</th>\n",
       "      <th>AAACCTGCATCTCCCA</th>\n",
       "      <th>AAACCTGGTAAGGGCT</th>\n",
       "      <th>AAACCTGGTACCGTTA</th>\n",
       "      <th>AAACCTGGTCTCCATC</th>\n",
       "      <th>AAACCTGGTTTGGCGC</th>\n",
       "      <th>AAACCTGTCCGAAGAG</th>\n",
       "      <th>AAACGGGAGAGTCGGT</th>\n",
       "      <th>AAAGATGAGATATGGT</th>\n",
       "      <th>...</th>\n",
       "      <th>TTTGGTTGTTCAGTAC</th>\n",
       "      <th>TTTGGTTGTTCCCTTG</th>\n",
       "      <th>TTTGGTTTCAACGGGA</th>\n",
       "      <th>TTTGGTTTCTAGAGTC</th>\n",
       "      <th>TTTGTCAAGAAGGCCT</th>\n",
       "      <th>TTTGTCAAGAGTACAT</th>\n",
       "      <th>TTTGTCAAGGCTCAGA</th>\n",
       "      <th>TTTGTCAAGGTGATAT</th>\n",
       "      <th>TTTGTCACATGAAGTA</th>\n",
       "      <th>TTTGTCACATTCTCAT</th>\n",
       "    </tr>\n",
       "  </thead>\n",
       "  <tbody>\n",
       "    <tr>\n",
       "      <th>ENSG00000187634</th>\n",
       "      <td>-0.004963</td>\n",
       "      <td>-0.004423</td>\n",
       "      <td>0.554294</td>\n",
       "      <td>-0.001536</td>\n",
       "      <td>-0.005146</td>\n",
       "      <td>-0.003868</td>\n",
       "      <td>-0.004748</td>\n",
       "      <td>-0.005180</td>\n",
       "      <td>-0.004597</td>\n",
       "      <td>-0.004937</td>\n",
       "      <td>...</td>\n",
       "      <td>-0.004900</td>\n",
       "      <td>-0.004358</td>\n",
       "      <td>-0.005203</td>\n",
       "      <td>-0.004759</td>\n",
       "      <td>0.272808</td>\n",
       "      <td>-0.003811</td>\n",
       "      <td>-0.004450</td>\n",
       "      <td>-0.004724</td>\n",
       "      <td>-0.004782</td>\n",
       "      <td>-0.004968</td>\n",
       "    </tr>\n",
       "    <tr>\n",
       "      <th>ENSG00000188976</th>\n",
       "      <td>-0.125327</td>\n",
       "      <td>-0.130447</td>\n",
       "      <td>-0.125790</td>\n",
       "      <td>0.092678</td>\n",
       "      <td>-0.125018</td>\n",
       "      <td>-0.136631</td>\n",
       "      <td>-0.130622</td>\n",
       "      <td>-0.126498</td>\n",
       "      <td>-0.121224</td>\n",
       "      <td>-0.131385</td>\n",
       "      <td>...</td>\n",
       "      <td>-0.124994</td>\n",
       "      <td>-0.128359</td>\n",
       "      <td>0.809520</td>\n",
       "      <td>-0.123456</td>\n",
       "      <td>-0.127436</td>\n",
       "      <td>-0.122162</td>\n",
       "      <td>-0.127488</td>\n",
       "      <td>-0.125966</td>\n",
       "      <td>-0.126354</td>\n",
       "      <td>-0.128500</td>\n",
       "    </tr>\n",
       "    <tr>\n",
       "      <th>ENSG00000187961</th>\n",
       "      <td>-0.003536</td>\n",
       "      <td>-0.006061</td>\n",
       "      <td>-0.003742</td>\n",
       "      <td>0.001230</td>\n",
       "      <td>-0.003398</td>\n",
       "      <td>-0.009119</td>\n",
       "      <td>-0.006179</td>\n",
       "      <td>-0.004146</td>\n",
       "      <td>-0.001438</td>\n",
       "      <td>-0.006581</td>\n",
       "      <td>...</td>\n",
       "      <td>-0.003363</td>\n",
       "      <td>-0.005004</td>\n",
       "      <td>-0.004575</td>\n",
       "      <td>-0.002576</td>\n",
       "      <td>-0.004625</td>\n",
       "      <td>-0.001835</td>\n",
       "      <td>-0.004575</td>\n",
       "      <td>-0.003835</td>\n",
       "      <td>-0.004036</td>\n",
       "      <td>-0.005133</td>\n",
       "    </tr>\n",
       "    <tr>\n",
       "      <th>ENSG00000187583</th>\n",
       "      <td>-0.018352</td>\n",
       "      <td>-0.018859</td>\n",
       "      <td>-0.017636</td>\n",
       "      <td>-0.003442</td>\n",
       "      <td>-0.018806</td>\n",
       "      <td>-0.019784</td>\n",
       "      <td>-0.019982</td>\n",
       "      <td>-0.019565</td>\n",
       "      <td>-0.015375</td>\n",
       "      <td>-0.020925</td>\n",
       "      <td>...</td>\n",
       "      <td>-0.018004</td>\n",
       "      <td>-0.017734</td>\n",
       "      <td>-0.020011</td>\n",
       "      <td>-0.016873</td>\n",
       "      <td>-0.020217</td>\n",
       "      <td>-0.013255</td>\n",
       "      <td>-0.017648</td>\n",
       "      <td>-0.017863</td>\n",
       "      <td>-0.018221</td>\n",
       "      <td>-0.019760</td>\n",
       "    </tr>\n",
       "    <tr>\n",
       "      <th>ENSG00000188290</th>\n",
       "      <td>0.929565</td>\n",
       "      <td>-0.096414</td>\n",
       "      <td>0.453902</td>\n",
       "      <td>0.176531</td>\n",
       "      <td>-0.110581</td>\n",
       "      <td>-0.082841</td>\n",
       "      <td>-0.099290</td>\n",
       "      <td>0.658525</td>\n",
       "      <td>-0.110399</td>\n",
       "      <td>-0.100079</td>\n",
       "      <td>...</td>\n",
       "      <td>-0.108263</td>\n",
       "      <td>1.010146</td>\n",
       "      <td>-0.108019</td>\n",
       "      <td>-0.108960</td>\n",
       "      <td>0.610388</td>\n",
       "      <td>0.611434</td>\n",
       "      <td>-0.100624</td>\n",
       "      <td>-0.105281</td>\n",
       "      <td>-0.105318</td>\n",
       "      <td>-0.104230</td>\n",
       "    </tr>\n",
       "  </tbody>\n",
       "</table>\n",
       "<p>5 rows × 2216 columns</p>\n",
       "</div>"
      ],
      "text/plain": [
       "                 AAACCTGAGGGCATGT  AAACCTGAGTACTTGC  AAACCTGCATCTCCCA  \\\n",
       "ENSG00000187634         -0.004963         -0.004423          0.554294   \n",
       "ENSG00000188976         -0.125327         -0.130447         -0.125790   \n",
       "ENSG00000187961         -0.003536         -0.006061         -0.003742   \n",
       "ENSG00000187583         -0.018352         -0.018859         -0.017636   \n",
       "ENSG00000188290          0.929565         -0.096414          0.453902   \n",
       "\n",
       "                 AAACCTGGTAAGGGCT  AAACCTGGTACCGTTA  AAACCTGGTCTCCATC  \\\n",
       "ENSG00000187634         -0.001536         -0.005146         -0.003868   \n",
       "ENSG00000188976          0.092678         -0.125018         -0.136631   \n",
       "ENSG00000187961          0.001230         -0.003398         -0.009119   \n",
       "ENSG00000187583         -0.003442         -0.018806         -0.019784   \n",
       "ENSG00000188290          0.176531         -0.110581         -0.082841   \n",
       "\n",
       "                 AAACCTGGTTTGGCGC  AAACCTGTCCGAAGAG  AAACGGGAGAGTCGGT  \\\n",
       "ENSG00000187634         -0.004748         -0.005180         -0.004597   \n",
       "ENSG00000188976         -0.130622         -0.126498         -0.121224   \n",
       "ENSG00000187961         -0.006179         -0.004146         -0.001438   \n",
       "ENSG00000187583         -0.019982         -0.019565         -0.015375   \n",
       "ENSG00000188290         -0.099290          0.658525         -0.110399   \n",
       "\n",
       "                 AAAGATGAGATATGGT        ...         TTTGGTTGTTCAGTAC  \\\n",
       "ENSG00000187634         -0.004937        ...                -0.004900   \n",
       "ENSG00000188976         -0.131385        ...                -0.124994   \n",
       "ENSG00000187961         -0.006581        ...                -0.003363   \n",
       "ENSG00000187583         -0.020925        ...                -0.018004   \n",
       "ENSG00000188290         -0.100079        ...                -0.108263   \n",
       "\n",
       "                 TTTGGTTGTTCCCTTG  TTTGGTTTCAACGGGA  TTTGGTTTCTAGAGTC  \\\n",
       "ENSG00000187634         -0.004358         -0.005203         -0.004759   \n",
       "ENSG00000188976         -0.128359          0.809520         -0.123456   \n",
       "ENSG00000187961         -0.005004         -0.004575         -0.002576   \n",
       "ENSG00000187583         -0.017734         -0.020011         -0.016873   \n",
       "ENSG00000188290          1.010146         -0.108019         -0.108960   \n",
       "\n",
       "                 TTTGTCAAGAAGGCCT  TTTGTCAAGAGTACAT  TTTGTCAAGGCTCAGA  \\\n",
       "ENSG00000187634          0.272808         -0.003811         -0.004450   \n",
       "ENSG00000188976         -0.127436         -0.122162         -0.127488   \n",
       "ENSG00000187961         -0.004625         -0.001835         -0.004575   \n",
       "ENSG00000187583         -0.020217         -0.013255         -0.017648   \n",
       "ENSG00000188290          0.610388          0.611434         -0.100624   \n",
       "\n",
       "                 TTTGTCAAGGTGATAT  TTTGTCACATGAAGTA  TTTGTCACATTCTCAT  \n",
       "ENSG00000187634         -0.004724         -0.004782         -0.004968  \n",
       "ENSG00000188976         -0.125966         -0.126354         -0.128500  \n",
       "ENSG00000187961         -0.003835         -0.004036         -0.005133  \n",
       "ENSG00000187583         -0.017863         -0.018221         -0.019760  \n",
       "ENSG00000188290         -0.105281         -0.105318         -0.104230  \n",
       "\n",
       "[5 rows x 2216 columns]"
      ]
     },
     "execution_count": 33,
     "metadata": {},
     "output_type": "execute_result"
    }
   ],
   "source": [
    "df.head()"
   ]
  },
  {
   "cell_type": "code",
   "execution_count": 45,
   "metadata": {},
   "outputs": [
    {
     "data": {
      "text/plain": [
       "(15324, 2216)"
      ]
     },
     "execution_count": 45,
     "metadata": {},
     "output_type": "execute_result"
    }
   ],
   "source": [
    "df.shape"
   ]
  },
  {
   "cell_type": "code",
   "execution_count": 41,
   "metadata": {},
   "outputs": [],
   "source": [
    "df.to_csv('data/24.04.2018/log_transformed_cell_cycle_removed.tsv',sep='\\t')"
   ]
  },
  {
   "cell_type": "code",
   "execution_count": 42,
   "metadata": {
    "collapsed": true
   },
   "outputs": [],
   "source": [
    "df_gene_attrs.to_csv('data/24.04.2018/log_transformed_cell_cycle_removed_gene_attrs.tsv', sep='\\t')\n",
    "df_cell_attrs.to_csv('data/24.04.2018/log_transformed_cell_cycle_removed_cell_attrs.tsv', sep='\\t')"
   ]
  },
  {
   "cell_type": "code",
   "execution_count": null,
   "metadata": {
    "collapsed": true
   },
   "outputs": [],
   "source": []
  },
  {
   "cell_type": "code",
   "execution_count": null,
   "metadata": {
    "collapsed": true
   },
   "outputs": [],
   "source": []
  },
  {
   "cell_type": "code",
   "execution_count": 36,
   "metadata": {
    "collapsed": true
   },
   "outputs": [],
   "source": [
    "h5f.close()\n",
    "#matrix = np.log1p(matrix)"
   ]
  },
  {
   "cell_type": "code",
   "execution_count": null,
   "metadata": {
    "collapsed": true
   },
   "outputs": [],
   "source": []
  }
 ],
 "metadata": {
  "kernelspec": {
   "display_name": "Python 3",
   "language": "python",
   "name": "python3"
  },
  "language_info": {
   "codemirror_mode": {
    "name": "ipython",
    "version": 3
   },
   "file_extension": ".py",
   "mimetype": "text/x-python",
   "name": "python",
   "nbconvert_exporter": "python",
   "pygments_lexer": "ipython3",
   "version": "3.6.3"
  }
 },
 "nbformat": 4,
 "nbformat_minor": 2
}
