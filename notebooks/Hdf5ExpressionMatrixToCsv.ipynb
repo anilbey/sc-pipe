{
 "cells": [
  {
   "cell_type": "code",
   "execution_count": 1,
   "metadata": {},
   "outputs": [
    {
     "name": "stderr",
     "output_type": "stream",
     "text": [
      "/cluster/work/bewi/members/tuncel/anaconda3/lib/python3.6/site-packages/h5py/__init__.py:34: FutureWarning: Conversion of the second argument of issubdtype from `float` to `np.floating` is deprecated. In future, it will be treated as `np.float64 == np.dtype(float).type`.\n",
      "  from ._conv import register_converters as _register_converters\n"
     ]
    }
   ],
   "source": [
    "import h5py\n",
    "import numpy as np\n",
    "import time\n",
    "import pandas as pd"
   ]
  },
  {
   "cell_type": "code",
   "execution_count": 2,
   "metadata": {},
   "outputs": [
    {
     "name": "stdout",
     "output_type": "stream",
     "text": [
      "total 983792\r\n",
      "-rw-rw---- 1 mtuncel mtuncel-group 136372956 Apr 26 16:39 cell_cycle_removed_melanomaS2.h5\r\n",
      "-rw-rw---- 1 mtuncel mtuncel-group       669 Apr 11 12:09 cluster_celltype_confusionmatrix.txt\r\n",
      "-rw-rw---- 1 mtuncel mtuncel-group 272188839 Apr 26 16:37 coding_region_only_melanomaS2.h5\r\n",
      "-rw-rw---- 1 mtuncel mtuncel-group 136372956 Apr 23 14:52 log_cell_cycle_removed_melanomaS2.h5\r\n",
      "-rw-rw---- 1 mtuncel mtuncel-group 177321089 Apr 26 16:37 raw_melanomaS2.h5\r\n",
      "-rw-rw---- 1 mtuncel mtuncel-group 272188839 Apr 16 17:49 test.hdf5\r\n",
      "-rw-rw---- 1 mtuncel mtuncel-group   8960976 Apr 26 16:40 zheng17_melanomaS2.h5\r\n"
     ]
    }
   ],
   "source": [
    "! ls -l /cluster/home/mtuncel/sc-pipe/intermediate_files/"
   ]
  },
  {
   "cell_type": "code",
   "execution_count": 3,
   "metadata": {
    "collapsed": true
   },
   "outputs": [],
   "source": [
    "input_file = '/cluster/home/mtuncel/sc-pipe/intermediate_files/cell_cycle_removed_melanomaS2.h5'"
   ]
  },
  {
   "cell_type": "code",
   "execution_count": null,
   "metadata": {
    "collapsed": true
   },
   "outputs": [],
   "source": []
  },
  {
   "cell_type": "code",
   "execution_count": 4,
   "metadata": {
    "collapsed": true
   },
   "outputs": [],
   "source": [
    "h5f = h5py.File(input_file, 'r')"
   ]
  },
  {
   "cell_type": "code",
   "execution_count": 5,
   "metadata": {},
   "outputs": [
    {
     "data": {
      "text/plain": [
       "['cell_names', 'cell_phase']"
      ]
     },
     "execution_count": 5,
     "metadata": {},
     "output_type": "execute_result"
    }
   ],
   "source": [
    "list(h5f['cell_attrs'].keys())"
   ]
  },
  {
   "cell_type": "code",
   "execution_count": 6,
   "metadata": {},
   "outputs": [
    {
     "data": {
      "text/plain": [
       "array([b'G1', b'G1', b'G1', ..., b'G1', b'G1', b'G1'], dtype='|S10')"
      ]
     },
     "execution_count": 6,
     "metadata": {},
     "output_type": "execute_result"
    }
   ],
   "source": [
    "h5f['cell_attrs']['cell_phase'].value"
   ]
  },
  {
   "cell_type": "code",
   "execution_count": 7,
   "metadata": {},
   "outputs": [
    {
     "data": {
      "text/plain": [
       "['gene_ids', 'gene_names']"
      ]
     },
     "execution_count": 7,
     "metadata": {},
     "output_type": "execute_result"
    }
   ],
   "source": [
    "list(h5f['gene_attrs'].keys())"
   ]
  },
  {
   "cell_type": "code",
   "execution_count": 8,
   "metadata": {
    "collapsed": true
   },
   "outputs": [],
   "source": [
    "matrix = h5f['matrix'][:]\n",
    "barcodes = h5f['cell_attrs']['cell_names'].value\n",
    "gene_ids = h5f['gene_attrs']['gene_ids'].value\n",
    "gene_names = h5f['gene_attrs']['gene_names'].value\n",
    "cell_phase = h5f['cell_attrs']['cell_phase'].value"
   ]
  },
  {
   "cell_type": "code",
   "execution_count": 9,
   "metadata": {},
   "outputs": [
    {
     "data": {
      "text/plain": [
       "(2216, 15324)"
      ]
     },
     "execution_count": 9,
     "metadata": {},
     "output_type": "execute_result"
    }
   ],
   "source": [
    "matrix.shape"
   ]
  },
  {
   "cell_type": "code",
   "execution_count": 10,
   "metadata": {
    "collapsed": true
   },
   "outputs": [],
   "source": [
    "decoder = np.vectorize(lambda t: t.decode('UTF-8'))"
   ]
  },
  {
   "cell_type": "code",
   "execution_count": 11,
   "metadata": {},
   "outputs": [],
   "source": [
    "barcodes = decoder(barcodes)\n",
    "gene_ids = decoder(gene_ids)\n",
    "gene_names = decoder(gene_names)\n",
    "cell_phase = decoder(cell_phase)"
   ]
  },
  {
   "cell_type": "code",
   "execution_count": 12,
   "metadata": {},
   "outputs": [
    {
     "data": {
      "text/plain": [
       "(2216, 15324)"
      ]
     },
     "execution_count": 12,
     "metadata": {},
     "output_type": "execute_result"
    }
   ],
   "source": [
    "matrix.shape"
   ]
  },
  {
   "cell_type": "code",
   "execution_count": 13,
   "metadata": {},
   "outputs": [
    {
     "data": {
      "text/plain": [
       "numpy.ndarray"
      ]
     },
     "execution_count": 13,
     "metadata": {},
     "output_type": "execute_result"
    }
   ],
   "source": [
    "type(matrix)"
   ]
  },
  {
   "cell_type": "code",
   "execution_count": 14,
   "metadata": {
    "collapsed": true
   },
   "outputs": [],
   "source": [
    "detected_genes_index = ~(matrix == 0).all(axis=0)"
   ]
  },
  {
   "cell_type": "code",
   "execution_count": 15,
   "metadata": {},
   "outputs": [
    {
     "data": {
      "text/plain": [
       "array([ True,  True,  True, ...,  True,  True,  True])"
      ]
     },
     "execution_count": 15,
     "metadata": {},
     "output_type": "execute_result"
    }
   ],
   "source": [
    "detected_genes_index"
   ]
  },
  {
   "cell_type": "code",
   "execution_count": 16,
   "metadata": {},
   "outputs": [
    {
     "data": {
      "text/plain": [
       "15324"
      ]
     },
     "execution_count": 16,
     "metadata": {},
     "output_type": "execute_result"
    }
   ],
   "source": [
    "sum(detected_genes_index)"
   ]
  },
  {
   "cell_type": "code",
   "execution_count": 17,
   "metadata": {},
   "outputs": [
    {
     "data": {
      "text/plain": [
       "(15324,)"
      ]
     },
     "execution_count": 17,
     "metadata": {},
     "output_type": "execute_result"
    }
   ],
   "source": [
    "gene_names.shape"
   ]
  },
  {
   "cell_type": "code",
   "execution_count": 18,
   "metadata": {},
   "outputs": [
    {
     "data": {
      "text/plain": [
       "(15324,)"
      ]
     },
     "execution_count": 18,
     "metadata": {},
     "output_type": "execute_result"
    }
   ],
   "source": [
    "gene_names[detected_genes_index].shape"
   ]
  },
  {
   "cell_type": "code",
   "execution_count": 19,
   "metadata": {},
   "outputs": [
    {
     "data": {
      "text/plain": [
       "0"
      ]
     },
     "execution_count": 19,
     "metadata": {},
     "output_type": "execute_result"
    }
   ],
   "source": [
    "len(np.where(~matrix.any(axis=0))[0])"
   ]
  },
  {
   "cell_type": "code",
   "execution_count": 20,
   "metadata": {},
   "outputs": [
    {
     "data": {
      "text/plain": [
       "(2216, 15324)"
      ]
     },
     "execution_count": 20,
     "metadata": {},
     "output_type": "execute_result"
    }
   ],
   "source": [
    "matrix.shape"
   ]
  },
  {
   "cell_type": "code",
   "execution_count": 21,
   "metadata": {},
   "outputs": [
    {
     "data": {
      "text/plain": [
       "476.52835"
      ]
     },
     "execution_count": 21,
     "metadata": {},
     "output_type": "execute_result"
    }
   ],
   "source": [
    "matrix.max()"
   ]
  },
  {
   "cell_type": "code",
   "execution_count": 22,
   "metadata": {
    "collapsed": true
   },
   "outputs": [],
   "source": [
    "col_names = gene_names[0:21]"
   ]
  },
  {
   "cell_type": "code",
   "execution_count": 23,
   "metadata": {},
   "outputs": [
    {
     "data": {
      "text/plain": [
       "21"
      ]
     },
     "execution_count": 23,
     "metadata": {},
     "output_type": "execute_result"
    }
   ],
   "source": [
    "len(col_names)"
   ]
  },
  {
   "cell_type": "code",
   "execution_count": 24,
   "metadata": {},
   "outputs": [],
   "source": [
    "desc_df = pd.DataFrame(matrix).loc[:,0:20].describe()"
   ]
  },
  {
   "cell_type": "code",
   "execution_count": 25,
   "metadata": {},
   "outputs": [],
   "source": [
    "desc_df.columns = col_names"
   ]
  },
  {
   "cell_type": "code",
   "execution_count": 41,
   "metadata": {},
   "outputs": [
    {
     "data": {
      "text/html": [
       "<div>\n",
       "<style scoped>\n",
       "    .dataframe tbody tr th:only-of-type {\n",
       "        vertical-align: middle;\n",
       "    }\n",
       "\n",
       "    .dataframe tbody tr th {\n",
       "        vertical-align: top;\n",
       "    }\n",
       "\n",
       "    .dataframe thead th {\n",
       "        text-align: right;\n",
       "    }\n",
       "</style>\n",
       "<table border=\"1\" class=\"dataframe\">\n",
       "  <thead>\n",
       "    <tr style=\"text-align: right;\">\n",
       "      <th></th>\n",
       "      <th>SAMD11</th>\n",
       "      <th>NOC2L</th>\n",
       "      <th>KLHL17</th>\n",
       "      <th>PLEKHN1</th>\n",
       "      <th>HES4</th>\n",
       "      <th>ISG15</th>\n",
       "      <th>AGRN</th>\n",
       "      <th>C1orf159</th>\n",
       "      <th>TTLL10</th>\n",
       "      <th>TNFRSF18</th>\n",
       "      <th>...</th>\n",
       "      <th>SDF4</th>\n",
       "      <th>B3GALT6</th>\n",
       "      <th>FAM132A</th>\n",
       "      <th>UBE2J2</th>\n",
       "      <th>SCNN1D</th>\n",
       "      <th>ACAP3</th>\n",
       "      <th>PUSL1</th>\n",
       "      <th>CPSF3L</th>\n",
       "      <th>GLTPD1</th>\n",
       "      <th>TAS1R3</th>\n",
       "    </tr>\n",
       "  </thead>\n",
       "  <tbody>\n",
       "    <tr>\n",
       "      <th>count</th>\n",
       "      <td>2216.000000</td>\n",
       "      <td>2216.000000</td>\n",
       "      <td>2216.000000</td>\n",
       "      <td>2216.000000</td>\n",
       "      <td>2216.000000</td>\n",
       "      <td>2216.000000</td>\n",
       "      <td>2216.000000</td>\n",
       "      <td>2216.000000</td>\n",
       "      <td>2216.000000</td>\n",
       "      <td>2216.000000</td>\n",
       "      <td>...</td>\n",
       "      <td>2216.000000</td>\n",
       "      <td>2216.000000</td>\n",
       "      <td>2216.000000</td>\n",
       "      <td>2216.000000</td>\n",
       "      <td>2216.000000</td>\n",
       "      <td>2216.000000</td>\n",
       "      <td>2216.000000</td>\n",
       "      <td>2216.000000</td>\n",
       "      <td>2216.000000</td>\n",
       "      <td>2216.000000</td>\n",
       "    </tr>\n",
       "    <tr>\n",
       "      <th>mean</th>\n",
       "      <td>0.007420</td>\n",
       "      <td>0.169079</td>\n",
       "      <td>0.006054</td>\n",
       "      <td>0.026391</td>\n",
       "      <td>0.188913</td>\n",
       "      <td>1.687615</td>\n",
       "      <td>0.054694</td>\n",
       "      <td>0.011719</td>\n",
       "      <td>0.000721</td>\n",
       "      <td>0.176678</td>\n",
       "      <td>...</td>\n",
       "      <td>0.352951</td>\n",
       "      <td>0.037969</td>\n",
       "      <td>0.004324</td>\n",
       "      <td>0.152746</td>\n",
       "      <td>0.001301</td>\n",
       "      <td>0.065855</td>\n",
       "      <td>0.051211</td>\n",
       "      <td>0.099535</td>\n",
       "      <td>0.050945</td>\n",
       "      <td>0.011828</td>\n",
       "    </tr>\n",
       "    <tr>\n",
       "      <th>std</th>\n",
       "      <td>0.087888</td>\n",
       "      <td>0.392432</td>\n",
       "      <td>0.075056</td>\n",
       "      <td>0.180083</td>\n",
       "      <td>0.615627</td>\n",
       "      <td>4.654374</td>\n",
       "      <td>0.245091</td>\n",
       "      <td>0.106088</td>\n",
       "      <td>0.026397</td>\n",
       "      <td>0.889562</td>\n",
       "      <td>...</td>\n",
       "      <td>0.527565</td>\n",
       "      <td>0.179855</td>\n",
       "      <td>0.062408</td>\n",
       "      <td>0.366156</td>\n",
       "      <td>0.039664</td>\n",
       "      <td>0.261058</td>\n",
       "      <td>0.225211</td>\n",
       "      <td>0.292213</td>\n",
       "      <td>0.238921</td>\n",
       "      <td>0.121741</td>\n",
       "    </tr>\n",
       "    <tr>\n",
       "      <th>min</th>\n",
       "      <td>0.000000</td>\n",
       "      <td>0.000000</td>\n",
       "      <td>0.000000</td>\n",
       "      <td>0.000000</td>\n",
       "      <td>0.000000</td>\n",
       "      <td>0.000000</td>\n",
       "      <td>0.000000</td>\n",
       "      <td>0.000000</td>\n",
       "      <td>0.000000</td>\n",
       "      <td>0.000000</td>\n",
       "      <td>...</td>\n",
       "      <td>0.000000</td>\n",
       "      <td>0.000000</td>\n",
       "      <td>0.000000</td>\n",
       "      <td>0.000000</td>\n",
       "      <td>0.000000</td>\n",
       "      <td>0.000000</td>\n",
       "      <td>0.000000</td>\n",
       "      <td>0.000000</td>\n",
       "      <td>0.000000</td>\n",
       "      <td>0.000000</td>\n",
       "    </tr>\n",
       "    <tr>\n",
       "      <th>25%</th>\n",
       "      <td>0.000000</td>\n",
       "      <td>0.000000</td>\n",
       "      <td>0.000000</td>\n",
       "      <td>0.000000</td>\n",
       "      <td>0.000000</td>\n",
       "      <td>0.000000</td>\n",
       "      <td>0.000000</td>\n",
       "      <td>0.000000</td>\n",
       "      <td>0.000000</td>\n",
       "      <td>0.000000</td>\n",
       "      <td>...</td>\n",
       "      <td>0.000000</td>\n",
       "      <td>0.000000</td>\n",
       "      <td>0.000000</td>\n",
       "      <td>0.000000</td>\n",
       "      <td>0.000000</td>\n",
       "      <td>0.000000</td>\n",
       "      <td>0.000000</td>\n",
       "      <td>0.000000</td>\n",
       "      <td>0.000000</td>\n",
       "      <td>0.000000</td>\n",
       "    </tr>\n",
       "    <tr>\n",
       "      <th>50%</th>\n",
       "      <td>0.000000</td>\n",
       "      <td>0.000000</td>\n",
       "      <td>0.000000</td>\n",
       "      <td>0.000000</td>\n",
       "      <td>0.000000</td>\n",
       "      <td>0.361152</td>\n",
       "      <td>0.000000</td>\n",
       "      <td>0.000000</td>\n",
       "      <td>0.000000</td>\n",
       "      <td>0.000000</td>\n",
       "      <td>...</td>\n",
       "      <td>0.000000</td>\n",
       "      <td>0.000000</td>\n",
       "      <td>0.000000</td>\n",
       "      <td>0.000000</td>\n",
       "      <td>0.000000</td>\n",
       "      <td>0.000000</td>\n",
       "      <td>0.000000</td>\n",
       "      <td>0.000000</td>\n",
       "      <td>0.000000</td>\n",
       "      <td>0.000000</td>\n",
       "    </tr>\n",
       "    <tr>\n",
       "      <th>75%</th>\n",
       "      <td>0.000000</td>\n",
       "      <td>0.000000</td>\n",
       "      <td>0.000000</td>\n",
       "      <td>0.000000</td>\n",
       "      <td>0.000000</td>\n",
       "      <td>1.317552</td>\n",
       "      <td>0.000000</td>\n",
       "      <td>0.000000</td>\n",
       "      <td>0.000000</td>\n",
       "      <td>0.000000</td>\n",
       "      <td>...</td>\n",
       "      <td>0.661628</td>\n",
       "      <td>0.000000</td>\n",
       "      <td>0.000000</td>\n",
       "      <td>0.000000</td>\n",
       "      <td>0.000000</td>\n",
       "      <td>0.000000</td>\n",
       "      <td>0.000000</td>\n",
       "      <td>0.000000</td>\n",
       "      <td>0.000000</td>\n",
       "      <td>0.000000</td>\n",
       "    </tr>\n",
       "    <tr>\n",
       "      <th>max</th>\n",
       "      <td>1.497957</td>\n",
       "      <td>3.470397</td>\n",
       "      <td>1.581898</td>\n",
       "      <td>2.807633</td>\n",
       "      <td>10.347481</td>\n",
       "      <td>70.388939</td>\n",
       "      <td>2.976759</td>\n",
       "      <td>1.698555</td>\n",
       "      <td>1.164632</td>\n",
       "      <td>18.025391</td>\n",
       "      <td>...</td>\n",
       "      <td>3.842110</td>\n",
       "      <td>2.089513</td>\n",
       "      <td>1.516347</td>\n",
       "      <td>2.880238</td>\n",
       "      <td>1.468939</td>\n",
       "      <td>3.308876</td>\n",
       "      <td>2.804122</td>\n",
       "      <td>2.686365</td>\n",
       "      <td>2.819334</td>\n",
       "      <td>2.361929</td>\n",
       "    </tr>\n",
       "  </tbody>\n",
       "</table>\n",
       "<p>8 rows × 21 columns</p>\n",
       "</div>"
      ],
      "text/plain": [
       "            SAMD11        NOC2L       KLHL17      PLEKHN1         HES4  \\\n",
       "count  2216.000000  2216.000000  2216.000000  2216.000000  2216.000000   \n",
       "mean      0.007420     0.169079     0.006054     0.026391     0.188913   \n",
       "std       0.087888     0.392432     0.075056     0.180083     0.615627   \n",
       "min       0.000000     0.000000     0.000000     0.000000     0.000000   \n",
       "25%       0.000000     0.000000     0.000000     0.000000     0.000000   \n",
       "50%       0.000000     0.000000     0.000000     0.000000     0.000000   \n",
       "75%       0.000000     0.000000     0.000000     0.000000     0.000000   \n",
       "max       1.497957     3.470397     1.581898     2.807633    10.347481   \n",
       "\n",
       "             ISG15         AGRN     C1orf159       TTLL10     TNFRSF18  \\\n",
       "count  2216.000000  2216.000000  2216.000000  2216.000000  2216.000000   \n",
       "mean      1.687615     0.054694     0.011719     0.000721     0.176678   \n",
       "std       4.654374     0.245091     0.106088     0.026397     0.889562   \n",
       "min       0.000000     0.000000     0.000000     0.000000     0.000000   \n",
       "25%       0.000000     0.000000     0.000000     0.000000     0.000000   \n",
       "50%       0.361152     0.000000     0.000000     0.000000     0.000000   \n",
       "75%       1.317552     0.000000     0.000000     0.000000     0.000000   \n",
       "max      70.388939     2.976759     1.698555     1.164632    18.025391   \n",
       "\n",
       "          ...              SDF4      B3GALT6      FAM132A       UBE2J2  \\\n",
       "count     ...       2216.000000  2216.000000  2216.000000  2216.000000   \n",
       "mean      ...          0.352951     0.037969     0.004324     0.152746   \n",
       "std       ...          0.527565     0.179855     0.062408     0.366156   \n",
       "min       ...          0.000000     0.000000     0.000000     0.000000   \n",
       "25%       ...          0.000000     0.000000     0.000000     0.000000   \n",
       "50%       ...          0.000000     0.000000     0.000000     0.000000   \n",
       "75%       ...          0.661628     0.000000     0.000000     0.000000   \n",
       "max       ...          3.842110     2.089513     1.516347     2.880238   \n",
       "\n",
       "            SCNN1D        ACAP3        PUSL1       CPSF3L       GLTPD1  \\\n",
       "count  2216.000000  2216.000000  2216.000000  2216.000000  2216.000000   \n",
       "mean      0.001301     0.065855     0.051211     0.099535     0.050945   \n",
       "std       0.039664     0.261058     0.225211     0.292213     0.238921   \n",
       "min       0.000000     0.000000     0.000000     0.000000     0.000000   \n",
       "25%       0.000000     0.000000     0.000000     0.000000     0.000000   \n",
       "50%       0.000000     0.000000     0.000000     0.000000     0.000000   \n",
       "75%       0.000000     0.000000     0.000000     0.000000     0.000000   \n",
       "max       1.468939     3.308876     2.804122     2.686365     2.819334   \n",
       "\n",
       "            TAS1R3  \n",
       "count  2216.000000  \n",
       "mean      0.011828  \n",
       "std       0.121741  \n",
       "min       0.000000  \n",
       "25%       0.000000  \n",
       "50%       0.000000  \n",
       "75%       0.000000  \n",
       "max       2.361929  \n",
       "\n",
       "[8 rows x 21 columns]"
      ]
     },
     "execution_count": 41,
     "metadata": {},
     "output_type": "execute_result"
    }
   ],
   "source": [
    "desc_df"
   ]
  },
  {
   "cell_type": "code",
   "execution_count": null,
   "metadata": {
    "collapsed": true
   },
   "outputs": [],
   "source": []
  },
  {
   "cell_type": "code",
   "execution_count": 27,
   "metadata": {},
   "outputs": [
    {
     "data": {
      "text/plain": [
       "476.52835"
      ]
     },
     "execution_count": 27,
     "metadata": {},
     "output_type": "execute_result"
    }
   ],
   "source": [
    "matrix.max()"
   ]
  },
  {
   "cell_type": "code",
   "execution_count": 28,
   "metadata": {
    "collapsed": true
   },
   "outputs": [],
   "source": [
    "df_cell_attrs = pd.DataFrame(barcodes)"
   ]
  },
  {
   "cell_type": "code",
   "execution_count": 29,
   "metadata": {
    "collapsed": true
   },
   "outputs": [],
   "source": [
    "df_cell_attrs.columns = ['barcodes']"
   ]
  },
  {
   "cell_type": "code",
   "execution_count": 30,
   "metadata": {
    "collapsed": true
   },
   "outputs": [],
   "source": [
    "df_cell_attrs['cell_phase'] = cell_phase"
   ]
  },
  {
   "cell_type": "code",
   "execution_count": 31,
   "metadata": {},
   "outputs": [
    {
     "data": {
      "text/html": [
       "<div>\n",
       "<style scoped>\n",
       "    .dataframe tbody tr th:only-of-type {\n",
       "        vertical-align: middle;\n",
       "    }\n",
       "\n",
       "    .dataframe tbody tr th {\n",
       "        vertical-align: top;\n",
       "    }\n",
       "\n",
       "    .dataframe thead th {\n",
       "        text-align: right;\n",
       "    }\n",
       "</style>\n",
       "<table border=\"1\" class=\"dataframe\">\n",
       "  <thead>\n",
       "    <tr style=\"text-align: right;\">\n",
       "      <th></th>\n",
       "      <th>barcodes</th>\n",
       "      <th>cell_phase</th>\n",
       "    </tr>\n",
       "  </thead>\n",
       "  <tbody>\n",
       "    <tr>\n",
       "      <th>0</th>\n",
       "      <td>AAACCTGAGGGCATGT</td>\n",
       "      <td>G1</td>\n",
       "    </tr>\n",
       "    <tr>\n",
       "      <th>1</th>\n",
       "      <td>AAACCTGAGTACTTGC</td>\n",
       "      <td>G1</td>\n",
       "    </tr>\n",
       "    <tr>\n",
       "      <th>2</th>\n",
       "      <td>AAACCTGCATCTCCCA</td>\n",
       "      <td>G1</td>\n",
       "    </tr>\n",
       "    <tr>\n",
       "      <th>3</th>\n",
       "      <td>AAACCTGGTAAGGGCT</td>\n",
       "      <td>S</td>\n",
       "    </tr>\n",
       "    <tr>\n",
       "      <th>4</th>\n",
       "      <td>AAACCTGGTACCGTTA</td>\n",
       "      <td>G1</td>\n",
       "    </tr>\n",
       "  </tbody>\n",
       "</table>\n",
       "</div>"
      ],
      "text/plain": [
       "           barcodes cell_phase\n",
       "0  AAACCTGAGGGCATGT         G1\n",
       "1  AAACCTGAGTACTTGC         G1\n",
       "2  AAACCTGCATCTCCCA         G1\n",
       "3  AAACCTGGTAAGGGCT          S\n",
       "4  AAACCTGGTACCGTTA         G1"
      ]
     },
     "execution_count": 31,
     "metadata": {},
     "output_type": "execute_result"
    }
   ],
   "source": [
    "df_cell_attrs.head()"
   ]
  },
  {
   "cell_type": "code",
   "execution_count": 32,
   "metadata": {
    "collapsed": true
   },
   "outputs": [],
   "source": [
    "df_gene_attrs = pd.DataFrame(gene_ids)\n",
    "df_gene_attrs.columns = ['gene_ids']\n",
    "df_gene_attrs['gene_names'] = gene_names"
   ]
  },
  {
   "cell_type": "code",
   "execution_count": 33,
   "metadata": {},
   "outputs": [
    {
     "data": {
      "text/html": [
       "<div>\n",
       "<style scoped>\n",
       "    .dataframe tbody tr th:only-of-type {\n",
       "        vertical-align: middle;\n",
       "    }\n",
       "\n",
       "    .dataframe tbody tr th {\n",
       "        vertical-align: top;\n",
       "    }\n",
       "\n",
       "    .dataframe thead th {\n",
       "        text-align: right;\n",
       "    }\n",
       "</style>\n",
       "<table border=\"1\" class=\"dataframe\">\n",
       "  <thead>\n",
       "    <tr style=\"text-align: right;\">\n",
       "      <th></th>\n",
       "      <th>gene_ids</th>\n",
       "      <th>gene_names</th>\n",
       "    </tr>\n",
       "  </thead>\n",
       "  <tbody>\n",
       "    <tr>\n",
       "      <th>0</th>\n",
       "      <td>ENSG00000187634</td>\n",
       "      <td>SAMD11</td>\n",
       "    </tr>\n",
       "    <tr>\n",
       "      <th>1</th>\n",
       "      <td>ENSG00000188976</td>\n",
       "      <td>NOC2L</td>\n",
       "    </tr>\n",
       "    <tr>\n",
       "      <th>2</th>\n",
       "      <td>ENSG00000187961</td>\n",
       "      <td>KLHL17</td>\n",
       "    </tr>\n",
       "    <tr>\n",
       "      <th>3</th>\n",
       "      <td>ENSG00000187583</td>\n",
       "      <td>PLEKHN1</td>\n",
       "    </tr>\n",
       "    <tr>\n",
       "      <th>4</th>\n",
       "      <td>ENSG00000188290</td>\n",
       "      <td>HES4</td>\n",
       "    </tr>\n",
       "  </tbody>\n",
       "</table>\n",
       "</div>"
      ],
      "text/plain": [
       "          gene_ids gene_names\n",
       "0  ENSG00000187634     SAMD11\n",
       "1  ENSG00000188976      NOC2L\n",
       "2  ENSG00000187961     KLHL17\n",
       "3  ENSG00000187583    PLEKHN1\n",
       "4  ENSG00000188290       HES4"
      ]
     },
     "execution_count": 33,
     "metadata": {},
     "output_type": "execute_result"
    }
   ],
   "source": [
    "df_gene_attrs.head()"
   ]
  },
  {
   "cell_type": "code",
   "execution_count": 34,
   "metadata": {
    "collapsed": true
   },
   "outputs": [],
   "source": [
    "df = pd.DataFrame(data=matrix, columns=gene_ids, index=barcodes)"
   ]
  },
  {
   "cell_type": "code",
   "execution_count": null,
   "metadata": {
    "collapsed": true
   },
   "outputs": [],
   "source": []
  },
  {
   "cell_type": "code",
   "execution_count": 35,
   "metadata": {
    "collapsed": true
   },
   "outputs": [],
   "source": [
    "df = df.T"
   ]
  },
  {
   "cell_type": "code",
   "execution_count": 36,
   "metadata": {},
   "outputs": [
    {
     "data": {
      "text/html": [
       "<div>\n",
       "<style scoped>\n",
       "    .dataframe tbody tr th:only-of-type {\n",
       "        vertical-align: middle;\n",
       "    }\n",
       "\n",
       "    .dataframe tbody tr th {\n",
       "        vertical-align: top;\n",
       "    }\n",
       "\n",
       "    .dataframe thead th {\n",
       "        text-align: right;\n",
       "    }\n",
       "</style>\n",
       "<table border=\"1\" class=\"dataframe\">\n",
       "  <thead>\n",
       "    <tr style=\"text-align: right;\">\n",
       "      <th></th>\n",
       "      <th>AAACCTGAGGGCATGT</th>\n",
       "      <th>AAACCTGAGTACTTGC</th>\n",
       "      <th>AAACCTGCATCTCCCA</th>\n",
       "      <th>AAACCTGGTAAGGGCT</th>\n",
       "      <th>AAACCTGGTACCGTTA</th>\n",
       "      <th>AAACCTGGTCTCCATC</th>\n",
       "      <th>AAACCTGGTTTGGCGC</th>\n",
       "      <th>AAACCTGTCCGAAGAG</th>\n",
       "      <th>AAACGGGAGAGTCGGT</th>\n",
       "      <th>AAAGATGAGATATGGT</th>\n",
       "      <th>...</th>\n",
       "      <th>TTTGGTTGTTCAGTAC</th>\n",
       "      <th>TTTGGTTGTTCCCTTG</th>\n",
       "      <th>TTTGGTTTCAACGGGA</th>\n",
       "      <th>TTTGGTTTCTAGAGTC</th>\n",
       "      <th>TTTGTCAAGAAGGCCT</th>\n",
       "      <th>TTTGTCAAGAGTACAT</th>\n",
       "      <th>TTTGTCAAGGCTCAGA</th>\n",
       "      <th>TTTGTCAAGGTGATAT</th>\n",
       "      <th>TTTGTCACATGAAGTA</th>\n",
       "      <th>TTTGTCACATTCTCAT</th>\n",
       "    </tr>\n",
       "  </thead>\n",
       "  <tbody>\n",
       "    <tr>\n",
       "      <th>ENSG00000187634</th>\n",
       "      <td>0.000000</td>\n",
       "      <td>0.0</td>\n",
       "      <td>0.938745</td>\n",
       "      <td>0.000000</td>\n",
       "      <td>0.0</td>\n",
       "      <td>0.0</td>\n",
       "      <td>0.0</td>\n",
       "      <td>0.00000</td>\n",
       "      <td>0.0</td>\n",
       "      <td>0.0</td>\n",
       "      <td>...</td>\n",
       "      <td>0.0</td>\n",
       "      <td>0.000000</td>\n",
       "      <td>0.000000</td>\n",
       "      <td>0.0</td>\n",
       "      <td>0.394191</td>\n",
       "      <td>0.000000</td>\n",
       "      <td>0.0</td>\n",
       "      <td>0.0</td>\n",
       "      <td>0.0</td>\n",
       "      <td>0.0</td>\n",
       "    </tr>\n",
       "    <tr>\n",
       "      <th>ENSG00000188976</th>\n",
       "      <td>0.000000</td>\n",
       "      <td>0.0</td>\n",
       "      <td>0.000000</td>\n",
       "      <td>0.223157</td>\n",
       "      <td>0.0</td>\n",
       "      <td>0.0</td>\n",
       "      <td>0.0</td>\n",
       "      <td>0.00000</td>\n",
       "      <td>0.0</td>\n",
       "      <td>0.0</td>\n",
       "      <td>...</td>\n",
       "      <td>0.0</td>\n",
       "      <td>0.000000</td>\n",
       "      <td>1.420671</td>\n",
       "      <td>0.0</td>\n",
       "      <td>0.000000</td>\n",
       "      <td>0.000000</td>\n",
       "      <td>0.0</td>\n",
       "      <td>0.0</td>\n",
       "      <td>0.0</td>\n",
       "      <td>0.0</td>\n",
       "    </tr>\n",
       "    <tr>\n",
       "      <th>ENSG00000187961</th>\n",
       "      <td>0.000000</td>\n",
       "      <td>0.0</td>\n",
       "      <td>0.000000</td>\n",
       "      <td>0.000000</td>\n",
       "      <td>0.0</td>\n",
       "      <td>0.0</td>\n",
       "      <td>0.0</td>\n",
       "      <td>0.00000</td>\n",
       "      <td>0.0</td>\n",
       "      <td>0.0</td>\n",
       "      <td>...</td>\n",
       "      <td>0.0</td>\n",
       "      <td>0.000000</td>\n",
       "      <td>0.000000</td>\n",
       "      <td>0.0</td>\n",
       "      <td>0.000000</td>\n",
       "      <td>0.000000</td>\n",
       "      <td>0.0</td>\n",
       "      <td>0.0</td>\n",
       "      <td>0.0</td>\n",
       "      <td>0.0</td>\n",
       "    </tr>\n",
       "    <tr>\n",
       "      <th>ENSG00000187583</th>\n",
       "      <td>0.000000</td>\n",
       "      <td>0.0</td>\n",
       "      <td>0.000000</td>\n",
       "      <td>0.000000</td>\n",
       "      <td>0.0</td>\n",
       "      <td>0.0</td>\n",
       "      <td>0.0</td>\n",
       "      <td>0.00000</td>\n",
       "      <td>0.0</td>\n",
       "      <td>0.0</td>\n",
       "      <td>...</td>\n",
       "      <td>0.0</td>\n",
       "      <td>0.000000</td>\n",
       "      <td>0.000000</td>\n",
       "      <td>0.0</td>\n",
       "      <td>0.000000</td>\n",
       "      <td>0.000000</td>\n",
       "      <td>0.0</td>\n",
       "      <td>0.0</td>\n",
       "      <td>0.0</td>\n",
       "      <td>0.0</td>\n",
       "    </tr>\n",
       "    <tr>\n",
       "      <th>ENSG00000188290</th>\n",
       "      <td>2.210776</td>\n",
       "      <td>0.0</td>\n",
       "      <td>0.835106</td>\n",
       "      <td>0.348006</td>\n",
       "      <td>0.0</td>\n",
       "      <td>0.0</td>\n",
       "      <td>0.0</td>\n",
       "      <td>1.92618</td>\n",
       "      <td>0.0</td>\n",
       "      <td>0.0</td>\n",
       "      <td>...</td>\n",
       "      <td>0.0</td>\n",
       "      <td>2.699112</td>\n",
       "      <td>0.000000</td>\n",
       "      <td>0.0</td>\n",
       "      <td>1.740235</td>\n",
       "      <td>0.592851</td>\n",
       "      <td>0.0</td>\n",
       "      <td>0.0</td>\n",
       "      <td>0.0</td>\n",
       "      <td>0.0</td>\n",
       "    </tr>\n",
       "  </tbody>\n",
       "</table>\n",
       "<p>5 rows × 2216 columns</p>\n",
       "</div>"
      ],
      "text/plain": [
       "                 AAACCTGAGGGCATGT  AAACCTGAGTACTTGC  AAACCTGCATCTCCCA  \\\n",
       "ENSG00000187634          0.000000               0.0          0.938745   \n",
       "ENSG00000188976          0.000000               0.0          0.000000   \n",
       "ENSG00000187961          0.000000               0.0          0.000000   \n",
       "ENSG00000187583          0.000000               0.0          0.000000   \n",
       "ENSG00000188290          2.210776               0.0          0.835106   \n",
       "\n",
       "                 AAACCTGGTAAGGGCT  AAACCTGGTACCGTTA  AAACCTGGTCTCCATC  \\\n",
       "ENSG00000187634          0.000000               0.0               0.0   \n",
       "ENSG00000188976          0.223157               0.0               0.0   \n",
       "ENSG00000187961          0.000000               0.0               0.0   \n",
       "ENSG00000187583          0.000000               0.0               0.0   \n",
       "ENSG00000188290          0.348006               0.0               0.0   \n",
       "\n",
       "                 AAACCTGGTTTGGCGC  AAACCTGTCCGAAGAG  AAACGGGAGAGTCGGT  \\\n",
       "ENSG00000187634               0.0           0.00000               0.0   \n",
       "ENSG00000188976               0.0           0.00000               0.0   \n",
       "ENSG00000187961               0.0           0.00000               0.0   \n",
       "ENSG00000187583               0.0           0.00000               0.0   \n",
       "ENSG00000188290               0.0           1.92618               0.0   \n",
       "\n",
       "                 AAAGATGAGATATGGT        ...         TTTGGTTGTTCAGTAC  \\\n",
       "ENSG00000187634               0.0        ...                      0.0   \n",
       "ENSG00000188976               0.0        ...                      0.0   \n",
       "ENSG00000187961               0.0        ...                      0.0   \n",
       "ENSG00000187583               0.0        ...                      0.0   \n",
       "ENSG00000188290               0.0        ...                      0.0   \n",
       "\n",
       "                 TTTGGTTGTTCCCTTG  TTTGGTTTCAACGGGA  TTTGGTTTCTAGAGTC  \\\n",
       "ENSG00000187634          0.000000          0.000000               0.0   \n",
       "ENSG00000188976          0.000000          1.420671               0.0   \n",
       "ENSG00000187961          0.000000          0.000000               0.0   \n",
       "ENSG00000187583          0.000000          0.000000               0.0   \n",
       "ENSG00000188290          2.699112          0.000000               0.0   \n",
       "\n",
       "                 TTTGTCAAGAAGGCCT  TTTGTCAAGAGTACAT  TTTGTCAAGGCTCAGA  \\\n",
       "ENSG00000187634          0.394191          0.000000               0.0   \n",
       "ENSG00000188976          0.000000          0.000000               0.0   \n",
       "ENSG00000187961          0.000000          0.000000               0.0   \n",
       "ENSG00000187583          0.000000          0.000000               0.0   \n",
       "ENSG00000188290          1.740235          0.592851               0.0   \n",
       "\n",
       "                 TTTGTCAAGGTGATAT  TTTGTCACATGAAGTA  TTTGTCACATTCTCAT  \n",
       "ENSG00000187634               0.0               0.0               0.0  \n",
       "ENSG00000188976               0.0               0.0               0.0  \n",
       "ENSG00000187961               0.0               0.0               0.0  \n",
       "ENSG00000187583               0.0               0.0               0.0  \n",
       "ENSG00000188290               0.0               0.0               0.0  \n",
       "\n",
       "[5 rows x 2216 columns]"
      ]
     },
     "execution_count": 36,
     "metadata": {},
     "output_type": "execute_result"
    }
   ],
   "source": [
    "df.head()"
   ]
  },
  {
   "cell_type": "code",
   "execution_count": 37,
   "metadata": {},
   "outputs": [
    {
     "data": {
      "text/plain": [
       "(15324, 2216)"
      ]
     },
     "execution_count": 37,
     "metadata": {},
     "output_type": "execute_result"
    }
   ],
   "source": [
    "df.shape"
   ]
  },
  {
   "cell_type": "code",
   "execution_count": 39,
   "metadata": {},
   "outputs": [],
   "source": [
    "df.to_csv('data/26.04.2018/cell_cycle_corrected.tsv',sep='\\t')"
   ]
  },
  {
   "cell_type": "code",
   "execution_count": 40,
   "metadata": {
    "collapsed": true
   },
   "outputs": [],
   "source": [
    "df_gene_attrs.to_csv('data/26.04.2018/cell_cycle_corrected_gene_attrs.tsv', sep='\\t')\n",
    "df_cell_attrs.to_csv('data/26.04.2018/cell_cycle_corrected_cell_attrs.tsv', sep='\\t')"
   ]
  },
  {
   "cell_type": "code",
   "execution_count": null,
   "metadata": {
    "collapsed": true
   },
   "outputs": [],
   "source": []
  },
  {
   "cell_type": "code",
   "execution_count": null,
   "metadata": {
    "collapsed": true
   },
   "outputs": [],
   "source": []
  },
  {
   "cell_type": "code",
   "execution_count": 36,
   "metadata": {
    "collapsed": true
   },
   "outputs": [],
   "source": [
    "h5f.close()\n",
    "#matrix = np.log1p(matrix)"
   ]
  },
  {
   "cell_type": "code",
   "execution_count": null,
   "metadata": {
    "collapsed": true
   },
   "outputs": [],
   "source": []
  }
 ],
 "metadata": {
  "kernelspec": {
   "display_name": "Python 3",
   "language": "python",
   "name": "python3"
  },
  "language_info": {
   "codemirror_mode": {
    "name": "ipython",
    "version": 3
   },
   "file_extension": ".py",
   "mimetype": "text/x-python",
   "name": "python",
   "nbconvert_exporter": "python",
   "pygments_lexer": "ipython3",
   "version": "3.6.3"
  }
 },
 "nbformat": 4,
 "nbformat_minor": 2
}
