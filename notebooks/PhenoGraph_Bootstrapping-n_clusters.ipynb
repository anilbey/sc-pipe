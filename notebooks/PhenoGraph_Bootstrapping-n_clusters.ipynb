{
 "cells": [
  {
   "cell_type": "code",
   "execution_count": 1,
   "metadata": {},
   "outputs": [
    {
     "name": "stderr",
     "output_type": "stream",
     "text": [
      "/cluster/work/bewi/members/tuncel/anaconda3/lib/python3.6/site-packages/h5py/__init__.py:34: FutureWarning: Conversion of the second argument of issubdtype from `float` to `np.floating` is deprecated. In future, it will be treated as `np.float64 == np.dtype(float).type`.\n",
      "  from ._conv import register_converters as _register_converters\n"
     ]
    }
   ],
   "source": [
    "import h5py\n",
    "import numpy as np\n",
    "import pandas as pd\n",
    "import phenograph\n",
    "import time\n",
    "from sklearn.metrics.cluster import normalized_mutual_info_score\n",
    "from sklearn import manifold\n",
    "%matplotlib inline\n",
    "from sklearn.manifold import TSNE\n",
    "import scanpy.api as sc\n",
    "from collections import Counter\n",
    "from sklearn.metrics import mutual_info_score\n",
    "from sklearn.metrics import jaccard_similarity_score\n",
    "from numba import jit\n",
    "import matplotlib.pyplot as plt\n",
    "from tqdm import tqdm\n",
    "import pickle"
   ]
  },
  {
   "cell_type": "code",
   "execution_count": 2,
   "metadata": {},
   "outputs": [
    {
     "data": {
      "text/html": [
       "<script>\n",
       "code_show=true; \n",
       "function code_toggle() {\n",
       " if (code_show){\n",
       " $('div.input').hide();\n",
       " } else {\n",
       " $('div.input').show();\n",
       " }\n",
       " code_show = !code_show\n",
       "} \n",
       "$( document ).ready(code_toggle);\n",
       "</script>\n",
       "<form action=\"javascript:code_toggle()\"><input type=\"submit\" value=\"Click here to toggle on/off the raw code.\"></form>"
      ],
      "text/plain": [
       "<IPython.core.display.HTML object>"
      ]
     },
     "execution_count": 2,
     "metadata": {},
     "output_type": "execute_result"
    }
   ],
   "source": [
    "from IPython.display import HTML\n",
    "\n",
    "HTML('''<script>\n",
    "code_show=true; \n",
    "function code_toggle() {\n",
    " if (code_show){\n",
    " $('div.input').hide();\n",
    " } else {\n",
    " $('div.input').show();\n",
    " }\n",
    " code_show = !code_show\n",
    "} \n",
    "$( document ).ready(code_toggle);\n",
    "</script>\n",
    "<form action=\"javascript:code_toggle()\"><input type=\"submit\" value=\"Click here to toggle on/off the raw code.\"></form>''')\n",
    "\n"
   ]
  },
  {
   "cell_type": "code",
   "execution_count": 11,
   "metadata": {
    "collapsed": true
   },
   "outputs": [],
   "source": [
    "@jit\n",
    "def subsample(matrix, proportion=0.8):\n",
    "    # proportion percentages are going to be kept the same\n",
    "    n_samples_without_replacement = int(matrix.shape[0]*proportion)\n",
    "    n_samples_with_replacement = matrix.shape[0]-n_samples_without_replacement\n",
    "    subsampled = matrix.sample(n=n_samples_without_replacement, replace=False)\n",
    "    subsampled2 = subsampled.sample(n=n_samples_with_replacement, replace=False)\n",
    "    subsampled_final = pd.concat((subsampled, subsampled2), axis=0)\n",
    "    np.random.shuffle(subsampled_final)\n",
    "    return subsampled_final\n",
    "\n",
    "def preprocess_zheng17(matrix):\n",
    "    mask1 = (matrix.sum(axis=0) > 3)\n",
    "    filtered_matrix = matrix [:,mask1]\n",
    "    adata = sc.AnnData(filtered_matrix)\n",
    "    sc.pp.normalize_per_cell(adata)\n",
    "    filter_result = sc.pp.filter_genes_dispersion(adata.X, flavor='cell_ranger', n_top_genes=1000, log=False)\n",
    "    mask2 = filter_result.gene_subset\n",
    "    adata = adata[:, mask2]\n",
    "    sc.pp.normalize_per_cell(adata)\n",
    "    matrix = adata.X\n",
    "    return matrix\n",
    "\n",
    "def run_phenograph(matrix):\n",
    "    current = time.time()\n",
    "    communities, graph, Q = phenograph.cluster(matrix, n_jobs=8, k=100, primary_metric='euclidean')\n",
    "    end = time.time()\n",
    "    diff = end - current\n",
    "    print(diff)\n",
    "    return communities\n",
    "\n",
    "@jit\n",
    "def compute_jaccard(list1, list2):\n",
    "    intersection = len(set(list1) & set(list2))\n",
    "    union = len(set(list1) | set(list2))\n",
    "    return intersection / union"
   ]
  },
  {
   "cell_type": "code",
   "execution_count": 4,
   "metadata": {
    "collapsed": true
   },
   "outputs": [],
   "source": [
    "input_file = '/cluster/home/mtuncel/sc-pipe/intermediate_files/coding_region_only_melanomaS2.h5'"
   ]
  },
  {
   "cell_type": "code",
   "execution_count": 5,
   "metadata": {
    "collapsed": true
   },
   "outputs": [],
   "source": [
    "h5f = h5py.File(input_file, 'r')"
   ]
  },
  {
   "cell_type": "code",
   "execution_count": 6,
   "metadata": {
    "collapsed": true
   },
   "outputs": [],
   "source": [
    "h5f = h5py.File(input_file, 'r')\n",
    "matrix = h5f['matrix'][:]\n",
    "barcodes = h5f['cell_attrs']['cell_names'].value\n",
    "#cell_groups = h5f['cell_attrs']['cell_groups'].value\n",
    "\n",
    "matrix = np.log1p(matrix)"
   ]
  },
  {
   "cell_type": "code",
   "execution_count": 7,
   "metadata": {
    "collapsed": true
   },
   "outputs": [],
   "source": [
    "h5f.close()"
   ]
  },
  {
   "cell_type": "code",
   "execution_count": 8,
   "metadata": {
    "collapsed": true,
    "scrolled": true
   },
   "outputs": [],
   "source": [
    "%%capture\n",
    "preprocessed = preprocess_zheng17(matrix)\n",
    "communities = run_phenograph(preprocessed)"
   ]
  },
  {
   "cell_type": "code",
   "execution_count": 9,
   "metadata": {
    "collapsed": true
   },
   "outputs": [],
   "source": [
    "original_df = pd.DataFrame(matrix)"
   ]
  },
  {
   "cell_type": "code",
   "execution_count": 12,
   "metadata": {
    "collapsed": true
   },
   "outputs": [],
   "source": [
    "original_df['labels'] = communities\n",
    "original_df['original_index'] = original_df.index"
   ]
  },
  {
   "cell_type": "markdown",
   "metadata": {},
   "source": [
    "## Assessment of cluster robustness"
   ]
  },
  {
   "cell_type": "markdown",
   "metadata": {},
   "source": [
    "The evaluation procedure is described in the following publication: “Cluster-wise assessment of cluster stability,” Research Report 271, Dept. of Statistical Science, University College London, December 2006)\n",
    "<br>\n",
    "\n",
    "Given a clustering on a data set generated by a clustering method, the following principle is applied:\n",
    "* Interpret the Jaccard coefficient (Jaccard, 1901) as a measure of similarity between two subsets of a set based on set membership.\n",
    "* Resample new data sets from the original one (using various strategies) and apply the clustering method to them. \n",
    "* For every given cluster in the original clustering find the most similar cluster in the new clustering and record the\n",
    "similarity value.\n",
    "* Assess the cluster stability of every single cluster by the mean similarity taken over the resampled data sets.\n",
    "###### Notes:\n",
    "* Resampling is assessed by 100 bootstrap samples containing 80% of the unique cells.\n",
    "* The clusters bigger than 10% of the number of all cells are selected for the evaluation. "
   ]
  },
  {
   "cell_type": "code",
   "execution_count": null,
   "metadata": {
    "collapsed": true
   },
   "outputs": [],
   "source": []
  },
  {
   "cell_type": "code",
   "execution_count": null,
   "metadata": {
    "collapsed": true
   },
   "outputs": [],
   "source": []
  },
  {
   "cell_type": "markdown",
   "metadata": {},
   "source": [
    "### Original sizes of clusters"
   ]
  },
  {
   "cell_type": "code",
   "execution_count": 29,
   "metadata": {},
   "outputs": [
    {
     "data": {
      "text/plain": [
       "(2495,)"
      ]
     },
     "execution_count": 29,
     "metadata": {},
     "output_type": "execute_result"
    }
   ],
   "source": [
    "communities.shape"
   ]
  },
  {
   "cell_type": "code",
   "execution_count": 13,
   "metadata": {
    "scrolled": true
   },
   "outputs": [
    {
     "data": {
      "text/plain": [
       "{0: 1228, 1: 277, 2: 255, 3: 204, 4: 168, 5: 167, 6: 106, 7: 90}"
      ]
     },
     "execution_count": 13,
     "metadata": {},
     "output_type": "execute_result"
    }
   ],
   "source": [
    "dict(Counter(communities))"
   ]
  },
  {
   "cell_type": "code",
   "execution_count": 14,
   "metadata": {
    "collapsed": true
   },
   "outputs": [],
   "source": [
    "significant_clusters = []\n",
    "size_criteria = len(communities)/10\n",
    "for k,v in dict(Counter(communities)).items():\n",
    "    if v>size_criteria:\n",
    "        significant_clusters.append(k)\n",
    "    else:\n",
    "        pass"
   ]
  },
  {
   "cell_type": "markdown",
   "metadata": {},
   "source": [
    "### The clusters that contain > 10% of all cells"
   ]
  },
  {
   "cell_type": "code",
   "execution_count": 15,
   "metadata": {},
   "outputs": [
    {
     "data": {
      "text/plain": [
       "[0, 1, 2]"
      ]
     },
     "execution_count": 15,
     "metadata": {},
     "output_type": "execute_result"
    }
   ],
   "source": [
    "significant_clusters"
   ]
  },
  {
   "cell_type": "code",
   "execution_count": 16,
   "metadata": {},
   "outputs": [
    {
     "name": "stderr",
     "output_type": "stream",
     "text": [
      "\r",
      "  0%|          | 0/99 [00:00<?, ?it/s]"
     ]
    },
    {
     "name": "stdout",
     "output_type": "stream",
     "text": [
      "Finding 100 nearest neighbors using minkowski metric and 'auto' algorithm\n",
      "Neighbors computed in 1.9856445789337158 seconds\n",
      "Jaccard graph constructed in 1.2548205852508545 seconds\n",
      "Wrote graph to binary file in 0.518164873123169 seconds\n",
      "Running Louvain modularity optimization\n",
      "After 1 runs, maximum modularity is Q = 0.794406\n",
      "Louvain completed 21 runs in 1.615809440612793 seconds\n",
      "PhenoGraph complete in 5.489645481109619 seconds\n"
     ]
    },
    {
     "name": "stderr",
     "output_type": "stream",
     "text": [
      "\r",
      "  1%|          | 1/99 [00:09<14:48,  9.07s/it]"
     ]
    },
    {
     "name": "stdout",
     "output_type": "stream",
     "text": [
      "5.53315806388855\n",
      "Finding 100 nearest neighbors using minkowski metric and 'auto' algorithm\n",
      "Neighbors computed in 1.9783885478973389 seconds\n",
      "Jaccard graph constructed in 1.088470220565796 seconds\n",
      "Wrote graph to binary file in 0.5121521949768066 seconds\n",
      "Running Louvain modularity optimization\n",
      "After 1 runs, maximum modularity is Q = 0.789072\n",
      "After 2 runs, maximum modularity is Q = 0.791751\n",
      "Louvain completed 22 runs in 1.8204660415649414 seconds\n",
      "PhenoGraph complete in 5.524540424346924 seconds\n"
     ]
    },
    {
     "name": "stderr",
     "output_type": "stream",
     "text": [
      "\r",
      "  2%|▏         | 2/99 [00:17<13:54,  8.60s/it]"
     ]
    },
    {
     "name": "stdout",
     "output_type": "stream",
     "text": [
      "5.568532705307007\n",
      "Finding 100 nearest neighbors using minkowski metric and 'auto' algorithm\n",
      "Neighbors computed in 1.7791624069213867 seconds\n",
      "Jaccard graph constructed in 1.1332392692565918 seconds\n",
      "Wrote graph to binary file in 0.5097992420196533 seconds\n",
      "Running Louvain modularity optimization\n",
      "After 1 runs, maximum modularity is Q = 0.77881\n",
      "After 2 runs, maximum modularity is Q = 0.780772\n",
      "Louvain completed 22 runs in 1.8407716751098633 seconds\n",
      "PhenoGraph complete in 5.376439094543457 seconds\n"
     ]
    },
    {
     "name": "stderr",
     "output_type": "stream",
     "text": [
      "\r",
      "  3%|▎         | 3/99 [00:25<13:30,  8.44s/it]"
     ]
    },
    {
     "name": "stdout",
     "output_type": "stream",
     "text": [
      "5.424711465835571\n",
      "Finding 100 nearest neighbors using minkowski metric and 'auto' algorithm\n",
      "Neighbors computed in 1.9707348346710205 seconds\n",
      "Jaccard graph constructed in 1.0774204730987549 seconds\n",
      "Wrote graph to binary file in 0.5060305595397949 seconds\n",
      "Running Louvain modularity optimization\n",
      "After 1 runs, maximum modularity is Q = 0.777603\n",
      "After 9 runs, maximum modularity is Q = 0.778888\n",
      "Louvain completed 29 runs in 2.333958625793457 seconds\n",
      "PhenoGraph complete in 6.006628751754761 seconds\n"
     ]
    },
    {
     "name": "stderr",
     "output_type": "stream",
     "text": [
      "\r",
      "  4%|▍         | 4/99 [00:33<13:25,  8.48s/it]"
     ]
    },
    {
     "name": "stdout",
     "output_type": "stream",
     "text": [
      "6.049790859222412\n",
      "Finding 100 nearest neighbors using minkowski metric and 'auto' algorithm\n",
      "Neighbors computed in 1.8687388896942139 seconds\n",
      "Jaccard graph constructed in 1.0773494243621826 seconds\n",
      "Wrote graph to binary file in 0.396578311920166 seconds\n",
      "Running Louvain modularity optimization\n",
      "After 1 runs, maximum modularity is Q = 0.78568\n",
      "Louvain completed 21 runs in 1.666977882385254 seconds\n",
      "PhenoGraph complete in 5.138242483139038 seconds\n"
     ]
    },
    {
     "name": "stderr",
     "output_type": "stream",
     "text": [
      "\r",
      "  5%|▌         | 5/99 [00:41<13:02,  8.33s/it]"
     ]
    },
    {
     "name": "stdout",
     "output_type": "stream",
     "text": [
      "5.193865776062012\n",
      "Finding 100 nearest neighbors using minkowski metric and 'auto' algorithm\n",
      "Neighbors computed in 2.0744314193725586 seconds\n",
      "Jaccard graph constructed in 1.2365670204162598 seconds\n",
      "Wrote graph to binary file in 0.46341657638549805 seconds\n",
      "Running Louvain modularity optimization\n",
      "After 1 runs, maximum modularity is Q = 0.786943\n",
      "Louvain completed 21 runs in 1.689680814743042 seconds\n",
      "PhenoGraph complete in 5.586682081222534 seconds\n"
     ]
    },
    {
     "name": "stderr",
     "output_type": "stream",
     "text": [
      "\r",
      "  6%|▌         | 6/99 [00:49<12:54,  8.32s/it]"
     ]
    },
    {
     "name": "stdout",
     "output_type": "stream",
     "text": [
      "5.628648042678833\n",
      "Finding 100 nearest neighbors using minkowski metric and 'auto' algorithm\n",
      "Neighbors computed in 1.9847936630249023 seconds\n",
      "Jaccard graph constructed in 1.241558313369751 seconds\n",
      "Wrote graph to binary file in 0.4243156909942627 seconds\n",
      "Running Louvain modularity optimization\n",
      "After 1 runs, maximum modularity is Q = 0.778567\n",
      "After 3 runs, maximum modularity is Q = 0.782569\n",
      "Louvain completed 23 runs in 1.888139009475708 seconds\n",
      "PhenoGraph complete in 5.6548285484313965 seconds\n"
     ]
    },
    {
     "name": "stderr",
     "output_type": "stream",
     "text": [
      "\r",
      "  7%|▋         | 7/99 [00:58<12:49,  8.37s/it]"
     ]
    },
    {
     "name": "stdout",
     "output_type": "stream",
     "text": [
      "5.705897569656372\n",
      "Finding 100 nearest neighbors using minkowski metric and 'auto' algorithm\n",
      "Neighbors computed in 1.4680795669555664 seconds\n",
      "Jaccard graph constructed in 1.313596487045288 seconds\n",
      "Wrote graph to binary file in 0.4605550765991211 seconds\n",
      "Running Louvain modularity optimization\n",
      "After 1 runs, maximum modularity is Q = 0.783607\n",
      "Louvain completed 21 runs in 1.6450245380401611 seconds\n",
      "PhenoGraph complete in 5.010502099990845 seconds\n"
     ]
    },
    {
     "name": "stderr",
     "output_type": "stream",
     "text": [
      "\r",
      "  8%|▊         | 8/99 [01:06<12:34,  8.29s/it]"
     ]
    },
    {
     "name": "stdout",
     "output_type": "stream",
     "text": [
      "5.0539164543151855\n",
      "Finding 100 nearest neighbors using minkowski metric and 'auto' algorithm\n",
      "Neighbors computed in 2.0746474266052246 seconds\n",
      "Jaccard graph constructed in 1.139664649963379 seconds\n",
      "Wrote graph to binary file in 0.47861599922180176 seconds\n",
      "Running Louvain modularity optimization\n",
      "After 1 runs, maximum modularity is Q = 0.784515\n",
      "Louvain completed 21 runs in 1.6148643493652344 seconds\n",
      "PhenoGraph complete in 5.4240806102752686 seconds\n"
     ]
    },
    {
     "name": "stderr",
     "output_type": "stream",
     "text": [
      "\r",
      "  9%|▉         | 9/99 [01:14<12:23,  8.26s/it]"
     ]
    },
    {
     "name": "stdout",
     "output_type": "stream",
     "text": [
      "5.466464281082153\n",
      "Finding 100 nearest neighbors using minkowski metric and 'auto' algorithm\n",
      "Neighbors computed in 1.9824597835540771 seconds\n",
      "Jaccard graph constructed in 1.1925995349884033 seconds\n",
      "Wrote graph to binary file in 0.5617084503173828 seconds\n",
      "Running Louvain modularity optimization\n",
      "After 1 runs, maximum modularity is Q = 0.788134\n",
      "Louvain completed 21 runs in 1.7208454608917236 seconds\n",
      "PhenoGraph complete in 5.599545478820801 seconds\n"
     ]
    },
    {
     "name": "stderr",
     "output_type": "stream",
     "text": [
      "\r",
      " 10%|█         | 10/99 [01:22<12:14,  8.26s/it]"
     ]
    },
    {
     "name": "stdout",
     "output_type": "stream",
     "text": [
      "5.643745422363281\n",
      "Finding 100 nearest neighbors using minkowski metric and 'auto' algorithm\n",
      "Neighbors computed in 1.9756693840026855 seconds\n",
      "Jaccard graph constructed in 1.2328310012817383 seconds\n",
      "Wrote graph to binary file in 0.5097637176513672 seconds\n",
      "Running Louvain modularity optimization\n",
      "After 1 runs, maximum modularity is Q = 0.786206\n",
      "After 2 runs, maximum modularity is Q = 0.790352\n",
      "Louvain completed 22 runs in 1.7918643951416016 seconds\n",
      "PhenoGraph complete in 5.64022159576416 seconds\n"
     ]
    },
    {
     "name": "stderr",
     "output_type": "stream",
     "text": [
      "\r",
      " 11%|█         | 11/99 [01:30<12:07,  8.27s/it]"
     ]
    },
    {
     "name": "stdout",
     "output_type": "stream",
     "text": [
      "5.688446998596191\n",
      "Finding 100 nearest neighbors using minkowski metric and 'auto' algorithm\n",
      "Neighbors computed in 1.8833019733428955 seconds\n",
      "Jaccard graph constructed in 1.1224257946014404 seconds\n",
      "Wrote graph to binary file in 0.48111963272094727 seconds\n",
      "Running Louvain modularity optimization\n",
      "After 1 runs, maximum modularity is Q = 0.781881\n",
      "Louvain completed 21 runs in 1.5629057884216309 seconds\n",
      "PhenoGraph complete in 5.166423797607422 seconds\n"
     ]
    },
    {
     "name": "stderr",
     "output_type": "stream",
     "text": [
      "\r",
      " 12%|█▏        | 12/99 [01:38<11:57,  8.24s/it]"
     ]
    },
    {
     "name": "stdout",
     "output_type": "stream",
     "text": [
      "5.214939594268799\n",
      "Finding 100 nearest neighbors using minkowski metric and 'auto' algorithm\n",
      "Neighbors computed in 2.088865041732788 seconds\n",
      "Jaccard graph constructed in 1.121147871017456 seconds\n",
      "Wrote graph to binary file in 0.4682455062866211 seconds\n",
      "Running Louvain modularity optimization\n",
      "After 1 runs, maximum modularity is Q = 0.779511\n",
      "After 2 runs, maximum modularity is Q = 0.781104\n",
      "Louvain completed 22 runs in 1.749840259552002 seconds\n",
      "PhenoGraph complete in 5.540594816207886 seconds\n"
     ]
    },
    {
     "name": "stderr",
     "output_type": "stream",
     "text": [
      "\r",
      " 13%|█▎        | 13/99 [01:47<11:48,  8.24s/it]"
     ]
    },
    {
     "name": "stdout",
     "output_type": "stream",
     "text": [
      "5.585939168930054\n",
      "Finding 100 nearest neighbors using minkowski metric and 'auto' algorithm\n",
      "Neighbors computed in 2.19362211227417 seconds\n",
      "Jaccard graph constructed in 1.0908534526824951 seconds\n",
      "Wrote graph to binary file in 0.4784531593322754 seconds\n",
      "Running Louvain modularity optimization\n",
      "After 1 runs, maximum modularity is Q = 0.774739\n",
      "After 2 runs, maximum modularity is Q = 0.775818\n",
      "After 22 runs, maximum modularity is Q = 0.776842\n",
      "Louvain completed 42 runs in 3.3710083961486816 seconds\n",
      "PhenoGraph complete in 7.2448461055755615 seconds\n"
     ]
    },
    {
     "name": "stderr",
     "output_type": "stream",
     "text": [
      "\r",
      " 14%|█▍        | 14/99 [01:56<11:49,  8.35s/it]"
     ]
    },
    {
     "name": "stdout",
     "output_type": "stream",
     "text": [
      "7.287620782852173\n",
      "Finding 100 nearest neighbors using minkowski metric and 'auto' algorithm\n",
      "Neighbors computed in 1.9775993824005127 seconds\n",
      "Jaccard graph constructed in 1.2245547771453857 seconds\n",
      "Wrote graph to binary file in 0.39011597633361816 seconds\n",
      "Running Louvain modularity optimization\n",
      "After 1 runs, maximum modularity is Q = 0.790335\n",
      "Louvain completed 21 runs in 1.6464135646820068 seconds\n",
      "PhenoGraph complete in 5.350166320800781 seconds\n"
     ]
    },
    {
     "name": "stderr",
     "output_type": "stream",
     "text": [
      "\r",
      " 15%|█▌        | 15/99 [02:04<11:38,  8.32s/it]"
     ]
    },
    {
     "name": "stdout",
     "output_type": "stream",
     "text": [
      "5.396417140960693\n",
      "Finding 100 nearest neighbors using minkowski metric and 'auto' algorithm\n",
      "Neighbors computed in 1.8675470352172852 seconds\n",
      "Jaccard graph constructed in 1.2708351612091064 seconds\n",
      "Wrote graph to binary file in 0.4887106418609619 seconds\n",
      "Running Louvain modularity optimization\n",
      "After 1 runs, maximum modularity is Q = 0.791766\n",
      "After 11 runs, maximum modularity is Q = 0.792892\n",
      "Louvain completed 31 runs in 2.236046075820923 seconds\n",
      "PhenoGraph complete in 5.97688627243042 seconds\n"
     ]
    },
    {
     "name": "stderr",
     "output_type": "stream",
     "text": [
      "\r",
      " 16%|█▌        | 16/99 [02:13<11:30,  8.32s/it]"
     ]
    },
    {
     "name": "stdout",
     "output_type": "stream",
     "text": [
      "6.01999306678772\n",
      "Finding 100 nearest neighbors using minkowski metric and 'auto' algorithm\n",
      "Neighbors computed in 1.7724506855010986 seconds\n",
      "Jaccard graph constructed in 1.1270484924316406 seconds\n",
      "Wrote graph to binary file in 0.5047760009765625 seconds\n",
      "Running Louvain modularity optimization\n",
      "After 1 runs, maximum modularity is Q = 0.789573\n",
      "Louvain completed 21 runs in 1.5156543254852295 seconds\n",
      "PhenoGraph complete in 5.028985261917114 seconds\n"
     ]
    },
    {
     "name": "stderr",
     "output_type": "stream",
     "text": [
      "\r",
      " 17%|█▋        | 17/99 [02:20<11:19,  8.29s/it]"
     ]
    },
    {
     "name": "stdout",
     "output_type": "stream",
     "text": [
      "5.072066783905029\n",
      "Finding 100 nearest neighbors using minkowski metric and 'auto' algorithm\n",
      "Neighbors computed in 1.9658148288726807 seconds\n",
      "Jaccard graph constructed in 1.1518847942352295 seconds\n",
      "Wrote graph to binary file in 0.5066065788269043 seconds\n",
      "Running Louvain modularity optimization\n",
      "After 1 runs, maximum modularity is Q = 0.784768\n",
      "After 21 runs, maximum modularity is Q = 0.785982\n",
      "Louvain completed 41 runs in 2.927649974822998 seconds\n",
      "PhenoGraph complete in 6.659364223480225 seconds\n"
     ]
    },
    {
     "name": "stderr",
     "output_type": "stream",
     "text": [
      "\r",
      " 18%|█▊        | 18/99 [02:30<11:15,  8.34s/it]"
     ]
    },
    {
     "name": "stdout",
     "output_type": "stream",
     "text": [
      "6.707069396972656\n",
      "Finding 100 nearest neighbors using minkowski metric and 'auto' algorithm\n",
      "Neighbors computed in 1.8811192512512207 seconds\n",
      "Jaccard graph constructed in 1.141071081161499 seconds\n",
      "Wrote graph to binary file in 0.46393442153930664 seconds\n",
      "Running Louvain modularity optimization\n",
      "After 1 runs, maximum modularity is Q = 0.773969\n",
      "After 2 runs, maximum modularity is Q = 0.775027\n",
      "After 3 runs, maximum modularity is Q = 0.776031\n",
      "After 22 runs, maximum modularity is Q = 0.777277\n",
      "Louvain completed 42 runs in 3.2385306358337402 seconds\n",
      "PhenoGraph complete in 6.869595527648926 seconds\n"
     ]
    },
    {
     "name": "stderr",
     "output_type": "stream",
     "text": [
      "\r",
      " 19%|█▉        | 19/99 [02:39<11:11,  8.40s/it]"
     ]
    },
    {
     "name": "stdout",
     "output_type": "stream",
     "text": [
      "6.916430234909058\n",
      "Finding 100 nearest neighbors using minkowski metric and 'auto' algorithm\n",
      "Neighbors computed in 1.9736220836639404 seconds\n",
      "Jaccard graph constructed in 1.2005915641784668 seconds\n",
      "Wrote graph to binary file in 0.6254565715789795 seconds\n",
      "Running Louvain modularity optimization\n",
      "After 1 runs, maximum modularity is Q = 0.785519\n",
      "After 7 runs, maximum modularity is Q = 0.786519\n",
      "Louvain completed 27 runs in 2.1878092288970947 seconds\n",
      "PhenoGraph complete in 6.109615325927734 seconds\n"
     ]
    },
    {
     "name": "stderr",
     "output_type": "stream",
     "text": [
      "\r",
      " 20%|██        | 20/99 [02:48<11:04,  8.41s/it]"
     ]
    },
    {
     "name": "stdout",
     "output_type": "stream",
     "text": [
      "6.151865005493164\n",
      "Finding 100 nearest neighbors using minkowski metric and 'auto' algorithm\n",
      "Neighbors computed in 1.9684031009674072 seconds\n",
      "Jaccard graph constructed in 1.1706159114837646 seconds\n",
      "Wrote graph to binary file in 0.40548062324523926 seconds\n",
      "Running Louvain modularity optimization\n",
      "After 1 runs, maximum modularity is Q = 0.78579\n",
      "After 4 runs, maximum modularity is Q = 0.787017\n",
      "Louvain completed 24 runs in 1.912829875946045 seconds\n",
      "PhenoGraph complete in 5.581499814987183 seconds\n"
     ]
    },
    {
     "name": "stderr",
     "output_type": "stream",
     "text": [
      "\r",
      " 21%|██        | 21/99 [02:56<10:54,  8.40s/it]"
     ]
    },
    {
     "name": "stdout",
     "output_type": "stream",
     "text": [
      "5.6241536140441895\n",
      "Finding 100 nearest neighbors using minkowski metric and 'auto' algorithm\n",
      "Neighbors computed in 1.8597021102905273 seconds\n",
      "Jaccard graph constructed in 1.1958668231964111 seconds\n",
      "Wrote graph to binary file in 0.5601236820220947 seconds\n",
      "Running Louvain modularity optimization\n",
      "After 1 runs, maximum modularity is Q = 0.793467\n",
      "After 2 runs, maximum modularity is Q = 0.794731\n",
      "Louvain completed 22 runs in 1.7738683223724365 seconds\n",
      "PhenoGraph complete in 5.5515053272247314 seconds\n"
     ]
    },
    {
     "name": "stderr",
     "output_type": "stream",
     "text": [
      "\r",
      " 22%|██▏       | 22/99 [03:04<10:45,  8.39s/it]"
     ]
    },
    {
     "name": "stdout",
     "output_type": "stream",
     "text": [
      "5.5976011753082275\n",
      "Finding 100 nearest neighbors using minkowski metric and 'auto' algorithm\n",
      "Neighbors computed in 1.8653619289398193 seconds\n",
      "Jaccard graph constructed in 1.1476387977600098 seconds\n",
      "Wrote graph to binary file in 0.5010268688201904 seconds\n",
      "Running Louvain modularity optimization\n",
      "After 1 runs, maximum modularity is Q = 0.783321\n",
      "Louvain completed 21 runs in 1.6573476791381836 seconds\n",
      "PhenoGraph complete in 5.290604114532471 seconds\n"
     ]
    },
    {
     "name": "stderr",
     "output_type": "stream",
     "text": [
      "\r",
      " 23%|██▎       | 23/99 [03:12<10:36,  8.37s/it]"
     ]
    },
    {
     "name": "stdout",
     "output_type": "stream",
     "text": [
      "5.332381963729858\n",
      "Finding 100 nearest neighbors using minkowski metric and 'auto' algorithm\n",
      "Neighbors computed in 1.9843266010284424 seconds\n",
      "Jaccard graph constructed in 1.1486461162567139 seconds\n",
      "Wrote graph to binary file in 0.5151972770690918 seconds\n",
      "Running Louvain modularity optimization\n",
      "After 1 runs, maximum modularity is Q = 0.778981\n",
      "Louvain completed 21 runs in 1.5315759181976318 seconds\n",
      "PhenoGraph complete in 5.302238941192627 seconds\n"
     ]
    },
    {
     "name": "stderr",
     "output_type": "stream",
     "text": [
      "\r",
      " 24%|██▍       | 24/99 [03:20<10:26,  8.35s/it]"
     ]
    },
    {
     "name": "stdout",
     "output_type": "stream",
     "text": [
      "5.3459014892578125\n",
      "Finding 100 nearest neighbors using minkowski metric and 'auto' algorithm\n",
      "Neighbors computed in 1.9776508808135986 seconds\n",
      "Jaccard graph constructed in 1.1221346855163574 seconds\n",
      "Wrote graph to binary file in 0.5139598846435547 seconds\n",
      "Running Louvain modularity optimization\n",
      "After 1 runs, maximum modularity is Q = 0.781941\n",
      "After 9 runs, maximum modularity is Q = 0.783145\n",
      "Louvain completed 29 runs in 2.427065849304199 seconds\n",
      "PhenoGraph complete in 6.160600423812866 seconds\n"
     ]
    },
    {
     "name": "stderr",
     "output_type": "stream",
     "text": [
      "\r",
      " 25%|██▌       | 25/99 [03:29<10:19,  8.37s/it]"
     ]
    },
    {
     "name": "stdout",
     "output_type": "stream",
     "text": [
      "6.203138113021851\n",
      "Finding 100 nearest neighbors using minkowski metric and 'auto' algorithm\n",
      "Neighbors computed in 1.8827779293060303 seconds\n",
      "Jaccard graph constructed in 1.1661100387573242 seconds\n",
      "Wrote graph to binary file in 0.42386913299560547 seconds\n",
      "Running Louvain modularity optimization\n",
      "After 1 runs, maximum modularity is Q = 0.785386\n",
      "Louvain completed 21 runs in 1.7239573001861572 seconds\n",
      "PhenoGraph complete in 5.318885564804077 seconds\n"
     ]
    },
    {
     "name": "stderr",
     "output_type": "stream",
     "text": [
      "\r",
      " 26%|██▋       | 26/99 [03:37<10:10,  8.36s/it]"
     ]
    },
    {
     "name": "stdout",
     "output_type": "stream",
     "text": [
      "5.361413478851318\n",
      "Finding 100 nearest neighbors using minkowski metric and 'auto' algorithm\n",
      "Neighbors computed in 1.869356632232666 seconds\n",
      "Jaccard graph constructed in 1.2929046154022217 seconds\n",
      "Wrote graph to binary file in 0.5915348529815674 seconds\n",
      "Running Louvain modularity optimization\n",
      "After 1 runs, maximum modularity is Q = 0.775025\n",
      "Louvain completed 21 runs in 1.6809194087982178 seconds\n",
      "PhenoGraph complete in 5.57064151763916 seconds\n"
     ]
    },
    {
     "name": "stderr",
     "output_type": "stream",
     "text": [
      "\r",
      " 27%|██▋       | 27/99 [03:45<10:02,  8.37s/it]"
     ]
    },
    {
     "name": "stdout",
     "output_type": "stream",
     "text": [
      "5.617579936981201\n",
      "Finding 100 nearest neighbors using minkowski metric and 'auto' algorithm\n",
      "Neighbors computed in 1.7772009372711182 seconds\n",
      "Jaccard graph constructed in 1.1121771335601807 seconds\n",
      "Wrote graph to binary file in 0.5145878791809082 seconds\n",
      "Running Louvain modularity optimization\n",
      "After 1 runs, maximum modularity is Q = 0.782656\n",
      "Louvain completed 21 runs in 1.7286653518676758 seconds\n",
      "PhenoGraph complete in 5.2529003620147705 seconds\n"
     ]
    },
    {
     "name": "stderr",
     "output_type": "stream",
     "text": [
      "\r",
      " 28%|██▊       | 28/99 [03:53<09:53,  8.35s/it]"
     ]
    },
    {
     "name": "stdout",
     "output_type": "stream",
     "text": [
      "5.3029749393463135\n",
      "Finding 100 nearest neighbors using minkowski metric and 'auto' algorithm\n",
      "Neighbors computed in 1.8720011711120605 seconds\n",
      "Jaccard graph constructed in 1.1506612300872803 seconds\n",
      "Wrote graph to binary file in 0.43286657333374023 seconds\n",
      "Running Louvain modularity optimization\n",
      "After 1 runs, maximum modularity is Q = 0.785683\n",
      "Louvain completed 21 runs in 1.5912141799926758 seconds\n",
      "PhenoGraph complete in 5.167990207672119 seconds\n"
     ]
    },
    {
     "name": "stderr",
     "output_type": "stream",
     "text": [
      "\r",
      " 29%|██▉       | 29/99 [04:01<09:43,  8.33s/it]"
     ]
    },
    {
     "name": "stdout",
     "output_type": "stream",
     "text": [
      "5.22053074836731\n",
      "Finding 100 nearest neighbors using minkowski metric and 'auto' algorithm\n",
      "Neighbors computed in 1.462667465209961 seconds\n",
      "Jaccard graph constructed in 1.2112088203430176 seconds\n",
      "Wrote graph to binary file in 0.46474480628967285 seconds\n",
      "Running Louvain modularity optimization\n",
      "After 1 runs, maximum modularity is Q = 0.791081\n",
      "Louvain completed 21 runs in 1.724707841873169 seconds\n",
      "PhenoGraph complete in 4.980034112930298 seconds\n"
     ]
    },
    {
     "name": "stderr",
     "output_type": "stream",
     "text": [
      "\r",
      " 30%|███       | 30/99 [04:09<09:33,  8.31s/it]"
     ]
    },
    {
     "name": "stdout",
     "output_type": "stream",
     "text": [
      "5.020039319992065\n",
      "Finding 100 nearest neighbors using minkowski metric and 'auto' algorithm\n",
      "Neighbors computed in 1.6756598949432373 seconds\n",
      "Jaccard graph constructed in 1.166856050491333 seconds\n",
      "Wrote graph to binary file in 0.4711482524871826 seconds\n",
      "Running Louvain modularity optimization\n",
      "After 1 runs, maximum modularity is Q = 0.781623\n",
      "After 4 runs, maximum modularity is Q = 0.783958\n",
      "Louvain completed 24 runs in 1.8946642875671387 seconds\n",
      "PhenoGraph complete in 5.324991703033447 seconds\n"
     ]
    },
    {
     "name": "stderr",
     "output_type": "stream",
     "text": [
      "\r",
      " 31%|███▏      | 31/99 [04:17<09:24,  8.30s/it]"
     ]
    },
    {
     "name": "stdout",
     "output_type": "stream",
     "text": [
      "5.373625993728638\n",
      "Finding 100 nearest neighbors using minkowski metric and 'auto' algorithm\n",
      "Neighbors computed in 1.4813170433044434 seconds\n",
      "Jaccard graph constructed in 1.2009611129760742 seconds\n",
      "Wrote graph to binary file in 0.4717886447906494 seconds\n",
      "Running Louvain modularity optimization\n",
      "After 1 runs, maximum modularity is Q = 0.785354\n",
      "Louvain completed 21 runs in 1.7422904968261719 seconds\n",
      "PhenoGraph complete in 5.020630359649658 seconds\n"
     ]
    },
    {
     "name": "stderr",
     "output_type": "stream",
     "text": [
      "\r",
      " 32%|███▏      | 32/99 [04:24<09:14,  8.28s/it]"
     ]
    },
    {
     "name": "stdout",
     "output_type": "stream",
     "text": [
      "5.0606067180633545\n",
      "Finding 100 nearest neighbors using minkowski metric and 'auto' algorithm\n",
      "Neighbors computed in 1.9730370044708252 seconds\n",
      "Jaccard graph constructed in 1.183091402053833 seconds\n",
      "Wrote graph to binary file in 0.4723324775695801 seconds\n",
      "Running Louvain modularity optimization\n",
      "After 1 runs, maximum modularity is Q = 0.784022\n",
      "Louvain completed 21 runs in 1.7110998630523682 seconds\n",
      "PhenoGraph complete in 5.456839323043823 seconds\n"
     ]
    },
    {
     "name": "stderr",
     "output_type": "stream",
     "text": [
      "\r",
      " 33%|███▎      | 33/99 [04:32<09:05,  8.27s/it]"
     ]
    },
    {
     "name": "stdout",
     "output_type": "stream",
     "text": [
      "5.5096824169158936\n",
      "Finding 100 nearest neighbors using minkowski metric and 'auto' algorithm\n",
      "Neighbors computed in 2.0909698009490967 seconds\n",
      "Jaccard graph constructed in 1.1497786045074463 seconds\n",
      "Wrote graph to binary file in 0.48432087898254395 seconds\n",
      "Running Louvain modularity optimization\n",
      "After 1 runs, maximum modularity is Q = 0.790995\n",
      "Louvain completed 21 runs in 1.8040554523468018 seconds\n",
      "PhenoGraph complete in 5.65161395072937 seconds\n"
     ]
    },
    {
     "name": "stderr",
     "output_type": "stream",
     "text": [
      "\r",
      " 34%|███▍      | 34/99 [04:41<08:57,  8.28s/it]"
     ]
    },
    {
     "name": "stdout",
     "output_type": "stream",
     "text": [
      "5.699778318405151\n",
      "Finding 100 nearest neighbors using minkowski metric and 'auto' algorithm\n",
      "Neighbors computed in 1.473414659500122 seconds\n",
      "Jaccard graph constructed in 1.2273468971252441 seconds\n",
      "Wrote graph to binary file in 0.47647619247436523 seconds\n",
      "Running Louvain modularity optimization\n",
      "After 1 runs, maximum modularity is Q = 0.783415\n",
      "Louvain completed 21 runs in 1.6934034824371338 seconds\n",
      "PhenoGraph complete in 4.982278823852539 seconds\n"
     ]
    },
    {
     "name": "stderr",
     "output_type": "stream",
     "text": [
      "\r",
      " 35%|███▌      | 35/99 [04:49<08:48,  8.26s/it]"
     ]
    },
    {
     "name": "stdout",
     "output_type": "stream",
     "text": [
      "5.025697231292725\n",
      "Finding 100 nearest neighbors using minkowski metric and 'auto' algorithm\n",
      "Neighbors computed in 1.5860376358032227 seconds\n",
      "Jaccard graph constructed in 1.2216706275939941 seconds\n",
      "Wrote graph to binary file in 0.5958328247070312 seconds\n",
      "Running Louvain modularity optimization\n",
      "After 1 runs, maximum modularity is Q = 0.793299\n",
      "Louvain completed 21 runs in 1.8393526077270508 seconds\n",
      "PhenoGraph complete in 5.36130952835083 seconds\n"
     ]
    },
    {
     "name": "stderr",
     "output_type": "stream",
     "text": [
      "\r",
      " 36%|███▋      | 36/99 [04:57<08:40,  8.25s/it]"
     ]
    },
    {
     "name": "stdout",
     "output_type": "stream",
     "text": [
      "5.415355920791626\n",
      "Finding 100 nearest neighbors using minkowski metric and 'auto' algorithm\n",
      "Neighbors computed in 1.5936894416809082 seconds\n",
      "Jaccard graph constructed in 1.2852823734283447 seconds\n",
      "Wrote graph to binary file in 0.4204094409942627 seconds\n",
      "Running Louvain modularity optimization\n",
      "After 1 runs, maximum modularity is Q = 0.786399\n",
      "After 2 runs, maximum modularity is Q = 0.787667\n",
      "Louvain completed 22 runs in 1.9176998138427734 seconds\n",
      "PhenoGraph complete in 5.336782217025757 seconds\n"
     ]
    },
    {
     "name": "stderr",
     "output_type": "stream",
     "text": [
      "\r",
      " 37%|███▋      | 37/99 [05:05<08:31,  8.25s/it]"
     ]
    },
    {
     "name": "stdout",
     "output_type": "stream",
     "text": [
      "5.394206285476685\n",
      "Finding 100 nearest neighbors using minkowski metric and 'auto' algorithm\n",
      "Neighbors computed in 2.091862916946411 seconds\n",
      "Jaccard graph constructed in 1.3307669162750244 seconds\n",
      "Wrote graph to binary file in 0.5245916843414307 seconds\n",
      "Running Louvain modularity optimization\n",
      "After 1 runs, maximum modularity is Q = 0.775292\n",
      "After 2 runs, maximum modularity is Q = 0.789064\n",
      "Louvain completed 22 runs in 1.966801643371582 seconds\n",
      "PhenoGraph complete in 6.050013303756714 seconds\n"
     ]
    },
    {
     "name": "stderr",
     "output_type": "stream",
     "text": [
      "\r",
      " 38%|███▊      | 38/99 [05:13<08:23,  8.26s/it]"
     ]
    },
    {
     "name": "stdout",
     "output_type": "stream",
     "text": [
      "6.102416515350342\n",
      "Finding 100 nearest neighbors using minkowski metric and 'auto' algorithm\n",
      "Neighbors computed in 1.4730870723724365 seconds\n",
      "Jaccard graph constructed in 1.1510326862335205 seconds\n",
      "Wrote graph to binary file in 0.40430140495300293 seconds\n",
      "Running Louvain modularity optimization\n",
      "After 1 runs, maximum modularity is Q = 0.78018\n",
      "Louvain completed 21 runs in 1.6208164691925049 seconds\n",
      "PhenoGraph complete in 4.771247863769531 seconds\n"
     ]
    },
    {
     "name": "stderr",
     "output_type": "stream",
     "text": [
      "\r",
      " 39%|███▉      | 39/99 [05:21<08:14,  8.24s/it]"
     ]
    },
    {
     "name": "stdout",
     "output_type": "stream",
     "text": [
      "4.81105637550354\n",
      "Finding 100 nearest neighbors using minkowski metric and 'auto' algorithm\n",
      "Neighbors computed in 1.5640146732330322 seconds\n",
      "Jaccard graph constructed in 1.235198736190796 seconds\n",
      "Wrote graph to binary file in 0.4849853515625 seconds\n",
      "Running Louvain modularity optimization\n",
      "After 1 runs, maximum modularity is Q = 0.787594\n",
      "Louvain completed 21 runs in 1.660627841949463 seconds\n",
      "PhenoGraph complete in 5.062304496765137 seconds\n"
     ]
    },
    {
     "name": "stderr",
     "output_type": "stream",
     "text": [
      "\r",
      " 40%|████      | 40/99 [05:29<08:05,  8.23s/it]"
     ]
    },
    {
     "name": "stdout",
     "output_type": "stream",
     "text": [
      "5.105614185333252\n",
      "Finding 100 nearest neighbors using minkowski metric and 'auto' algorithm\n",
      "Neighbors computed in 2.084709644317627 seconds\n",
      "Jaccard graph constructed in 1.173980951309204 seconds\n",
      "Wrote graph to binary file in 0.5103912353515625 seconds\n",
      "Running Louvain modularity optimization\n",
      "After 1 runs, maximum modularity is Q = 0.789004\n",
      "Louvain completed 21 runs in 1.683337926864624 seconds\n",
      "PhenoGraph complete in 5.578241586685181 seconds\n"
     ]
    },
    {
     "name": "stderr",
     "output_type": "stream",
     "text": [
      "\r",
      " 41%|████▏     | 41/99 [05:37<07:57,  8.23s/it]"
     ]
    },
    {
     "name": "stdout",
     "output_type": "stream",
     "text": [
      "5.62172794342041\n",
      "Finding 100 nearest neighbors using minkowski metric and 'auto' algorithm\n",
      "Neighbors computed in 1.4741499423980713 seconds\n",
      "Jaccard graph constructed in 1.2260158061981201 seconds\n",
      "Wrote graph to binary file in 0.4905738830566406 seconds\n",
      "Running Louvain modularity optimization\n",
      "After 1 runs, maximum modularity is Q = 0.78551\n",
      "After 3 runs, maximum modularity is Q = 0.786982\n",
      "Louvain completed 23 runs in 2.2254927158355713 seconds\n",
      "PhenoGraph complete in 5.536416053771973 seconds\n"
     ]
    },
    {
     "name": "stderr",
     "output_type": "stream",
     "text": [
      "\r",
      " 42%|████▏     | 42/99 [05:45<07:49,  8.24s/it]"
     ]
    },
    {
     "name": "stdout",
     "output_type": "stream",
     "text": [
      "5.603168249130249\n",
      "Finding 100 nearest neighbors using minkowski metric and 'auto' algorithm\n",
      "Neighbors computed in 1.5724642276763916 seconds\n",
      "Jaccard graph constructed in 1.163590431213379 seconds\n",
      "Wrote graph to binary file in 0.4448263645172119 seconds\n",
      "Running Louvain modularity optimization\n",
      "After 1 runs, maximum modularity is Q = 0.784919\n",
      "Louvain completed 21 runs in 1.599595069885254 seconds\n",
      "PhenoGraph complete in 4.898131847381592 seconds\n"
     ]
    },
    {
     "name": "stderr",
     "output_type": "stream",
     "text": [
      "\r",
      " 43%|████▎     | 43/99 [05:53<07:40,  8.22s/it]"
     ]
    },
    {
     "name": "stdout",
     "output_type": "stream",
     "text": [
      "4.9487996101379395\n",
      "Finding 100 nearest neighbors using minkowski metric and 'auto' algorithm\n",
      "Neighbors computed in 1.4707026481628418 seconds\n",
      "Jaccard graph constructed in 1.300471544265747 seconds\n",
      "Wrote graph to binary file in 0.4977583885192871 seconds\n",
      "Running Louvain modularity optimization\n",
      "After 1 runs, maximum modularity is Q = 0.784014\n",
      "Louvain completed 21 runs in 1.7672083377838135 seconds\n",
      "PhenoGraph complete in 5.148077011108398 seconds\n"
     ]
    },
    {
     "name": "stderr",
     "output_type": "stream",
     "text": [
      "\r",
      " 44%|████▍     | 44/99 [06:01<07:32,  8.22s/it]"
     ]
    },
    {
     "name": "stdout",
     "output_type": "stream",
     "text": [
      "5.187734127044678\n",
      "Finding 100 nearest neighbors using minkowski metric and 'auto' algorithm\n",
      "Neighbors computed in 1.8790993690490723 seconds\n",
      "Jaccard graph constructed in 1.1267201900482178 seconds\n",
      "Wrote graph to binary file in 0.5105063915252686 seconds\n",
      "Running Louvain modularity optimization\n",
      "After 1 runs, maximum modularity is Q = 0.794561\n",
      "Louvain completed 21 runs in 1.7180352210998535 seconds\n",
      "PhenoGraph complete in 5.350754976272583 seconds\n"
     ]
    },
    {
     "name": "stderr",
     "output_type": "stream",
     "text": [
      "\r",
      " 45%|████▌     | 45/99 [06:09<07:23,  8.22s/it]"
     ]
    },
    {
     "name": "stdout",
     "output_type": "stream",
     "text": [
      "5.400624990463257\n",
      "Finding 100 nearest neighbors using minkowski metric and 'auto' algorithm\n",
      "Neighbors computed in 1.5702617168426514 seconds\n",
      "Jaccard graph constructed in 1.1822843551635742 seconds\n",
      "Wrote graph to binary file in 0.4697422981262207 seconds\n",
      "Running Louvain modularity optimization\n",
      "After 1 runs, maximum modularity is Q = 0.783333\n",
      "Louvain completed 21 runs in 1.8781921863555908 seconds\n",
      "PhenoGraph complete in 5.21329665184021 seconds\n"
     ]
    },
    {
     "name": "stderr",
     "output_type": "stream",
     "text": [
      "\r",
      " 46%|████▋     | 46/99 [06:17<07:15,  8.21s/it]"
     ]
    },
    {
     "name": "stdout",
     "output_type": "stream",
     "text": [
      "5.256258487701416\n",
      "Finding 100 nearest neighbors using minkowski metric and 'auto' algorithm\n",
      "Neighbors computed in 1.3806986808776855 seconds\n",
      "Jaccard graph constructed in 1.2106010913848877 seconds\n",
      "Wrote graph to binary file in 0.4592278003692627 seconds\n",
      "Running Louvain modularity optimization\n",
      "After 1 runs, maximum modularity is Q = 0.779473\n",
      "After 4 runs, maximum modularity is Q = 0.780757\n",
      "After 15 runs, maximum modularity is Q = 0.78198\n",
      "Louvain completed 35 runs in 3.0833823680877686 seconds\n",
      "PhenoGraph complete in 6.252233505249023 seconds\n"
     ]
    },
    {
     "name": "stderr",
     "output_type": "stream",
     "text": [
      "\r",
      " 47%|████▋     | 47/99 [06:26<07:07,  8.22s/it]"
     ]
    },
    {
     "name": "stdout",
     "output_type": "stream",
     "text": [
      "6.295572757720947\n",
      "Finding 100 nearest neighbors using minkowski metric and 'auto' algorithm\n",
      "Neighbors computed in 1.9838316440582275 seconds\n",
      "Jaccard graph constructed in 1.2666831016540527 seconds\n",
      "Wrote graph to binary file in 0.5017695426940918 seconds\n",
      "Running Louvain modularity optimization\n",
      "After 1 runs, maximum modularity is Q = 0.786786\n",
      "Louvain completed 21 runs in 1.8289811611175537 seconds\n",
      "PhenoGraph complete in 5.720658302307129 seconds\n"
     ]
    },
    {
     "name": "stderr",
     "output_type": "stream",
     "text": [
      "\r",
      " 48%|████▊     | 48/99 [06:34<06:59,  8.23s/it]"
     ]
    },
    {
     "name": "stdout",
     "output_type": "stream",
     "text": [
      "5.767789125442505\n",
      "Finding 100 nearest neighbors using minkowski metric and 'auto' algorithm\n",
      "Neighbors computed in 2.1826319694519043 seconds\n",
      "Jaccard graph constructed in 1.2749571800231934 seconds\n",
      "Wrote graph to binary file in 0.43301963806152344 seconds\n",
      "Running Louvain modularity optimization\n",
      "After 1 runs, maximum modularity is Q = 0.776496\n",
      "After 6 runs, maximum modularity is Q = 0.777731\n",
      "Louvain completed 26 runs in 2.187653064727783 seconds\n",
      "PhenoGraph complete in 6.193828582763672 seconds\n"
     ]
    },
    {
     "name": "stderr",
     "output_type": "stream",
     "text": [
      "\r",
      " 49%|████▉     | 49/99 [06:44<06:52,  8.25s/it]"
     ]
    },
    {
     "name": "stdout",
     "output_type": "stream",
     "text": [
      "6.249607801437378\n",
      "Finding 100 nearest neighbors using minkowski metric and 'auto' algorithm\n",
      "Neighbors computed in 1.678389072418213 seconds\n",
      "Jaccard graph constructed in 1.441927194595337 seconds\n",
      "Wrote graph to binary file in 0.6000316143035889 seconds\n",
      "Running Louvain modularity optimization\n",
      "After 1 runs, maximum modularity is Q = 0.78526\n",
      "After 4 runs, maximum modularity is Q = 0.789194\n",
      "Louvain completed 24 runs in 2.24980092048645 seconds\n",
      "PhenoGraph complete in 6.11865496635437 seconds\n"
     ]
    },
    {
     "name": "stderr",
     "output_type": "stream",
     "text": [
      "\r",
      " 51%|█████     | 50/99 [06:52<06:44,  8.26s/it]"
     ]
    },
    {
     "name": "stdout",
     "output_type": "stream",
     "text": [
      "6.1619555950164795\n",
      "Finding 100 nearest neighbors using minkowski metric and 'auto' algorithm\n",
      "Neighbors computed in 1.573251485824585 seconds\n",
      "Jaccard graph constructed in 1.2450268268585205 seconds\n",
      "Wrote graph to binary file in 0.4594590663909912 seconds\n",
      "Running Louvain modularity optimization\n",
      "After 1 runs, maximum modularity is Q = 0.784929\n",
      "Louvain completed 21 runs in 1.8906497955322266 seconds\n",
      "PhenoGraph complete in 5.308449745178223 seconds\n"
     ]
    },
    {
     "name": "stderr",
     "output_type": "stream",
     "text": [
      "\r",
      " 52%|█████▏    | 51/99 [07:00<06:36,  8.25s/it]"
     ]
    },
    {
     "name": "stdout",
     "output_type": "stream",
     "text": [
      "5.360377550125122\n",
      "Finding 100 nearest neighbors using minkowski metric and 'auto' algorithm\n",
      "Neighbors computed in 1.579209804534912 seconds\n",
      "Jaccard graph constructed in 1.287848711013794 seconds\n",
      "Wrote graph to binary file in 0.5898120403289795 seconds\n",
      "Running Louvain modularity optimization\n",
      "After 1 runs, maximum modularity is Q = 0.790219\n",
      "After 5 runs, maximum modularity is Q = 0.791421\n",
      "Louvain completed 25 runs in 2.0003230571746826 seconds\n",
      "PhenoGraph complete in 5.5758068561553955 seconds\n"
     ]
    },
    {
     "name": "stderr",
     "output_type": "stream",
     "text": [
      "\r",
      " 53%|█████▎    | 52/99 [07:09<06:28,  8.26s/it]"
     ]
    },
    {
     "name": "stdout",
     "output_type": "stream",
     "text": [
      "5.6257569789886475\n",
      "Finding 100 nearest neighbors using minkowski metric and 'auto' algorithm\n",
      "Neighbors computed in 1.5863783359527588 seconds\n",
      "Jaccard graph constructed in 1.2069423198699951 seconds\n",
      "Wrote graph to binary file in 0.5281925201416016 seconds\n",
      "Running Louvain modularity optimization\n",
      "After 1 runs, maximum modularity is Q = 0.786671\n",
      "After 3 runs, maximum modularity is Q = 0.789019\n",
      "Louvain completed 23 runs in 1.989957332611084 seconds\n",
      "PhenoGraph complete in 5.427656412124634 seconds\n"
     ]
    },
    {
     "name": "stderr",
     "output_type": "stream",
     "text": [
      "\r",
      " 54%|█████▎    | 53/99 [07:17<06:19,  8.25s/it]"
     ]
    },
    {
     "name": "stdout",
     "output_type": "stream",
     "text": [
      "5.478048801422119\n",
      "Finding 100 nearest neighbors using minkowski metric and 'auto' algorithm\n",
      "Neighbors computed in 1.6864962577819824 seconds\n",
      "Jaccard graph constructed in 1.204728364944458 seconds\n",
      "Wrote graph to binary file in 0.5113661289215088 seconds\n",
      "Running Louvain modularity optimization\n",
      "After 1 runs, maximum modularity is Q = 0.78337\n",
      "After 4 runs, maximum modularity is Q = 0.78437\n",
      "Louvain completed 24 runs in 2.096346378326416 seconds\n",
      "PhenoGraph complete in 5.618927240371704 seconds\n"
     ]
    },
    {
     "name": "stderr",
     "output_type": "stream",
     "text": [
      "\r",
      " 55%|█████▍    | 54/99 [07:25<06:11,  8.26s/it]"
     ]
    },
    {
     "name": "stdout",
     "output_type": "stream",
     "text": [
      "5.6775641441345215\n",
      "Finding 100 nearest neighbors using minkowski metric and 'auto' algorithm\n",
      "Neighbors computed in 1.5766608715057373 seconds\n",
      "Jaccard graph constructed in 1.1766321659088135 seconds\n",
      "Wrote graph to binary file in 0.5476133823394775 seconds\n",
      "Running Louvain modularity optimization\n",
      "After 1 runs, maximum modularity is Q = 0.789904\n",
      "After 6 runs, maximum modularity is Q = 0.791053\n",
      "Louvain completed 26 runs in 2.2365691661834717 seconds\n",
      "PhenoGraph complete in 5.662044048309326 seconds\n"
     ]
    },
    {
     "name": "stderr",
     "output_type": "stream",
     "text": [
      "\r",
      " 56%|█████▌    | 55/99 [07:34<06:03,  8.26s/it]"
     ]
    },
    {
     "name": "stdout",
     "output_type": "stream",
     "text": [
      "5.712486028671265\n",
      "Finding 100 nearest neighbors using minkowski metric and 'auto' algorithm\n",
      "Neighbors computed in 1.770850658416748 seconds\n",
      "Jaccard graph constructed in 1.2224810123443604 seconds\n",
      "Wrote graph to binary file in 0.5081441402435303 seconds\n",
      "Running Louvain modularity optimization\n",
      "After 1 runs, maximum modularity is Q = 0.776963\n",
      "Louvain completed 21 runs in 1.6558966636657715 seconds\n",
      "PhenoGraph complete in 5.301756143569946 seconds\n"
     ]
    },
    {
     "name": "stderr",
     "output_type": "stream",
     "text": [
      "\r",
      " 57%|█████▋    | 56/99 [07:42<05:55,  8.26s/it]"
     ]
    },
    {
     "name": "stdout",
     "output_type": "stream",
     "text": [
      "5.349169492721558\n",
      "Finding 100 nearest neighbors using minkowski metric and 'auto' algorithm\n",
      "Neighbors computed in 1.4684405326843262 seconds\n",
      "Jaccard graph constructed in 1.1403617858886719 seconds\n",
      "Wrote graph to binary file in 0.454479455947876 seconds\n",
      "Running Louvain modularity optimization\n",
      "After 1 runs, maximum modularity is Q = 0.784275\n",
      "Louvain completed 21 runs in 1.743455410003662 seconds\n",
      "PhenoGraph complete in 4.926924228668213 seconds\n"
     ]
    },
    {
     "name": "stderr",
     "output_type": "stream",
     "text": [
      "\r",
      " 58%|█████▊    | 57/99 [07:50<05:46,  8.25s/it]"
     ]
    },
    {
     "name": "stdout",
     "output_type": "stream",
     "text": [
      "4.9842612743377686\n",
      "Finding 100 nearest neighbors using minkowski metric and 'auto' algorithm\n",
      "Neighbors computed in 1.877474069595337 seconds\n",
      "Jaccard graph constructed in 1.2106928825378418 seconds\n",
      "Wrote graph to binary file in 0.5562634468078613 seconds\n",
      "Running Louvain modularity optimization\n",
      "After 1 runs, maximum modularity is Q = 0.777409\n",
      "After 2 runs, maximum modularity is Q = 0.779194\n",
      "After 11 runs, maximum modularity is Q = 0.781864\n",
      "Louvain completed 31 runs in 2.470196485519409 seconds\n",
      "PhenoGraph complete in 6.243858814239502 seconds\n"
     ]
    },
    {
     "name": "stderr",
     "output_type": "stream",
     "text": [
      "\r",
      " 59%|█████▊    | 58/99 [07:59<05:38,  8.26s/it]"
     ]
    },
    {
     "name": "stdout",
     "output_type": "stream",
     "text": [
      "6.2993690967559814\n",
      "Finding 100 nearest neighbors using minkowski metric and 'auto' algorithm\n",
      "Neighbors computed in 1.6745872497558594 seconds\n",
      "Jaccard graph constructed in 1.1886522769927979 seconds\n",
      "Wrote graph to binary file in 0.47321557998657227 seconds\n",
      "Running Louvain modularity optimization\n",
      "After 1 runs, maximum modularity is Q = 0.787474\n",
      "After 3 runs, maximum modularity is Q = 0.788533\n",
      "After 4 runs, maximum modularity is Q = 0.789877\n",
      "Louvain completed 24 runs in 2.0649664402008057 seconds\n",
      "PhenoGraph complete in 5.513137578964233 seconds\n"
     ]
    },
    {
     "name": "stderr",
     "output_type": "stream",
     "text": [
      "\r",
      " 60%|█████▉    | 59/99 [08:07<05:30,  8.26s/it]"
     ]
    },
    {
     "name": "stdout",
     "output_type": "stream",
     "text": [
      "5.556507587432861\n",
      "Finding 100 nearest neighbors using minkowski metric and 'auto' algorithm\n",
      "Neighbors computed in 2.0923454761505127 seconds\n",
      "Jaccard graph constructed in 1.2320821285247803 seconds\n",
      "Wrote graph to binary file in 0.5135724544525146 seconds\n",
      "Running Louvain modularity optimization\n",
      "After 1 runs, maximum modularity is Q = 0.781424\n",
      "After 2 runs, maximum modularity is Q = 0.784803\n",
      "Louvain completed 22 runs in 1.7885768413543701 seconds\n",
      "PhenoGraph complete in 5.7396321296691895 seconds\n"
     ]
    },
    {
     "name": "stderr",
     "output_type": "stream",
     "text": [
      "\r",
      " 61%|██████    | 60/99 [08:15<05:22,  8.27s/it]"
     ]
    },
    {
     "name": "stdout",
     "output_type": "stream",
     "text": [
      "5.7946953773498535\n",
      "Finding 100 nearest neighbors using minkowski metric and 'auto' algorithm\n",
      "Neighbors computed in 1.9877512454986572 seconds\n",
      "Jaccard graph constructed in 1.1497647762298584 seconds\n",
      "Wrote graph to binary file in 0.503300666809082 seconds\n",
      "Running Louvain modularity optimization\n",
      "After 1 runs, maximum modularity is Q = 0.791449\n",
      "Louvain completed 21 runs in 1.7260124683380127 seconds\n",
      "PhenoGraph complete in 5.499775171279907 seconds\n"
     ]
    },
    {
     "name": "stderr",
     "output_type": "stream",
     "text": [
      "\r",
      " 62%|██████▏   | 61/99 [08:24<05:14,  8.27s/it]"
     ]
    },
    {
     "name": "stdout",
     "output_type": "stream",
     "text": [
      "5.55001425743103\n",
      "Finding 100 nearest neighbors using minkowski metric and 'auto' algorithm\n",
      "Neighbors computed in 1.6655654907226562 seconds\n",
      "Jaccard graph constructed in 1.2828130722045898 seconds\n",
      "Wrote graph to binary file in 0.5710504055023193 seconds\n",
      "Running Louvain modularity optimization\n",
      "After 1 runs, maximum modularity is Q = 0.78277\n",
      "Louvain completed 21 runs in 1.7210109233856201 seconds\n",
      "PhenoGraph complete in 5.353421211242676 seconds\n"
     ]
    },
    {
     "name": "stderr",
     "output_type": "stream",
     "text": [
      "\r",
      " 63%|██████▎   | 62/99 [08:32<05:05,  8.26s/it]"
     ]
    },
    {
     "name": "stdout",
     "output_type": "stream",
     "text": [
      "5.410402297973633\n",
      "Finding 100 nearest neighbors using minkowski metric and 'auto' algorithm\n",
      "Neighbors computed in 2.2860171794891357 seconds\n",
      "Jaccard graph constructed in 1.304170846939087 seconds\n",
      "Wrote graph to binary file in 0.536358118057251 seconds\n",
      "Running Louvain modularity optimization\n",
      "After 1 runs, maximum modularity is Q = 0.782592\n",
      "After 2 runs, maximum modularity is Q = 0.789657\n",
      "Louvain completed 22 runs in 1.9927163124084473 seconds\n",
      "PhenoGraph complete in 6.239748001098633 seconds\n"
     ]
    },
    {
     "name": "stderr",
     "output_type": "stream",
     "text": [
      "\r",
      " 64%|██████▎   | 63/99 [08:41<04:58,  8.28s/it]"
     ]
    },
    {
     "name": "stdout",
     "output_type": "stream",
     "text": [
      "6.283075571060181\n",
      "Finding 100 nearest neighbors using minkowski metric and 'auto' algorithm\n",
      "Neighbors computed in 1.888906478881836 seconds\n",
      "Jaccard graph constructed in 1.3654921054840088 seconds\n",
      "Wrote graph to binary file in 0.5159335136413574 seconds\n",
      "Running Louvain modularity optimization\n",
      "After 1 runs, maximum modularity is Q = 0.790351\n",
      "After 2 runs, maximum modularity is Q = 0.791454\n",
      "After 3 runs, maximum modularity is Q = 0.792757\n",
      "Louvain completed 23 runs in 2.1642251014709473 seconds\n",
      "PhenoGraph complete in 6.055298089981079 seconds\n"
     ]
    },
    {
     "name": "stderr",
     "output_type": "stream",
     "text": [
      "\r",
      " 65%|██████▍   | 64/99 [08:50<04:50,  8.29s/it]"
     ]
    },
    {
     "name": "stdout",
     "output_type": "stream",
     "text": [
      "6.104304552078247\n",
      "Finding 100 nearest neighbors using minkowski metric and 'auto' algorithm\n",
      "Neighbors computed in 1.5749015808105469 seconds\n",
      "Jaccard graph constructed in 1.2516441345214844 seconds\n",
      "Wrote graph to binary file in 0.5057759284973145 seconds\n",
      "Running Louvain modularity optimization\n",
      "After 1 runs, maximum modularity is Q = 0.778767\n",
      "After 2 runs, maximum modularity is Q = 0.780553\n",
      "After 4 runs, maximum modularity is Q = 0.781616\n",
      "Louvain completed 24 runs in 2.2007510662078857 seconds\n",
      "PhenoGraph complete in 5.662784576416016 seconds\n"
     ]
    },
    {
     "name": "stderr",
     "output_type": "stream",
     "text": [
      "\r",
      " 66%|██████▌   | 65/99 [08:58<04:41,  8.29s/it]"
     ]
    },
    {
     "name": "stdout",
     "output_type": "stream",
     "text": [
      "5.712161302566528\n",
      "Finding 100 nearest neighbors using minkowski metric and 'auto' algorithm\n",
      "Neighbors computed in 1.4808952808380127 seconds\n",
      "Jaccard graph constructed in 1.1728065013885498 seconds\n",
      "Wrote graph to binary file in 0.4970841407775879 seconds\n",
      "Running Louvain modularity optimization\n",
      "After 1 runs, maximum modularity is Q = 0.784087\n",
      "Louvain completed 21 runs in 1.6581034660339355 seconds\n",
      "PhenoGraph complete in 4.946457386016846 seconds\n"
     ]
    },
    {
     "name": "stderr",
     "output_type": "stream",
     "text": [
      "\r",
      " 67%|██████▋   | 66/99 [09:06<04:33,  8.28s/it]"
     ]
    },
    {
     "name": "stdout",
     "output_type": "stream",
     "text": [
      "4.990123987197876\n",
      "Finding 100 nearest neighbors using minkowski metric and 'auto' algorithm\n",
      "Neighbors computed in 1.9719135761260986 seconds\n",
      "Jaccard graph constructed in 1.1644103527069092 seconds\n",
      "Wrote graph to binary file in 0.5623483657836914 seconds\n",
      "Running Louvain modularity optimization\n",
      "After 1 runs, maximum modularity is Q = 0.788792\n",
      "After 4 runs, maximum modularity is Q = 0.79033\n",
      "Louvain completed 24 runs in 2.1534948348999023 seconds\n",
      "PhenoGraph complete in 5.984544992446899 seconds\n"
     ]
    },
    {
     "name": "stderr",
     "output_type": "stream",
     "text": [
      "\r",
      " 68%|██████▊   | 67/99 [09:15<04:25,  8.28s/it]"
     ]
    },
    {
     "name": "stdout",
     "output_type": "stream",
     "text": [
      "6.036870241165161\n",
      "Finding 100 nearest neighbors using minkowski metric and 'auto' algorithm\n",
      "Neighbors computed in 1.568964958190918 seconds\n",
      "Jaccard graph constructed in 1.1514158248901367 seconds\n",
      "Wrote graph to binary file in 0.40112948417663574 seconds\n",
      "Running Louvain modularity optimization\n",
      "After 1 runs, maximum modularity is Q = 0.786992\n",
      "Louvain completed 21 runs in 1.626551628112793 seconds\n",
      "PhenoGraph complete in 4.867660284042358 seconds\n"
     ]
    },
    {
     "name": "stderr",
     "output_type": "stream",
     "text": [
      "\r",
      " 69%|██████▊   | 68/99 [09:22<04:16,  8.27s/it]"
     ]
    },
    {
     "name": "stdout",
     "output_type": "stream",
     "text": [
      "4.912416219711304\n",
      "Finding 100 nearest neighbors using minkowski metric and 'auto' algorithm\n",
      "Neighbors computed in 1.5624349117279053 seconds\n",
      "Jaccard graph constructed in 1.387699842453003 seconds\n",
      "Wrote graph to binary file in 0.5278239250183105 seconds\n",
      "Running Louvain modularity optimization\n",
      "After 1 runs, maximum modularity is Q = 0.785743\n",
      "After 2 runs, maximum modularity is Q = 0.787343\n",
      "Louvain completed 22 runs in 1.873652696609497 seconds\n",
      "PhenoGraph complete in 5.488364934921265 seconds\n"
     ]
    },
    {
     "name": "stderr",
     "output_type": "stream",
     "text": [
      "\r",
      " 70%|██████▉   | 69/99 [09:30<04:08,  8.27s/it]"
     ]
    },
    {
     "name": "stdout",
     "output_type": "stream",
     "text": [
      "5.5365846157073975\n",
      "Finding 100 nearest neighbors using minkowski metric and 'auto' algorithm\n",
      "Neighbors computed in 2.1771113872528076 seconds\n",
      "Jaccard graph constructed in 1.2333104610443115 seconds\n",
      "Wrote graph to binary file in 0.5511224269866943 seconds\n",
      "Running Louvain modularity optimization\n",
      "After 1 runs, maximum modularity is Q = 0.769928\n",
      "Louvain completed 21 runs in 1.7201120853424072 seconds\n",
      "PhenoGraph complete in 5.799170732498169 seconds\n"
     ]
    },
    {
     "name": "stderr",
     "output_type": "stream",
     "text": [
      "\r",
      " 71%|███████   | 70/99 [09:39<04:00,  8.28s/it]"
     ]
    },
    {
     "name": "stdout",
     "output_type": "stream",
     "text": [
      "5.844008207321167\n",
      "Finding 100 nearest neighbors using minkowski metric and 'auto' algorithm\n",
      "Neighbors computed in 1.971473217010498 seconds\n",
      "Jaccard graph constructed in 1.208240270614624 seconds\n",
      "Wrote graph to binary file in 0.5413837432861328 seconds\n",
      "Running Louvain modularity optimization\n",
      "After 1 runs, maximum modularity is Q = 0.77875\n",
      "After 2 runs, maximum modularity is Q = 0.779842\n",
      "Louvain completed 22 runs in 1.786036491394043 seconds\n",
      "PhenoGraph complete in 5.620228290557861 seconds\n"
     ]
    },
    {
     "name": "stderr",
     "output_type": "stream",
     "text": [
      "\r",
      " 72%|███████▏  | 71/99 [09:47<03:51,  8.27s/it]"
     ]
    },
    {
     "name": "stdout",
     "output_type": "stream",
     "text": [
      "5.661393165588379\n",
      "Finding 100 nearest neighbors using minkowski metric and 'auto' algorithm\n",
      "Neighbors computed in 2.0866312980651855 seconds\n",
      "Jaccard graph constructed in 1.1281678676605225 seconds\n",
      "Wrote graph to binary file in 0.523644208908081 seconds\n",
      "Running Louvain modularity optimization\n",
      "After 1 runs, maximum modularity is Q = 0.790866\n",
      "After 2 runs, maximum modularity is Q = 0.792028\n",
      "Louvain completed 22 runs in 1.9502065181732178 seconds\n",
      "PhenoGraph complete in 5.807629823684692 seconds\n"
     ]
    },
    {
     "name": "stderr",
     "output_type": "stream",
     "text": [
      "\r",
      " 73%|███████▎  | 72/99 [09:55<03:43,  8.28s/it]"
     ]
    },
    {
     "name": "stdout",
     "output_type": "stream",
     "text": [
      "5.851268291473389\n",
      "Finding 100 nearest neighbors using minkowski metric and 'auto' algorithm\n",
      "Neighbors computed in 1.9701666831970215 seconds\n",
      "Jaccard graph constructed in 1.106910228729248 seconds\n",
      "Wrote graph to binary file in 0.5372958183288574 seconds\n",
      "Running Louvain modularity optimization\n",
      "After 1 runs, maximum modularity is Q = 0.786951\n",
      "Louvain completed 21 runs in 1.7038884162902832 seconds\n",
      "PhenoGraph complete in 5.429868221282959 seconds\n"
     ]
    },
    {
     "name": "stderr",
     "output_type": "stream",
     "text": [
      "\r",
      " 74%|███████▎  | 73/99 [10:04<03:35,  8.28s/it]"
     ]
    },
    {
     "name": "stdout",
     "output_type": "stream",
     "text": [
      "5.6566078662872314\n",
      "Finding 100 nearest neighbors using minkowski metric and 'auto' algorithm\n",
      "Neighbors computed in 1.2675271034240723 seconds\n",
      "Jaccard graph constructed in 1.13106369972229 seconds\n",
      "Wrote graph to binary file in 0.5084207057952881 seconds\n",
      "Running Louvain modularity optimization\n",
      "After 1 runs, maximum modularity is Q = 0.781726\n",
      "Louvain completed 21 runs in 1.7277567386627197 seconds\n",
      "PhenoGraph complete in 4.744084596633911 seconds\n"
     ]
    },
    {
     "name": "stderr",
     "output_type": "stream",
     "text": [
      "\r",
      " 75%|███████▍  | 74/99 [10:11<03:26,  8.26s/it]"
     ]
    },
    {
     "name": "stdout",
     "output_type": "stream",
     "text": [
      "4.79066801071167\n",
      "Finding 100 nearest neighbors using minkowski metric and 'auto' algorithm\n",
      "Neighbors computed in 1.8763020038604736 seconds\n",
      "Jaccard graph constructed in 1.1847314834594727 seconds\n",
      "Wrote graph to binary file in 0.5252270698547363 seconds\n",
      "Running Louvain modularity optimization\n",
      "After 1 runs, maximum modularity is Q = 0.782269\n",
      "Louvain completed 21 runs in 1.9664933681488037 seconds\n",
      "PhenoGraph complete in 5.664186239242554 seconds\n"
     ]
    },
    {
     "name": "stderr",
     "output_type": "stream",
     "text": [
      "\r",
      " 76%|███████▌  | 75/99 [10:19<03:18,  8.26s/it]"
     ]
    },
    {
     "name": "stdout",
     "output_type": "stream",
     "text": [
      "5.70328950881958\n",
      "Finding 100 nearest neighbors using minkowski metric and 'auto' algorithm\n",
      "Neighbors computed in 2.079836845397949 seconds\n",
      "Jaccard graph constructed in 1.1309924125671387 seconds\n",
      "Wrote graph to binary file in 0.5283246040344238 seconds\n",
      "Running Louvain modularity optimization\n",
      "After 1 runs, maximum modularity is Q = 0.780668\n",
      "Louvain completed 21 runs in 1.6785473823547363 seconds\n",
      "PhenoGraph complete in 5.534373760223389 seconds\n"
     ]
    },
    {
     "name": "stderr",
     "output_type": "stream",
     "text": [
      "\r",
      " 77%|███████▋  | 76/99 [10:27<03:09,  8.26s/it]"
     ]
    },
    {
     "name": "stdout",
     "output_type": "stream",
     "text": [
      "5.574676990509033\n",
      "Finding 100 nearest neighbors using minkowski metric and 'auto' algorithm\n",
      "Neighbors computed in 1.873427391052246 seconds\n",
      "Jaccard graph constructed in 1.1186892986297607 seconds\n",
      "Wrote graph to binary file in 0.45588159561157227 seconds\n",
      "Running Louvain modularity optimization\n",
      "After 1 runs, maximum modularity is Q = 0.777263\n",
      "After 2 runs, maximum modularity is Q = 0.778833\n",
      "Louvain completed 22 runs in 1.8828644752502441 seconds\n",
      "PhenoGraph complete in 5.449882984161377 seconds\n"
     ]
    },
    {
     "name": "stderr",
     "output_type": "stream",
     "text": [
      "\r",
      " 78%|███████▊  | 77/99 [10:35<03:01,  8.26s/it]"
     ]
    },
    {
     "name": "stdout",
     "output_type": "stream",
     "text": [
      "5.498813152313232\n",
      "Finding 100 nearest neighbors using minkowski metric and 'auto' algorithm\n",
      "Neighbors computed in 1.570857048034668 seconds\n",
      "Jaccard graph constructed in 1.2122690677642822 seconds\n",
      "Wrote graph to binary file in 0.4683842658996582 seconds\n",
      "Running Louvain modularity optimization\n",
      "After 1 runs, maximum modularity is Q = 0.781921\n",
      "After 12 runs, maximum modularity is Q = 0.783099\n",
      "Louvain completed 32 runs in 2.6793861389160156 seconds\n",
      "PhenoGraph complete in 6.046627044677734 seconds\n"
     ]
    },
    {
     "name": "stderr",
     "output_type": "stream",
     "text": [
      "\r",
      " 79%|███████▉  | 78/99 [10:44<02:53,  8.26s/it]"
     ]
    },
    {
     "name": "stdout",
     "output_type": "stream",
     "text": [
      "6.096649646759033\n",
      "Finding 100 nearest neighbors using minkowski metric and 'auto' algorithm\n",
      "Neighbors computed in 1.6705973148345947 seconds\n",
      "Jaccard graph constructed in 1.101567268371582 seconds\n",
      "Wrote graph to binary file in 0.5100252628326416 seconds\n",
      "Running Louvain modularity optimization\n",
      "After 1 runs, maximum modularity is Q = 0.78931\n",
      "Louvain completed 21 runs in 1.5690526962280273 seconds\n",
      "PhenoGraph complete in 4.964799165725708 seconds\n"
     ]
    },
    {
     "name": "stderr",
     "output_type": "stream",
     "text": [
      "\r",
      " 80%|███████▉  | 79/99 [10:51<02:45,  8.25s/it]"
     ]
    },
    {
     "name": "stdout",
     "output_type": "stream",
     "text": [
      "5.009345769882202\n",
      "Finding 100 nearest neighbors using minkowski metric and 'auto' algorithm\n",
      "Neighbors computed in 1.5662739276885986 seconds\n",
      "Jaccard graph constructed in 1.1172363758087158 seconds\n",
      "Wrote graph to binary file in 0.4693927764892578 seconds\n",
      "Running Louvain modularity optimization\n",
      "After 1 runs, maximum modularity is Q = 0.786606\n",
      "Louvain completed 21 runs in 1.5086519718170166 seconds\n",
      "PhenoGraph complete in 4.780245780944824 seconds\n"
     ]
    },
    {
     "name": "stderr",
     "output_type": "stream",
     "text": [
      "\r",
      " 81%|████████  | 80/99 [10:59<02:36,  8.24s/it]"
     ]
    },
    {
     "name": "stdout",
     "output_type": "stream",
     "text": [
      "4.828487157821655\n",
      "Finding 100 nearest neighbors using minkowski metric and 'auto' algorithm\n",
      "Neighbors computed in 1.763495683670044 seconds\n",
      "Jaccard graph constructed in 1.1485481262207031 seconds\n",
      "Wrote graph to binary file in 0.4879298210144043 seconds\n",
      "Running Louvain modularity optimization\n",
      "After 1 runs, maximum modularity is Q = 0.785952\n",
      "After 2 runs, maximum modularity is Q = 0.787242\n",
      "After 3 runs, maximum modularity is Q = 0.788768\n",
      "Louvain completed 23 runs in 1.9928128719329834 seconds\n",
      "PhenoGraph complete in 5.506515026092529 seconds\n"
     ]
    },
    {
     "name": "stderr",
     "output_type": "stream",
     "text": [
      "\r",
      " 82%|████████▏ | 81/99 [11:07<02:28,  8.24s/it]"
     ]
    },
    {
     "name": "stdout",
     "output_type": "stream",
     "text": [
      "5.553546190261841\n",
      "Finding 100 nearest neighbors using minkowski metric and 'auto' algorithm\n",
      "Neighbors computed in 1.2752022743225098 seconds\n",
      "Jaccard graph constructed in 1.214949369430542 seconds\n",
      "Wrote graph to binary file in 0.44761180877685547 seconds\n",
      "Running Louvain modularity optimization\n",
      "After 1 runs, maximum modularity is Q = 0.787683\n",
      "After 3 runs, maximum modularity is Q = 0.789058\n",
      "Louvain completed 23 runs in 1.85581636428833 seconds\n",
      "PhenoGraph complete in 4.916089057922363 seconds\n"
     ]
    },
    {
     "name": "stderr",
     "output_type": "stream",
     "text": [
      "\r",
      " 83%|████████▎ | 82/99 [11:15<02:19,  8.23s/it]"
     ]
    },
    {
     "name": "stdout",
     "output_type": "stream",
     "text": [
      "4.962547063827515\n",
      "Finding 100 nearest neighbors using minkowski metric and 'auto' algorithm\n",
      "Neighbors computed in 1.8674876689910889 seconds\n",
      "Jaccard graph constructed in 1.230994462966919 seconds\n",
      "Wrote graph to binary file in 0.5724754333496094 seconds\n",
      "Running Louvain modularity optimization\n",
      "After 1 runs, maximum modularity is Q = 0.781713\n",
      "After 2 runs, maximum modularity is Q = 0.782791\n",
      "Louvain completed 22 runs in 1.9099054336547852 seconds\n",
      "PhenoGraph complete in 5.706174850463867 seconds\n"
     ]
    },
    {
     "name": "stderr",
     "output_type": "stream",
     "text": [
      "\r",
      " 84%|████████▍ | 83/99 [11:23<02:11,  8.23s/it]"
     ]
    },
    {
     "name": "stdout",
     "output_type": "stream",
     "text": [
      "5.749948978424072\n",
      "Finding 100 nearest neighbors using minkowski metric and 'auto' algorithm\n",
      "Neighbors computed in 2.078950881958008 seconds\n",
      "Jaccard graph constructed in 1.2373542785644531 seconds\n",
      "Wrote graph to binary file in 0.5666344165802002 seconds\n",
      "Running Louvain modularity optimization\n",
      "After 1 runs, maximum modularity is Q = 0.776615\n",
      "After 2 runs, maximum modularity is Q = 0.777668\n",
      "Louvain completed 22 runs in 1.92399263381958 seconds\n",
      "PhenoGraph complete in 5.936113595962524 seconds\n"
     ]
    },
    {
     "name": "stderr",
     "output_type": "stream",
     "text": [
      "\r",
      " 85%|████████▍ | 84/99 [11:31<02:03,  8.24s/it]"
     ]
    },
    {
     "name": "stdout",
     "output_type": "stream",
     "text": [
      "5.980700969696045\n",
      "Finding 100 nearest neighbors using minkowski metric and 'auto' algorithm\n",
      "Neighbors computed in 1.6720263957977295 seconds\n",
      "Jaccard graph constructed in 1.2017889022827148 seconds\n",
      "Wrote graph to binary file in 0.5046720504760742 seconds\n",
      "Running Louvain modularity optimization\n",
      "After 1 runs, maximum modularity is Q = 0.793456\n",
      "Louvain completed 21 runs in 1.6731741428375244 seconds\n",
      "PhenoGraph complete in 5.168894529342651 seconds\n"
     ]
    },
    {
     "name": "stderr",
     "output_type": "stream",
     "text": [
      "\r",
      " 86%|████████▌ | 85/99 [11:39<01:55,  8.23s/it]"
     ]
    },
    {
     "name": "stdout",
     "output_type": "stream",
     "text": [
      "5.221214532852173\n",
      "Finding 100 nearest neighbors using minkowski metric and 'auto' algorithm\n",
      "Neighbors computed in 1.5804274082183838 seconds\n",
      "Jaccard graph constructed in 1.2416965961456299 seconds\n",
      "Wrote graph to binary file in 0.6369423866271973 seconds\n",
      "Running Louvain modularity optimization\n",
      "After 1 runs, maximum modularity is Q = 0.784461\n",
      "After 2 runs, maximum modularity is Q = 0.785491\n",
      "Louvain completed 22 runs in 1.8188951015472412 seconds\n",
      "PhenoGraph complete in 5.453631639480591 seconds\n"
     ]
    },
    {
     "name": "stderr",
     "output_type": "stream",
     "text": [
      "\r",
      " 87%|████████▋ | 86/99 [11:48<01:47,  8.23s/it]"
     ]
    },
    {
     "name": "stdout",
     "output_type": "stream",
     "text": [
      "5.502504110336304\n",
      "Finding 100 nearest neighbors using minkowski metric and 'auto' algorithm\n",
      "Neighbors computed in 1.9811208248138428 seconds\n",
      "Jaccard graph constructed in 1.1823420524597168 seconds\n",
      "Wrote graph to binary file in 0.5705528259277344 seconds\n",
      "Running Louvain modularity optimization\n",
      "After 1 runs, maximum modularity is Q = 0.782274\n",
      "Louvain completed 21 runs in 1.7331278324127197 seconds\n",
      "PhenoGraph complete in 5.598248243331909 seconds\n"
     ]
    },
    {
     "name": "stderr",
     "output_type": "stream",
     "text": [
      "\r",
      " 88%|████████▊ | 87/99 [11:56<01:38,  8.24s/it]"
     ]
    },
    {
     "name": "stdout",
     "output_type": "stream",
     "text": [
      "5.647576332092285\n",
      "Finding 100 nearest neighbors using minkowski metric and 'auto' algorithm\n",
      "Neighbors computed in 1.4790737628936768 seconds\n",
      "Jaccard graph constructed in 1.1115994453430176 seconds\n",
      "Wrote graph to binary file in 0.5796306133270264 seconds\n",
      "Running Louvain modularity optimization\n",
      "After 1 runs, maximum modularity is Q = 0.784436\n",
      "Louvain completed 21 runs in 1.890132188796997 seconds\n",
      "PhenoGraph complete in 5.187090158462524 seconds\n"
     ]
    },
    {
     "name": "stderr",
     "output_type": "stream",
     "text": [
      "\r",
      " 89%|████████▉ | 88/99 [12:04<01:30,  8.23s/it]"
     ]
    },
    {
     "name": "stdout",
     "output_type": "stream",
     "text": [
      "5.238917350769043\n",
      "Finding 100 nearest neighbors using minkowski metric and 'auto' algorithm\n",
      "Neighbors computed in 1.7734758853912354 seconds\n",
      "Jaccard graph constructed in 1.1774592399597168 seconds\n",
      "Wrote graph to binary file in 0.49562716484069824 seconds\n",
      "Running Louvain modularity optimization\n",
      "After 1 runs, maximum modularity is Q = 0.790692\n",
      "After 15 runs, maximum modularity is Q = 0.791941\n",
      "Louvain completed 35 runs in 2.615750789642334 seconds\n",
      "PhenoGraph complete in 6.184173345565796 seconds\n"
     ]
    },
    {
     "name": "stderr",
     "output_type": "stream",
     "text": [
      "\r",
      " 90%|████████▉ | 89/99 [12:13<01:22,  8.24s/it]"
     ]
    },
    {
     "name": "stdout",
     "output_type": "stream",
     "text": [
      "6.2325639724731445\n",
      "Finding 100 nearest neighbors using minkowski metric and 'auto' algorithm\n",
      "Neighbors computed in 1.7703230381011963 seconds\n",
      "Jaccard graph constructed in 1.1634912490844727 seconds\n",
      "Wrote graph to binary file in 0.5987200736999512 seconds\n",
      "Running Louvain modularity optimization\n",
      "After 1 runs, maximum modularity is Q = 0.782737\n",
      "After 2 runs, maximum modularity is Q = 0.784601\n",
      "After 14 runs, maximum modularity is Q = 0.785729\n",
      "Louvain completed 34 runs in 2.652090549468994 seconds\n",
      "PhenoGraph complete in 6.3082263469696045 seconds\n"
     ]
    },
    {
     "name": "stderr",
     "output_type": "stream",
     "text": [
      "\r",
      " 91%|█████████ | 90/99 [12:22<01:14,  8.24s/it]"
     ]
    },
    {
     "name": "stdout",
     "output_type": "stream",
     "text": [
      "6.361247777938843\n",
      "Finding 100 nearest neighbors using minkowski metric and 'auto' algorithm\n",
      "Neighbors computed in 1.783376932144165 seconds\n",
      "Jaccard graph constructed in 1.2372338771820068 seconds\n",
      "Wrote graph to binary file in 0.5845036506652832 seconds\n",
      "Running Louvain modularity optimization\n",
      "After 1 runs, maximum modularity is Q = 0.787622\n",
      "Louvain completed 21 runs in 1.56166410446167 seconds\n",
      "PhenoGraph complete in 5.297133684158325 seconds\n"
     ]
    },
    {
     "name": "stderr",
     "output_type": "stream",
     "text": [
      "\r",
      " 92%|█████████▏| 91/99 [12:29<01:05,  8.24s/it]"
     ]
    },
    {
     "name": "stdout",
     "output_type": "stream",
     "text": [
      "5.340736389160156\n",
      "Finding 100 nearest neighbors using minkowski metric and 'auto' algorithm\n",
      "Neighbors computed in 2.0735833644866943 seconds\n",
      "Jaccard graph constructed in 1.2025370597839355 seconds\n",
      "Wrote graph to binary file in 0.591559648513794 seconds\n",
      "Running Louvain modularity optimization\n",
      "After 1 runs, maximum modularity is Q = 0.770197\n",
      "After 2 runs, maximum modularity is Q = 0.773397\n",
      "After 3 runs, maximum modularity is Q = 0.775584\n",
      "Louvain completed 23 runs in 1.8991189002990723 seconds\n",
      "PhenoGraph complete in 5.886265277862549 seconds\n"
     ]
    },
    {
     "name": "stderr",
     "output_type": "stream",
     "text": [
      "\r",
      " 93%|█████████▎| 92/99 [12:38<00:57,  8.25s/it]"
     ]
    },
    {
     "name": "stdout",
     "output_type": "stream",
     "text": [
      "5.930248975753784\n",
      "Finding 100 nearest neighbors using minkowski metric and 'auto' algorithm\n",
      "Neighbors computed in 1.973393440246582 seconds\n",
      "Jaccard graph constructed in 1.1808087825775146 seconds\n",
      "Wrote graph to binary file in 0.47784900665283203 seconds\n",
      "Running Louvain modularity optimization\n",
      "After 1 runs, maximum modularity is Q = 0.793419\n",
      "After 7 runs, maximum modularity is Q = 0.794424\n",
      "Louvain completed 27 runs in 2.1812853813171387 seconds\n",
      "PhenoGraph complete in 5.966120719909668 seconds\n"
     ]
    },
    {
     "name": "stderr",
     "output_type": "stream",
     "text": [
      "\r",
      " 94%|█████████▍| 93/99 [12:47<00:49,  8.25s/it]"
     ]
    },
    {
     "name": "stdout",
     "output_type": "stream",
     "text": [
      "6.009160995483398\n",
      "Finding 100 nearest neighbors using minkowski metric and 'auto' algorithm\n",
      "Neighbors computed in 1.871791124343872 seconds\n",
      "Jaccard graph constructed in 1.172309160232544 seconds\n",
      "Wrote graph to binary file in 0.5701212882995605 seconds\n",
      "Running Louvain modularity optimization\n",
      "After 1 runs, maximum modularity is Q = 0.776742\n",
      "After 2 runs, maximum modularity is Q = 0.778561\n",
      "Louvain completed 22 runs in 1.7664024829864502 seconds\n",
      "PhenoGraph complete in 5.508258819580078 seconds\n"
     ]
    },
    {
     "name": "stderr",
     "output_type": "stream",
     "text": [
      "\r",
      " 95%|█████████▍| 94/99 [12:55<00:41,  8.25s/it]"
     ]
    },
    {
     "name": "stdout",
     "output_type": "stream",
     "text": [
      "5.546385288238525\n",
      "Finding 100 nearest neighbors using minkowski metric and 'auto' algorithm\n",
      "Neighbors computed in 2.0683891773223877 seconds\n",
      "Jaccard graph constructed in 1.1516146659851074 seconds\n",
      "Wrote graph to binary file in 0.542414665222168 seconds\n",
      "Running Louvain modularity optimization\n",
      "After 1 runs, maximum modularity is Q = 0.781311\n",
      "Louvain completed 21 runs in 1.710479497909546 seconds\n",
      "PhenoGraph complete in 5.597244739532471 seconds\n"
     ]
    },
    {
     "name": "stderr",
     "output_type": "stream",
     "text": [
      "\r",
      " 96%|█████████▌| 95/99 [13:03<00:32,  8.24s/it]"
     ]
    },
    {
     "name": "stdout",
     "output_type": "stream",
     "text": [
      "5.636025667190552\n",
      "Finding 100 nearest neighbors using minkowski metric and 'auto' algorithm\n",
      "Neighbors computed in 1.864807367324829 seconds\n",
      "Jaccard graph constructed in 1.1427085399627686 seconds\n",
      "Wrote graph to binary file in 0.563124418258667 seconds\n",
      "Running Louvain modularity optimization\n",
      "After 1 runs, maximum modularity is Q = 0.783667\n",
      "After 12 runs, maximum modularity is Q = 0.78528\n",
      "Louvain completed 32 runs in 2.4902055263519287 seconds\n",
      "PhenoGraph complete in 6.183276414871216 seconds\n"
     ]
    },
    {
     "name": "stderr",
     "output_type": "stream",
     "text": [
      "\r",
      " 97%|█████████▋| 96/99 [13:11<00:24,  8.25s/it]"
     ]
    },
    {
     "name": "stdout",
     "output_type": "stream",
     "text": [
      "6.235838890075684\n",
      "Finding 100 nearest neighbors using minkowski metric and 'auto' algorithm\n",
      "Neighbors computed in 1.9804296493530273 seconds\n",
      "Jaccard graph constructed in 1.1290359497070312 seconds\n",
      "Wrote graph to binary file in 0.47005605697631836 seconds\n",
      "Running Louvain modularity optimization\n",
      "After 1 runs, maximum modularity is Q = 0.786919\n",
      "Louvain completed 21 runs in 1.5905952453613281 seconds\n",
      "PhenoGraph complete in 5.2877538204193115 seconds\n"
     ]
    },
    {
     "name": "stderr",
     "output_type": "stream",
     "text": [
      "\r",
      " 98%|█████████▊| 97/99 [13:19<00:16,  8.24s/it]"
     ]
    },
    {
     "name": "stdout",
     "output_type": "stream",
     "text": [
      "5.328426122665405\n",
      "Finding 100 nearest neighbors using minkowski metric and 'auto' algorithm\n",
      "Neighbors computed in 1.868502140045166 seconds\n",
      "Jaccard graph constructed in 1.1941015720367432 seconds\n",
      "Wrote graph to binary file in 0.585402250289917 seconds\n",
      "Running Louvain modularity optimization\n",
      "After 1 runs, maximum modularity is Q = 0.788867\n",
      "After 3 runs, maximum modularity is Q = 0.790091\n",
      "Louvain completed 23 runs in 1.9209802150726318 seconds\n",
      "PhenoGraph complete in 5.68221378326416 seconds\n"
     ]
    },
    {
     "name": "stderr",
     "output_type": "stream",
     "text": [
      "\r",
      " 99%|█████████▉| 98/99 [13:27<00:08,  8.24s/it]"
     ]
    },
    {
     "name": "stdout",
     "output_type": "stream",
     "text": [
      "5.724938631057739\n",
      "Finding 100 nearest neighbors using minkowski metric and 'auto' algorithm\n",
      "Neighbors computed in 1.3807966709136963 seconds\n",
      "Jaccard graph constructed in 1.1874582767486572 seconds\n",
      "Wrote graph to binary file in 0.47399449348449707 seconds\n",
      "Running Louvain modularity optimization\n",
      "After 1 runs, maximum modularity is Q = 0.78366\n",
      "Louvain completed 21 runs in 1.7399203777313232 seconds\n",
      "PhenoGraph complete in 4.896265268325806 seconds\n"
     ]
    },
    {
     "name": "stderr",
     "output_type": "stream",
     "text": [
      "\r",
      "100%|██████████| 99/99 [13:35<00:00,  8.24s/it]"
     ]
    },
    {
     "name": "stdout",
     "output_type": "stream",
     "text": [
      "4.9349892139434814\n"
     ]
    },
    {
     "name": "stderr",
     "output_type": "stream",
     "text": [
      "\n"
     ]
    }
   ],
   "source": [
    "n_clusters = []\n",
    "for j in tqdm(range(1,100)):\n",
    "    ss = subsample(original_df)\n",
    "    ss_index = ss.index.values\n",
    "    ss = ss.drop(['labels','original_index'], axis=1)\n",
    "    preprocessed_ss = preprocess_zheng17(ss.values)\n",
    "    ss_communities = run_phenograph(preprocessed_ss)\n",
    "    n_clusters.append(ss_communities)\n",
    "    \n",
    "    "
   ]
  },
  {
   "cell_type": "code",
   "execution_count": 22,
   "metadata": {},
   "outputs": [],
   "source": [
    "n_clusters_df = pd.DataFrame(n_clusters)"
   ]
  },
  {
   "cell_type": "code",
   "execution_count": 33,
   "metadata": {},
   "outputs": [
    {
     "data": {
      "text/html": [
       "<div>\n",
       "<style scoped>\n",
       "    .dataframe tbody tr th:only-of-type {\n",
       "        vertical-align: middle;\n",
       "    }\n",
       "\n",
       "    .dataframe tbody tr th {\n",
       "        vertical-align: top;\n",
       "    }\n",
       "\n",
       "    .dataframe thead th {\n",
       "        text-align: right;\n",
       "    }\n",
       "</style>\n",
       "<table border=\"1\" class=\"dataframe\">\n",
       "  <thead>\n",
       "    <tr style=\"text-align: right;\">\n",
       "      <th></th>\n",
       "      <th>0</th>\n",
       "      <th>1</th>\n",
       "      <th>2</th>\n",
       "      <th>3</th>\n",
       "      <th>4</th>\n",
       "      <th>5</th>\n",
       "      <th>6</th>\n",
       "      <th>7</th>\n",
       "      <th>8</th>\n",
       "      <th>9</th>\n",
       "      <th>...</th>\n",
       "      <th>2485</th>\n",
       "      <th>2486</th>\n",
       "      <th>2487</th>\n",
       "      <th>2488</th>\n",
       "      <th>2489</th>\n",
       "      <th>2490</th>\n",
       "      <th>2491</th>\n",
       "      <th>2492</th>\n",
       "      <th>2493</th>\n",
       "      <th>2494</th>\n",
       "    </tr>\n",
       "  </thead>\n",
       "  <tbody>\n",
       "    <tr>\n",
       "      <th>0</th>\n",
       "      <td>1</td>\n",
       "      <td>0</td>\n",
       "      <td>0</td>\n",
       "      <td>0</td>\n",
       "      <td>0</td>\n",
       "      <td>0</td>\n",
       "      <td>1</td>\n",
       "      <td>4</td>\n",
       "      <td>6</td>\n",
       "      <td>6</td>\n",
       "      <td>...</td>\n",
       "      <td>0</td>\n",
       "      <td>0</td>\n",
       "      <td>3</td>\n",
       "      <td>6</td>\n",
       "      <td>0</td>\n",
       "      <td>4</td>\n",
       "      <td>3</td>\n",
       "      <td>2</td>\n",
       "      <td>5</td>\n",
       "      <td>2</td>\n",
       "    </tr>\n",
       "    <tr>\n",
       "      <th>1</th>\n",
       "      <td>5</td>\n",
       "      <td>0</td>\n",
       "      <td>1</td>\n",
       "      <td>0</td>\n",
       "      <td>0</td>\n",
       "      <td>0</td>\n",
       "      <td>5</td>\n",
       "      <td>6</td>\n",
       "      <td>1</td>\n",
       "      <td>2</td>\n",
       "      <td>...</td>\n",
       "      <td>2</td>\n",
       "      <td>5</td>\n",
       "      <td>3</td>\n",
       "      <td>1</td>\n",
       "      <td>0</td>\n",
       "      <td>4</td>\n",
       "      <td>0</td>\n",
       "      <td>0</td>\n",
       "      <td>1</td>\n",
       "      <td>0</td>\n",
       "    </tr>\n",
       "    <tr>\n",
       "      <th>2</th>\n",
       "      <td>1</td>\n",
       "      <td>7</td>\n",
       "      <td>7</td>\n",
       "      <td>1</td>\n",
       "      <td>1</td>\n",
       "      <td>0</td>\n",
       "      <td>3</td>\n",
       "      <td>3</td>\n",
       "      <td>2</td>\n",
       "      <td>0</td>\n",
       "      <td>...</td>\n",
       "      <td>5</td>\n",
       "      <td>4</td>\n",
       "      <td>6</td>\n",
       "      <td>1</td>\n",
       "      <td>5</td>\n",
       "      <td>0</td>\n",
       "      <td>2</td>\n",
       "      <td>2</td>\n",
       "      <td>0</td>\n",
       "      <td>0</td>\n",
       "    </tr>\n",
       "    <tr>\n",
       "      <th>3</th>\n",
       "      <td>1</td>\n",
       "      <td>3</td>\n",
       "      <td>0</td>\n",
       "      <td>2</td>\n",
       "      <td>4</td>\n",
       "      <td>3</td>\n",
       "      <td>4</td>\n",
       "      <td>2</td>\n",
       "      <td>1</td>\n",
       "      <td>4</td>\n",
       "      <td>...</td>\n",
       "      <td>0</td>\n",
       "      <td>0</td>\n",
       "      <td>0</td>\n",
       "      <td>6</td>\n",
       "      <td>0</td>\n",
       "      <td>0</td>\n",
       "      <td>2</td>\n",
       "      <td>2</td>\n",
       "      <td>4</td>\n",
       "      <td>0</td>\n",
       "    </tr>\n",
       "    <tr>\n",
       "      <th>4</th>\n",
       "      <td>0</td>\n",
       "      <td>1</td>\n",
       "      <td>3</td>\n",
       "      <td>5</td>\n",
       "      <td>1</td>\n",
       "      <td>0</td>\n",
       "      <td>0</td>\n",
       "      <td>3</td>\n",
       "      <td>0</td>\n",
       "      <td>2</td>\n",
       "      <td>...</td>\n",
       "      <td>0</td>\n",
       "      <td>4</td>\n",
       "      <td>0</td>\n",
       "      <td>1</td>\n",
       "      <td>3</td>\n",
       "      <td>1</td>\n",
       "      <td>0</td>\n",
       "      <td>7</td>\n",
       "      <td>1</td>\n",
       "      <td>5</td>\n",
       "    </tr>\n",
       "    <tr>\n",
       "      <th>5</th>\n",
       "      <td>0</td>\n",
       "      <td>2</td>\n",
       "      <td>2</td>\n",
       "      <td>0</td>\n",
       "      <td>6</td>\n",
       "      <td>0</td>\n",
       "      <td>0</td>\n",
       "      <td>3</td>\n",
       "      <td>2</td>\n",
       "      <td>4</td>\n",
       "      <td>...</td>\n",
       "      <td>4</td>\n",
       "      <td>7</td>\n",
       "      <td>1</td>\n",
       "      <td>0</td>\n",
       "      <td>0</td>\n",
       "      <td>0</td>\n",
       "      <td>6</td>\n",
       "      <td>2</td>\n",
       "      <td>5</td>\n",
       "      <td>0</td>\n",
       "    </tr>\n",
       "    <tr>\n",
       "      <th>6</th>\n",
       "      <td>5</td>\n",
       "      <td>3</td>\n",
       "      <td>0</td>\n",
       "      <td>3</td>\n",
       "      <td>1</td>\n",
       "      <td>0</td>\n",
       "      <td>0</td>\n",
       "      <td>2</td>\n",
       "      <td>1</td>\n",
       "      <td>0</td>\n",
       "      <td>...</td>\n",
       "      <td>0</td>\n",
       "      <td>4</td>\n",
       "      <td>7</td>\n",
       "      <td>1</td>\n",
       "      <td>0</td>\n",
       "      <td>0</td>\n",
       "      <td>4</td>\n",
       "      <td>1</td>\n",
       "      <td>0</td>\n",
       "      <td>1</td>\n",
       "    </tr>\n",
       "    <tr>\n",
       "      <th>7</th>\n",
       "      <td>3</td>\n",
       "      <td>4</td>\n",
       "      <td>0</td>\n",
       "      <td>2</td>\n",
       "      <td>0</td>\n",
       "      <td>0</td>\n",
       "      <td>0</td>\n",
       "      <td>7</td>\n",
       "      <td>0</td>\n",
       "      <td>2</td>\n",
       "      <td>...</td>\n",
       "      <td>1</td>\n",
       "      <td>1</td>\n",
       "      <td>6</td>\n",
       "      <td>1</td>\n",
       "      <td>0</td>\n",
       "      <td>1</td>\n",
       "      <td>6</td>\n",
       "      <td>6</td>\n",
       "      <td>0</td>\n",
       "      <td>0</td>\n",
       "    </tr>\n",
       "    <tr>\n",
       "      <th>8</th>\n",
       "      <td>4</td>\n",
       "      <td>0</td>\n",
       "      <td>0</td>\n",
       "      <td>0</td>\n",
       "      <td>0</td>\n",
       "      <td>6</td>\n",
       "      <td>0</td>\n",
       "      <td>0</td>\n",
       "      <td>3</td>\n",
       "      <td>0</td>\n",
       "      <td>...</td>\n",
       "      <td>3</td>\n",
       "      <td>7</td>\n",
       "      <td>0</td>\n",
       "      <td>2</td>\n",
       "      <td>0</td>\n",
       "      <td>1</td>\n",
       "      <td>0</td>\n",
       "      <td>3</td>\n",
       "      <td>3</td>\n",
       "      <td>0</td>\n",
       "    </tr>\n",
       "    <tr>\n",
       "      <th>9</th>\n",
       "      <td>0</td>\n",
       "      <td>3</td>\n",
       "      <td>1</td>\n",
       "      <td>0</td>\n",
       "      <td>1</td>\n",
       "      <td>0</td>\n",
       "      <td>5</td>\n",
       "      <td>0</td>\n",
       "      <td>0</td>\n",
       "      <td>5</td>\n",
       "      <td>...</td>\n",
       "      <td>1</td>\n",
       "      <td>3</td>\n",
       "      <td>1</td>\n",
       "      <td>6</td>\n",
       "      <td>1</td>\n",
       "      <td>0</td>\n",
       "      <td>6</td>\n",
       "      <td>0</td>\n",
       "      <td>7</td>\n",
       "      <td>0</td>\n",
       "    </tr>\n",
       "    <tr>\n",
       "      <th>10</th>\n",
       "      <td>2</td>\n",
       "      <td>4</td>\n",
       "      <td>6</td>\n",
       "      <td>2</td>\n",
       "      <td>1</td>\n",
       "      <td>5</td>\n",
       "      <td>7</td>\n",
       "      <td>0</td>\n",
       "      <td>2</td>\n",
       "      <td>0</td>\n",
       "      <td>...</td>\n",
       "      <td>1</td>\n",
       "      <td>2</td>\n",
       "      <td>1</td>\n",
       "      <td>2</td>\n",
       "      <td>0</td>\n",
       "      <td>0</td>\n",
       "      <td>1</td>\n",
       "      <td>0</td>\n",
       "      <td>0</td>\n",
       "      <td>0</td>\n",
       "    </tr>\n",
       "    <tr>\n",
       "      <th>11</th>\n",
       "      <td>0</td>\n",
       "      <td>0</td>\n",
       "      <td>7</td>\n",
       "      <td>2</td>\n",
       "      <td>5</td>\n",
       "      <td>2</td>\n",
       "      <td>0</td>\n",
       "      <td>0</td>\n",
       "      <td>0</td>\n",
       "      <td>1</td>\n",
       "      <td>...</td>\n",
       "      <td>6</td>\n",
       "      <td>5</td>\n",
       "      <td>6</td>\n",
       "      <td>4</td>\n",
       "      <td>0</td>\n",
       "      <td>0</td>\n",
       "      <td>0</td>\n",
       "      <td>0</td>\n",
       "      <td>1</td>\n",
       "      <td>1</td>\n",
       "    </tr>\n",
       "    <tr>\n",
       "      <th>12</th>\n",
       "      <td>0</td>\n",
       "      <td>2</td>\n",
       "      <td>5</td>\n",
       "      <td>0</td>\n",
       "      <td>0</td>\n",
       "      <td>0</td>\n",
       "      <td>7</td>\n",
       "      <td>0</td>\n",
       "      <td>5</td>\n",
       "      <td>0</td>\n",
       "      <td>...</td>\n",
       "      <td>3</td>\n",
       "      <td>2</td>\n",
       "      <td>0</td>\n",
       "      <td>0</td>\n",
       "      <td>4</td>\n",
       "      <td>4</td>\n",
       "      <td>1</td>\n",
       "      <td>3</td>\n",
       "      <td>1</td>\n",
       "      <td>5</td>\n",
       "    </tr>\n",
       "    <tr>\n",
       "      <th>13</th>\n",
       "      <td>0</td>\n",
       "      <td>1</td>\n",
       "      <td>0</td>\n",
       "      <td>0</td>\n",
       "      <td>0</td>\n",
       "      <td>0</td>\n",
       "      <td>7</td>\n",
       "      <td>0</td>\n",
       "      <td>3</td>\n",
       "      <td>0</td>\n",
       "      <td>...</td>\n",
       "      <td>5</td>\n",
       "      <td>0</td>\n",
       "      <td>2</td>\n",
       "      <td>1</td>\n",
       "      <td>5</td>\n",
       "      <td>5</td>\n",
       "      <td>2</td>\n",
       "      <td>5</td>\n",
       "      <td>1</td>\n",
       "      <td>6</td>\n",
       "    </tr>\n",
       "    <tr>\n",
       "      <th>14</th>\n",
       "      <td>1</td>\n",
       "      <td>4</td>\n",
       "      <td>0</td>\n",
       "      <td>5</td>\n",
       "      <td>0</td>\n",
       "      <td>5</td>\n",
       "      <td>1</td>\n",
       "      <td>0</td>\n",
       "      <td>6</td>\n",
       "      <td>0</td>\n",
       "      <td>...</td>\n",
       "      <td>4</td>\n",
       "      <td>5</td>\n",
       "      <td>0</td>\n",
       "      <td>4</td>\n",
       "      <td>1</td>\n",
       "      <td>0</td>\n",
       "      <td>3</td>\n",
       "      <td>0</td>\n",
       "      <td>1</td>\n",
       "      <td>0</td>\n",
       "    </tr>\n",
       "    <tr>\n",
       "      <th>15</th>\n",
       "      <td>1</td>\n",
       "      <td>0</td>\n",
       "      <td>6</td>\n",
       "      <td>3</td>\n",
       "      <td>5</td>\n",
       "      <td>3</td>\n",
       "      <td>4</td>\n",
       "      <td>4</td>\n",
       "      <td>0</td>\n",
       "      <td>1</td>\n",
       "      <td>...</td>\n",
       "      <td>2</td>\n",
       "      <td>0</td>\n",
       "      <td>0</td>\n",
       "      <td>0</td>\n",
       "      <td>6</td>\n",
       "      <td>0</td>\n",
       "      <td>4</td>\n",
       "      <td>6</td>\n",
       "      <td>2</td>\n",
       "      <td>0</td>\n",
       "    </tr>\n",
       "    <tr>\n",
       "      <th>16</th>\n",
       "      <td>0</td>\n",
       "      <td>7</td>\n",
       "      <td>0</td>\n",
       "      <td>5</td>\n",
       "      <td>2</td>\n",
       "      <td>2</td>\n",
       "      <td>6</td>\n",
       "      <td>1</td>\n",
       "      <td>0</td>\n",
       "      <td>0</td>\n",
       "      <td>...</td>\n",
       "      <td>0</td>\n",
       "      <td>4</td>\n",
       "      <td>0</td>\n",
       "      <td>0</td>\n",
       "      <td>0</td>\n",
       "      <td>0</td>\n",
       "      <td>1</td>\n",
       "      <td>5</td>\n",
       "      <td>0</td>\n",
       "      <td>0</td>\n",
       "    </tr>\n",
       "    <tr>\n",
       "      <th>17</th>\n",
       "      <td>4</td>\n",
       "      <td>4</td>\n",
       "      <td>5</td>\n",
       "      <td>1</td>\n",
       "      <td>0</td>\n",
       "      <td>3</td>\n",
       "      <td>2</td>\n",
       "      <td>2</td>\n",
       "      <td>7</td>\n",
       "      <td>5</td>\n",
       "      <td>...</td>\n",
       "      <td>1</td>\n",
       "      <td>1</td>\n",
       "      <td>0</td>\n",
       "      <td>0</td>\n",
       "      <td>0</td>\n",
       "      <td>0</td>\n",
       "      <td>0</td>\n",
       "      <td>1</td>\n",
       "      <td>2</td>\n",
       "      <td>3</td>\n",
       "    </tr>\n",
       "    <tr>\n",
       "      <th>18</th>\n",
       "      <td>0</td>\n",
       "      <td>0</td>\n",
       "      <td>0</td>\n",
       "      <td>0</td>\n",
       "      <td>0</td>\n",
       "      <td>1</td>\n",
       "      <td>0</td>\n",
       "      <td>6</td>\n",
       "      <td>0</td>\n",
       "      <td>2</td>\n",
       "      <td>...</td>\n",
       "      <td>4</td>\n",
       "      <td>2</td>\n",
       "      <td>1</td>\n",
       "      <td>0</td>\n",
       "      <td>0</td>\n",
       "      <td>0</td>\n",
       "      <td>3</td>\n",
       "      <td>3</td>\n",
       "      <td>0</td>\n",
       "      <td>4</td>\n",
       "    </tr>\n",
       "    <tr>\n",
       "      <th>19</th>\n",
       "      <td>4</td>\n",
       "      <td>0</td>\n",
       "      <td>0</td>\n",
       "      <td>0</td>\n",
       "      <td>0</td>\n",
       "      <td>4</td>\n",
       "      <td>0</td>\n",
       "      <td>0</td>\n",
       "      <td>3</td>\n",
       "      <td>2</td>\n",
       "      <td>...</td>\n",
       "      <td>0</td>\n",
       "      <td>3</td>\n",
       "      <td>0</td>\n",
       "      <td>0</td>\n",
       "      <td>0</td>\n",
       "      <td>6</td>\n",
       "      <td>0</td>\n",
       "      <td>3</td>\n",
       "      <td>4</td>\n",
       "      <td>4</td>\n",
       "    </tr>\n",
       "    <tr>\n",
       "      <th>20</th>\n",
       "      <td>0</td>\n",
       "      <td>0</td>\n",
       "      <td>4</td>\n",
       "      <td>0</td>\n",
       "      <td>2</td>\n",
       "      <td>5</td>\n",
       "      <td>4</td>\n",
       "      <td>7</td>\n",
       "      <td>0</td>\n",
       "      <td>0</td>\n",
       "      <td>...</td>\n",
       "      <td>2</td>\n",
       "      <td>0</td>\n",
       "      <td>1</td>\n",
       "      <td>0</td>\n",
       "      <td>5</td>\n",
       "      <td>6</td>\n",
       "      <td>0</td>\n",
       "      <td>2</td>\n",
       "      <td>0</td>\n",
       "      <td>0</td>\n",
       "    </tr>\n",
       "    <tr>\n",
       "      <th>21</th>\n",
       "      <td>0</td>\n",
       "      <td>2</td>\n",
       "      <td>0</td>\n",
       "      <td>3</td>\n",
       "      <td>0</td>\n",
       "      <td>7</td>\n",
       "      <td>0</td>\n",
       "      <td>0</td>\n",
       "      <td>0</td>\n",
       "      <td>0</td>\n",
       "      <td>...</td>\n",
       "      <td>0</td>\n",
       "      <td>0</td>\n",
       "      <td>1</td>\n",
       "      <td>0</td>\n",
       "      <td>3</td>\n",
       "      <td>1</td>\n",
       "      <td>0</td>\n",
       "      <td>0</td>\n",
       "      <td>1</td>\n",
       "      <td>5</td>\n",
       "    </tr>\n",
       "    <tr>\n",
       "      <th>22</th>\n",
       "      <td>0</td>\n",
       "      <td>0</td>\n",
       "      <td>0</td>\n",
       "      <td>1</td>\n",
       "      <td>0</td>\n",
       "      <td>0</td>\n",
       "      <td>0</td>\n",
       "      <td>0</td>\n",
       "      <td>5</td>\n",
       "      <td>1</td>\n",
       "      <td>...</td>\n",
       "      <td>0</td>\n",
       "      <td>0</td>\n",
       "      <td>0</td>\n",
       "      <td>0</td>\n",
       "      <td>3</td>\n",
       "      <td>0</td>\n",
       "      <td>0</td>\n",
       "      <td>3</td>\n",
       "      <td>0</td>\n",
       "      <td>0</td>\n",
       "    </tr>\n",
       "    <tr>\n",
       "      <th>23</th>\n",
       "      <td>0</td>\n",
       "      <td>0</td>\n",
       "      <td>0</td>\n",
       "      <td>0</td>\n",
       "      <td>0</td>\n",
       "      <td>0</td>\n",
       "      <td>2</td>\n",
       "      <td>7</td>\n",
       "      <td>0</td>\n",
       "      <td>0</td>\n",
       "      <td>...</td>\n",
       "      <td>0</td>\n",
       "      <td>2</td>\n",
       "      <td>3</td>\n",
       "      <td>1</td>\n",
       "      <td>0</td>\n",
       "      <td>0</td>\n",
       "      <td>6</td>\n",
       "      <td>4</td>\n",
       "      <td>1</td>\n",
       "      <td>0</td>\n",
       "    </tr>\n",
       "    <tr>\n",
       "      <th>24</th>\n",
       "      <td>2</td>\n",
       "      <td>3</td>\n",
       "      <td>0</td>\n",
       "      <td>3</td>\n",
       "      <td>0</td>\n",
       "      <td>3</td>\n",
       "      <td>3</td>\n",
       "      <td>2</td>\n",
       "      <td>4</td>\n",
       "      <td>0</td>\n",
       "      <td>...</td>\n",
       "      <td>0</td>\n",
       "      <td>0</td>\n",
       "      <td>0</td>\n",
       "      <td>0</td>\n",
       "      <td>1</td>\n",
       "      <td>1</td>\n",
       "      <td>3</td>\n",
       "      <td>0</td>\n",
       "      <td>3</td>\n",
       "      <td>5</td>\n",
       "    </tr>\n",
       "    <tr>\n",
       "      <th>25</th>\n",
       "      <td>0</td>\n",
       "      <td>6</td>\n",
       "      <td>0</td>\n",
       "      <td>0</td>\n",
       "      <td>0</td>\n",
       "      <td>0</td>\n",
       "      <td>2</td>\n",
       "      <td>0</td>\n",
       "      <td>5</td>\n",
       "      <td>1</td>\n",
       "      <td>...</td>\n",
       "      <td>3</td>\n",
       "      <td>2</td>\n",
       "      <td>0</td>\n",
       "      <td>2</td>\n",
       "      <td>2</td>\n",
       "      <td>3</td>\n",
       "      <td>1</td>\n",
       "      <td>1</td>\n",
       "      <td>1</td>\n",
       "      <td>2</td>\n",
       "    </tr>\n",
       "    <tr>\n",
       "      <th>26</th>\n",
       "      <td>1</td>\n",
       "      <td>3</td>\n",
       "      <td>1</td>\n",
       "      <td>0</td>\n",
       "      <td>0</td>\n",
       "      <td>0</td>\n",
       "      <td>3</td>\n",
       "      <td>4</td>\n",
       "      <td>1</td>\n",
       "      <td>0</td>\n",
       "      <td>...</td>\n",
       "      <td>0</td>\n",
       "      <td>0</td>\n",
       "      <td>1</td>\n",
       "      <td>6</td>\n",
       "      <td>3</td>\n",
       "      <td>1</td>\n",
       "      <td>1</td>\n",
       "      <td>0</td>\n",
       "      <td>0</td>\n",
       "      <td>2</td>\n",
       "    </tr>\n",
       "    <tr>\n",
       "      <th>27</th>\n",
       "      <td>0</td>\n",
       "      <td>7</td>\n",
       "      <td>1</td>\n",
       "      <td>5</td>\n",
       "      <td>1</td>\n",
       "      <td>3</td>\n",
       "      <td>2</td>\n",
       "      <td>0</td>\n",
       "      <td>3</td>\n",
       "      <td>0</td>\n",
       "      <td>...</td>\n",
       "      <td>1</td>\n",
       "      <td>3</td>\n",
       "      <td>1</td>\n",
       "      <td>0</td>\n",
       "      <td>6</td>\n",
       "      <td>1</td>\n",
       "      <td>5</td>\n",
       "      <td>1</td>\n",
       "      <td>4</td>\n",
       "      <td>2</td>\n",
       "    </tr>\n",
       "    <tr>\n",
       "      <th>28</th>\n",
       "      <td>0</td>\n",
       "      <td>0</td>\n",
       "      <td>7</td>\n",
       "      <td>0</td>\n",
       "      <td>2</td>\n",
       "      <td>0</td>\n",
       "      <td>0</td>\n",
       "      <td>0</td>\n",
       "      <td>3</td>\n",
       "      <td>0</td>\n",
       "      <td>...</td>\n",
       "      <td>0</td>\n",
       "      <td>1</td>\n",
       "      <td>0</td>\n",
       "      <td>0</td>\n",
       "      <td>0</td>\n",
       "      <td>0</td>\n",
       "      <td>0</td>\n",
       "      <td>0</td>\n",
       "      <td>2</td>\n",
       "      <td>0</td>\n",
       "    </tr>\n",
       "    <tr>\n",
       "      <th>29</th>\n",
       "      <td>0</td>\n",
       "      <td>0</td>\n",
       "      <td>3</td>\n",
       "      <td>3</td>\n",
       "      <td>4</td>\n",
       "      <td>5</td>\n",
       "      <td>0</td>\n",
       "      <td>0</td>\n",
       "      <td>0</td>\n",
       "      <td>1</td>\n",
       "      <td>...</td>\n",
       "      <td>0</td>\n",
       "      <td>0</td>\n",
       "      <td>3</td>\n",
       "      <td>2</td>\n",
       "      <td>4</td>\n",
       "      <td>4</td>\n",
       "      <td>6</td>\n",
       "      <td>6</td>\n",
       "      <td>5</td>\n",
       "      <td>2</td>\n",
       "    </tr>\n",
       "    <tr>\n",
       "      <th>...</th>\n",
       "      <td>...</td>\n",
       "      <td>...</td>\n",
       "      <td>...</td>\n",
       "      <td>...</td>\n",
       "      <td>...</td>\n",
       "      <td>...</td>\n",
       "      <td>...</td>\n",
       "      <td>...</td>\n",
       "      <td>...</td>\n",
       "      <td>...</td>\n",
       "      <td>...</td>\n",
       "      <td>...</td>\n",
       "      <td>...</td>\n",
       "      <td>...</td>\n",
       "      <td>...</td>\n",
       "      <td>...</td>\n",
       "      <td>...</td>\n",
       "      <td>...</td>\n",
       "      <td>...</td>\n",
       "      <td>...</td>\n",
       "      <td>...</td>\n",
       "    </tr>\n",
       "    <tr>\n",
       "      <th>69</th>\n",
       "      <td>2</td>\n",
       "      <td>0</td>\n",
       "      <td>4</td>\n",
       "      <td>0</td>\n",
       "      <td>7</td>\n",
       "      <td>5</td>\n",
       "      <td>3</td>\n",
       "      <td>0</td>\n",
       "      <td>0</td>\n",
       "      <td>0</td>\n",
       "      <td>...</td>\n",
       "      <td>7</td>\n",
       "      <td>0</td>\n",
       "      <td>0</td>\n",
       "      <td>0</td>\n",
       "      <td>2</td>\n",
       "      <td>1</td>\n",
       "      <td>0</td>\n",
       "      <td>0</td>\n",
       "      <td>1</td>\n",
       "      <td>5</td>\n",
       "    </tr>\n",
       "    <tr>\n",
       "      <th>70</th>\n",
       "      <td>3</td>\n",
       "      <td>0</td>\n",
       "      <td>1</td>\n",
       "      <td>4</td>\n",
       "      <td>0</td>\n",
       "      <td>0</td>\n",
       "      <td>0</td>\n",
       "      <td>0</td>\n",
       "      <td>0</td>\n",
       "      <td>0</td>\n",
       "      <td>...</td>\n",
       "      <td>1</td>\n",
       "      <td>0</td>\n",
       "      <td>0</td>\n",
       "      <td>1</td>\n",
       "      <td>6</td>\n",
       "      <td>0</td>\n",
       "      <td>1</td>\n",
       "      <td>0</td>\n",
       "      <td>1</td>\n",
       "      <td>0</td>\n",
       "    </tr>\n",
       "    <tr>\n",
       "      <th>71</th>\n",
       "      <td>3</td>\n",
       "      <td>6</td>\n",
       "      <td>7</td>\n",
       "      <td>0</td>\n",
       "      <td>0</td>\n",
       "      <td>0</td>\n",
       "      <td>1</td>\n",
       "      <td>0</td>\n",
       "      <td>3</td>\n",
       "      <td>0</td>\n",
       "      <td>...</td>\n",
       "      <td>0</td>\n",
       "      <td>0</td>\n",
       "      <td>3</td>\n",
       "      <td>0</td>\n",
       "      <td>5</td>\n",
       "      <td>0</td>\n",
       "      <td>0</td>\n",
       "      <td>1</td>\n",
       "      <td>1</td>\n",
       "      <td>0</td>\n",
       "    </tr>\n",
       "    <tr>\n",
       "      <th>72</th>\n",
       "      <td>1</td>\n",
       "      <td>0</td>\n",
       "      <td>1</td>\n",
       "      <td>2</td>\n",
       "      <td>0</td>\n",
       "      <td>7</td>\n",
       "      <td>4</td>\n",
       "      <td>0</td>\n",
       "      <td>0</td>\n",
       "      <td>0</td>\n",
       "      <td>...</td>\n",
       "      <td>1</td>\n",
       "      <td>5</td>\n",
       "      <td>6</td>\n",
       "      <td>0</td>\n",
       "      <td>0</td>\n",
       "      <td>0</td>\n",
       "      <td>1</td>\n",
       "      <td>5</td>\n",
       "      <td>0</td>\n",
       "      <td>1</td>\n",
       "    </tr>\n",
       "    <tr>\n",
       "      <th>73</th>\n",
       "      <td>4</td>\n",
       "      <td>2</td>\n",
       "      <td>0</td>\n",
       "      <td>6</td>\n",
       "      <td>0</td>\n",
       "      <td>0</td>\n",
       "      <td>2</td>\n",
       "      <td>0</td>\n",
       "      <td>6</td>\n",
       "      <td>6</td>\n",
       "      <td>...</td>\n",
       "      <td>4</td>\n",
       "      <td>2</td>\n",
       "      <td>1</td>\n",
       "      <td>2</td>\n",
       "      <td>0</td>\n",
       "      <td>2</td>\n",
       "      <td>4</td>\n",
       "      <td>1</td>\n",
       "      <td>2</td>\n",
       "      <td>2</td>\n",
       "    </tr>\n",
       "    <tr>\n",
       "      <th>74</th>\n",
       "      <td>4</td>\n",
       "      <td>1</td>\n",
       "      <td>1</td>\n",
       "      <td>0</td>\n",
       "      <td>3</td>\n",
       "      <td>0</td>\n",
       "      <td>1</td>\n",
       "      <td>2</td>\n",
       "      <td>4</td>\n",
       "      <td>5</td>\n",
       "      <td>...</td>\n",
       "      <td>4</td>\n",
       "      <td>6</td>\n",
       "      <td>1</td>\n",
       "      <td>1</td>\n",
       "      <td>4</td>\n",
       "      <td>0</td>\n",
       "      <td>3</td>\n",
       "      <td>4</td>\n",
       "      <td>0</td>\n",
       "      <td>5</td>\n",
       "    </tr>\n",
       "    <tr>\n",
       "      <th>75</th>\n",
       "      <td>0</td>\n",
       "      <td>0</td>\n",
       "      <td>0</td>\n",
       "      <td>2</td>\n",
       "      <td>1</td>\n",
       "      <td>0</td>\n",
       "      <td>3</td>\n",
       "      <td>0</td>\n",
       "      <td>4</td>\n",
       "      <td>0</td>\n",
       "      <td>...</td>\n",
       "      <td>0</td>\n",
       "      <td>5</td>\n",
       "      <td>1</td>\n",
       "      <td>0</td>\n",
       "      <td>0</td>\n",
       "      <td>0</td>\n",
       "      <td>0</td>\n",
       "      <td>5</td>\n",
       "      <td>2</td>\n",
       "      <td>5</td>\n",
       "    </tr>\n",
       "    <tr>\n",
       "      <th>76</th>\n",
       "      <td>3</td>\n",
       "      <td>5</td>\n",
       "      <td>5</td>\n",
       "      <td>0</td>\n",
       "      <td>6</td>\n",
       "      <td>0</td>\n",
       "      <td>0</td>\n",
       "      <td>0</td>\n",
       "      <td>0</td>\n",
       "      <td>7</td>\n",
       "      <td>...</td>\n",
       "      <td>0</td>\n",
       "      <td>1</td>\n",
       "      <td>6</td>\n",
       "      <td>0</td>\n",
       "      <td>0</td>\n",
       "      <td>0</td>\n",
       "      <td>0</td>\n",
       "      <td>0</td>\n",
       "      <td>0</td>\n",
       "      <td>3</td>\n",
       "    </tr>\n",
       "    <tr>\n",
       "      <th>77</th>\n",
       "      <td>0</td>\n",
       "      <td>2</td>\n",
       "      <td>5</td>\n",
       "      <td>1</td>\n",
       "      <td>7</td>\n",
       "      <td>0</td>\n",
       "      <td>2</td>\n",
       "      <td>4</td>\n",
       "      <td>0</td>\n",
       "      <td>3</td>\n",
       "      <td>...</td>\n",
       "      <td>0</td>\n",
       "      <td>0</td>\n",
       "      <td>4</td>\n",
       "      <td>8</td>\n",
       "      <td>3</td>\n",
       "      <td>0</td>\n",
       "      <td>0</td>\n",
       "      <td>0</td>\n",
       "      <td>0</td>\n",
       "      <td>0</td>\n",
       "    </tr>\n",
       "    <tr>\n",
       "      <th>78</th>\n",
       "      <td>5</td>\n",
       "      <td>1</td>\n",
       "      <td>5</td>\n",
       "      <td>0</td>\n",
       "      <td>0</td>\n",
       "      <td>1</td>\n",
       "      <td>0</td>\n",
       "      <td>7</td>\n",
       "      <td>0</td>\n",
       "      <td>0</td>\n",
       "      <td>...</td>\n",
       "      <td>0</td>\n",
       "      <td>5</td>\n",
       "      <td>0</td>\n",
       "      <td>1</td>\n",
       "      <td>0</td>\n",
       "      <td>0</td>\n",
       "      <td>2</td>\n",
       "      <td>3</td>\n",
       "      <td>0</td>\n",
       "      <td>0</td>\n",
       "    </tr>\n",
       "    <tr>\n",
       "      <th>79</th>\n",
       "      <td>1</td>\n",
       "      <td>5</td>\n",
       "      <td>2</td>\n",
       "      <td>0</td>\n",
       "      <td>3</td>\n",
       "      <td>1</td>\n",
       "      <td>2</td>\n",
       "      <td>2</td>\n",
       "      <td>1</td>\n",
       "      <td>6</td>\n",
       "      <td>...</td>\n",
       "      <td>4</td>\n",
       "      <td>0</td>\n",
       "      <td>4</td>\n",
       "      <td>3</td>\n",
       "      <td>1</td>\n",
       "      <td>2</td>\n",
       "      <td>0</td>\n",
       "      <td>1</td>\n",
       "      <td>0</td>\n",
       "      <td>7</td>\n",
       "    </tr>\n",
       "    <tr>\n",
       "      <th>80</th>\n",
       "      <td>0</td>\n",
       "      <td>7</td>\n",
       "      <td>0</td>\n",
       "      <td>0</td>\n",
       "      <td>0</td>\n",
       "      <td>0</td>\n",
       "      <td>0</td>\n",
       "      <td>4</td>\n",
       "      <td>0</td>\n",
       "      <td>0</td>\n",
       "      <td>...</td>\n",
       "      <td>0</td>\n",
       "      <td>6</td>\n",
       "      <td>0</td>\n",
       "      <td>0</td>\n",
       "      <td>1</td>\n",
       "      <td>4</td>\n",
       "      <td>0</td>\n",
       "      <td>5</td>\n",
       "      <td>0</td>\n",
       "      <td>6</td>\n",
       "    </tr>\n",
       "    <tr>\n",
       "      <th>81</th>\n",
       "      <td>2</td>\n",
       "      <td>0</td>\n",
       "      <td>0</td>\n",
       "      <td>0</td>\n",
       "      <td>5</td>\n",
       "      <td>0</td>\n",
       "      <td>0</td>\n",
       "      <td>0</td>\n",
       "      <td>0</td>\n",
       "      <td>5</td>\n",
       "      <td>...</td>\n",
       "      <td>4</td>\n",
       "      <td>4</td>\n",
       "      <td>5</td>\n",
       "      <td>1</td>\n",
       "      <td>3</td>\n",
       "      <td>7</td>\n",
       "      <td>4</td>\n",
       "      <td>1</td>\n",
       "      <td>0</td>\n",
       "      <td>4</td>\n",
       "    </tr>\n",
       "    <tr>\n",
       "      <th>82</th>\n",
       "      <td>0</td>\n",
       "      <td>0</td>\n",
       "      <td>4</td>\n",
       "      <td>0</td>\n",
       "      <td>1</td>\n",
       "      <td>2</td>\n",
       "      <td>1</td>\n",
       "      <td>0</td>\n",
       "      <td>1</td>\n",
       "      <td>0</td>\n",
       "      <td>...</td>\n",
       "      <td>6</td>\n",
       "      <td>0</td>\n",
       "      <td>2</td>\n",
       "      <td>6</td>\n",
       "      <td>0</td>\n",
       "      <td>5</td>\n",
       "      <td>3</td>\n",
       "      <td>0</td>\n",
       "      <td>3</td>\n",
       "      <td>4</td>\n",
       "    </tr>\n",
       "    <tr>\n",
       "      <th>83</th>\n",
       "      <td>0</td>\n",
       "      <td>0</td>\n",
       "      <td>0</td>\n",
       "      <td>7</td>\n",
       "      <td>0</td>\n",
       "      <td>0</td>\n",
       "      <td>2</td>\n",
       "      <td>1</td>\n",
       "      <td>6</td>\n",
       "      <td>3</td>\n",
       "      <td>...</td>\n",
       "      <td>0</td>\n",
       "      <td>3</td>\n",
       "      <td>0</td>\n",
       "      <td>0</td>\n",
       "      <td>0</td>\n",
       "      <td>6</td>\n",
       "      <td>0</td>\n",
       "      <td>4</td>\n",
       "      <td>2</td>\n",
       "      <td>0</td>\n",
       "    </tr>\n",
       "    <tr>\n",
       "      <th>84</th>\n",
       "      <td>1</td>\n",
       "      <td>6</td>\n",
       "      <td>3</td>\n",
       "      <td>1</td>\n",
       "      <td>3</td>\n",
       "      <td>2</td>\n",
       "      <td>3</td>\n",
       "      <td>1</td>\n",
       "      <td>4</td>\n",
       "      <td>2</td>\n",
       "      <td>...</td>\n",
       "      <td>4</td>\n",
       "      <td>2</td>\n",
       "      <td>1</td>\n",
       "      <td>7</td>\n",
       "      <td>8</td>\n",
       "      <td>3</td>\n",
       "      <td>0</td>\n",
       "      <td>2</td>\n",
       "      <td>7</td>\n",
       "      <td>1</td>\n",
       "    </tr>\n",
       "    <tr>\n",
       "      <th>85</th>\n",
       "      <td>0</td>\n",
       "      <td>1</td>\n",
       "      <td>1</td>\n",
       "      <td>1</td>\n",
       "      <td>0</td>\n",
       "      <td>0</td>\n",
       "      <td>5</td>\n",
       "      <td>0</td>\n",
       "      <td>0</td>\n",
       "      <td>1</td>\n",
       "      <td>...</td>\n",
       "      <td>0</td>\n",
       "      <td>6</td>\n",
       "      <td>4</td>\n",
       "      <td>3</td>\n",
       "      <td>0</td>\n",
       "      <td>0</td>\n",
       "      <td>0</td>\n",
       "      <td>1</td>\n",
       "      <td>3</td>\n",
       "      <td>5</td>\n",
       "    </tr>\n",
       "    <tr>\n",
       "      <th>86</th>\n",
       "      <td>0</td>\n",
       "      <td>0</td>\n",
       "      <td>3</td>\n",
       "      <td>1</td>\n",
       "      <td>7</td>\n",
       "      <td>0</td>\n",
       "      <td>1</td>\n",
       "      <td>0</td>\n",
       "      <td>2</td>\n",
       "      <td>0</td>\n",
       "      <td>...</td>\n",
       "      <td>1</td>\n",
       "      <td>6</td>\n",
       "      <td>6</td>\n",
       "      <td>1</td>\n",
       "      <td>4</td>\n",
       "      <td>3</td>\n",
       "      <td>2</td>\n",
       "      <td>0</td>\n",
       "      <td>0</td>\n",
       "      <td>1</td>\n",
       "    </tr>\n",
       "    <tr>\n",
       "      <th>87</th>\n",
       "      <td>2</td>\n",
       "      <td>0</td>\n",
       "      <td>0</td>\n",
       "      <td>6</td>\n",
       "      <td>5</td>\n",
       "      <td>0</td>\n",
       "      <td>3</td>\n",
       "      <td>0</td>\n",
       "      <td>0</td>\n",
       "      <td>2</td>\n",
       "      <td>...</td>\n",
       "      <td>3</td>\n",
       "      <td>0</td>\n",
       "      <td>7</td>\n",
       "      <td>0</td>\n",
       "      <td>0</td>\n",
       "      <td>1</td>\n",
       "      <td>3</td>\n",
       "      <td>1</td>\n",
       "      <td>6</td>\n",
       "      <td>0</td>\n",
       "    </tr>\n",
       "    <tr>\n",
       "      <th>88</th>\n",
       "      <td>1</td>\n",
       "      <td>3</td>\n",
       "      <td>0</td>\n",
       "      <td>2</td>\n",
       "      <td>0</td>\n",
       "      <td>6</td>\n",
       "      <td>2</td>\n",
       "      <td>2</td>\n",
       "      <td>2</td>\n",
       "      <td>6</td>\n",
       "      <td>...</td>\n",
       "      <td>0</td>\n",
       "      <td>6</td>\n",
       "      <td>7</td>\n",
       "      <td>4</td>\n",
       "      <td>7</td>\n",
       "      <td>7</td>\n",
       "      <td>1</td>\n",
       "      <td>2</td>\n",
       "      <td>2</td>\n",
       "      <td>0</td>\n",
       "    </tr>\n",
       "    <tr>\n",
       "      <th>89</th>\n",
       "      <td>0</td>\n",
       "      <td>0</td>\n",
       "      <td>4</td>\n",
       "      <td>0</td>\n",
       "      <td>6</td>\n",
       "      <td>2</td>\n",
       "      <td>4</td>\n",
       "      <td>6</td>\n",
       "      <td>0</td>\n",
       "      <td>6</td>\n",
       "      <td>...</td>\n",
       "      <td>5</td>\n",
       "      <td>1</td>\n",
       "      <td>4</td>\n",
       "      <td>4</td>\n",
       "      <td>2</td>\n",
       "      <td>3</td>\n",
       "      <td>0</td>\n",
       "      <td>0</td>\n",
       "      <td>7</td>\n",
       "      <td>5</td>\n",
       "    </tr>\n",
       "    <tr>\n",
       "      <th>90</th>\n",
       "      <td>0</td>\n",
       "      <td>1</td>\n",
       "      <td>0</td>\n",
       "      <td>0</td>\n",
       "      <td>2</td>\n",
       "      <td>3</td>\n",
       "      <td>2</td>\n",
       "      <td>6</td>\n",
       "      <td>1</td>\n",
       "      <td>0</td>\n",
       "      <td>...</td>\n",
       "      <td>1</td>\n",
       "      <td>0</td>\n",
       "      <td>5</td>\n",
       "      <td>1</td>\n",
       "      <td>5</td>\n",
       "      <td>1</td>\n",
       "      <td>7</td>\n",
       "      <td>5</td>\n",
       "      <td>6</td>\n",
       "      <td>1</td>\n",
       "    </tr>\n",
       "    <tr>\n",
       "      <th>91</th>\n",
       "      <td>0</td>\n",
       "      <td>0</td>\n",
       "      <td>1</td>\n",
       "      <td>1</td>\n",
       "      <td>1</td>\n",
       "      <td>3</td>\n",
       "      <td>6</td>\n",
       "      <td>4</td>\n",
       "      <td>5</td>\n",
       "      <td>3</td>\n",
       "      <td>...</td>\n",
       "      <td>0</td>\n",
       "      <td>1</td>\n",
       "      <td>3</td>\n",
       "      <td>7</td>\n",
       "      <td>0</td>\n",
       "      <td>0</td>\n",
       "      <td>6</td>\n",
       "      <td>0</td>\n",
       "      <td>2</td>\n",
       "      <td>4</td>\n",
       "    </tr>\n",
       "    <tr>\n",
       "      <th>92</th>\n",
       "      <td>7</td>\n",
       "      <td>4</td>\n",
       "      <td>0</td>\n",
       "      <td>0</td>\n",
       "      <td>2</td>\n",
       "      <td>5</td>\n",
       "      <td>1</td>\n",
       "      <td>5</td>\n",
       "      <td>0</td>\n",
       "      <td>5</td>\n",
       "      <td>...</td>\n",
       "      <td>7</td>\n",
       "      <td>0</td>\n",
       "      <td>2</td>\n",
       "      <td>1</td>\n",
       "      <td>5</td>\n",
       "      <td>0</td>\n",
       "      <td>3</td>\n",
       "      <td>6</td>\n",
       "      <td>4</td>\n",
       "      <td>1</td>\n",
       "    </tr>\n",
       "    <tr>\n",
       "      <th>93</th>\n",
       "      <td>6</td>\n",
       "      <td>5</td>\n",
       "      <td>1</td>\n",
       "      <td>0</td>\n",
       "      <td>0</td>\n",
       "      <td>0</td>\n",
       "      <td>2</td>\n",
       "      <td>0</td>\n",
       "      <td>0</td>\n",
       "      <td>3</td>\n",
       "      <td>...</td>\n",
       "      <td>0</td>\n",
       "      <td>1</td>\n",
       "      <td>0</td>\n",
       "      <td>0</td>\n",
       "      <td>0</td>\n",
       "      <td>2</td>\n",
       "      <td>0</td>\n",
       "      <td>1</td>\n",
       "      <td>0</td>\n",
       "      <td>1</td>\n",
       "    </tr>\n",
       "    <tr>\n",
       "      <th>94</th>\n",
       "      <td>5</td>\n",
       "      <td>4</td>\n",
       "      <td>1</td>\n",
       "      <td>0</td>\n",
       "      <td>0</td>\n",
       "      <td>0</td>\n",
       "      <td>0</td>\n",
       "      <td>5</td>\n",
       "      <td>6</td>\n",
       "      <td>0</td>\n",
       "      <td>...</td>\n",
       "      <td>1</td>\n",
       "      <td>6</td>\n",
       "      <td>0</td>\n",
       "      <td>1</td>\n",
       "      <td>0</td>\n",
       "      <td>4</td>\n",
       "      <td>0</td>\n",
       "      <td>0</td>\n",
       "      <td>5</td>\n",
       "      <td>5</td>\n",
       "    </tr>\n",
       "    <tr>\n",
       "      <th>95</th>\n",
       "      <td>5</td>\n",
       "      <td>4</td>\n",
       "      <td>2</td>\n",
       "      <td>5</td>\n",
       "      <td>3</td>\n",
       "      <td>1</td>\n",
       "      <td>0</td>\n",
       "      <td>6</td>\n",
       "      <td>1</td>\n",
       "      <td>5</td>\n",
       "      <td>...</td>\n",
       "      <td>0</td>\n",
       "      <td>1</td>\n",
       "      <td>6</td>\n",
       "      <td>0</td>\n",
       "      <td>2</td>\n",
       "      <td>0</td>\n",
       "      <td>0</td>\n",
       "      <td>7</td>\n",
       "      <td>2</td>\n",
       "      <td>4</td>\n",
       "    </tr>\n",
       "    <tr>\n",
       "      <th>96</th>\n",
       "      <td>0</td>\n",
       "      <td>0</td>\n",
       "      <td>2</td>\n",
       "      <td>3</td>\n",
       "      <td>0</td>\n",
       "      <td>0</td>\n",
       "      <td>6</td>\n",
       "      <td>0</td>\n",
       "      <td>3</td>\n",
       "      <td>3</td>\n",
       "      <td>...</td>\n",
       "      <td>2</td>\n",
       "      <td>0</td>\n",
       "      <td>6</td>\n",
       "      <td>4</td>\n",
       "      <td>3</td>\n",
       "      <td>0</td>\n",
       "      <td>0</td>\n",
       "      <td>1</td>\n",
       "      <td>0</td>\n",
       "      <td>0</td>\n",
       "    </tr>\n",
       "    <tr>\n",
       "      <th>97</th>\n",
       "      <td>3</td>\n",
       "      <td>1</td>\n",
       "      <td>0</td>\n",
       "      <td>3</td>\n",
       "      <td>1</td>\n",
       "      <td>4</td>\n",
       "      <td>4</td>\n",
       "      <td>0</td>\n",
       "      <td>0</td>\n",
       "      <td>0</td>\n",
       "      <td>...</td>\n",
       "      <td>5</td>\n",
       "      <td>0</td>\n",
       "      <td>0</td>\n",
       "      <td>0</td>\n",
       "      <td>0</td>\n",
       "      <td>0</td>\n",
       "      <td>0</td>\n",
       "      <td>1</td>\n",
       "      <td>5</td>\n",
       "      <td>3</td>\n",
       "    </tr>\n",
       "    <tr>\n",
       "      <th>98</th>\n",
       "      <td>3</td>\n",
       "      <td>2</td>\n",
       "      <td>1</td>\n",
       "      <td>0</td>\n",
       "      <td>0</td>\n",
       "      <td>3</td>\n",
       "      <td>3</td>\n",
       "      <td>1</td>\n",
       "      <td>5</td>\n",
       "      <td>3</td>\n",
       "      <td>...</td>\n",
       "      <td>1</td>\n",
       "      <td>1</td>\n",
       "      <td>0</td>\n",
       "      <td>5</td>\n",
       "      <td>0</td>\n",
       "      <td>0</td>\n",
       "      <td>0</td>\n",
       "      <td>0</td>\n",
       "      <td>0</td>\n",
       "      <td>0</td>\n",
       "    </tr>\n",
       "  </tbody>\n",
       "</table>\n",
       "<p>99 rows × 2495 columns</p>\n",
       "</div>"
      ],
      "text/plain": [
       "    0     1     2     3     4     5     6     7     8     9     ...   2485  \\\n",
       "0      1     0     0     0     0     0     1     4     6     6  ...      0   \n",
       "1      5     0     1     0     0     0     5     6     1     2  ...      2   \n",
       "2      1     7     7     1     1     0     3     3     2     0  ...      5   \n",
       "3      1     3     0     2     4     3     4     2     1     4  ...      0   \n",
       "4      0     1     3     5     1     0     0     3     0     2  ...      0   \n",
       "5      0     2     2     0     6     0     0     3     2     4  ...      4   \n",
       "6      5     3     0     3     1     0     0     2     1     0  ...      0   \n",
       "7      3     4     0     2     0     0     0     7     0     2  ...      1   \n",
       "8      4     0     0     0     0     6     0     0     3     0  ...      3   \n",
       "9      0     3     1     0     1     0     5     0     0     5  ...      1   \n",
       "10     2     4     6     2     1     5     7     0     2     0  ...      1   \n",
       "11     0     0     7     2     5     2     0     0     0     1  ...      6   \n",
       "12     0     2     5     0     0     0     7     0     5     0  ...      3   \n",
       "13     0     1     0     0     0     0     7     0     3     0  ...      5   \n",
       "14     1     4     0     5     0     5     1     0     6     0  ...      4   \n",
       "15     1     0     6     3     5     3     4     4     0     1  ...      2   \n",
       "16     0     7     0     5     2     2     6     1     0     0  ...      0   \n",
       "17     4     4     5     1     0     3     2     2     7     5  ...      1   \n",
       "18     0     0     0     0     0     1     0     6     0     2  ...      4   \n",
       "19     4     0     0     0     0     4     0     0     3     2  ...      0   \n",
       "20     0     0     4     0     2     5     4     7     0     0  ...      2   \n",
       "21     0     2     0     3     0     7     0     0     0     0  ...      0   \n",
       "22     0     0     0     1     0     0     0     0     5     1  ...      0   \n",
       "23     0     0     0     0     0     0     2     7     0     0  ...      0   \n",
       "24     2     3     0     3     0     3     3     2     4     0  ...      0   \n",
       "25     0     6     0     0     0     0     2     0     5     1  ...      3   \n",
       "26     1     3     1     0     0     0     3     4     1     0  ...      0   \n",
       "27     0     7     1     5     1     3     2     0     3     0  ...      1   \n",
       "28     0     0     7     0     2     0     0     0     3     0  ...      0   \n",
       "29     0     0     3     3     4     5     0     0     0     1  ...      0   \n",
       "..   ...   ...   ...   ...   ...   ...   ...   ...   ...   ...  ...    ...   \n",
       "69     2     0     4     0     7     5     3     0     0     0  ...      7   \n",
       "70     3     0     1     4     0     0     0     0     0     0  ...      1   \n",
       "71     3     6     7     0     0     0     1     0     3     0  ...      0   \n",
       "72     1     0     1     2     0     7     4     0     0     0  ...      1   \n",
       "73     4     2     0     6     0     0     2     0     6     6  ...      4   \n",
       "74     4     1     1     0     3     0     1     2     4     5  ...      4   \n",
       "75     0     0     0     2     1     0     3     0     4     0  ...      0   \n",
       "76     3     5     5     0     6     0     0     0     0     7  ...      0   \n",
       "77     0     2     5     1     7     0     2     4     0     3  ...      0   \n",
       "78     5     1     5     0     0     1     0     7     0     0  ...      0   \n",
       "79     1     5     2     0     3     1     2     2     1     6  ...      4   \n",
       "80     0     7     0     0     0     0     0     4     0     0  ...      0   \n",
       "81     2     0     0     0     5     0     0     0     0     5  ...      4   \n",
       "82     0     0     4     0     1     2     1     0     1     0  ...      6   \n",
       "83     0     0     0     7     0     0     2     1     6     3  ...      0   \n",
       "84     1     6     3     1     3     2     3     1     4     2  ...      4   \n",
       "85     0     1     1     1     0     0     5     0     0     1  ...      0   \n",
       "86     0     0     3     1     7     0     1     0     2     0  ...      1   \n",
       "87     2     0     0     6     5     0     3     0     0     2  ...      3   \n",
       "88     1     3     0     2     0     6     2     2     2     6  ...      0   \n",
       "89     0     0     4     0     6     2     4     6     0     6  ...      5   \n",
       "90     0     1     0     0     2     3     2     6     1     0  ...      1   \n",
       "91     0     0     1     1     1     3     6     4     5     3  ...      0   \n",
       "92     7     4     0     0     2     5     1     5     0     5  ...      7   \n",
       "93     6     5     1     0     0     0     2     0     0     3  ...      0   \n",
       "94     5     4     1     0     0     0     0     5     6     0  ...      1   \n",
       "95     5     4     2     5     3     1     0     6     1     5  ...      0   \n",
       "96     0     0     2     3     0     0     6     0     3     3  ...      2   \n",
       "97     3     1     0     3     1     4     4     0     0     0  ...      5   \n",
       "98     3     2     1     0     0     3     3     1     5     3  ...      1   \n",
       "\n",
       "    2486  2487  2488  2489  2490  2491  2492  2493  2494  \n",
       "0      0     3     6     0     4     3     2     5     2  \n",
       "1      5     3     1     0     4     0     0     1     0  \n",
       "2      4     6     1     5     0     2     2     0     0  \n",
       "3      0     0     6     0     0     2     2     4     0  \n",
       "4      4     0     1     3     1     0     7     1     5  \n",
       "5      7     1     0     0     0     6     2     5     0  \n",
       "6      4     7     1     0     0     4     1     0     1  \n",
       "7      1     6     1     0     1     6     6     0     0  \n",
       "8      7     0     2     0     1     0     3     3     0  \n",
       "9      3     1     6     1     0     6     0     7     0  \n",
       "10     2     1     2     0     0     1     0     0     0  \n",
       "11     5     6     4     0     0     0     0     1     1  \n",
       "12     2     0     0     4     4     1     3     1     5  \n",
       "13     0     2     1     5     5     2     5     1     6  \n",
       "14     5     0     4     1     0     3     0     1     0  \n",
       "15     0     0     0     6     0     4     6     2     0  \n",
       "16     4     0     0     0     0     1     5     0     0  \n",
       "17     1     0     0     0     0     0     1     2     3  \n",
       "18     2     1     0     0     0     3     3     0     4  \n",
       "19     3     0     0     0     6     0     3     4     4  \n",
       "20     0     1     0     5     6     0     2     0     0  \n",
       "21     0     1     0     3     1     0     0     1     5  \n",
       "22     0     0     0     3     0     0     3     0     0  \n",
       "23     2     3     1     0     0     6     4     1     0  \n",
       "24     0     0     0     1     1     3     0     3     5  \n",
       "25     2     0     2     2     3     1     1     1     2  \n",
       "26     0     1     6     3     1     1     0     0     2  \n",
       "27     3     1     0     6     1     5     1     4     2  \n",
       "28     1     0     0     0     0     0     0     2     0  \n",
       "29     0     3     2     4     4     6     6     5     2  \n",
       "..   ...   ...   ...   ...   ...   ...   ...   ...   ...  \n",
       "69     0     0     0     2     1     0     0     1     5  \n",
       "70     0     0     1     6     0     1     0     1     0  \n",
       "71     0     3     0     5     0     0     1     1     0  \n",
       "72     5     6     0     0     0     1     5     0     1  \n",
       "73     2     1     2     0     2     4     1     2     2  \n",
       "74     6     1     1     4     0     3     4     0     5  \n",
       "75     5     1     0     0     0     0     5     2     5  \n",
       "76     1     6     0     0     0     0     0     0     3  \n",
       "77     0     4     8     3     0     0     0     0     0  \n",
       "78     5     0     1     0     0     2     3     0     0  \n",
       "79     0     4     3     1     2     0     1     0     7  \n",
       "80     6     0     0     1     4     0     5     0     6  \n",
       "81     4     5     1     3     7     4     1     0     4  \n",
       "82     0     2     6     0     5     3     0     3     4  \n",
       "83     3     0     0     0     6     0     4     2     0  \n",
       "84     2     1     7     8     3     0     2     7     1  \n",
       "85     6     4     3     0     0     0     1     3     5  \n",
       "86     6     6     1     4     3     2     0     0     1  \n",
       "87     0     7     0     0     1     3     1     6     0  \n",
       "88     6     7     4     7     7     1     2     2     0  \n",
       "89     1     4     4     2     3     0     0     7     5  \n",
       "90     0     5     1     5     1     7     5     6     1  \n",
       "91     1     3     7     0     0     6     0     2     4  \n",
       "92     0     2     1     5     0     3     6     4     1  \n",
       "93     1     0     0     0     2     0     1     0     1  \n",
       "94     6     0     1     0     4     0     0     5     5  \n",
       "95     1     6     0     2     0     0     7     2     4  \n",
       "96     0     6     4     3     0     0     1     0     0  \n",
       "97     0     0     0     0     0     0     1     5     3  \n",
       "98     1     0     5     0     0     0     0     0     0  \n",
       "\n",
       "[99 rows x 2495 columns]"
      ]
     },
     "execution_count": 33,
     "metadata": {},
     "output_type": "execute_result"
    }
   ],
   "source": [
    "n_clusters_df"
   ]
  },
  {
   "cell_type": "code",
   "execution_count": 34,
   "metadata": {},
   "outputs": [],
   "source": [
    "grouped = n_clusters_df.T.apply(lambda x: dict(Counter(x)), axis=0)"
   ]
  },
  {
   "cell_type": "code",
   "execution_count": 43,
   "metadata": {
    "collapsed": true
   },
   "outputs": [],
   "source": [
    "def n_big_ones(kv_pair):\n",
    "    significant_clusters = []\n",
    "    size_criteria = len(communities)/10\n",
    "    for k,v in kv_pair.items():\n",
    "        if v>size_criteria:\n",
    "            significant_clusters.append(k)\n",
    "        else:\n",
    "            pass\n",
    "    return len(significant_clusters)"
   ]
  },
  {
   "cell_type": "code",
   "execution_count": 45,
   "metadata": {},
   "outputs": [],
   "source": [
    "size_criteria = len(communities)/10\n",
    "hist_sizes = grouped.apply(n_big_ones)"
   ]
  },
  {
   "cell_type": "code",
   "execution_count": 48,
   "metadata": {},
   "outputs": [
    {
     "data": {
      "text/plain": [
       "<matplotlib.text.Text at 0x2b35ca03acf8>"
      ]
     },
     "execution_count": 48,
     "metadata": {},
     "output_type": "execute_result"
    },
    {
     "data": {
      "image/png": "[encoded data removed]",
      "text/plain": [
       "<matplotlib.figure.Figure at 0x2b35d89b22e8>"
      ]
     },
     "metadata": {},
     "output_type": "display_data"
    }
   ],
   "source": [
    "\n",
    "plt.hist(hist_sizes, color=None)\n",
    "plt.title('number of clusters')"
   ]
  },
  {
   "cell_type": "code",
   "execution_count": null,
   "metadata": {
    "collapsed": true
   },
   "outputs": [],
   "source": []
  },
  {
   "cell_type": "code",
   "execution_count": null,
   "metadata": {
    "collapsed": true
   },
   "outputs": [],
   "source": []
  },
  {
   "cell_type": "code",
   "execution_count": null,
   "metadata": {
    "collapsed": true
   },
   "outputs": [],
   "source": []
  },
  {
   "cell_type": "code",
   "execution_count": null,
   "metadata": {
    "collapsed": true
   },
   "outputs": [],
   "source": []
  },
  {
   "cell_type": "code",
   "execution_count": null,
   "metadata": {
    "collapsed": true
   },
   "outputs": [],
   "source": []
  },
  {
   "cell_type": "code",
   "execution_count": null,
   "metadata": {
    "collapsed": true
   },
   "outputs": [],
   "source": []
  },
  {
   "cell_type": "code",
   "execution_count": null,
   "metadata": {
    "collapsed": true
   },
   "outputs": [],
   "source": []
  },
  {
   "cell_type": "code",
   "execution_count": null,
   "metadata": {
    "collapsed": true
   },
   "outputs": [],
   "source": []
  },
  {
   "cell_type": "code",
   "execution_count": null,
   "metadata": {
    "collapsed": true
   },
   "outputs": [],
   "source": []
  }
 ],
 "metadata": {
  "kernelspec": {
   "display_name": "Python 3",
   "language": "python",
   "name": "python3"
  },
  "language_info": {
   "codemirror_mode": {
    "name": "ipython",
    "version": 3
   },
   "file_extension": ".py",
   "mimetype": "text/x-python",
   "name": "python",
   "nbconvert_exporter": "python",
   "pygments_lexer": "ipython3",
   "version": "3.6.3"
  }
 },
 "nbformat": 4,
 "nbformat_minor": 2
}
