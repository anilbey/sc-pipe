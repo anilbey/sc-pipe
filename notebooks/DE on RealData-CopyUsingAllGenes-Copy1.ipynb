{
 "cells": [
  {
   "cell_type": "code",
   "execution_count": 1,
   "metadata": {
    "scrolled": true
   },
   "outputs": [
    {
     "name": "stderr",
     "output_type": "stream",
     "text": [
      "Loading required package: limma\n",
      "Loading required package: SummarizedExperiment\n",
      "Loading required package: GenomicRanges\n",
      "Loading required package: stats4\n",
      "Loading required package: BiocGenerics\n",
      "Loading required package: parallel\n",
      "\n",
      "Attaching package: ‘BiocGenerics’\n",
      "\n",
      "The following objects are masked from ‘package:parallel’:\n",
      "\n",
      "    clusterApply, clusterApplyLB, clusterCall, clusterEvalQ,\n",
      "    clusterExport, clusterMap, parApply, parCapply, parLapply,\n",
      "    parLapplyLB, parRapply, parSapply, parSapplyLB\n",
      "\n",
      "The following object is masked from ‘package:limma’:\n",
      "\n",
      "    plotMA\n",
      "\n",
      "The following objects are masked from ‘package:stats’:\n",
      "\n",
      "    IQR, mad, sd, var, xtabs\n",
      "\n",
      "The following objects are masked from ‘package:base’:\n",
      "\n",
      "    anyDuplicated, append, as.data.frame, cbind, colMeans, colnames,\n",
      "    colSums, do.call, duplicated, eval, evalq, Filter, Find, get, grep,\n",
      "    grepl, intersect, is.unsorted, lapply, lengths, Map, mapply, match,\n",
      "    mget, order, paste, pmax, pmax.int, pmin, pmin.int, Position, rank,\n",
      "    rbind, Reduce, rowMeans, rownames, rowSums, sapply, setdiff, sort,\n",
      "    table, tapply, union, unique, unsplit, which, which.max, which.min\n",
      "\n",
      "Loading required package: S4Vectors\n",
      "\n",
      "Attaching package: ‘S4Vectors’\n",
      "\n",
      "The following object is masked from ‘package:base’:\n",
      "\n",
      "    expand.grid\n",
      "\n",
      "Loading required package: IRanges\n",
      "Loading required package: GenomeInfoDb\n",
      "Loading required package: Biobase\n",
      "Welcome to Bioconductor\n",
      "\n",
      "    Vignettes contain introductory material; view with\n",
      "    'browseVignettes()'. To cite Bioconductor, see\n",
      "    'citation(\"Biobase\")', and for packages 'citation(\"pkgname\")'.\n",
      "\n",
      "Loading required package: DelayedArray\n",
      "Loading required package: matrixStats\n",
      "\n",
      "Attaching package: ‘matrixStats’\n",
      "\n",
      "The following objects are masked from ‘package:Biobase’:\n",
      "\n",
      "    anyMissing, rowMedians\n",
      "\n",
      "\n",
      "Attaching package: ‘DelayedArray’\n",
      "\n",
      "The following objects are masked from ‘package:matrixStats’:\n",
      "\n",
      "    colMaxs, colMins, colRanges, rowMaxs, rowMins, rowRanges\n",
      "\n",
      "The following object is masked from ‘package:base’:\n",
      "\n",
      "    apply\n",
      "\n",
      "\n",
      "Attaching package: ‘MAST’\n",
      "\n",
      "The following object is masked from ‘package:stats’:\n",
      "\n",
      "    filter\n",
      "\n"
     ]
    }
   ],
   "source": [
    "library(rhdf5)\n",
    "library(edgeR)\n",
    "library(MAST)\n",
    "library(limma)"
   ]
  },
  {
   "cell_type": "code",
   "execution_count": 2,
   "metadata": {
    "collapsed": true
   },
   "outputs": [],
   "source": [
    "input_hdf5 = '../hdf5_data/raw_melanomaS2.h5'\n",
    "h5f = H5Fopen(input_hdf5)"
   ]
  },
  {
   "cell_type": "code",
   "execution_count": 3,
   "metadata": {
    "collapsed": true
   },
   "outputs": [],
   "source": [
    "matrix = h5f$matrix\n",
    "gene_attrs = h5f$gene_attrs\n",
    "gene_names = h5f$gene_attrs$gene_names\n",
    "gene_ids = h5f$gene_attrs$gene_ids\n",
    "cell_groups = h5f$cell_attrs$cell_groups"
   ]
  },
  {
   "cell_type": "code",
   "execution_count": 4,
   "metadata": {
    "scrolled": true
   },
   "outputs": [
    {
     "data": {
      "text/plain": [
       "HDF5 FILE\n",
       "        name /\n",
       "    filename \n",
       "\n",
       "        name       otype dclass     dim\n",
       "0 cell_attrs H5I_GROUP                 \n",
       "1 gene_attrs H5I_GROUP                 \n",
       "2 matrix     H5I_DATASET  FLOAT  x 2216"
      ]
     },
     "metadata": {},
     "output_type": "display_data"
    }
   ],
   "source": [
    "h5f"
   ]
  },
  {
   "cell_type": "code",
   "execution_count": 5,
   "metadata": {},
   "outputs": [
    {
     "data": {
      "text/html": [
       "<ol class=list-inline>\n",
       "\t<li>19928</li>\n",
       "\t<li>2216</li>\n",
       "</ol>\n"
      ],
      "text/latex": [
       "\\begin{enumerate*}\n",
       "\\item 19928\n",
       "\\item 2216\n",
       "\\end{enumerate*}\n"
      ],
      "text/markdown": [
       "1. 19928\n",
       "2. 2216\n",
       "\n",
       "\n"
      ],
      "text/plain": [
       "[1] 19928  2216"
      ]
     },
     "metadata": {},
     "output_type": "display_data"
    }
   ],
   "source": [
    "dim(matrix)"
   ]
  },
  {
   "cell_type": "code",
   "execution_count": 6,
   "metadata": {},
   "outputs": [
    {
     "data": {
      "text/html": [
       "19928"
      ],
      "text/latex": [
       "19928"
      ],
      "text/markdown": [
       "19928"
      ],
      "text/plain": [
       "[1] 19928"
      ]
     },
     "metadata": {},
     "output_type": "display_data"
    }
   ],
   "source": [
    "length(gene_names)"
   ]
  },
  {
   "cell_type": "code",
   "execution_count": 7,
   "metadata": {
    "collapsed": true
   },
   "outputs": [],
   "source": [
    "cell_groups = read.csv( '../analysis_output/melanomaS2/phenograph/clusters.csv', header=TRUE, stringsAsFactors=FALSE)"
   ]
  },
  {
   "cell_type": "code",
   "execution_count": 8,
   "metadata": {
    "collapsed": true,
    "scrolled": true
   },
   "outputs": [],
   "source": [
    "cell_barcodes = cell_groups$cell_barcode"
   ]
  },
  {
   "cell_type": "code",
   "execution_count": 9,
   "metadata": {
    "collapsed": true
   },
   "outputs": [],
   "source": [
    "cell_clusters = cell_groups$cluster"
   ]
  },
  {
   "cell_type": "code",
   "execution_count": 10,
   "metadata": {},
   "outputs": [
    {
     "data": {
      "text/plain": [
       "cell_clusters\n",
       "  0   1   2   3   4   5   6   7 \n",
       "881 295 280 232 167 166 103  92 "
      ]
     },
     "metadata": {},
     "output_type": "display_data"
    }
   ],
   "source": [
    "table(cell_clusters)"
   ]
  },
  {
   "cell_type": "code",
   "execution_count": null,
   "metadata": {
    "collapsed": true
   },
   "outputs": [],
   "source": []
  },
  {
   "cell_type": "code",
   "execution_count": 11,
   "metadata": {},
   "outputs": [
    {
     "data": {
      "text/html": [
       "<ol class=list-inline>\n",
       "\t<li>19928</li>\n",
       "\t<li>2216</li>\n",
       "</ol>\n"
      ],
      "text/latex": [
       "\\begin{enumerate*}\n",
       "\\item 19928\n",
       "\\item 2216\n",
       "\\end{enumerate*}\n"
      ],
      "text/markdown": [
       "1. 19928\n",
       "2. 2216\n",
       "\n",
       "\n"
      ],
      "text/plain": [
       "[1] 19928  2216"
      ]
     },
     "metadata": {},
     "output_type": "display_data"
    }
   ],
   "source": [
    "dim(matrix)"
   ]
  },
  {
   "cell_type": "code",
   "execution_count": 12,
   "metadata": {
    "collapsed": true
   },
   "outputs": [],
   "source": [
    "H5Fclose(h5f)"
   ]
  },
  {
   "cell_type": "code",
   "execution_count": 13,
   "metadata": {
    "collapsed": true
   },
   "outputs": [],
   "source": [
    "cell_types = read.csv('../intermediate_files/cluster_celltype_confusionmatrix.txt', sep='\\t',header=TRUE, stringsAsFactors=TRUE)"
   ]
  },
  {
   "cell_type": "markdown",
   "metadata": {},
   "source": [
    "Remove the last row"
   ]
  },
  {
   "cell_type": "code",
   "execution_count": 14,
   "metadata": {
    "collapsed": true
   },
   "outputs": [],
   "source": [
    "cell_types = cell_types[1:nrow(cell_types)-1,]"
   ]
  },
  {
   "cell_type": "code",
   "execution_count": 15,
   "metadata": {},
   "outputs": [
    {
     "data": {
      "text/html": [
       "<table>\n",
       "<thead><tr><th scope=col>cluster</th><th scope=col>B.cells</th><th scope=col>CAFs</th><th scope=col>Endothelial.cells</th><th scope=col>Macrophages</th><th scope=col>melanoma</th><th scope=col>NK.cells</th><th scope=col>T.cells</th><th scope=col>T.Cells.CD4.</th><th scope=col>T.Cells.CD8.</th><th scope=col>Tregs</th><th scope=col>uncertain</th><th scope=col>unknown</th><th scope=col>Sum</th><th scope=col>celltype</th><th scope=col>purity</th></tr></thead>\n",
       "<tbody>\n",
       "\t<tr><td>0                </td><td>452              </td><td>  4              </td><td> 2               </td><td>  4              </td><td>  3              </td><td> 1               </td><td>1                </td><td> 1               </td><td>34               </td><td> 0               </td><td>264              </td><td>112              </td><td>878              </td><td>B.cells          </td><td>0.51             </td></tr>\n",
       "\t<tr><td>1                </td><td>  1              </td><td>  4              </td><td> 3               </td><td>  4              </td><td> 47              </td><td> 1               </td><td>1                </td><td> 1               </td><td> 1               </td><td> 0               </td><td>  4              </td><td>  0              </td><td> 67              </td><td>melanoma         </td><td>0.70             </td></tr>\n",
       "\t<tr><td>2                </td><td>  0              </td><td>  1              </td><td> 0               </td><td>  0              </td><td>272              </td><td> 1               </td><td>0                </td><td> 0               </td><td> 0               </td><td> 0               </td><td>  0              </td><td>  2              </td><td>276              </td><td>melanoma         </td><td>0.99             </td></tr>\n",
       "\t<tr><td>3                </td><td> 95              </td><td>  0              </td><td> 0               </td><td>  0              </td><td>  1              </td><td>15               </td><td>6                </td><td>30               </td><td>26               </td><td>31               </td><td> 20              </td><td>  5              </td><td>229              </td><td>B.cells          </td><td>0.41             </td></tr>\n",
       "\t<tr><td>4                </td><td>  0              </td><td>134              </td><td>11               </td><td>  0              </td><td>  0              </td><td> 0               </td><td>0                </td><td> 0               </td><td> 0               </td><td> 0               </td><td> 20              </td><td>  1              </td><td>166              </td><td>CAFs             </td><td>0.81             </td></tr>\n",
       "\t<tr><td>5                </td><td>  0              </td><td>  0              </td><td> 0               </td><td>158              </td><td>  0              </td><td> 0               </td><td>0                </td><td> 0               </td><td> 0               </td><td> 0               </td><td>  6              </td><td>  0              </td><td>164              </td><td>Macrophages      </td><td>0.96             </td></tr>\n",
       "\t<tr><td>6                </td><td>  0              </td><td>102              </td><td> 0               </td><td>  0              </td><td>  0              </td><td> 0               </td><td>0                </td><td> 0               </td><td> 0               </td><td> 0               </td><td>  0              </td><td>  0              </td><td>102              </td><td>CAFs             </td><td>1.00             </td></tr>\n",
       "\t<tr><td>7                </td><td>  0              </td><td>  0              </td><td>92               </td><td>  0              </td><td>  0              </td><td> 0               </td><td>0                </td><td> 0               </td><td> 0               </td><td> 0               </td><td>  3              </td><td>  0              </td><td> 95              </td><td>Endothelial.cells</td><td>0.97             </td></tr>\n",
       "</tbody>\n",
       "</table>\n"
      ],
      "text/latex": [
       "\\begin{tabular}{r|llllllllllllllll}\n",
       " cluster & B.cells & CAFs & Endothelial.cells & Macrophages & melanoma & NK.cells & T.cells & T.Cells.CD4. & T.Cells.CD8. & Tregs & uncertain & unknown & Sum & celltype & purity\\\\\n",
       "\\hline\n",
       "\t 0                 & 452               &   4               &  2                &   4               &   3               &  1                & 1                 &  1                & 34                &  0                & 264               & 112               & 878               & B.cells           & 0.51             \\\\\n",
       "\t 1                 &   1               &   4               &  3                &   4               &  47               &  1                & 1                 &  1                &  1                &  0                &   4               &   0               &  67               & melanoma          & 0.70             \\\\\n",
       "\t 2                 &   0               &   1               &  0                &   0               & 272               &  1                & 0                 &  0                &  0                &  0                &   0               &   2               & 276               & melanoma          & 0.99             \\\\\n",
       "\t 3                 &  95               &   0               &  0                &   0               &   1               & 15                & 6                 & 30                & 26                & 31                &  20               &   5               & 229               & B.cells           & 0.41             \\\\\n",
       "\t 4                 &   0               & 134               & 11                &   0               &   0               &  0                & 0                 &  0                &  0                &  0                &  20               &   1               & 166               & CAFs              & 0.81             \\\\\n",
       "\t 5                 &   0               &   0               &  0                & 158               &   0               &  0                & 0                 &  0                &  0                &  0                &   6               &   0               & 164               & Macrophages       & 0.96             \\\\\n",
       "\t 6                 &   0               & 102               &  0                &   0               &   0               &  0                & 0                 &  0                &  0                &  0                &   0               &   0               & 102               & CAFs              & 1.00             \\\\\n",
       "\t 7                 &   0               &   0               & 92                &   0               &   0               &  0                & 0                 &  0                &  0                &  0                &   3               &   0               &  95               & Endothelial.cells & 0.97             \\\\\n",
       "\\end{tabular}\n"
      ],
      "text/markdown": [
       "\n",
       "cluster | B.cells | CAFs | Endothelial.cells | Macrophages | melanoma | NK.cells | T.cells | T.Cells.CD4. | T.Cells.CD8. | Tregs | uncertain | unknown | Sum | celltype | purity | \n",
       "|---|---|---|---|---|---|---|---|\n",
       "| 0                 | 452               |   4               |  2                |   4               |   3               |  1                | 1                 |  1                | 34                |  0                | 264               | 112               | 878               | B.cells           | 0.51              | \n",
       "| 1                 |   1               |   4               |  3                |   4               |  47               |  1                | 1                 |  1                |  1                |  0                |   4               |   0               |  67               | melanoma          | 0.70              | \n",
       "| 2                 |   0               |   1               |  0                |   0               | 272               |  1                | 0                 |  0                |  0                |  0                |   0               |   2               | 276               | melanoma          | 0.99              | \n",
       "| 3                 |  95               |   0               |  0                |   0               |   1               | 15                | 6                 | 30                | 26                | 31                |  20               |   5               | 229               | B.cells           | 0.41              | \n",
       "| 4                 |   0               | 134               | 11                |   0               |   0               |  0                | 0                 |  0                |  0                |  0                |  20               |   1               | 166               | CAFs              | 0.81              | \n",
       "| 5                 |   0               |   0               |  0                | 158               |   0               |  0                | 0                 |  0                |  0                |  0                |   6               |   0               | 164               | Macrophages       | 0.96              | \n",
       "| 6                 |   0               | 102               |  0                |   0               |   0               |  0                | 0                 |  0                |  0                |  0                |   0               |   0               | 102               | CAFs              | 1.00              | \n",
       "| 7                 |   0               |   0               | 92                |   0               |   0               |  0                | 0                 |  0                |  0                |  0                |   3               |   0               |  95               | Endothelial.cells | 0.97              | \n",
       "\n",
       "\n"
      ],
      "text/plain": [
       "  cluster B.cells CAFs Endothelial.cells Macrophages melanoma NK.cells T.cells\n",
       "1 0       452       4   2                  4           3       1       1      \n",
       "2 1         1       4   3                  4          47       1       1      \n",
       "3 2         0       1   0                  0         272       1       0      \n",
       "4 3        95       0   0                  0           1      15       6      \n",
       "5 4         0     134  11                  0           0       0       0      \n",
       "6 5         0       0   0                158           0       0       0      \n",
       "7 6         0     102   0                  0           0       0       0      \n",
       "8 7         0       0  92                  0           0       0       0      \n",
       "  T.Cells.CD4. T.Cells.CD8. Tregs uncertain unknown Sum celltype         \n",
       "1  1           34            0    264       112     878 B.cells          \n",
       "2  1            1            0      4         0      67 melanoma         \n",
       "3  0            0            0      0         2     276 melanoma         \n",
       "4 30           26           31     20         5     229 B.cells          \n",
       "5  0            0            0     20         1     166 CAFs             \n",
       "6  0            0            0      6         0     164 Macrophages      \n",
       "7  0            0            0      0         0     102 CAFs             \n",
       "8  0            0            0      3         0      95 Endothelial.cells\n",
       "  purity\n",
       "1 0.51  \n",
       "2 0.70  \n",
       "3 0.99  \n",
       "4 0.41  \n",
       "5 0.81  \n",
       "6 0.96  \n",
       "7 1.00  \n",
       "8 0.97  "
      ]
     },
     "metadata": {},
     "output_type": "display_data"
    }
   ],
   "source": [
    "cell_types"
   ]
  },
  {
   "cell_type": "code",
   "execution_count": 16,
   "metadata": {
    "collapsed": true
   },
   "outputs": [],
   "source": [
    "malignant = 'melanoma'"
   ]
  },
  {
   "cell_type": "code",
   "execution_count": 17,
   "metadata": {},
   "outputs": [
    {
     "data": {
      "text/html": [
       "<ol class=list-inline>\n",
       "\t<li>0</li>\n",
       "\t<li>1</li>\n",
       "\t<li>2</li>\n",
       "\t<li>3</li>\n",
       "\t<li>4</li>\n",
       "\t<li>5</li>\n",
       "\t<li>6</li>\n",
       "\t<li>7</li>\n",
       "</ol>\n"
      ],
      "text/latex": [
       "\\begin{enumerate*}\n",
       "\\item 0\n",
       "\\item 1\n",
       "\\item 2\n",
       "\\item 3\n",
       "\\item 4\n",
       "\\item 5\n",
       "\\item 6\n",
       "\\item 7\n",
       "\\end{enumerate*}\n"
      ],
      "text/markdown": [
       "1. 0\n",
       "2. 1\n",
       "3. 2\n",
       "4. 3\n",
       "5. 4\n",
       "6. 5\n",
       "7. 6\n",
       "8. 7\n",
       "\n",
       "\n"
      ],
      "text/plain": [
       "[1] 0 1 2 3 4 5 6 7\n",
       "Levels: 0 1 2 3 4 5 6 7 Sum"
      ]
     },
     "metadata": {},
     "output_type": "display_data"
    }
   ],
   "source": [
    "cell_types$cluster"
   ]
  },
  {
   "cell_type": "code",
   "execution_count": 18,
   "metadata": {
    "collapsed": true
   },
   "outputs": [],
   "source": [
    "all_clusters = as.numeric(as.vector(cell_types$cluster))"
   ]
  },
  {
   "cell_type": "code",
   "execution_count": 26,
   "metadata": {
    "collapsed": true
   },
   "outputs": [],
   "source": [
    "malignancy_mask = cell_types$celltype==malignant\n",
    "malignant_clusters = cell_types$cluster[malignancy_mask]\n",
    "non_malignant_clusters = cell_types$cluster[!malignancy_mask]"
   ]
  },
  {
   "cell_type": "code",
   "execution_count": 27,
   "metadata": {
    "collapsed": true
   },
   "outputs": [],
   "source": [
    "malignant_clusters = as.numeric(as.vector(malignant_clusters))"
   ]
  },
  {
   "cell_type": "code",
   "execution_count": 21,
   "metadata": {
    "collapsed": true
   },
   "outputs": [],
   "source": [
    "run_edgeRQLFDetRate <- function(L) {\n",
    "  message(\"edgeRQLFDetRate\")\n",
    "  session_info <- sessionInfo()\n",
    "  tryCatch({\n",
    "    timing <- system.time({\n",
    "      dge <- DGEList(L$count, group = L$condt)\n",
    "      dge <- calcNormFactors(dge)\n",
    "      cdr <- scale(colMeans(L$count > 0))\n",
    "      design <- model.matrix(~ cdr + L$condt)\n",
    "      dge <- estimateDisp(dge, design = design)\n",
    "      fit <- glmQLFit(dge, design = design)\n",
    "      qlf <- glmQLFTest(fit)\n",
    "      tt <- topTags(qlf, n = Inf)\n",
    "    })\n",
    "    \n",
    "    #plotBCV(dge)\n",
    "    #plotQLDisp(fit)\n",
    "    #hist(tt$table$PValue, 50)\n",
    "    #hist(tt$table$FDR, 50)\n",
    "    #limma::plotMDS(dge, col = as.numeric(as.factor(L$condt)), pch = 19)\n",
    "    #plotSmear(qlf)\n",
    "    \n",
    "    data.frame(pval = tt$table$PValue,\n",
    "                         padj = tt$table$FDR,\n",
    "                         row.names = rownames(tt$table))\n",
    "  }, error = function(e) {\n",
    "    \"edgeRQLFDetRate results could not be calculated\"\n",
    "    list(session_info = session_info)\n",
    "  })\n",
    "}"
   ]
  },
  {
   "cell_type": "code",
   "execution_count": 28,
   "metadata": {},
   "outputs": [
    {
     "data": {
      "text/html": [
       "<ol class=list-inline>\n",
       "\t<li>1</li>\n",
       "\t<li>2</li>\n",
       "</ol>\n"
      ],
      "text/latex": [
       "\\begin{enumerate*}\n",
       "\\item 1\n",
       "\\item 2\n",
       "\\end{enumerate*}\n"
      ],
      "text/markdown": [
       "1. 1\n",
       "2. 2\n",
       "\n",
       "\n"
      ],
      "text/plain": [
       "[1] 1 2"
      ]
     },
     "metadata": {},
     "output_type": "display_data"
    }
   ],
   "source": [
    "malignant_clusters"
   ]
  },
  {
   "cell_type": "code",
   "execution_count": 23,
   "metadata": {
    "collapsed": true
   },
   "outputs": [
    {
     "name": "stderr",
     "output_type": "stream",
     "text": [
      "edgeRQLFDetRate\n",
      "edgeRQLFDetRate\n",
      "Timing stopped at: 0.157 0.001 0.159\n"
     ]
    },
    {
     "ename": "ERROR",
     "evalue": "Error in as.data.frame.default(x[[i]], optional = TRUE, stringsAsFactors = stringsAsFactors): cannot coerce class \"\"sessionInfo\"\" to a data.frame\n",
     "output_type": "error",
     "traceback": [
      "Error in as.data.frame.default(x[[i]], optional = TRUE, stringsAsFactors = stringsAsFactors): cannot coerce class \"\"sessionInfo\"\" to a data.frame\nTraceback:\n",
      "1. write.csv(edger_res, file = f_name, row.names = FALSE, quote = FALSE)",
      "2. eval.parent(Call)",
      "3. eval(expr, p)",
      "4. eval(expr, p)",
      "5. write.table(edger_res, file = f_name, row.names = FALSE, quote = FALSE, \n .     col.names = TRUE, sep = \",\", dec = \".\", qmethod = \"double\")",
      "6. data.frame(x)",
      "7. as.data.frame(x[[i]], optional = TRUE, stringsAsFactors = stringsAsFactors)",
      "8. as.data.frame.list(x[[i]], optional = TRUE, stringsAsFactors = stringsAsFactors)",
      "9. do.call(data.frame, c(x, alis))",
      "10. (function (..., row.names = NULL, check.rows = FALSE, check.names = TRUE, \n  .     fix.empty.names = TRUE, stringsAsFactors = default.stringsAsFactors()) \n  . {\n  .     data.row.names <- if (check.rows && is.null(row.names)) \n  .         function(current, new, i) {\n  .             if (is.character(current)) \n  .                 new <- as.character(new)\n  .             if (is.character(new)) \n  .                 current <- as.character(current)\n  .             if (anyDuplicated(new)) \n  .                 return(current)\n  .             if (is.null(current)) \n  .                 return(new)\n  .             if (all(current == new) || all(current == \"\")) \n  .                 return(new)\n  .             stop(gettextf(\"mismatch of row names in arguments of 'data.frame', item %d\", \n  .                 i), domain = NA)\n  .         }\n  .     else function(current, new, i) {\n  .         if (is.null(current)) {\n  .             if (anyDuplicated(new)) {\n  .                 warning(gettextf(\"some row.names duplicated: %s --> row.names NOT used\", \n  .                   paste(which(duplicated(new)), collapse = \",\")), \n  .                   domain = NA)\n  .                 current\n  .             }\n  .             else new\n  .         }\n  .         else current\n  .     }\n  .     object <- as.list(substitute(list(...)))[-1L]\n  .     mirn <- missing(row.names)\n  .     mrn <- is.null(row.names)\n  .     x <- list(...)\n  .     n <- length(x)\n  .     if (n < 1L) {\n  .         if (!mrn) {\n  .             if (is.object(row.names) || !is.integer(row.names)) \n  .                 row.names <- as.character(row.names)\n  .             if (anyNA(row.names)) \n  .                 stop(\"row names contain missing values\")\n  .             if (anyDuplicated(row.names)) \n  .                 stop(gettextf(\"duplicate row.names: %s\", paste(unique(row.names[duplicated(row.names)]), \n  .                   collapse = \", \")), domain = NA)\n  .         }\n  .         else row.names <- integer()\n  .         return(structure(list(), names = character(), row.names = row.names, \n  .             class = \"data.frame\"))\n  .     }\n  .     vnames <- names(x)\n  .     if (length(vnames) != n) \n  .         vnames <- character(n)\n  .     no.vn <- !nzchar(vnames)\n  .     vlist <- vnames <- as.list(vnames)\n  .     nrows <- ncols <- integer(n)\n  .     for (i in seq_len(n)) {\n  .         xi <- if (is.character(x[[i]]) || is.list(x[[i]])) \n  .             as.data.frame(x[[i]], optional = TRUE, stringsAsFactors = stringsAsFactors)\n  .         else as.data.frame(x[[i]], optional = TRUE)\n  .         nrows[i] <- .row_names_info(xi)\n  .         ncols[i] <- length(xi)\n  .         namesi <- names(xi)\n  .         if (ncols[i] > 1L) {\n  .             if (length(namesi) == 0L) \n  .                 namesi <- seq_len(ncols[i])\n  .             vnames[[i]] <- if (no.vn[i]) \n  .                 namesi\n  .             else paste(vnames[[i]], namesi, sep = \".\")\n  .         }\n  .         else if (length(namesi)) {\n  .             vnames[[i]] <- namesi\n  .         }\n  .         else if (fix.empty.names && no.vn[[i]]) {\n  .             tmpname <- deparse(object[[i]], nlines = 1L)[1L]\n  .             if (substr(tmpname, 1L, 2L) == \"I(\") {\n  .                 ntmpn <- nchar(tmpname, \"c\")\n  .                 if (substr(tmpname, ntmpn, ntmpn) == \")\") \n  .                   tmpname <- substr(tmpname, 3L, ntmpn - 1L)\n  .             }\n  .             vnames[[i]] <- tmpname\n  .         }\n  .         if (mirn && nrows[i] > 0L) {\n  .             rowsi <- attr(xi, \"row.names\")\n  .             if (any(nzchar(rowsi))) \n  .                 row.names <- data.row.names(row.names, rowsi, \n  .                   i)\n  .         }\n  .         nrows[i] <- abs(nrows[i])\n  .         vlist[[i]] <- xi\n  .     }\n  .     nr <- max(nrows)\n  .     for (i in seq_len(n)[nrows < nr]) {\n  .         xi <- vlist[[i]]\n  .         if (nrows[i] > 0L && (nr%%nrows[i] == 0L)) {\n  .             xi <- unclass(xi)\n  .             fixed <- TRUE\n  .             for (j in seq_along(xi)) {\n  .                 xi1 <- xi[[j]]\n  .                 if (is.vector(xi1) || is.factor(xi1)) \n  .                   xi[[j]] <- rep(xi1, length.out = nr)\n  .                 else if (is.character(xi1) && inherits(xi1, \"AsIs\")) \n  .                   xi[[j]] <- structure(rep(xi1, length.out = nr), \n  .                     class = class(xi1))\n  .                 else if (inherits(xi1, \"Date\") || inherits(xi1, \n  .                   \"POSIXct\")) \n  .                   xi[[j]] <- rep(xi1, length.out = nr)\n  .                 else {\n  .                   fixed <- FALSE\n  .                   break\n  .                 }\n  .             }\n  .             if (fixed) {\n  .                 vlist[[i]] <- xi\n  .                 next\n  .             }\n  .         }\n  .         stop(gettextf(\"arguments imply differing number of rows: %s\", \n  .             paste(unique(nrows), collapse = \", \")), domain = NA)\n  .     }\n  .     value <- unlist(vlist, recursive = FALSE, use.names = FALSE)\n  .     vnames <- unlist(vnames[ncols > 0L])\n  .     if (fix.empty.names && any(noname <- !nzchar(vnames))) \n  .         vnames[noname] <- paste0(\"Var.\", seq_along(vnames))[noname]\n  .     if (check.names) {\n  .         if (fix.empty.names) \n  .             vnames <- make.names(vnames, unique = TRUE)\n  .         else {\n  .             nz <- nzchar(vnames)\n  .             vnames[nz] <- make.names(vnames[nz], unique = TRUE)\n  .         }\n  .     }\n  .     names(value) <- vnames\n  .     if (!mrn) {\n  .         if (length(row.names) == 1L && nr != 1L) {\n  .             if (is.character(row.names)) \n  .                 row.names <- match(row.names, vnames, 0L)\n  .             if (length(row.names) != 1L || row.names < 1L || \n  .                 row.names > length(vnames)) \n  .                 stop(\"'row.names' should specify one of the variables\")\n  .             i <- row.names\n  .             row.names <- value[[i]]\n  .             value <- value[-i]\n  .         }\n  .         else if (!is.null(row.names) && length(row.names) != \n  .             nr) \n  .             stop(\"row names supplied are of the wrong length\")\n  .     }\n  .     else if (!is.null(row.names) && length(row.names) != nr) {\n  .         warning(\"row names were found from a short variable and have been discarded\")\n  .         row.names <- NULL\n  .     }\n  .     if (is.null(row.names)) \n  .         row.names <- .set_row_names(nr)\n  .     else {\n  .         if (is.object(row.names) || !is.integer(row.names)) \n  .             row.names <- as.character(row.names)\n  .         if (anyNA(row.names)) \n  .             stop(\"row names contain missing values\")\n  .         if (anyDuplicated(row.names)) \n  .             stop(gettextf(\"duplicate row.names: %s\", paste(unique(row.names[duplicated(row.names)]), \n  .                 collapse = \", \")), domain = NA)\n  .     }\n  .     attr(value, \"row.names\") <- row.names\n  .     attr(value, \"class\") <- \"data.frame\"\n  .     value\n  . })(session_info = structure(list(R.version = structure(list(platform = \"x86_64-conda_cos6-linux-gnu\", \n  .     arch = \"x86_64\", os = \"linux-gnu\", system = \"x86_64, linux-gnu\", \n  .     status = \"\", major = \"3\", minor = \"4.3\", year = \"2017\", month = \"11\", \n  .     day = \"30\", `svn rev` = \"73796\", language = \"R\", version.string = \"R version 3.4.3 (2017-11-30)\", \n  .     nickname = \"Kite-Eating Tree\"), .Names = c(\"platform\", \"arch\", \n  . \"os\", \"system\", \"status\", \"major\", \"minor\", \"year\", \"month\", \n  . \"day\", \"svn rev\", \"language\", \"version.string\", \"nickname\")), \n  .     platform = \"x86_64-conda_cos6-linux-gnu (64-bit)\", locale = \"LC_CTYPE=en_US.UTF-8;LC_NUMERIC=C;LC_TIME=en_US.UTF-8;LC_COLLATE=en_US.UTF-8;LC_MONETARY=en_US.UTF-8;LC_MESSAGES=en_US.UTF-8;LC_PAPER=en_US.UTF-8;LC_NAME=C;LC_ADDRESS=C;LC_TELEPHONE=C;LC_MEASUREMENT=en_US.UTF-8;LC_IDENTIFICATION=C\", \n  .     running = \"CentOS Linux 7 (Core)\", basePkgs = c(\"parallel\", \n  .     \"stats4\", \"stats\", \"graphics\", \"grDevices\", \"utils\", \"datasets\", \n  .     \"methods\", \"base\"), otherPkgs = structure(list(MAST = structure(list(\n  .         Package = \"MAST\", Type = \"Package\", Title = \"Model-based Analysis of Single Cell Transcriptomics\", \n  .         Version = \"1.4.1\", Date = \"2017-09-25\", `Authors@R` = \"c(person(\\\"Andrew\\\", \\\"McDavid\\\", email = \\\"Andrew_McDavid@urmc.rochester.edu\\\", role = c(\\\"aut\\\", \\\"cre\\\")),\\n            person(\\\"Greg\\\", \\\"Finak\\\", email=\\\"gfinak@fredhutch.org\\\", role='aut'),\\n            person(\\\"Masanao\\\", \\\"Yajima\\\", email=\\\"myajima@fredhutch.org\\\", role='aut'))\", \n  .         VignetteBuilder = \"knitr\", Imports = \"Biobase, BiocGenerics, S4Vectors, data.table, ggplot2, plyr,\\nstringr, abind, methods, parallel, reshape2, stats, stats4,\\ngraphics, utils\", \n  .         Depends = \"SummarizedExperiment(>= 1.5.3), R(>= 3.4)\", \n  .         Suggests = \"knitr, rmarkdown, testthat, lme4(>= 1.0), roxygen2(> 4.0.0),\\nnumDeriv, car, gdata, lattice, GGally, GSEABase, NMF,\\nTxDb.Hsapiens.UCSC.hg19.knownGene, rsvd, limma, RColorBrewer,\\nBiocStyle\", \n  .         Description = \"Methods and models for handling zero-inflated single cell\\n    assay data.\", \n  .         License = \"GPL(>= 2)\", Collate = \"'AllGenerics.R' 'AllClasses.R' 'Fluidigm-methods.R'\\n'GSEA-by-boot.R' 'Hypothesis.R' 'LmWrapper.R'\\n'MultidimensionalScaling.R' 'RNASeqAssay-methods.R' 'Readers.R'\\n'SingleCellAssay-methods.R' 'UtilityFunctions.R'\\n'ZlmFit-bootstrap.R' 'ZlmFit-logFC.R' 'ZlmFit.R' 'bayesglm.R'\\n'convertMASTClassic.R' 'ebayes-helpers.R' 'filterEval.R'\\n'helper-methods.R' 'lmWrapper-bayesglm.R' 'lmWrapper-glm.R'\\n'lmWrapper-glmer.R' 'lmWrapper-ridge.R' 'lrtest.R' 'predict.R'\\n'stat_ell.R' 'thresholdSCRNA.R' 'zeroinf.R' 'zlmHooks.R'\", \n  .         RoxygenNote = \"6.0.1\", LazyData = \"true\", biocViews = \"GeneExpression, DifferentialExpression, GeneSetEnrichment,\\nRNASeq, Transcriptomics, SingleCell\", \n  .         BugReports = \"https://github.com/RGLab/MAST/issues\", \n  .         URL = \"https://github.com/RGLab/MAST/\", NeedsCompilation = \"no\", \n  .         Packaged = \"2017-12-23 01:55:41 UTC; biocbuild\", Author = \"Andrew McDavid [aut, cre],\\n  Greg Finak [aut],\\n  Masanao Yajima [aut]\", \n  .         Maintainer = \"Andrew McDavid <Andrew_McDavid@urmc.rochester.edu>\", \n  .         Built = \"R 3.4.3; ; 2018-04-05 11:47:19 UTC; unix\"), .Names = c(\"Package\", \n  .     \"Type\", \"Title\", \"Version\", \"Date\", \"Authors@R\", \"VignetteBuilder\", \n  .     \"Imports\", \"Depends\", \"Suggests\", \"Description\", \"License\", \n  .     \"Collate\", \"RoxygenNote\", \"LazyData\", \"biocViews\", \"BugReports\", \n  .     \"URL\", \"NeedsCompilation\", \"Packaged\", \"Author\", \"Maintainer\", \n  .     \"Built\"), class = \"packageDescription\", file = \"/cluster/work/bewi/members/tuncel/anaconda3/envs/pipe-env/lib/R/library/MAST/Meta/package.rds\"), \n  .         SummarizedExperiment = structure(list(Package = \"SummarizedExperiment\", \n  .             Title = \"SummarizedExperiment container\", Description = \"The SummarizedExperiment container contains one or more assays,\\n\\teach represented by a matrix-like object of numeric or other mode.\\n\\tThe rows typically represent genomic ranges of interest and the columns\\n\\trepresent samples.\", \n  .             Version = \"1.8.1\", Encoding = \"UTF-8\", Author = \"Martin Morgan, Valerie Obenchain, Jim Hester, Hervé Pagès\", \n  .             Maintainer = \"Bioconductor Package Maintainer <maintainer@bioconductor.org>\", \n  .             biocViews = \"Genetics, Infrastructure, Sequencing, Annotation, Coverage,\\nGenomeAnnotation\", \n  .             Depends = \"R (>= 3.2), methods, GenomicRanges (>= 1.29.14), Biobase,\\nDelayedArray (>= 0.3.20)\", \n  .             Imports = \"utils, stats, tools, Matrix, BiocGenerics (>= 0.15.3),\\nS4Vectors (>= 0.13.13), IRanges (>= 2.11.17), GenomeInfoDb (>=\\n1.13.1)\", \n  .             Suggests = \"annotate, AnnotationDbi, hgu95av2.db, GenomicFeatures,\\nTxDb.Hsapiens.UCSC.hg19.knownGene, BiocStyle, knitr, rmarkdown,\\ndigest, jsonlite, rhdf5, HDF5Array (>= 1.5.8), airway, RUnit\", \n  .             VignetteBuilder = \"knitr\", License = \"Artistic-2.0\", \n  .             Collate = \"Assays-class.R SummarizedExperiment-class.R\\nRangedSummarizedExperiment-class.R intra-range-methods.R\\ninter-range-methods.R coverage-methods.R findOverlaps-methods.R\\nnearest-methods.R makeSummarizedExperimentFromExpressionSet.R\\nmakeSummarizedExperimentFromDataFrame.R readKallisto.R\\nsaveHDF5SummarizedExperiment.R zzz.R\", \n  .             NeedsCompilation = \"no\", Packaged = \"2017-12-19 01:04:03 UTC; biocbuild\", \n  .             Built = \"R 3.4.3; ; 2018-04-04 16:40:39 UTC; unix\"), .Names = c(\"Package\", \n  .         \"Title\", \"Description\", \"Version\", \"Encoding\", \"Author\", \n  .         \"Maintainer\", \"biocViews\", \"Depends\", \"Imports\", \"Suggests\", \n  .         \"VignetteBuilder\", \"License\", \"Collate\", \"NeedsCompilation\", \n  .         \"Packaged\", \"Built\"), class = \"packageDescription\", file = \"/cluster/work/bewi/members/tuncel/anaconda3/envs/pipe-env/lib/R/library/SummarizedExperiment/Meta/package.rds\"), \n  .         DelayedArray = structure(list(Package = \"DelayedArray\", \n  .             Title = \"Delayed operations on array-like objects\", \n  .             Description = \"Wrapping an array-like object (typically an on-disk object) in\\n\\ta DelayedArray object allows one to perform common array operations\\n\\ton it without loading the object in memory. In order to reduce memory\\n\\tusage and optimize performance, operations on the object are either\\n\\tdelayed or executed using a block processing mechanism. Note that this\\n\\talso works on in-memory array-like objects like DataFrame objects\\n\\t(typically with Rle columns), Matrix objects, and ordinary arrays and\\n\\tdata frames.\", \n  .             Version = \"0.4.1\", Encoding = \"UTF-8\", Author = \"Hervé Pagès\", \n  .             Maintainer = \"Hervé Pagès <hpages@fredhutch.org>\", \n  .             biocViews = \"Infrastructure, DataRepresentation, Annotation,\\nGenomeAnnotation\", \n  .             Depends = \"R (>= 3.4), methods, matrixStats, BiocGenerics, S4Vectors (>=\\n0.15.3), IRanges (>= 2.11.17)\", \n  .             Imports = \"stats\", Suggests = \"Matrix, HDF5Array, genefilter, SummarizedExperiment, airway,\\npryr, knitr, BiocStyle\", \n  .             License = \"Artistic-2.0\", VignetteBuilder = \"knitr\", \n  .             Collate = \"utils.R bind-arrays.R Array-class.R ArrayGrid-class.R\\nshow-utils.R subset_seed_as_array.R\\nConformableSeedCombiner-class.R SeedBinder-class.R\\nDelayedArray-class.R realize.R block_processing.R\\nDelayedArray-utils.R DelayedMatrix-utils.R DelayedArray-stats.R\\nDelayedMatrix-stats.R RleArray-class.R zzz.R\", \n  .             NeedsCompilation = \"no\", Packaged = \"2017-11-04 00:48:32 UTC; biocbuild\", \n  .             Built = \"R 3.4.3; ; 2018-04-04 16:37:28 UTC; unix\"), .Names = c(\"Package\", \n  .         \"Title\", \"Description\", \"Version\", \"Encoding\", \"Author\", \n  .         \"Maintainer\", \"biocViews\", \"Depends\", \"Imports\", \"Suggests\", \n  .         \"License\", \"VignetteBuilder\", \"Collate\", \"NeedsCompilation\", \n  .         \"Packaged\", \"Built\"), class = \"packageDescription\", file = \"/cluster/work/bewi/members/tuncel/anaconda3/envs/pipe-env/lib/R/library/DelayedArray/Meta/package.rds\"), \n  .         matrixStats = structure(list(Package = \"matrixStats\", \n  .             Version = \"0.53.1\", Depends = \"R (>= 2.12.0)\", Suggests = \"base64enc, ggplot2, knitr, microbenchmark, R.devices, R.rsp\", \n  .             VignetteBuilder = \"R.rsp\", Date = \"2018-02-10\", Title = \"Functions that Apply to Rows and Columns of Matrices (and to\\nVectors)\", \n  .             `Authors@R` = \"c(\\n  person(\\\"Henrik\\\", \\\"Bengtsson\\\", role=c(\\\"aut\\\", \\\"cre\\\", \\\"cph\\\"),\\n                                 email=\\\"henrikb@braju.com\\\"),\\n  person(\\\"Hector\\\", \\\"Corrada Bravo\\\", role=\\\"ctb\\\"),\\n  person(\\\"Robert\\\", \\\"Gentleman\\\", role=\\\"ctb\\\"),\\n  person(\\\"Ola\\\", \\\"Hossjer\\\", role=\\\"ctb\\\"),\\n  person(\\\"Harris\\\", \\\"Jaffee\\\", role=\\\"ctb\\\"),\\n  person(\\\"Dongcan\\\", \\\"Jiang\\\", role=\\\"ctb\\\"),\\n  person(\\\"Peter\\\", \\\"Langfelder\\\", role=\\\"ctb\\\"),\\n  person(\\\"Peter\\\", \\\"Hickey\\\", role=\\\"ctb\\\"))\", \n  .             Author = \"Henrik Bengtsson [aut, cre, cph],\\n  Hector Corrada Bravo [ctb],\\n  Robert Gentleman [ctb],\\n  Ola Hossjer [ctb],\\n  Harris Jaffee [ctb],\\n  Dongcan Jiang [ctb],\\n  Peter Langfelder [ctb],\\n  Peter Hickey [ctb]\", \n  .             Maintainer = \"Henrik Bengtsson <henrikb@braju.com>\", \n  .             Description = \"High-performing functions operating on rows and columns of matrices, e.g. col / rowMedians(), col / rowRanks(), and col / rowSds().  Functions optimized per data type and for subsetted calculations such that both memory usage and processing time is minimized.  There are also optimized vector-based methods, e.g. binMeans(), madDiff() and weightedMedian().\", \n  .             License = \"Artistic-2.0\", LazyLoad = \"TRUE\", NeedsCompilation = \"yes\", \n  .             ByteCompile = \"TRUE\", URL = \"https://github.com/HenrikBengtsson/matrixStats\", \n  .             BugReports = \"https://github.com/HenrikBengtsson/matrixStats/issues\", \n  .             RoxygenNote = \"6.0.1\", Packaged = \"2018-02-10 18:37:02 UTC; hb\", \n  .             Repository = \"CRAN\", `Date/Publication` = \"2018-02-11 14:13:37 UTC\", \n  .             Built = \"R 3.4.3; x86_64-conda_cos6-linux-gnu; 2018-04-04 16:35:10 UTC; unix\"), .Names = c(\"Package\", \n  .         \"Version\", \"Depends\", \"Suggests\", \"VignetteBuilder\", \n  .         \"Date\", \"Title\", \"Authors@R\", \"Author\", \"Maintainer\", \n  .         \"Description\", \"License\", \"LazyLoad\", \"NeedsCompilation\", \n  .         \"ByteCompile\", \"URL\", \"BugReports\", \"RoxygenNote\", \"Packaged\", \n  .         \"Repository\", \"Date/Publication\", \"Built\"), class = \"packageDescription\", file = \"/cluster/work/bewi/members/tuncel/anaconda3/envs/pipe-env/lib/R/library/matrixStats/Meta/package.rds\"), \n  .         Biobase = structure(list(Package = \"Biobase\", Title = \"Biobase: Base functions for Bioconductor\", \n  .             Version = \"2.38.0\", Author = \"R. Gentleman, V. Carey, M. Morgan, S. Falcon\", \n  .             Description = \"Functions that are needed by many other packages or which\\n        replace R functions.\", \n  .             Suggests = \"tools, tkWidgets, ALL, RUnit, golubEsets\", \n  .             Depends = \"R (>= 2.10), BiocGenerics (>= 0.3.2), utils\", \n  .             Imports = \"methods\", Maintainer = \"Bioconductor Package Maintainer\\n<maintainer@bioconductor.org>\", \n  .             License = \"Artistic-2.0\", Collate = \"tools.R strings.R environment.R vignettes.R packages.R\\nAllGenerics.R VersionsClass.R VersionedClasses.R\\nmethods-VersionsNull.R methods-VersionedClass.R DataClasses.R\\nmethods-aggregator.R methods-container.R methods-MIAxE.R\\nmethods-MIAME.R methods-AssayData.R\\nmethods-AnnotatedDataFrame.R methods-eSet.R\\nmethods-ExpressionSet.R methods-MultiSet.R methods-SnpSet.R\\nmethods-NChannelSet.R anyMissing.R rowOp-methods.R\\nupdateObjectTo.R methods-ScalarObject.R zzz.R\", \n  .             LazyLoad = \"yes\", biocViews = \"Infrastructure\", NeedsCompilation = \"yes\", \n  .             Packaged = \"2017-10-30 22:37:13 UTC; biocbuild\", \n  .             Built = \"R 3.4.3; x86_64-conda_cos6-linux-gnu; 2018-03-25 21:35:47 UTC; unix\"), .Names = c(\"Package\", \n  .         \"Title\", \"Version\", \"Author\", \"Description\", \"Suggests\", \n  .         \"Depends\", \"Imports\", \"Maintainer\", \"License\", \"Collate\", \n  .         \"LazyLoad\", \"biocViews\", \"NeedsCompilation\", \"Packaged\", \n  .         \"Built\"), class = \"packageDescription\", file = \"/cluster/work/bewi/members/tuncel/anaconda3/envs/pipe-env/lib/R/library/Biobase/Meta/package.rds\"), \n  .         GenomicRanges = structure(list(Package = \"GenomicRanges\", \n  .             Title = \"Representation and manipulation of genomic intervals and\\nvariables defined along a genome\", \n  .             Description = \"The ability to efficiently represent and manipulate genomic\\n\\tannotations and alignments is playing a central role when it comes\\n\\tto analyzing high-throughput sequencing data (a.k.a. NGS data).\\n\\tThe GenomicRanges package defines general purpose containers for\\n\\tstoring and manipulating genomic intervals and variables defined along\\n\\ta genome. More specialized containers for representing and manipulating\\n\\tshort alignments against a reference genome, or a matrix-like\\n\\tsummarization of an experiment, are defined in the GenomicAlignments\\n\\tand SummarizedExperiment packages respectively. Both packages build\\n\\ton top of the GenomicRanges infrastructure.\", \n  .             Version = \"1.30.3\", Encoding = \"UTF-8\", Author = \"P. Aboyoun, H. Pagès, and M. Lawrence\", \n  .             Maintainer = \"Bioconductor Package Maintainer <maintainer@bioconductor.org>\", \n  .             biocViews = \"Genetics, Infrastructure, Sequencing, Annotation, Coverage,\\nGenomeAnnotation\", \n  .             Depends = \"R (>= 2.10), methods, stats4, BiocGenerics (>= 0.21.2),\\nS4Vectors (>= 0.9.47), IRanges (>= 2.11.16), GenomeInfoDb (>=\\n1.13.1)\", \n  .             Imports = \"utils, stats, XVector\", LinkingTo = \"S4Vectors, IRanges\", \n  .             Suggests = \"Biobase, AnnotationDbi (>= 1.21.1), annotate, Biostrings (>=\\n2.25.3), Rsamtools (>= 1.13.53), SummarizedExperiment (>=\\n0.1.5), Matrix, GenomicAlignments, rtracklayer, BSgenome,\\nGenomicFeatures, Gviz, VariantAnnotation, AnnotationHub,\\nDESeq2, DEXSeq, edgeR, KEGGgraph, BiocStyle, digest, RUnit,\\nBSgenome.Hsapiens.UCSC.hg19, BSgenome.Scerevisiae.UCSC.sacCer2,\\nKEGG.db, hgu95av2.db, org.Hs.eg.db, org.Mm.eg.db,\\norg.Sc.sgd.db, pasilla, pasillaBamSubset,\\nTxDb.Athaliana.BioMart.plantsmart22,\\nTxDb.Dmelanogaster.UCSC.dm3.ensGene,\\nTxDb.Hsapiens.UCSC.hg19.knownGene,\\nBSgenome.Mmusculus.UCSC.mm10,\\nTxDb.Mmusculus.UCSC.mm10.knownGene,\\nRNAseqData.HNRNPC.bam.chr14, hgu95av2probe\", \n  .             License = \"Artistic-2.0\", Collate = \"utils.R phicoef.R transcript-utils.R constraint.R\\nstrand-utils.R genomic-range-squeezers.R GenomicRanges-class.R\\nGenomicRanges-comparison.R GRanges-class.R GPos-class.R\\nDelegatingGenomicRanges-class.R GNCList-class.R\\nGenomicRangesList-class.R GRangesList-class.R\\nmakeGRangesFromDataFrame.R makeGRangesListFromDataFrame.R\\nRangedData-methods.R findOverlaps-methods.R\\nintra-range-methods.R inter-range-methods.R coverage-methods.R\\nsetops-methods.R nearest-methods.R absoluteRanges.R\\ntileGenome.R tile-methods.R genomicvars.R zzz.R\", \n  .             RoxygenNote = \"5.0.1.9000\", NeedsCompilation = \"yes\", \n  .             Packaged = \"2018-02-25 23:41:37 UTC; biocbuild\", \n  .             Built = \"R 3.4.3; x86_64-conda_cos6-linux-gnu; 2018-04-04 16:38:10 UTC; unix\"), .Names = c(\"Package\", \n  .         \"Title\", \"Description\", \"Version\", \"Encoding\", \"Author\", \n  .         \"Maintainer\", \"biocViews\", \"Depends\", \"Imports\", \"LinkingTo\", \n  .         \"Suggests\", \"License\", \"Collate\", \"RoxygenNote\", \"NeedsCompilation\", \n  .         \"Packaged\", \"Built\"), class = \"packageDescription\", file = \"/cluster/work/bewi/members/tuncel/anaconda3/envs/pipe-env/lib/R/library/GenomicRanges/Meta/package.rds\"), \n  .         GenomeInfoDb = structure(list(Package = \"GenomeInfoDb\", \n  .             Title = \"Utilities for manipulating chromosome and other 'seqname'\\nidentifiers\", \n  .             Description = \"Contains data and functions that\\n\\tdefine and allow translation between different chromosome\\n\\tsequence naming conventions (e.g., \\\"chr1\\\" versus \\\"1\\\"),\\n\\tincluding a function that attempts to place sequence names in\\n\\ttheir natural, rather than lexicographic, order.\", \n  .             Version = \"1.14.0\", Encoding = \"UTF-8\", Author = \"Sonali Arora, Martin Morgan, Marc Carlson, H. Pagès\", \n  .             Maintainer = \"Bioconductor Package Maintainer <maintainer@bioconductor.org>\", \n  .             biocViews = \"Genetics, DataRepresentation, Annotation, GenomeAnnotation\", \n  .             Depends = \"R (>= 3.1), methods, BiocGenerics (>= 0.13.8), S4Vectors (>=\\n0.9.25), IRanges (>= 1.99.26)\", \n  .             Imports = \"stats, stats4, utils, RCurl, GenomeInfoDbData\", \n  .             Suggests = \"GenomicRanges, Rsamtools, GenomicAlignments, BSgenome,\\nGenomicFeatures, BSgenome.Scerevisiae.UCSC.sacCer2,\\nBSgenome.Celegans.UCSC.ce2, BSgenome.Hsapiens.NCBI.GRCh38,\\nTxDb.Dmelanogaster.UCSC.dm3.ensGene, RUnit, BiocStyle, knitr\", \n  .             License = \"Artistic-2.0\", Collate = \"utils.R rankSeqlevels.R assembly-utils.R available.species.R\\nfetchExtendedChromInfoFromUCSC.R fetchSequenceInfo.R seqinfo.R\\nseqlevelsStyle.R seqlevels-wrappers.R Seqinfo-class.R\\nGenomeDescription-class.R mapGenomeBuilds.R zzz.R\", \n  .             VignetteBuilder = \"knitr\", Video = \"http://youtu.be/wdEjCYSXa7w\", \n  .             NeedsCompilation = \"no\", Packaged = \"2017-10-30 23:51:42 UTC; biocbuild\", \n  .             Built = \"R 3.4.3; ; 2018-04-04 16:37:32 UTC; unix\"), .Names = c(\"Package\", \n  .         \"Title\", \"Description\", \"Version\", \"Encoding\", \"Author\", \n  .         \"Maintainer\", \"biocViews\", \"Depends\", \"Imports\", \"Suggests\", \n  .         \"License\", \"Collate\", \"VignetteBuilder\", \"Video\", \"NeedsCompilation\", \n  .         \"Packaged\", \"Built\"), class = \"packageDescription\", file = \"/cluster/work/bewi/members/tuncel/anaconda3/envs/pipe-env/lib/R/library/GenomeInfoDb/Meta/package.rds\"), \n  .         IRanges = structure(list(Package = \"IRanges\", Title = \"Infrastructure for manipulating intervals on sequences\", \n  .             Description = \"Provides efficient low-level and highly reusable S4\\n\\t     classes for storing, manipulating and aggregating over annotated\\n             ranges of integers. Implements an algebra of range operations,\\n             including efficient algorithms for finding\\n             overlaps and nearest neighbors. Defines efficient\\n             list-like classes for storing, transforming and aggregating\\n             large grouped data, i.e., collections of atomic vectors and\\n             DataFrames.\", \n  .             Version = \"2.12.0\", Encoding = \"UTF-8\", Author = \"H. Pagès, P. Aboyoun and M. Lawrence\", \n  .             Maintainer = \"Bioconductor Package Maintainer <maintainer@bioconductor.org>\", \n  .             biocViews = \"Infrastructure, DataRepresentation\", \n  .             Depends = \"R (>= 3.1.0), methods, utils, stats, BiocGenerics (>= 0.23.3),\\nS4Vectors (>= 0.15.5)\", \n  .             Imports = \"stats4\", LinkingTo = \"S4Vectors\", Suggests = \"XVector, GenomicRanges, Rsamtools, GenomicAlignments,\\nGenomicFeatures, BSgenome.Celegans.UCSC.ce2, pasillaBamSubset,\\nRUnit\", \n  .             License = \"Artistic-2.0\", Collate = \"range-squeezers.R Vector-class-leftovers.R\\nList-class-leftovers.R AtomicList-class.R Ranges-class.R\\nsubsetting-utils.R Ranges-comparison.R IRanges-class.R\\nIRanges-constructor.R IRanges-utils.R IPos-class.R\\nGrouping-class.R CompressedList-class.R\\nCompressedList-comparison.R Views-class.R Rle-class-leftovers.R\\nRleViews-class.R RleViews-utils.R extractList.R seqapply.R\\nmultisplit.R AtomicList-impl.R AtomicList-utils.R\\nListGrouping-class.R Hits-class-leftovers.R DataFrame-utils.R\\nDataFrameList-class.R DataFrameList-utils.R RangesList-class.R\\nViewsList-class.R RleViewsList-class.R RleViewsList-utils.R\\nMaskCollection-class.R RangedData-class.R RangedData-utils.R\\nCompressedHitsList-class.R NCList-class.R\\nRangedSelection-class.R read.Mask.R findOverlaps-methods.R\\nintra-range-methods.R inter-range-methods.R reverse-methods.R\\ncoverage-methods.R slice-methods.R setops-methods.R\\nnearest-methods.R cbind-Rle-methods.R tile-methods.R zzz.R\", \n  .             NeedsCompilation = \"yes\", Packaged = \"2017-10-30 22:38:39 UTC; biocbuild\", \n  .             Built = \"R 3.4.3; x86_64-conda_cos6-linux-gnu; 2018-03-25 21:37:33 UTC; unix\"), .Names = c(\"Package\", \n  .         \"Title\", \"Description\", \"Version\", \"Encoding\", \"Author\", \n  .         \"Maintainer\", \"biocViews\", \"Depends\", \"Imports\", \"LinkingTo\", \n  .         \"Suggests\", \"License\", \"Collate\", \"NeedsCompilation\", \n  .         \"Packaged\", \"Built\"), class = \"packageDescription\", file = \"/cluster/work/bewi/members/tuncel/anaconda3/envs/pipe-env/lib/R/library/IRanges/Meta/package.rds\"), \n  .         S4Vectors = structure(list(Package = \"S4Vectors\", Title = \"S4 implementation of vector-like and list-like objects\", \n  .             Description = \"The S4Vectors package defines the Vector and List virtual classes\\n\\tand a set of generic functions that extend the semantic of ordinary\\n\\tvectors and lists in R. Package developers can easily implement\\n\\tvector-like or list-like objects as concrete subclasses of Vector or\\n\\tList. In addition, a few low-level concrete subclasses of general\\n\\tinterest (e.g. DataFrame, Rle, and Hits) are implemented in the\\n\\tS4Vectors package itself (many more are implemented in the IRanges\\n\\tpackage and in other Bioconductor infrastructure packages).\", \n  .             Version = \"0.16.0\", Encoding = \"UTF-8\", Author = \"H. Pagès, M. Lawrence and P. Aboyoun\", \n  .             Maintainer = \"Bioconductor Package Maintainer <maintainer@bioconductor.org>\", \n  .             biocViews = \"Infrastructure, DataRepresentation\", \n  .             Depends = \"R (>= 3.3.0), methods, utils, stats, stats4, BiocGenerics (>=\\n0.23.3)\", \n  .             Suggests = \"IRanges, GenomicRanges, Matrix, ShortRead, graph, data.table,\\nRUnit\", \n  .             License = \"Artistic-2.0\", Collate = \"S4-utils.R show-utils.R utils.R normarg-utils.R LLint-class.R\\nisSorted.R subsetting-utils.R vector-utils.R integer-utils.R\\ncharacter-utils.R eval-utils.R map_ranges_to_runs.R\\nDataTable-class.R Annotated-class.R Vector-class.R\\nVector-comparison.R Vector-setops.R Vector-merge.R Hits-class.R\\nHits-comparison.R Hits-setops.R Rle-class.R Rle-utils.R\\nList-class.R List-comparison.R List-utils.R SimpleList-class.R\\nHitsList-class.R DataFrame-class.R expand-methods.R\\nFilterRules-class.R aggregate-methods.R shiftApply-methods.R\\nsplit-methods.R Pairs-class.R zzz.R\", \n  .             NeedsCompilation = \"yes\", Packaged = \"2017-10-30 23:57:18 UTC; biocbuild\", \n  .             Built = \"R 3.4.3; x86_64-conda_cos6-linux-gnu; 2018-03-25 21:35:50 UTC; unix\"), .Names = c(\"Package\", \n  .         \"Title\", \"Description\", \"Version\", \"Encoding\", \"Author\", \n  .         \"Maintainer\", \"biocViews\", \"Depends\", \"Suggests\", \"License\", \n  .         \"Collate\", \"NeedsCompilation\", \"Packaged\", \"Built\"), class = \"packageDescription\", file = \"/cluster/work/bewi/members/tuncel/anaconda3/envs/pipe-env/lib/R/library/S4Vectors/Meta/package.rds\"), \n  .         BiocGenerics = structure(list(Package = \"BiocGenerics\", \n  .             Title = \"S4 generic functions for Bioconductor\", \n  .             Description = \"S4 generic functions needed by many Bioconductor packages.\", \n  .             Version = \"0.24.0\", Author = \"The Bioconductor Dev Team\", \n  .             Maintainer = \"Bioconductor Package Maintainer <maintainer@bioconductor.org>\", \n  .             biocViews = \"Infrastructure\", Depends = \"methods, utils, graphics, stats, parallel\", \n  .             Imports = \"methods, utils, graphics, stats, parallel\", \n  .             Suggests = \"Biobase, S4Vectors, IRanges, GenomicRanges, AnnotationDbi,\\noligoClasses, oligo, affyPLM, flowClust, affy, DESeq2, MSnbase,\\nannotate, RUnit\", \n  .             License = \"Artistic-2.0\", Collate = \"S3-classes-as-S4-classes.R normarg-utils.R hotfix73465.R\\nreplaceSlots.R append.R as.data.frame.R as.list.R as.vector.R\\ncbind.R do.call.R duplicated.R eval.R Extremes.R funprog.R\\nget.R grep.R is.unsorted.R lapply.R lengths.R mapply.R match.R\\nmatrix-summary.R mean.R nrow.R order.R paste.R rank.R rep.R\\nrow_colnames.R sets.R sort.R start.R subset.R t.R table.R\\ntapply.R unique.R unlist.R unsplit.R relist.R var.R which.R\\nboxplot.R image.R density.R IQR.R mad.R residuals.R weights.R\\nxtabs.R clusterApply.R annotation.R combine.R dbconn.R dge.R\\nfileName.R normalize.R Ontology.R organism_species.R plotMA.R\\nplotPCA.R score.R strand.R updateObject.R testPackage.R zzz.R\", \n  .             NeedsCompilation = \"no\", Packaged = \"2017-10-30 23:21:40 UTC; biocbuild\", \n  .             Built = \"R 3.4.3; ; 2018-03-25 21:32:38 UTC; unix\"), .Names = c(\"Package\", \n  .         \"Title\", \"Description\", \"Version\", \"Author\", \"Maintainer\", \n  .         \"biocViews\", \"Depends\", \"Imports\", \"Suggests\", \"License\", \n  .         \"Collate\", \"NeedsCompilation\", \"Packaged\", \"Built\"), class = \"packageDescription\", file = \"/cluster/work/bewi/members/tuncel/anaconda3/envs/pipe-env/lib/R/library/BiocGenerics/Meta/package.rds\"), \n  .         edgeR = structure(list(Package = \"edgeR\", Version = \"3.20.9\", \n  .             Date = \"2018-02-26\", Title = \"Empirical Analysis of Digital Gene Expression Data in R\", \n  .             Description = \"Differential expression analysis of RNA-seq expression profiles with biological replication. Implements a range of statistical methodology based on the negative binomial distributions, including empirical Bayes estimation, exact tests, generalized linear models and quasi-likelihood tests. As well as RNA-seq, it be applied to differential signal analysis of other types of genomic data that produce counts, including ChIP-seq, Bisulfite-seq, SAGE and CAGE.\", \n  .             Author = \"Yunshun Chen <yuchen@wehi.edu.au>, Aaron Lun <alun@wehi.edu.au>, Davis McCarthy <dmccarthy@wehi.edu.au>, Xiaobei Zhou <xiaobei.zhou@uzh.ch>, Mark Robinson <mark.robinson@imls.uzh.ch>, Gordon Smyth <smyth@wehi.edu.au>\", \n  .             Maintainer = \"Yunshun Chen <yuchen@wehi.edu.au>, Aaron Lun <alun@wehi.edu.au>, Mark Robinson <mark.robinson@imls.uzh.ch>, Davis McCarthy <dmccarthy@wehi.edu.au>, Gordon Smyth <smyth@wehi.edu.au>\", \n  .             License = \"GPL (>=2)\", Depends = \"R (>= 2.15.0), limma (>= 3.34.5)\", \n  .             Imports = \"graphics, stats, utils, methods, locfit, Rcpp\", \n  .             Suggests = \"AnnotationDbi, org.Hs.eg.db, splines\", \n  .             LinkingTo = \"Rcpp\", URL = \"http://bioinf.wehi.edu.au/edgeR\", \n  .             biocViews = \"GeneExpression, Transcription, AlternativeSplicing,\\nCoverage, DifferentialExpression, DifferentialSplicing,\\nDifferentialMethylation, GeneSetEnrichment, Pathways, Genetics,\\nDNAMethylation, Bayesian, Clustering, ChIPSeq, Regression,\\nTimeCourse, Sequencing, RNASeq, BatchEffect, SAGE,\\nNormalization, QualityControl, MultipleComparison\", \n  .             NeedsCompilation = \"yes\", SystemRequirements = \"C++11\", \n  .             Packaged = \"2018-02-26 23:32:24 UTC; biocbuild\", \n  .             Built = \"R 3.4.3; x86_64-conda_cos6-linux-gnu; 2018-04-04 16:38:27 UTC; unix\"), .Names = c(\"Package\", \n  .         \"Version\", \"Date\", \"Title\", \"Description\", \"Author\", \n  .         \"Maintainer\", \"License\", \"Depends\", \"Imports\", \"Suggests\", \n  .         \"LinkingTo\", \"URL\", \"biocViews\", \"NeedsCompilation\", \n  .         \"SystemRequirements\", \"Packaged\", \"Built\"), class = \"packageDescription\", file = \"/cluster/work/bewi/members/tuncel/anaconda3/envs/pipe-env/lib/R/library/edgeR/Meta/package.rds\"), \n  .         limma = structure(list(Package = \"limma\", Version = \"3.34.9\", \n  .             Date = \"2018-02-22\", Title = \"Linear Models for Microarray Data\", \n  .             Description = \"Data analysis, linear models and differential expression for microarray data.\", \n  .             Author = \"Gordon Smyth [cre,aut], Yifang Hu [ctb], Matthew Ritchie [ctb], Jeremy Silver [ctb], James Wettenhall [ctb], Davis McCarthy [ctb], Di Wu [ctb], Wei Shi [ctb], Belinda Phipson [ctb], Aaron Lun [ctb], Natalie Thorne [ctb], Alicia Oshlack [ctb], Carolyn de Graaf [ctb], Yunshun Chen [ctb], Mette Langaas [ctb], Egil Ferkingstad [ctb], Marcus Davy [ctb], Francois Pepin [ctb], Dongseok Choi [ctb]\", \n  .             Maintainer = \"Gordon Smyth <smyth@wehi.edu.au>\", \n  .             License = \"GPL (>=2)\", Depends = \"R (>= 2.3.0)\", \n  .             Imports = \"grDevices, graphics, stats, utils, methods\", \n  .             Suggests = \"affy, AnnotationDbi, BiasedUrn, Biobase, ellipse, GO.db,\\ngplots, illuminaio, locfit, MASS, org.Hs.eg.db, splines,\\nstatmod (>= 1.2.2), vsn\", \n  .             URL = \"http://bioinf.wehi.edu.au/limma\", biocViews = \"ExonArray, GeneExpression, Transcription,\\nAlternativeSplicing, DifferentialExpression,\\nDifferentialSplicing, GeneSetEnrichment, DataImport, Genetics,\\nBayesian, Clustering, Regression, TimeCourse, Microarray,\\nmicroRNAArray, mRNAMicroarray, OneChannel,\\nProprietaryPlatforms, TwoChannel, RNASeq, BatchEffect,\\nMultipleComparison, Normalization, Preprocessing,\\nQualityControl\", \n  .             NeedsCompilation = \"yes\", Packaged = \"2018-02-21 23:13:48 UTC; biocbuild\", \n  .             Built = \"R 3.4.3; x86_64-conda_cos6-linux-gnu; 2018-04-04 16:32:37 UTC; unix\"), .Names = c(\"Package\", \n  .         \"Version\", \"Date\", \"Title\", \"Description\", \"Author\", \n  .         \"Maintainer\", \"License\", \"Depends\", \"Imports\", \"Suggests\", \n  .         \"URL\", \"biocViews\", \"NeedsCompilation\", \"Packaged\", \"Built\"\n  .         ), class = \"packageDescription\", file = \"/cluster/work/bewi/members/tuncel/anaconda3/envs/pipe-env/lib/R/library/limma/Meta/package.rds\"), \n  .         rhdf5 = structure(list(Package = \"rhdf5\", Type = \"Package\", \n  .             Title = \"HDF5 interface to R\", Version = \"2.22.0\", \n  .             `Authors@R` = \"c(person(\\\"Bernd\\\", \\\"Fischer\\\", role = c(\\\"aut\\\")), \\n        person(\\\"Gregoire\\\", \\\"Pau\\\", role=\\\"aut\\\"),\\n        person(\\\"Mike\\\", \\\"Smith\\\", role=c(\\\"aut\\\", \\\"cre\\\"), email = \\\"mike.smith@embl.de\\\"))\", \n  .             Description = \"This package provides an interface between HDF5 and R. \\n    HDF5's main features are the ability to store and access very large and/or\\n    complex datasets and a wide variety of metadata on mass storage (disk) \\n    through a completely portable file format. The rhdf5 package is thus suited\\n    for the exchange of large and/or complex datasets between R and other \\n    software package, and for letting R applications work on datasets that are \\n    larger than the available RAM.\", \n  .             License = \"Artistic-2.0\", LazyLoad = \"true\", Imports = \"zlibbioc\", \n  .             Depends = \"methods\", Suggests = \"bit64, BiocStyle, testthat\", \n  .             SystemRequirements = \"GNU make\", biocViews = \"Infrastructure, DataImport\", \n  .             NeedsCompilation = \"yes\", Packaged = \"2017-10-30 23:24:05 UTC; biocbuild\", \n  .             Author = \"Bernd Fischer [aut],\\n  Gregoire Pau [aut],\\n  Mike Smith [aut, cre]\", \n  .             Maintainer = \"Mike Smith <mike.smith@embl.de>\", Built = \"R 3.4.3; x86_64-conda_cos6-linux-gnu; 2018-03-25 21:37:29 UTC; unix\"), .Names = c(\"Package\", \n  .         \"Type\", \"Title\", \"Version\", \"Authors@R\", \"Description\", \n  .         \"License\", \"LazyLoad\", \"Imports\", \"Depends\", \"Suggests\", \n  .         \"SystemRequirements\", \"biocViews\", \"NeedsCompilation\", \n  .         \"Packaged\", \"Author\", \"Maintainer\", \"Built\"), class = \"packageDescription\", file = \"/cluster/work/bewi/members/tuncel/anaconda3/envs/pipe-env/lib/R/library/rhdf5/Meta/package.rds\")), .Names = c(\"MAST\", \n  .     \"SummarizedExperiment\", \"DelayedArray\", \"matrixStats\", \"Biobase\", \n  .     \"GenomicRanges\", \"GenomeInfoDb\", \"IRanges\", \"S4Vectors\", \n  .     \"BiocGenerics\", \"edgeR\", \"limma\", \"rhdf5\")), loadedOnly = structure(list(\n  .         Rcpp = structure(list(Package = \"Rcpp\", Title = \"Seamless R and C++ Integration\", \n  .             Version = \"0.12.16\", Date = \"2018-03-08\", Author = \"Dirk Eddelbuettel, Romain Francois, JJ Allaire, Kevin Ushey, Qiang Kou,\\n Nathan Russell, Douglas Bates and John Chambers\", \n  .             Maintainer = \"Dirk Eddelbuettel <edd@debian.org>\", \n  .             Description = \"The 'Rcpp' package provides R functions as well as C++ classes which\\n offer a seamless integration of R and C++. Many R data types and objects can be\\n mapped back and forth to C++ equivalents which facilitates both writing of new\\n code as well as easier integration of third-party libraries. Documentation \\n about 'Rcpp' is provided by several vignettes included in this package, via the \\n 'Rcpp Gallery' site at <http://gallery.rcpp.org>, the paper by Eddelbuettel and \\n Francois (2011, <doi:10.18637/jss.v040.i08>), the book by Eddelbuettel (2013,\\n <doi:10.1007/978-1-4614-6868-4>) and the paper by Eddelbuettel and Balamuta (2017,\\n <doi:10.7287/peerj.preprints.3188v1>); see 'citation(\\\"Rcpp\\\")' for details.\", \n  .             Depends = \"R (>= 3.0.0)\", Imports = \"methods, utils\", \n  .             Suggests = \"RUnit, inline, rbenchmark, knitr, rmarkdown, pinp, pkgKitten\\n(>= 0.1.2)\", \n  .             VignetteBuilder = \"knitr\", URL = \"http://www.rcpp.org, http://dirk.eddelbuettel.com/code/rcpp.html,\\nhttps://github.com/RcppCore/Rcpp\", \n  .             License = \"GPL (>= 2)\", BugReports = \"https://github.com/RcppCore/Rcpp/issues\", \n  .             MailingList = \"Please send questions and comments regarding Rcpp to\\nrcpp-devel@lists.r-forge.r-project.org\", \n  .             RoxygenNote = \"6.0.1\", NeedsCompilation = \"yes\", \n  .             Packaged = \"2018-03-08 17:04:51.131351 UTC; edd\", \n  .             Repository = \"CRAN\", `Date/Publication` = \"2018-03-13 22:46:12 UTC\", \n  .             Built = \"R 3.4.3; x86_64-conda_cos6-linux-gnu; 2018-03-25 21:31:41 UTC; unix\"), .Names = c(\"Package\", \n  .         \"Title\", \"Version\", \"Date\", \"Author\", \"Maintainer\", \"Description\", \n  .         \"Depends\", \"Imports\", \"Suggests\", \"VignetteBuilder\", \n  .         \"URL\", \"License\", \"BugReports\", \"MailingList\", \"RoxygenNote\", \n  .         \"NeedsCompilation\", \"Packaged\", \"Repository\", \"Date/Publication\", \n  .         \"Built\"), class = \"packageDescription\", file = \"/cluster/work/bewi/members/tuncel/anaconda3/envs/pipe-env/lib/R/library/Rcpp/Meta/package.rds\"), \n  .         pillar = structure(list(Package = \"pillar\", Title = \"Coloured Formatting for Columns\", \n  .             Version = \"1.2.1\", `Authors@R` = \"c(\\n    person(\\\"Kirill\\\", \\\"Müller\\\", , \\\"krlmlr+r@mailbox.org\\\", role = c(\\\"aut\\\", \\\"cre\\\")),\\n    person(\\\"Hadley\\\", \\\"Wickham\\\", role = \\\"aut\\\"),\\n    person(\\\"RStudio\\\", role = \\\"cph\\\")\\n  )\", \n  .             Description = \"Provides a 'pillar' generic designed for formatting columns\\n   of data using the full range of colours provided by modern terminals.\", \n  .             License = \"GPL-3\", Encoding = \"UTF-8\", LazyData = \"true\", \n  .             URL = \"https://github.com/r-lib/pillar\", BugReports = \"https://github.com/r-lib/pillar/issues\", \n  .             Imports = \"cli (>= 1.0.0), crayon (>= 1.3.4), methods, rlang (>= 0.2.0),\\nutf8 (>= 1.1.3)\", \n  .             Suggests = \"knitr (>= 1.19), lubridate, testthat (>= 2.0.0)\", \n  .             RoxygenNote = \"6.0.1.9000\", Collate = \"'capital.R' 'compat-purrr.R' 'dim.R' 'extent.R' 'multi.R'\\n'ornament.R' 'pillar-package.R' 'pillar.R' 'rowid-capital.R'\\n'rowid-data.R' 'rowid-title.R' 'rowid-type.R' 'scientific.R'\\n'shaft.R' 'shaft-simple.R' 'sigfig.R' 'spark-bar.R'\\n'spark-line.R' 'strrep.R' 'styles.R' 'testthat.R' 'tick.R'\\n'title.R' 'type-sum.R' 'type.R' 'utils.R' 'width.R' 'zzz.R'\", \n  .             NeedsCompilation = \"no\", Packaged = \"2018-02-27 05:56:38 UTC; muelleki\", \n  .             Author = \"Kirill Müller [aut, cre],\\n  Hadley Wickham [aut],\\n  RStudio [cph]\", \n  .             Maintainer = \"Kirill Müller <krlmlr+r@mailbox.org>\", \n  .             Repository = \"CRAN\", `Date/Publication` = \"2018-02-27 12:42:32 UTC\", \n  .             Built = \"R 3.4.3; ; 2018-04-04 16:37:50 UTC; unix\"), .Names = c(\"Package\", \n  .         \"Title\", \"Version\", \"Authors@R\", \"Description\", \"License\", \n  .         \"Encoding\", \"LazyData\", \"URL\", \"BugReports\", \"Imports\", \n  .         \"Suggests\", \"RoxygenNote\", \"Collate\", \"NeedsCompilation\", \n  .         \"Packaged\", \"Author\", \"Maintainer\", \"Repository\", \"Date/Publication\", \n  .         \"Built\"), class = \"packageDescription\", file = \"/cluster/work/bewi/members/tuncel/anaconda3/envs/pipe-env/lib/R/library/pillar/Meta/package.rds\"), \n  .         plyr = structure(list(Package = \"plyr\", Version = \"1.8.4\", \n  .             Title = \"Tools for Splitting, Applying and Combining Data\", \n  .             Description = \"A set of tools that solves a common set of problems: you\\n    need to break a big problem down into manageable pieces, operate on each\\n    piece and then put all the pieces back together.  For example, you might\\n    want to fit a model to each spatial location or time point in your study,\\n    summarise data by panels or collapse high-dimensional arrays to simpler\\n    summary statistics. The development of 'plyr' has been generously supported\\n    by 'Becton Dickinson'.\", \n  .             `Authors@R` = \"person(\\\"Hadley\\\", \\\"Wickham\\\", , \\\"hadley@rstudio.com\\\", c(\\\"aut\\\", \\\"cre\\\"))\", \n  .             URL = \"http://had.co.nz/plyr, https://github.com/hadley/plyr\", \n  .             BugReports = \"https://github.com/hadley/plyr/issues\", \n  .             Depends = \"R (>= 3.1.0)\", Imports = \"Rcpp (>= 0.11.0)\", \n  .             LinkingTo = \"Rcpp\", Suggests = \"abind, testthat, tcltk, foreach, doParallel, itertools,\\niterators, covr\", \n  .             License = \"MIT + file LICENSE\", LazyData = \"true\", \n  .             RoxygenNote = \"5.0.1\", NeedsCompilation = \"yes\", \n  .             Packaged = \"2016-06-07 19:58:36 UTC; hadley\", Author = \"Hadley Wickham [aut, cre]\", \n  .             Maintainer = \"Hadley Wickham <hadley@rstudio.com>\", \n  .             Repository = \"CRAN\", `Date/Publication` = \"2016-06-08 10:40:15\", \n  .             Built = \"R 3.4.3; x86_64-conda_cos6-linux-gnu; 2018-04-04 16:32:39 UTC; unix\"), .Names = c(\"Package\", \n  .         \"Version\", \"Title\", \"Description\", \"Authors@R\", \"URL\", \n  .         \"BugReports\", \"Depends\", \"Imports\", \"LinkingTo\", \"Suggests\", \n  .         \"License\", \"LazyData\", \"RoxygenNote\", \"NeedsCompilation\", \n  .         \"Packaged\", \"Author\", \"Maintainer\", \"Repository\", \"Date/Publication\", \n  .         \"Built\"), class = \"packageDescription\", file = \"/cluster/work/bewi/members/tuncel/anaconda3/envs/pipe-env/lib/R/library/plyr/Meta/package.rds\"), \n  .         compiler = structure(list(Package = \"compiler\", Version = \"3.4.3\", \n  .             Priority = \"base\", Title = \"The R Compiler Package\", \n  .             Author = \"Luke Tierney <luke-tierney@uiowa.edu>\", \n  .             Maintainer = \"R Core Team <R-core@r-project.org>\", \n  .             Description = \"Byte code compiler for R.\", License = \"Part of R 3.4.3\", \n  .             Built = \"R 3.4.3; ; 2018-02-25 00:41:10 UTC; unix\"), .Names = c(\"Package\", \n  .         \"Version\", \"Priority\", \"Title\", \"Author\", \"Maintainer\", \n  .         \"Description\", \"License\", \"Built\"), class = \"packageDescription\", file = \"/cluster/work/bewi/members/tuncel/anaconda3/envs/pipe-env/lib/R/library/compiler/Meta/package.rds\"), \n  .         XVector = structure(list(Package = \"XVector\", Title = \"Representation and manipulation of external sequences\", \n  .             Description = \"Memory efficient S4 classes for storing sequences \\\"externally\\\"\\n\\t(behind an R external pointer, or on disk).\", \n  .             Version = \"0.18.0\", Encoding = \"UTF-8\", Author = \"Hervé Pagès and Patrick Aboyoun\", \n  .             Maintainer = \"Hervé Pagès <hpages@fredhutch.org>\", \n  .             biocViews = \"Infrastructure, DataRepresentation\", \n  .             Depends = \"R (>= 2.8.0), methods, BiocGenerics (>= 0.19.2), S4Vectors (>=\\n0.15.14), IRanges (>= 2.9.18)\", \n  .             Imports = \"methods, zlibbioc, BiocGenerics, S4Vectors, IRanges\", \n  .             LinkingTo = \"S4Vectors, IRanges\", Suggests = \"Biostrings, drosophila2probe, RUnit\", \n  .             License = \"Artistic-2.0\", Collate = \"io-utils.R RDS-random-access.R SharedVector-class.R\\nSharedRaw-class.R SharedInteger-class.R SharedDouble-class.R\\nXVector-class.R XRaw-class.R XInteger-class.R XDouble-class.R\\nXVectorList-class.R XRawList-class.R XRawList-comparison.R\\nXIntegerViews-class.R XDoubleViews-class.R OnDiskRaw-class.R\\nRdaCollection-class.R intra-range-methods.R compact-methods.R\\nreverse-methods.R slice-methods.R view-summarization-methods.R\\nupdateObject-methods.R zzz.R\", \n  .             NeedsCompilation = \"yes\", Packaged = \"2017-10-30 23:40:38 UTC; biocbuild\", \n  .             Built = \"R 3.4.3; x86_64-conda_cos6-linux-gnu; 2018-04-04 16:32:13 UTC; unix\"), .Names = c(\"Package\", \n  .         \"Title\", \"Description\", \"Version\", \"Encoding\", \"Author\", \n  .         \"Maintainer\", \"biocViews\", \"Depends\", \"Imports\", \"LinkingTo\", \n  .         \"Suggests\", \"License\", \"Collate\", \"NeedsCompilation\", \n  .         \"Packaged\", \"Built\"), class = \"packageDescription\", file = \"/cluster/work/bewi/members/tuncel/anaconda3/envs/pipe-env/lib/R/library/XVector/Meta/package.rds\"), \n  .         bitops = structure(list(Package = \"bitops\", Version = \"1.0-6\", \n  .             Date = \"2013-08-17\", Author = \"S original by Steve Dutky <sdutky@terpalum.umd.edu> initial R\\n        port and extensions by Martin Maechler; revised and modified\\n        by Steve Dutky\", \n  .             Maintainer = \"Martin Maechler <maechler@stat.math.ethz.ch>\", \n  .             Title = \"Bitwise Operations\", Description = \"Functions for bitwise operations on integer vectors.\", \n  .             License = \"GPL (>= 2)\", Packaged = \"2013-08-17 15:58:57 UTC; maechler\", \n  .             NeedsCompilation = \"yes\", Repository = \"CRAN\", `Date/Publication` = \"2013-08-17 21:10:34\", \n  .             Built = \"R 3.4.3; x86_64-conda_cos6-linux-gnu; 2018-03-25 21:32:36 UTC; unix\"), .Names = c(\"Package\", \n  .         \"Version\", \"Date\", \"Author\", \"Maintainer\", \"Title\", \"Description\", \n  .         \"License\", \"Packaged\", \"NeedsCompilation\", \"Repository\", \n  .         \"Date/Publication\", \"Built\"), class = \"packageDescription\", file = \"/cluster/work/bewi/members/tuncel/anaconda3/envs/pipe-env/lib/R/library/bitops/Meta/package.rds\"), \n  .         tools = structure(list(Package = \"tools\", Version = \"3.4.3\", \n  .             Priority = \"base\", Title = \"Tools for Package Development\", \n  .             Author = \"R Core Team\", Maintainer = \"R Core Team <R-core@r-project.org>\", \n  .             Description = \"Tools for package development, administration and documentation.\", \n  .             License = \"Part of R 3.4.3\", Suggests = \"codetools, methods, xml2, curl\", \n  .             NeedsCompilation = \"yes\", Built = \"R 3.4.3; x86_64-conda_cos6-linux-gnu; 2018-02-25 00:41:09 UTC; unix\"), .Names = c(\"Package\", \n  .         \"Version\", \"Priority\", \"Title\", \"Author\", \"Maintainer\", \n  .         \"Description\", \"License\", \"Suggests\", \"NeedsCompilation\", \n  .         \"Built\"), class = \"packageDescription\", file = \"/cluster/work/bewi/members/tuncel/anaconda3/envs/pipe-env/lib/R/library/tools/Meta/package.rds\"), \n  .         zlibbioc = structure(list(Package = \"zlibbioc\", Type = \"Package\", \n  .             Title = \"An R packaged zlib-1.2.5\", Version = \"1.24.0\", \n  .             Author = \"Martin Morgan\", Maintainer = \"Bioconductor Package Maintainer <maintainer@bioconductor.org>\", \n  .             Description = \"This package uses the source code of zlib-1.2.5 to create\\n  libraries for systems that do not have these available via other\\n  means (most Linux and Mac users should have system-level access to\\n  zlib, and no direct need for this package). See the vignette for\\n  instructions on use.\", \n  .             URL = \"http://bioconductor.org/packages/release/bioc/html/Zlibbioc.html\", \n  .             License = \"Artistic-2.0 + file LICENSE\", LazyLoad = \"yes\", \n  .             biocViews = \"Infrastructure\", NeedsCompilation = \"yes\", \n  .             Packaged = \"2017-10-30 23:14:36 UTC; biocbuild\", \n  .             Built = \"R 3.4.3; x86_64-conda_cos6-linux-gnu; 2018-03-25 21:35:40 UTC; unix\"), .Names = c(\"Package\", \n  .         \"Type\", \"Title\", \"Version\", \"Author\", \"Maintainer\", \"Description\", \n  .         \"URL\", \"License\", \"LazyLoad\", \"biocViews\", \"NeedsCompilation\", \n  .         \"Packaged\", \"Built\"), class = \"packageDescription\", file = \"/cluster/work/bewi/members/tuncel/anaconda3/envs/pipe-env/lib/R/library/zlibbioc/Meta/package.rds\"), \n  .         digest = structure(list(Package = \"digest\", Author = \"Dirk Eddelbuettel <edd@debian.org> with contributions \\n by Antoine Lucas, Jarek Tuszynski, Henrik Bengtsson, Simon Urbanek,\\n Mario Frasca, Bryan Lewis, Murray Stokely, Hannes Muehleisen,\\n Duncan Murdoch, Jim Hester, Wush Wu, Qiang Kou, Thierry Onkelinx, \\n Michel Lang, Viliam Simko and Kurt Hornik.\", \n  .             Version = \"0.6.15\", Date = \"2018-01-28\", Maintainer = \"Dirk Eddelbuettel <edd@debian.org>\", \n  .             Title = \"Create Compact Hash Digests of R Objects\", \n  .             Description = \"Implementation of a function 'digest()' for the creation \\n of hash digests of arbitrary R objects (using the 'md5', 'sha-1', 'sha-256', \\n 'crc32', 'xxhash' and 'murmurhash' algorithms) permitting easy comparison of R\\n language objects, as well as a function 'hmac()' to create hash-based\\n message authentication code. Please note that this package is not meant to\\n be deployed for cryptographic purposes for which more comprehensive (and\\n widely tested) libraries such as 'OpenSSL' should be used.\", \n  .             URL = \"http://dirk.eddelbuettel.com/code/digest.html\", \n  .             BugReports = \"https://github.com/eddelbuettel/digest/issues\", \n  .             Depends = \"R (>= 2.4.1)\", License = \"GPL (>= 2)\", \n  .             Suggests = \"knitr, rmarkdown\", VignetteBuilder = \"knitr\", \n  .             NeedsCompilation = \"yes\", Packaged = \"2018-01-28 16:42:14.094058 UTC; edd\", \n  .             Repository = \"CRAN\", `Date/Publication` = \"2018-01-28 21:43:31 UTC\", \n  .             Built = \"R 3.4.3; x86_64-conda_cos6-linux-gnu; 2018-04-05 08:51:15 UTC; unix\"), .Names = c(\"Package\", \n  .         \"Author\", \"Version\", \"Date\", \"Maintainer\", \"Title\", \"Description\", \n  .         \"URL\", \"BugReports\", \"Depends\", \"License\", \"Suggests\", \n  .         \"VignetteBuilder\", \"NeedsCompilation\", \"Packaged\", \"Repository\", \n  .         \"Date/Publication\", \"Built\"), class = \"packageDescription\", file = \"/cluster/work/bewi/members/tuncel/anaconda3/envs/pipe-env/lib/R/library/digest/Meta/package.rds\"), \n  .         uuid = structure(list(Package = \"uuid\", Version = \"0.1-2\", \n  .             Title = \"Tools for generating and handling of UUIDs\", \n  .             Author = \"Simon Urbanek <Simon.Urbanek@r-project.org> (R package), Theodore Ts'o <tytso@thunk.org> (libuuid)\", \n  .             Maintainer = \"Simon Urbanek <Simon.Urbanek@r-project.org>\", \n  .             Depends = \"R (>= 2.9.0)\", Description = \"Tools for generating and handling of UUIDs (Universally Unique Identifiers).\", \n  .             License = \"MIT + file LICENSE\", URL = \"http://www.rforge.net/uuid\", \n  .             NeedsCompilation = \"yes\", Packaged = \"2015-07-27 20:57:43 UTC; svnuser\", \n  .             Repository = \"CRAN\", `Date/Publication` = \"2015-07-28 08:03:46\", \n  .             Built = \"R 3.4.3; x86_64-conda_cos6-linux-gnu; 2018-04-05 08:51:14 UTC; unix\"), .Names = c(\"Package\", \n  .         \"Version\", \"Title\", \"Author\", \"Maintainer\", \"Depends\", \n  .         \"Description\", \"License\", \"URL\", \"NeedsCompilation\", \n  .         \"Packaged\", \"Repository\", \"Date/Publication\", \"Built\"\n  .         ), class = \"packageDescription\", file = \"/cluster/work/bewi/members/tuncel/anaconda3/envs/pipe-env/lib/R/library/uuid/Meta/package.rds\"), \n  .         tibble = structure(list(Package = \"tibble\", Title = \"Simple Data Frames\", \n  .             Version = \"1.4.2\", `Authors@R` = \"c(\\n    person(\\\"Kirill\\\", \\\"Müller\\\", , \\\"krlmlr+r@mailbox.org\\\", c(\\\"aut\\\", \\\"cre\\\")),\\n    person(\\\"Hadley\\\", \\\"Wickham\\\", , \\\"hadley@rstudio.com\\\", \\\"aut\\\"),\\n    person(\\\"Romain\\\", \\\"Francois\\\", , \\\"romain@r-enthusiasts.com\\\", \\\"ctb\\\"),\\n    person(\\\"RStudio\\\", role = \\\"cph\\\")\\n    )\", \n  .             Description = \"Provides a 'tbl_df' class (the 'tibble') that provides\\n    stricter checking and better formatting than the traditional data frame.\", \n  .             License = \"MIT + file LICENSE\", URL = \"http://tibble.tidyverse.org/, https://github.com/tidyverse/tibble\", \n  .             BugReports = \"https://github.com/tidyverse/tibble/issues\", \n  .             Depends = \"R (>= 3.1.0)\", Imports = \"cli, crayon, methods, pillar (>= 1.1.0), rlang, utils\", \n  .             Suggests = \"covr, dplyr, import, knitr (>= 1.5.32), microbenchmark,\\nmockr, nycflights13, rmarkdown, testthat, withr\", \n  .             VignetteBuilder = \"knitr\", Encoding = \"UTF-8\", LazyData = \"yes\", \n  .             RoxygenNote = \"6.0.1\", Collate = \"'add.R' 'as_tibble.R' 'check-names.R' 'compat-lazyeval.R'\\n'compat-purrr.R' 'enframe.R' 'exports.R' 'glimpse.R'\\n'has-name.R' 'tibble.R' 'lst.R' 'new.R' 'repair-names.R'\\n'rownames.R' 'strrep.R' 'tbl-df.r' 'tibble-package.R'\\n'tribble.R' 'type-sum.r' 'utils-format.r' 'utils.r' 'wrap.R'\", \n  .             NeedsCompilation = \"yes\", Packaged = \"2018-01-21 23:58:53 UTC; muelleki\", \n  .             Author = \"Kirill Müller [aut, cre],\\n  Hadley Wickham [aut],\\n  Romain Francois [ctb],\\n  RStudio [cph]\", \n  .             Maintainer = \"Kirill Müller <krlmlr+r@mailbox.org>\", \n  .             Repository = \"CRAN\", `Date/Publication` = \"2018-01-22 19:41:48 UTC\", \n  .             Built = \"R 3.4.3; x86_64-conda_cos6-linux-gnu; 2018-04-04 16:40:35 UTC; unix\"), .Names = c(\"Package\", \n  .         \"Title\", \"Version\", \"Authors@R\", \"Description\", \"License\", \n  .         \"URL\", \"BugReports\", \"Depends\", \"Imports\", \"Suggests\", \n  .         \"VignetteBuilder\", \"Encoding\", \"LazyData\", \"RoxygenNote\", \n  .         \"Collate\", \"NeedsCompilation\", \"Packaged\", \"Author\", \n  .         \"Maintainer\", \"Repository\", \"Date/Publication\", \"Built\"\n  .         ), class = \"packageDescription\", file = \"/cluster/work/bewi/members/tuncel/anaconda3/envs/pipe-env/lib/R/library/tibble/Meta/package.rds\"), \n  .         gtable = structure(list(Package = \"gtable\", Version = \"0.2.0\", \n  .             Title = \"Arrange 'Grobs' in Tables\", Description = \"Tools to make it easier to work with \\\"tables\\\" of 'grobs'.\", \n  .             `Authors@R` = \"person(\\\"Hadley\\\", \\\"Wickham\\\", , \\\"hadley@rstudio.com\\\", c(\\\"aut\\\", \\\"cre\\\"))\", \n  .             Depends = \"R (>= 2.14)\", Imports = \"grid\", Suggests = \"testthat, covr\", \n  .             License = \"GPL-2\", Collate = \"'add-grob.r' 'add-rows-cols.r' 'add-space.r' 'grid.r'\\n'gtable-layouts.r' 'gtable.r' 'rbind-cbind.r' 'utils.r'\\n'trim.r' 'filter.r' 'align.r' 'padding.r' 'z.r'\", \n  .             RoxygenNote = \"5.0.1\", NeedsCompilation = \"no\", Packaged = \"2016-02-26 13:06:10 UTC; hadley\", \n  .             Author = \"Hadley Wickham [aut, cre]\", Maintainer = \"Hadley Wickham <hadley@rstudio.com>\", \n  .             Repository = \"CRAN\", `Date/Publication` = \"2016-02-26 15:23:14\", \n  .             Built = \"R 3.4.3; ; 2018-04-04 16:35:04 UTC; unix\"), .Names = c(\"Package\", \n  .         \"Version\", \"Title\", \"Description\", \"Authors@R\", \"Depends\", \n  .         \"Imports\", \"Suggests\", \"License\", \"Collate\", \"RoxygenNote\", \n  .         \"NeedsCompilation\", \"Packaged\", \"Author\", \"Maintainer\", \n  .         \"Repository\", \"Date/Publication\", \"Built\"), class = \"packageDescription\", file = \"/cluster/work/bewi/members/tuncel/anaconda3/envs/pipe-env/lib/R/library/gtable/Meta/package.rds\"), \n  .         jsonlite = structure(list(Package = \"jsonlite\", Version = \"1.5\", \n  .             Title = \"A Robust, High Performance JSON Parser and Generator for R\", \n  .             License = \"MIT + file LICENSE\", NeedsCompilation = \"yes\", \n  .             Depends = \"methods\", Author = \"Jeroen Ooms, Duncan Temple Lang, Lloyd Hilaiel\", \n  .             URL = \"https://arxiv.org/abs/1403.2805,\\nhttps://www.opencpu.org/posts/jsonlite-a-smarter-json-encoder\", \n  .             BugReports = \"http://github.com/jeroen/jsonlite/issues\", \n  .             Maintainer = \"Jeroen Ooms <jeroen@berkeley.edu>\", \n  .             VignetteBuilder = \"knitr, R.rsp\", Description = \"A fast JSON parser and generator optimized for statistical data\\n    and the web. Started out as a fork of 'RJSONIO', but has been completely\\n    rewritten in recent versions. The package offers flexible, robust, high\\n    performance tools for working with JSON in R and is particularly powerful\\n    for building pipelines and interacting with a web API. The implementation is\\n    based on the mapping described in the vignette (Ooms, 2014). In addition to\\n    converting JSON data from/to R objects, 'jsonlite' contains functions to\\n    stream, validate, and prettify JSON data. The unit tests included with the\\n    package verify that all edge cases are encoded and decoded consistently for\\n    use with dynamic data in systems and applications.\", \n  .             Suggests = \"httr, curl, plyr, testthat, knitr, rmarkdown, R.rsp, sp\", \n  .             RoxygenNote = \"6.0.1.9000\", Packaged = \"2017-05-31 14:03:43 UTC; jeroen\", \n  .             Repository = \"CRAN\", `Date/Publication` = \"2017-06-01 12:03:37 UTC\", \n  .             Built = \"R 3.4.3; x86_64-conda_cos6-linux-gnu; 2018-02-25 01:35:03 UTC; unix\"), .Names = c(\"Package\", \n  .         \"Version\", \"Title\", \"License\", \"NeedsCompilation\", \"Depends\", \n  .         \"Author\", \"URL\", \"BugReports\", \"Maintainer\", \"VignetteBuilder\", \n  .         \"Description\", \"Suggests\", \"RoxygenNote\", \"Packaged\", \n  .         \"Repository\", \"Date/Publication\", \"Built\"), class = \"packageDescription\", file = \"/cluster/work/bewi/members/tuncel/anaconda3/envs/pipe-env/lib/R/library/jsonlite/Meta/package.rds\"), \n  .         evaluate = structure(list(Package = \"evaluate\", Type = \"Package\", \n  .             Title = \"Parsing and Evaluation Tools that Provide More Details than the\\nDefault\", \n  .             Version = \"0.10.1\", Date = \"2017-06-24\", `Authors@R` = \"c(\\n    person(\\\"Hadley\\\", \\\"Wickham\\\", role = \\\"aut\\\"),\\n    person(\\\"Yihui\\\", \\\"Xie\\\", role = c(\\\"cre\\\", \\\"ctb\\\"), email = \\\"xie@yihui.name\\\"),\\n    person(\\\"Michael\\\", \\\"Lawrence\\\", role = \\\"ctb\\\"),\\n    person(\\\"Thomas\\\", \\\"Kluyver\\\", role = \\\"ctb\\\"),\\n    person(\\\"Barret\\\", \\\"Schloerke\\\", role = \\\"ctb\\\"),\\n    person(\\\"Adam\\\", \\\"Ryczkowski\\\", role = \\\"ctb\\\")\\n    )\", \n  .             Description = \"Parsing and evaluation tools that make it easy to recreate the\\n    command line behaviour of R.\", \n  .             License = \"MIT + file LICENSE\", URL = \"https://github.com/hadley/evaluate\", \n  .             BugReports = \"https://github.com/hadley/evaluate/issues\", \n  .             Depends = \"R (>= 3.0.2)\", Imports = \"methods, stringr (>= 0.6.2)\", \n  .             Suggests = \"testthat, lattice, ggplot2\", RoxygenNote = \"6.0.1\", \n  .             NeedsCompilation = \"no\", Packaged = \"2017-06-23 22:15:15 UTC; yihui\", \n  .             Author = \"Hadley Wickham [aut],\\n  Yihui Xie [cre, ctb],\\n  Michael Lawrence [ctb],\\n  Thomas Kluyver [ctb],\\n  Barret Schloerke [ctb],\\n  Adam Ryczkowski [ctb]\", \n  .             Maintainer = \"Yihui Xie <xie@yihui.name>\", Repository = \"CRAN\", \n  .             `Date/Publication` = \"2017-06-24 07:25:41 UTC\", Built = \"R 3.4.3; ; 2018-04-05 08:50:16 UTC; unix\"), .Names = c(\"Package\", \n  .         \"Type\", \"Title\", \"Version\", \"Date\", \"Authors@R\", \"Description\", \n  .         \"License\", \"URL\", \"BugReports\", \"Depends\", \"Imports\", \n  .         \"Suggests\", \"RoxygenNote\", \"NeedsCompilation\", \"Packaged\", \n  .         \"Author\", \"Maintainer\", \"Repository\", \"Date/Publication\", \n  .         \"Built\"), class = \"packageDescription\", file = \"/cluster/work/bewi/members/tuncel/anaconda3/envs/pipe-env/lib/R/library/evaluate/Meta/package.rds\"), \n  .         lattice = structure(list(Package = \"lattice\", Version = \"0.20-35\", \n  .             Date = \"2017-03-23\", Priority = \"recommended\", Title = \"Trellis Graphics for R\", \n  .             Author = \"Deepayan Sarkar <deepayan.sarkar@r-project.org>\", \n  .             Maintainer = \"Deepayan Sarkar <deepayan.sarkar@r-project.org>\", \n  .             Description = \"A powerful and elegant high-level data visualization\\n  system inspired by Trellis graphics, with an emphasis on\\n  multivariate data. Lattice is sufficient for typical graphics needs,\\n  and is also flexible enough to handle most nonstandard requirements.\\n  See ?Lattice for an introduction.\", \n  .             Depends = \"R (>= 3.0.0)\", Suggests = \"KernSmooth, MASS, latticeExtra\", \n  .             Imports = \"grid, grDevices, graphics, stats, utils\", \n  .             Enhances = \"chron\", LazyLoad = \"yes\", LazyData = \"yes\", \n  .             License = \"GPL (>= 2)\", URL = \"http://lattice.r-forge.r-project.org/\", \n  .             BugReports = \"https://github.com/deepayan/lattice/issues\", \n  .             NeedsCompilation = \"yes\", Packaged = \"2017-03-25 11:25:40 UTC; deepayan\", \n  .             Repository = \"CRAN\", `Date/Publication` = \"2017-03-25 18:05:47 UTC\", \n  .             Built = \"R 3.4.3; x86_64-conda_cos6-linux-gnu; 2018-04-04 16:35:06 UTC; unix\"), .Names = c(\"Package\", \n  .         \"Version\", \"Date\", \"Priority\", \"Title\", \"Author\", \"Maintainer\", \n  .         \"Description\", \"Depends\", \"Suggests\", \"Imports\", \"Enhances\", \n  .         \"LazyLoad\", \"LazyData\", \"License\", \"URL\", \"BugReports\", \n  .         \"NeedsCompilation\", \"Packaged\", \"Repository\", \"Date/Publication\", \n  .         \"Built\"), class = \"packageDescription\", file = \"/cluster/work/bewi/members/tuncel/anaconda3/envs/pipe-env/lib/R/library/lattice/Meta/package.rds\"), \n  .         rlang = structure(list(Package = \"rlang\", Version = \"0.2.0\", \n  .             Title = \"Functions for Base Types and Core R and 'Tidyverse' Features\", \n  .             Description = \"A toolbox for working with base types, core R features\\n  like the condition system, and core 'Tidyverse' features like tidy\\n  evaluation.\", \n  .             `Authors@R` = \"c(\\n    person(\\\"Lionel\\\", \\\"Henry\\\", ,\\\"lionel@rstudio.com\\\", c(\\\"aut\\\", \\\"cre\\\")),\\n    person(\\\"Hadley\\\", \\\"Wickham\\\", ,\\\"hadley@rstudio.com\\\", \\\"aut\\\"),\\n    person(\\\"RStudio\\\", role = \\\"cph\\\")\\n    )\", \n  .             License = \"GPL-3\", LazyData = \"true\", ByteCompile = \"true\", \n  .             Depends = \"R (>= 3.1.0)\", Suggests = \"crayon, knitr, methods, pillar, rmarkdown (>= 0.2.65),\\ntestthat, covr\", \n  .             RoxygenNote = \"6.0.1\", URL = \"http://rlang.tidyverse.org, https://github.com/r-lib/rlang\", \n  .             BugReports = \"https://github.com/r-lib/rlang/issues\", \n  .             NeedsCompilation = \"yes\", Packaged = \"2018-02-20 06:15:49 UTC; lionel\", \n  .             Author = \"Lionel Henry [aut, cre],\\n  Hadley Wickham [aut],\\n  RStudio [cph]\", \n  .             Maintainer = \"Lionel Henry <lionel@rstudio.com>\", \n  .             Repository = \"CRAN\", `Date/Publication` = \"2018-02-20 10:07:47 UTC\", \n  .             Built = \"R 3.4.3; x86_64-conda_cos6-linux-gnu; 2018-04-04 16:31:27 UTC; unix\"), .Names = c(\"Package\", \n  .         \"Version\", \"Title\", \"Description\", \"Authors@R\", \"License\", \n  .         \"LazyData\", \"ByteCompile\", \"Depends\", \"Suggests\", \"RoxygenNote\", \n  .         \"URL\", \"BugReports\", \"NeedsCompilation\", \"Packaged\", \n  .         \"Author\", \"Maintainer\", \"Repository\", \"Date/Publication\", \n  .         \"Built\"), class = \"packageDescription\", file = \"/cluster/work/bewi/members/tuncel/anaconda3/envs/pipe-env/lib/R/library/rlang/Meta/package.rds\"), \n  .         Matrix = structure(list(Package = \"Matrix\", Version = \"1.2-13\", \n  .             Date = \"2018-03-23\", Priority = \"recommended\", Title = \"Sparse and Dense Matrix Classes and Methods\", \n  .             Contact = \"Doug and Martin <Matrix-authors@R-project.org>\", \n  .             Maintainer = \"Martin Maechler <mmaechler+Matrix@gmail.com>\", \n  .             `Authors@R` = \"c(person(\\\"Douglas\\\",\\\"Bates\\\", role=\\\"aut\\\")\\n , person(\\\"Martin\\\",\\\"Maechler\\\", email=\\\"mmaechler+Matrix@gmail.com\\\",\\n           role = c(\\\"aut\\\",\\\"cre\\\"))\\n , person(\\\"Timothy A.\\\", \\\"Davis\\\", role=\\\"ctb\\\",\\n           comment = c(\\\"SuiteSparse and 'cs' C libraries, notably CHOLMOD, AMD;\\n\\t\\t       collaborators listed in\\n\\t\\t\\tdir(pattern = '^[A-Z]+[.]txt$', full.names=TRUE,\\n\\t\\t\\t    system.file('doc', 'SuiteSparse', package='Matrix'))\\\"))\\n , person(\\\"Jens\\\", \\\"Oehlschlägel\\\", role=\\\"ctb\\\", comment=\\\"initial nearPD()\\\")\\n , person(\\\"Jason\\\", \\\"Riedy\\\", role=\\\"ctb\\\",\\n          comment = c(\\\"condest() and onenormest() for octave\\\",\\n \\t  \\t      \\\"Copyright: Regents of the University of California\\\"))\\n , person(\\\"R Core Team\\\", role = \\\"ctb\\\", comment=\\\"base R matrix implementation\\\")\\n )\", \n  .             Description = \"A rich hierarchy of matrix classes, including triangular,\\n   symmetric, and diagonal matrices, both dense and sparse and with\\n   pattern, logical and numeric entries.   Numerous methods for and\\n   operations on these matrices, using 'LAPACK' and 'SuiteSparse' libraries.\", \n  .             Depends = \"R (>= 3.2.0)\", Imports = \"methods, graphics, grid, stats, utils, lattice\", \n  .             Suggests = \"expm, MASS\", Enhances = \"MatrixModels, graph, SparseM, sfsmisc\", \n  .             Encoding = \"UTF-8\", LazyData = \"no\", LazyDataNote = \"not possible, since we use data/*.R *and* our classes\", \n  .             BuildResaveData = \"no\", License = \"GPL (>= 2) | file LICENCE\", \n  .             URL = \"http://Matrix.R-forge.R-project.org/\", BugReports = \"https://r-forge.r-project.org/tracker/?group_id=61\", \n  .             NeedsCompilation = \"yes\", Packaged = \"2018-03-25 19:05:28 UTC; maechler\", \n  .             Author = \"Douglas Bates [aut],\\n  Martin Maechler [aut, cre],\\n  Timothy A. Davis [ctb] (SuiteSparse and 'cs' C libraries, notably\\n    CHOLMOD, AMD; collaborators listed in dir(pattern =\\n    '^[A-Z]+[.]txt$', full.names=TRUE, system.file('doc',\\n    'SuiteSparse', package='Matrix'))),\\n  Jens Oehlschlägel [ctb] (initial nearPD()),\\n  Jason Riedy [ctb] (condest() and onenormest() for octave, Copyright:\\n    Regents of the University of California),\\n  R Core Team [ctb] (base R matrix implementation)\", \n  .             Repository = \"CRAN\", `Date/Publication` = \"2018-04-02 10:38:38 UTC\", \n  .             Built = \"R 3.4.3; x86_64-conda_cos6-linux-gnu; 2018-04-04 16:36:30 UTC; unix\"), .Names = c(\"Package\", \n  .         \"Version\", \"Date\", \"Priority\", \"Title\", \"Contact\", \"Maintainer\", \n  .         \"Authors@R\", \"Description\", \"Depends\", \"Imports\", \"Suggests\", \n  .         \"Enhances\", \"Encoding\", \"LazyData\", \"LazyDataNote\", \"BuildResaveData\", \n  .         \"License\", \"URL\", \"BugReports\", \"NeedsCompilation\", \"Packaged\", \n  .         \"Author\", \"Repository\", \"Date/Publication\", \"Built\"), class = \"packageDescription\", file = \"/cluster/work/bewi/members/tuncel/anaconda3/envs/pipe-env/lib/R/library/Matrix/Meta/package.rds\"), \n  .         IRdisplay = structure(list(Package = \"IRdisplay\", Title = \"'Jupyter' Display Machinery\", \n  .             Description = \"\\n    An interface to the rich display capabilities of 'Jupyter' front-ends (e.g. 'Jupyter Notebook') <https://jupyter.org>.\\n    Designed to be used from a running 'IRkernel' session <https://irkernel.github.io>.\", \n  .             Version = \"0.4.4\", `Authors@R` = \"c(\\n    person('Thomas', 'Kluyver', role = c('aut', 'cph'), email = 'thomas@kluyver.me.uk'),\\n    person('Philipp', 'Angerer', role = c('aut', 'cph', 'cre'), email = 'phil.angerer@gmail.com'),\\n    person('Jan', 'Schulz', role = c('aut', 'cph'), email = 'jasc@gmx.net'))\", \n  .             Depends = \"R (>= 3.0.1)\", Suggests = \"testthat, withr\", \n  .             Imports = \"repr\", License = \"MIT + file LICENSE\", \n  .             LazyData = \"true\", RoxygenNote = \"5.0.1\", NeedsCompilation = \"no\", \n  .             Packaged = \"2016-08-02 11:52:46 UTC; angerer\", Author = \"Thomas Kluyver [aut, cph],\\n  Philipp Angerer [aut, cph, cre],\\n  Jan Schulz [aut, cph]\", \n  .             Maintainer = \"Philipp Angerer <phil.angerer@gmail.com>\", \n  .             Repository = \"CRAN\", `Date/Publication` = \"2016-08-02 14:45:35\", \n  .             Built = \"R 3.4.3; ; 2018-04-05 08:51:18 UTC; unix\"), .Names = c(\"Package\", \n  .         \"Title\", \"Description\", \"Version\", \"Authors@R\", \"Depends\", \n  .         \"Suggests\", \"Imports\", \"License\", \"LazyData\", \"RoxygenNote\", \n  .         \"NeedsCompilation\", \"Packaged\", \"Author\", \"Maintainer\", \n  .         \"Repository\", \"Date/Publication\", \"Built\"), class = \"packageDescription\", file = \"/cluster/work/bewi/members/tuncel/anaconda3/envs/pipe-env/lib/R/library/IRdisplay/Meta/package.rds\"), \n  .         IRkernel = structure(list(Package = \"IRkernel\", Title = \"Native R Kernel for the 'Jupyter Notebook'\", \n  .             Description = \"\\n    The R kernel for the 'Jupyter' environment executes R code which the front-end\\n    ('Jupyter Notebook' or other front-ends) submits to the kernel via the network.\", \n  .             Version = \"0.8.11\", `Authors@R` = \"c(\\n    person('Thomas', 'Kluyver', role = c('aut', 'cph'), email = 'thomas@kluyver.me.uk'),\\n    person('Philipp', 'Angerer', role = c('aut', 'cph', 'cre'), email = 'phil.angerer@gmail.com'),\\n    person('Jan', 'Schulz', role = c('aut', 'cph'), email = 'jasc@gmx.net'),\\n    person('Karthik', 'Ram', role = c('aut', 'cph'), email = 'karthik.ram@gmail.com'))\", \n  .             Depends = \"R (>= 3.2.0)\", Suggests = \"testthat,\\nroxygen2\", \n  .             SystemRequirements = \"jupyter,\\njupyter_kernel_test (Python package for testing)\", \n  .             License = \"MIT + file LICENSE\", LazyData = \"true\", \n  .             Encoding = \"UTF-8\", Imports = \"repr (>= 0.4.99),\\nmethods,\\nevaluate (>= 0.10),\\nIRdisplay (>= 0.3.0.9999),\\npbdZMQ (>= 0.2-1),\\ncrayon,\\njsonlite (>= 0.9.6),\\nuuid,\\ndigest\", \n  .             Collate = \"'class_unions.r'\\n'logging.r'\\n'comm_manager.r'\\n'compat.r'\\n'environment_runtime.r'\\n'environment_shadow.r'\\n'options.r'\\n'execution.r'\\n'handlers.r'\\n'help.r'\\n'installspec.r'\\n'utils.r'\\n'kernel.r'\\n'main.r'\\n'onload.r'\", \n  .             RoxygenNote = \"6.0.1.9000\", Author = \"Thomas Kluyver [aut, cph],\\n  Philipp Angerer [aut, cph, cre],\\n  Jan Schulz [aut, cph],\\n  Karthik Ram [aut, cph]\", \n  .             Maintainer = \"Philipp Angerer <phil.angerer@gmail.com>\", \n  .             Built = \"R 3.4.3; ; 2018-02-25 03:05:29 UTC; unix\"), .Names = c(\"Package\", \n  .         \"Title\", \"Description\", \"Version\", \"Authors@R\", \"Depends\", \n  .         \"Suggests\", \"SystemRequirements\", \"License\", \"LazyData\", \n  .         \"Encoding\", \"Imports\", \"Collate\", \"RoxygenNote\", \"Author\", \n  .         \"Maintainer\", \"Built\"), class = \"packageDescription\", file = \"/cluster/work/bewi/members/tuncel/anaconda3/envs/pipe-env/lib/R/library/IRkernel/Meta/package.rds\"), \n  .         GenomeInfoDbData = structure(list(Package = \"GenomeInfoDbData\", \n  .             Title = \"Species and taxonomy ID look up tables used by GenomeInfoDb\", \n  .             Description = \"Files for mapping between NCBI taxonomy ID and species. Used\\n        by functions in the GenomeInfoDb package.\", \n  .             Version = \"1.0.0\", Author = \"Bioconductor Core Team \", \n  .             Maintainer = \"Bioconductor Maintainer <maintainer@bioconductor.org>\", \n  .             Depends = \"R (>= 3.3)\", biocViews = \"AnnotationData, Organism\", \n  .             License = \"Artistic-2.0\", NeedsCompilation = \"no\", \n  .             Packaged = \"2017-12-14 12:34:59 UTC; lori\", Built = \"R 3.4.3; ; 2018-04-04 16:32:19 UTC; unix\"), .Names = c(\"Package\", \n  .         \"Title\", \"Description\", \"Version\", \"Author\", \"Maintainer\", \n  .         \"Depends\", \"biocViews\", \"License\", \"NeedsCompilation\", \n  .         \"Packaged\", \"Built\"), class = \"packageDescription\", file = \"/cluster/work/bewi/members/tuncel/anaconda3/envs/pipe-env/lib/R/library/GenomeInfoDbData/Meta/package.rds\"), \n  .         repr = structure(list(Package = \"repr\", Title = \"Serializable Representations\", \n  .             Version = \"0.12.0\", `Authors@R` = \"c(\\n    person('Philipp', 'Angerer', email = 'phil.angerer@gmail.com', role = c('aut', 'cre')),\\n    person('Thomas', 'Kluyver', email = 'thomas@kluyver.me.uk', role = 'aut'),\\n    person('Jan', 'Schulz', email = 'jasc@gmx.net', role = 'aut'),\\n    person('abielr', role = 'ctb'),\\n    person('Denilson', 'Figueiredo de Sa', role = 'ctb'),\\n    person('Jim', 'Hester', role = 'ctb'),\\n    person('karldw', role = 'ctb')\\n    )\", \n  .             Maintainer = \"Philipp Angerer <phil.angerer@gmail.com>\", \n  .             Description = \"String and binary representations of objects for several formats /\\n    mime types.\", \n  .             Depends = \"R (>= 3.0.1)\", Imports = \"utils, grDevices\", \n  .             Suggests = \"methods, highr, Cairo, testthat\", Enhances = \"data.table, dplyr, htmlwidgets\", \n  .             License = \"GPL-3\", LazyData = \"true\", Encoding = \"UTF-8\", \n  .             Collate = \"'generics.r' 'options.r' 'package.r' 'repr_datatable.r'\\n'utils.r' 'repr_function.r' 'repr_help_files_with_topic.r'\\n'repr_htmlwidget.r' 'repr_list.r' 'repr_matrix_df.r'\\n'repr_packageIQR.r' 'repr_recordedplot.r' 'repr_vector.r'\", \n  .             RoxygenNote = \"6.0.1.9000\", NeedsCompilation = \"no\", \n  .             Packaged = \"2017-04-07 09:59:00 UTC; angerer\", Author = \"Philipp Angerer [aut, cre],\\n  Thomas Kluyver [aut],\\n  Jan Schulz [aut],\\n  abielr [ctb],\\n  Denilson Figueiredo de Sa [ctb],\\n  Jim Hester [ctb],\\n  karldw [ctb]\", \n  .             Repository = \"CRAN\", `Date/Publication` = \"2017-04-07 13:08:00 UTC\", \n  .             Built = \"R 3.4.3; ; 2018-04-05 08:50:15 UTC; unix\"), .Names = c(\"Package\", \n  .         \"Title\", \"Version\", \"Authors@R\", \"Maintainer\", \"Description\", \n  .         \"Depends\", \"Imports\", \"Suggests\", \"Enhances\", \"License\", \n  .         \"LazyData\", \"Encoding\", \"Collate\", \"RoxygenNote\", \"NeedsCompilation\", \n  .         \"Packaged\", \"Author\", \"Repository\", \"Date/Publication\", \n  .         \"Built\"), class = \"packageDescription\", file = \"/cluster/work/bewi/members/tuncel/anaconda3/envs/pipe-env/lib/R/library/repr/Meta/package.rds\"), \n  .         stringr = structure(list(Package = \"stringr\", Version = \"1.2.0\", \n  .             Title = \"Simple, Consistent Wrappers for Common String Operations\", \n  .             Description = \"A consistent, simple and easy to use set of wrappers around the\\n    fantastic 'stringi' package. All function and argument names (and positions)\\n    are consistent, all functions deal with \\\"NA\\\"'s and zero length vectors\\n    in the same way, and the output from one function is easy to feed into\\n    the input of another.\", \n  .             `Authors@R` = \"c(\\n    person(\\\"Hadley\\\", \\\"Wickham\\\", , \\\"hadley@rstudio.com\\\", c(\\\"aut\\\", \\\"cre\\\", \\\"cph\\\")),\\n    person(\\\"RStudio\\\", role = \\\"cph\\\")\\n    )\", \n  .             License = \"GPL-2 | file LICENSE\", Depends = \"R (>= 2.14)\", \n  .             Imports = \"stringi (>= 0.4.1), magrittr\", Suggests = \"testthat, knitr, htmltools, htmlwidgets, rmarkdown, covr\", \n  .             VignetteBuilder = \"knitr\", URL = \"http://stringr.tidyverse.org, https://github.com/tidyverse/stringr\", \n  .             BugReports = \"https://github.com/tidyverse/stringr/issues\", \n  .             RoxygenNote = \"6.0.1\", LazyData = \"true\", NeedsCompilation = \"no\", \n  .             Packaged = \"2017-02-17 15:23:03 UTC; hadley\", Author = \"Hadley Wickham [aut, cre, cph],\\n  RStudio [cph]\", \n  .             Maintainer = \"Hadley Wickham <hadley@rstudio.com>\", \n  .             Repository = \"CRAN\", `Date/Publication` = \"2017-02-18 21:23:06\", \n  .             Built = \"R 3.4.3; ; 2018-02-25 01:21:47 UTC; unix\"), .Names = c(\"Package\", \n  .         \"Version\", \"Title\", \"Description\", \"Authors@R\", \"License\", \n  .         \"Depends\", \"Imports\", \"Suggests\", \"VignetteBuilder\", \n  .         \"URL\", \"BugReports\", \"RoxygenNote\", \"LazyData\", \"NeedsCompilation\", \n  .         \"Packaged\", \"Author\", \"Maintainer\", \"Repository\", \"Date/Publication\", \n  .         \"Built\"), class = \"packageDescription\", file = \"/cluster/work/bewi/members/tuncel/anaconda3/envs/pipe-env/lib/R/library/stringr/Meta/package.rds\"), \n  .         locfit = structure(list(Package = \"locfit\", Version = \"1.5-9.1\", \n  .             Title = \"Local Regression, Likelihood and Density Estimation.\", \n  .             Date = \"2013-03-22\", Author = \"Catherine Loader\", \n  .             Maintainer = \"Andy Liaw <andy_liaw@merck.com>\", Description = \"Local regression, likelihood and density estimation.\", \n  .             Depends = \"R (>= 2.0.1)\", Imports = \"lattice\", Suggests = \"akima, gam\", \n  .             License = \"GPL (>= 2)\", Packaged = \"2013-04-20 06:56:26 UTC; ripley\", \n  .             Repository = \"CRAN\", `Date/Publication` = \"2013-04-20 09:01:16\", \n  .             NeedsCompilation = \"yes\", Built = \"R 3.4.3; x86_64-conda_cos6-linux-gnu; 2018-04-04 16:37:38 UTC; unix\"), .Names = c(\"Package\", \n  .         \"Version\", \"Title\", \"Date\", \"Author\", \"Maintainer\", \"Description\", \n  .         \"Depends\", \"Imports\", \"Suggests\", \"License\", \"Packaged\", \n  .         \"Repository\", \"Date/Publication\", \"NeedsCompilation\", \n  .         \"Built\"), class = \"packageDescription\", file = \"/cluster/work/bewi/members/tuncel/anaconda3/envs/pipe-env/lib/R/library/locfit/Meta/package.rds\"), \n  .         grid = structure(list(Package = \"grid\", Version = \"3.4.3\", \n  .             Priority = \"base\", Title = \"The Grid Graphics Package\", \n  .             Author = \"Paul Murrell <paul@stat.auckland.ac.nz>\", \n  .             Maintainer = \"R Core Team <R-core@r-project.org>\", \n  .             Description = \"A rewrite of the graphics layout capabilities, plus some\\n  support for interaction.\", \n  .             Imports = \"grDevices, utils\", Suggests = \"lattice\", \n  .             License = \"Part of R 3.4.3\", NeedsCompilation = \"yes\", \n  .             Built = \"R 3.4.3; x86_64-conda_cos6-linux-gnu; 2018-02-25 00:43:17 UTC; unix\"), .Names = c(\"Package\", \n  .         \"Version\", \"Priority\", \"Title\", \"Author\", \"Maintainer\", \n  .         \"Description\", \"Imports\", \"Suggests\", \"License\", \"NeedsCompilation\", \n  .         \"Built\"), class = \"packageDescription\", file = \"/cluster/work/bewi/members/tuncel/anaconda3/envs/pipe-env/lib/R/library/grid/Meta/package.rds\"), \n  .         data.table = structure(list(Package = \"data.table\", Version = \"1.10.4-3\", \n  .             Title = \"Extension of `data.frame`\", `Authors@R` = \"c(\\n  person(\\\"Matt\\\",\\\"Dowle\\\",      role=c(\\\"aut\\\",\\\"cre\\\"), email=\\\"mattjdowle@gmail.com\\\"),\\n  person(\\\"Arun\\\",\\\"Srinivasan\\\", role=\\\"aut\\\", email=\\\"arunkumar.sriniv@gmail.com\\\"),\\n  person(\\\"Jan\\\",\\\"Gorecki\\\",     role=\\\"ctb\\\"),\\n  person(\\\"Tom\\\",\\\"Short\\\",       role=\\\"ctb\\\"),\\n  person(\\\"Steve\\\",\\\"Lianoglou\\\", role=\\\"ctb\\\"),\\n  person(\\\"Eduard\\\",\\\"Antonyan\\\", role=\\\"ctb\\\") )\", \n  .             Depends = \"R (>= 3.0.0)\", Imports = \"methods\", Suggests = \"bit64, knitr, nanotime, chron, ggplot2 (>= 0.9.0), plyr,\\nreshape, reshape2, testthat (>= 0.4), hexbin, fastmatch, nlme,\\nxts, gdata, GenomicRanges, caret, curl, zoo, plm, rmarkdown,\\nparallel\", \n  .             Description = \"Fast aggregation of large data (e.g. 100GB in RAM), fast ordered joins, fast add/modify/delete of columns by group using no copies at all, list columns, a fast friendly file reader and parallel file writer. Offers a natural and flexible syntax, for faster development.\", \n  .             License = \"GPL-3 | file LICENSE\", URL = \"http://r-datatable.com\", \n  .             BugReports = \"https://github.com/Rdatatable/data.table/issues\", \n  .             MailingList = \"datatable-help@lists.r-forge.r-project.org\", \n  .             VignetteBuilder = \"knitr\", ByteCompile = \"TRUE\", \n  .             NeedsCompilation = \"yes\", Packaged = \"2017-10-19 21:11:19.239 UTC; mdowle\", \n  .             Author = \"Matt Dowle [aut, cre],\\n  Arun Srinivasan [aut],\\n  Jan Gorecki [ctb],\\n  Tom Short [ctb],\\n  Steve Lianoglou [ctb],\\n  Eduard Antonyan [ctb]\", \n  .             Maintainer = \"Matt Dowle <mattjdowle@gmail.com>\", \n  .             Repository = \"CRAN\", `Date/Publication` = \"2017-10-27 07:40:34 UTC\", \n  .             Built = \"R 3.4.3; x86_64-conda_cos6-linux-gnu; 2018-04-04 16:32:25 UTC; unix\"), .Names = c(\"Package\", \n  .         \"Version\", \"Title\", \"Authors@R\", \"Depends\", \"Imports\", \n  .         \"Suggests\", \"Description\", \"License\", \"URL\", \"BugReports\", \n  .         \"MailingList\", \"VignetteBuilder\", \"ByteCompile\", \"NeedsCompilation\", \n  .         \"Packaged\", \"Author\", \"Maintainer\", \"Repository\", \"Date/Publication\", \n  .         \"Built\"), class = \"packageDescription\", file = \"/cluster/work/bewi/members/tuncel/anaconda3/envs/pipe-env/lib/R/library/data.table/Meta/package.rds\"), \n  .         pbdZMQ = structure(list(Package = \"pbdZMQ\", Version = \"0.3-2\", \n  .             Date = \"2018-01-11\", Title = \"Programming with Big Data -- Interface to 'ZeroMQ'\", \n  .             `Authors@R` = \"c(person(\\\"Wei-Chen\\\", \\\"Chen\\\", role = c(\\\"aut\\\", \\\"cre\\\"), email =\\n        \\\"wccsnow@gmail.com\\\"),\\n        person(\\\"Drew\\\", \\\"Schmidt\\\", role = \\\"aut\\\"),\\n        person(\\\"Christian\\\", \\\"Heckendorf\\\", role = \\\"aut\\\", comment = \\\"file transfer\\\"),\\n        person(\\\"George\\\", \\\"Ostrouchov\\\", role = \\\"aut\\\", comment = \\\"Mac OSX\\\"),\\n        person(\\\"Whit\\\", \\\"Armstrong\\\", role = \\\"ctb\\\", comment = \\\"some functions\\n                are modified from the rzmq package for backwards compatibility\\\"),\\n        person(\\\"Brian\\\", \\\"Ripley\\\", role = \\\"ctb\\\",\\n               comment = \\\"C code of shellexec, and Solaris\\\"),\\n        person(\\\"R Core team\\\", role = \\\"ctb\\\", comment = \\\"some functions are\\n                modified from the R source code\\\"),\\n        person(\\\"Philipp\\\", \\\"A.\\\", role = \\\"ctb\\\", comment = \\\"Fedora\\\"),\\n        person(\\\"Elliott Sales\\\", \\\"de Andrade\\\", role = \\\"ctb\\\", comment = \\\"sprintf\\\"),\\n        person(\\\"Spencer\\\", \\\"Aiello\\\", role = \\\"ctb\\\", comment = \\\"windows conf\\\")\\n\\t)\", \n  .             Depends = \"R (>= 3.2.0)\", LazyLoad = \"yes\", LazyData = \"yes\", \n  .             Copyright = \"See files AUTHORS, COPYING, COPYING.LESSER, and MAINTAINERS\\nin 'pbdZMQ/inst/zmq_copyright/' for the 'ZeroMQ' source files\\nin 'src/zmq_src/' which are under GPL-3.\", \n  .             Description = \"'ZeroMQ' is a well-known library for high-performance\\n    asynchronous messaging in scalable, distributed applications.  This\\n    package provides high level R wrapper functions to easily utilize\\n    'ZeroMQ'. We mainly focus on interactive client/server programming\\n    frameworks. For convenience, a minimal 'ZeroMQ' library (4.2.2)\\n    is shipped with 'pbdZMQ', which can be used if no system installation\\n    of 'ZeroMQ' is available.  A few wrapper functions compatible with\\n    'rzmq' are also provided.\", \n  .             SystemRequirements = \"Linux, Mac OSX, and Windows, or 'ZeroMQ' library >=\\n4.0.4. Solaris 10 needs 'ZeroMQ' library 4.0.7 and 'OpenCSW'.\", \n  .             License = \"GPL-3\", URL = \"http://r-pbd.org/\", BugReports = \"http://group.r-pbd.org/\", \n  .             MailingList = \"Please send questions and comments regarding pbdR to\\nRBigData@gmail.com\", \n  .             NeedsCompilation = \"yes\", Maintainer = \"Wei-Chen Chen <wccsnow@gmail.com>\", \n  .             RoxygenNote = \"6.0.1\", Packaged = \"2018-01-31 01:22:48 UTC; snoweye\", \n  .             Author = \"Wei-Chen Chen [aut, cre],\\n  Drew Schmidt [aut],\\n  Christian Heckendorf [aut] (file transfer),\\n  George Ostrouchov [aut] (Mac OSX),\\n  Whit Armstrong [ctb] (some functions are modified from the rzmq package\\n    for backwards compatibility),\\n  Brian Ripley [ctb] (C code of shellexec, and Solaris),\\n  R Core team [ctb] (some functions are modified from the R source code),\\n  Philipp A. [ctb] (Fedora),\\n  Elliott Sales de Andrade [ctb] (sprintf),\\n  Spencer Aiello [ctb] (windows conf)\", \n  .             Repository = \"CRAN\", `Date/Publication` = \"2018-01-31 12:41:34 UTC\", \n  .             Built = \"R 3.4.3; x86_64-conda_cos6-linux-gnu; 2018-04-05 08:50:19 UTC; unix\"), .Names = c(\"Package\", \n  .         \"Version\", \"Date\", \"Title\", \"Authors@R\", \"Depends\", \"LazyLoad\", \n  .         \"LazyData\", \"Copyright\", \"Description\", \"SystemRequirements\", \n  .         \"License\", \"URL\", \"BugReports\", \"MailingList\", \"NeedsCompilation\", \n  .         \"Maintainer\", \"RoxygenNote\", \"Packaged\", \"Author\", \"Repository\", \n  .         \"Date/Publication\", \"Built\"), class = \"packageDescription\", file = \"/cluster/work/bewi/members/tuncel/anaconda3/envs/pipe-env/lib/R/library/pbdZMQ/Meta/package.rds\"), \n  .         reshape2 = structure(list(Package = \"reshape2\", Title = \"Flexibly Reshape Data: A Reboot of the Reshape Package\", \n  .             Version = \"1.4.3\", Author = \"Hadley Wickham <h.wickham@gmail.com>\", \n  .             Maintainer = \"Hadley Wickham <h.wickham@gmail.com>\", \n  .             Description = \"Flexibly restructure and aggregate data using just two\\n    functions: melt and 'dcast' (or 'acast').\", \n  .             License = \"MIT + file LICENSE\", URL = \"https://github.com/hadley/reshape\", \n  .             BugReports = \"https://github.com/hadley/reshape/issues\", \n  .             Depends = \"R (>= 3.1)\", Imports = \"plyr (>= 1.8.1), Rcpp, stringr\", \n  .             Suggests = \"covr, lattice, testthat (>= 0.8.0)\", \n  .             LinkingTo = \"Rcpp\", Encoding = \"UTF-8\", LazyData = \"true\", \n  .             RoxygenNote = \"6.0.1.9000\", NeedsCompilation = \"yes\", \n  .             Packaged = \"2017-12-10 22:04:42 UTC; hadley\", Repository = \"CRAN\", \n  .             `Date/Publication` = \"2017-12-11 16:47:57 UTC\", Built = \"R 3.4.3; x86_64-conda_cos6-linux-gnu; 2018-04-04 16:37:13 UTC; unix\"), .Names = c(\"Package\", \n  .         \"Title\", \"Version\", \"Author\", \"Maintainer\", \"Description\", \n  .         \"License\", \"URL\", \"BugReports\", \"Depends\", \"Imports\", \n  .         \"Suggests\", \"LinkingTo\", \"Encoding\", \"LazyData\", \"RoxygenNote\", \n  .         \"NeedsCompilation\", \"Packaged\", \"Repository\", \"Date/Publication\", \n  .         \"Built\"), class = \"packageDescription\", file = \"/cluster/work/bewi/members/tuncel/anaconda3/envs/pipe-env/lib/R/library/reshape2/Meta/package.rds\"), \n  .         ggplot2 = structure(list(Package = \"ggplot2\", Version = \"2.2.1\", \n  .             Title = \"Create Elegant Data Visualisations Using the Grammar of Graphics\", \n  .             Description = \"A system for 'declaratively' creating graphics,\\n    based on \\\"The Grammar of Graphics\\\". You provide the data, tell 'ggplot2'\\n    how to map variables to aesthetics, what graphical primitives to use,\\n    and it takes care of the details.\", \n  .             `Authors@R` = \"c(\\n    person(\\\"Hadley\\\", \\\"Wickham\\\", , \\\"hadley@rstudio.com\\\", c(\\\"aut\\\", \\\"cre\\\")),\\n    person(\\\"Winston\\\", \\\"Chang\\\", , \\\"winston@rstudio.com\\\", \\\"aut\\\"),\\n    person(\\\"RStudio\\\", role = c(\\\"cph\\\"))\\n    )\", \n  .             Depends = \"R (>= 3.1)\", Imports = \"digest, grid, gtable (>= 0.1.1), MASS, plyr (>= 1.7.1),\\nreshape2, scales (>= 0.4.1), stats, tibble, lazyeval\", \n  .             Suggests = \"covr, ggplot2movies, hexbin, Hmisc, lattice, mapproj, maps,\\nmaptools, mgcv, multcomp, nlme, testthat (>= 0.11.0), quantreg,\\nknitr, rpart, rmarkdown, svglite\", \n  .             Enhances = \"sp\", License = \"GPL-2 | file LICENSE\", \n  .             URL = \"http://ggplot2.tidyverse.org, https://github.com/tidyverse/ggplot2\", \n  .             BugReports = \"https://github.com/tidyverse/ggplot2/issues\", \n  .             LazyData = \"true\", Collate = \"'ggproto.r' 'aaa-.r' 'aes-calculated.r'\\n'aes-colour-fill-alpha.r' 'aes-group-order.r'\\n'aes-linetype-size-shape.r' 'aes-position.r' 'utilities.r'\\n'aes.r' 'legend-draw.r' 'geom-.r' 'annotation-custom.r'\\n'annotation-logticks.r' 'geom-polygon.r' 'geom-map.r'\\n'annotation-map.r' 'geom-raster.r' 'annotation-raster.r'\\n'annotation.r' 'autoplot.r' 'axis-secondary.R' 'bench.r'\\n'bin.R' 'coord-.r' 'coord-cartesian-.r' 'coord-fixed.r'\\n'coord-flip.r' 'coord-map.r' 'coord-munch.r' 'coord-polar.r'\\n'coord-quickmap.R' 'coord-transform.r' 'data.R' 'facet-.r'\\n'facet-grid-.r' 'facet-null.r' 'facet-wrap.r' 'fortify-lm.r'\\n'fortify-map.r' 'fortify-multcomp.r' 'fortify-spatial.r'\\n'fortify.r' 'stat-.r' 'geom-abline.r' 'geom-rect.r'\\n'geom-bar.r' 'geom-bin2d.r' 'geom-blank.r' 'geom-boxplot.r'\\n'geom-col.r' 'geom-path.r' 'geom-contour.r' 'geom-count.r'\\n'geom-crossbar.r' 'geom-segment.r' 'geom-curve.r'\\n'geom-defaults.r' 'geom-ribbon.r' 'geom-density.r'\\n'geom-density2d.r' 'geom-dotplot.r' 'geom-errorbar.r'\\n'geom-errorbarh.r' 'geom-freqpoly.r' 'geom-hex.r'\\n'geom-histogram.r' 'geom-hline.r' 'geom-jitter.r'\\n'geom-label.R' 'geom-linerange.r' 'geom-point.r'\\n'geom-pointrange.r' 'geom-quantile.r' 'geom-rug.r'\\n'geom-smooth.r' 'geom-spoke.r' 'geom-text.r' 'geom-tile.r'\\n'geom-violin.r' 'geom-vline.r' 'ggplot2.r' 'grob-absolute.r'\\n'grob-dotstack.r' 'grob-null.r' 'grouping.r' 'guide-colorbar.r'\\n'guide-legend.r' 'guides-.r' 'guides-axis.r' 'guides-grid.r'\\n'hexbin.R' 'labeller.r' 'labels.r' 'layer.r' 'layout.R'\\n'limits.r' 'margins.R' 'plot-build.r' 'plot-construction.r'\\n'plot-last.r' 'plot.r' 'position-.r' 'position-collide.r'\\n'position-dodge.r' 'position-identity.r' 'position-jitter.r'\\n'position-jitterdodge.R' 'position-nudge.R' 'position-stack.r'\\n'quick-plot.r' 'range.r' 'save.r' 'scale-.r' 'scale-alpha.r'\\n'scale-brewer.r' 'scale-continuous.r' 'scale-date.r'\\n'scale-discrete-.r' 'scale-gradient.r' 'scale-grey.r'\\n'scale-hue.r' 'scale-identity.r' 'scale-linetype.r'\\n'scale-manual.r' 'scale-shape.r' 'scale-size.r' 'scale-type.R'\\n'scales-.r' 'stat-bin.r' 'stat-bin2d.r' 'stat-bindot.r'\\n'stat-binhex.r' 'stat-boxplot.r' 'stat-contour.r'\\n'stat-count.r' 'stat-density-2d.r' 'stat-density.r'\\n'stat-ecdf.r' 'stat-ellipse.R' 'stat-function.r'\\n'stat-identity.r' 'stat-qq.r' 'stat-quantile.r'\\n'stat-smooth-methods.r' 'stat-smooth.r' 'stat-sum.r'\\n'stat-summary-2d.r' 'stat-summary-bin.R' 'stat-summary-hex.r'\\n'stat-summary.r' 'stat-unique.r' 'stat-ydensity.r' 'summary.r'\\n'theme-elements.r' 'theme.r' 'theme-defaults.r'\\n'theme-current.R' 'translate-qplot-ggplot.r'\\n'translate-qplot-lattice.r' 'utilities-break.r'\\n'utilities-grid.r' 'utilities-help.r' 'utilities-matrix.r'\\n'utilities-resolution.r' 'utilities-table.r' 'zxx.r' 'zzz.r'\", \n  .             VignetteBuilder = \"knitr\", RoxygenNote = \"5.0.1.9000\", \n  .             NeedsCompilation = \"no\", Packaged = \"2016-12-30 17:10:52 UTC; hadley\", \n  .             Author = \"Hadley Wickham [aut, cre],\\n  Winston Chang [aut],\\n  RStudio [cph]\", \n  .             Maintainer = \"Hadley Wickham <hadley@rstudio.com>\", \n  .             Repository = \"CRAN\", `Date/Publication` = \"2016-12-30 22:45:17\", \n  .             Built = \"R 3.4.3; ; 2018-04-04 16:43:40 UTC; unix\"), .Names = c(\"Package\", \n  .         \"Version\", \"Title\", \"Description\", \"Authors@R\", \"Depends\", \n  .         \"Imports\", \"Suggests\", \"Enhances\", \"License\", \"URL\", \n  .         \"BugReports\", \"LazyData\", \"Collate\", \"VignetteBuilder\", \n  .         \"RoxygenNote\", \"NeedsCompilation\", \"Packaged\", \"Author\", \n  .         \"Maintainer\", \"Repository\", \"Date/Publication\", \"Built\"\n  .         ), class = \"packageDescription\", file = \"/cluster/work/bewi/members/tuncel/anaconda3/envs/pipe-env/lib/R/library/ggplot2/Meta/package.rds\"), \n  .         magrittr = structure(list(Package = \"magrittr\", Type = \"Package\", \n  .             Title = \"A Forward-Pipe Operator for R\", Version = \"1.5\", \n  .             Author = \"Stefan Milton Bache <stefan@stefanbache.dk> and\\n    Hadley Wickham <h.wickham@gmail.com>\", \n  .             Maintainer = \"Stefan Milton Bache <stefan@stefanbache.dk>\", \n  .             Description = \"Provides a mechanism for chaining commands with a\\n    new forward-pipe operator, %>%. This operator will forward a\\n    value, or the result of an expression, into the next function\\n    call/expression. There is flexible support for the type\\n    of right-hand side expressions. For more information, see\\n    package vignette.\\n    To quote Rene Magritte, \\\"Ceci n'est pas un pipe.\\\"\", \n  .             Suggests = \"testthat, knitr\", VignetteBuilder = \"knitr\", \n  .             License = \"MIT + file LICENSE\", ByteCompile = \"Yes\", \n  .             Packaged = \"2014-11-22 08:50:53 UTC; shb\", NeedsCompilation = \"no\", \n  .             Repository = \"CRAN\", `Date/Publication` = \"2014-11-22 19:15:57\", \n  .             Built = \"R 3.4.3; ; 2018-02-25 01:08:58 UTC; unix\"), .Names = c(\"Package\", \n  .         \"Type\", \"Title\", \"Version\", \"Author\", \"Maintainer\", \"Description\", \n  .         \"Suggests\", \"VignetteBuilder\", \"License\", \"ByteCompile\", \n  .         \"Packaged\", \"NeedsCompilation\", \"Repository\", \"Date/Publication\", \n  .         \"Built\"), class = \"packageDescription\", file = \"/cluster/work/bewi/members/tuncel/anaconda3/envs/pipe-env/lib/R/library/magrittr/Meta/package.rds\"), \n  .         splines = structure(list(Package = \"splines\", Version = \"3.4.3\", \n  .             Priority = \"base\", Imports = \"graphics, stats\", Title = \"Regression Spline Functions and Classes\", \n  .             Author = \"Douglas M. Bates <bates@stat.wisc.edu> and\\n William N. Venables <Bill.Venables@csiro.au>\", \n  .             Maintainer = \"R Core Team <R-core@r-project.org>\", \n  .             Description = \"Regression spline functions and classes.\", \n  .             License = \"Part of R 3.4.3\", Suggests = \"Matrix, methods\", \n  .             NeedsCompilation = \"yes\", Built = \"R 3.4.3; x86_64-conda_cos6-linux-gnu; 2018-02-25 00:43:25 UTC; unix\"), .Names = c(\"Package\", \n  .         \"Version\", \"Priority\", \"Imports\", \"Title\", \"Author\", \n  .         \"Maintainer\", \"Description\", \"License\", \"Suggests\", \"NeedsCompilation\", \n  .         \"Built\"), class = \"packageDescription\", file = \"/cluster/work/bewi/members/tuncel/anaconda3/envs/pipe-env/lib/R/library/splines/Meta/package.rds\"), \n  .         scales = structure(list(Package = \"scales\", Version = \"0.5.0\", \n  .             `Authors@R` = \"c(\\n    person(\\\"Hadley\\\", \\\"Wickham\\\", , \\\"hadley@rstudio.com\\\", c(\\\"aut\\\", \\\"cre\\\")),\\n    person(\\\"RStudio\\\", role = \\\"cph\\\")\\n    )\", \n  .             Title = \"Scale Functions for Visualization\", Description = \"Graphical scales map data to aesthetics, and provide\\n    methods for automatically determining breaks and labels\\n    for axes and legends.\", \n  .             URL = \"https://github.com/hadley/scales\", BugReports = \"https://github.com/hadley/scales/issues\", \n  .             Depends = \"R (>= 2.13)\", Imports = \"RColorBrewer, dichromat, plyr, munsell (>= 0.2), labeling,\\nRcpp, R6, viridisLite\", \n  .             LinkingTo = \"Rcpp\", Suggests = \"testthat (>= 0.8), bit64, covr, hms\", \n  .             License = \"MIT + file LICENSE\", LazyLoad = \"yes\", \n  .             RoxygenNote = \"6.0.1\", NeedsCompilation = \"yes\", \n  .             Packaged = \"2017-08-23 21:21:31 UTC; Kara\", Author = \"Hadley Wickham [aut, cre],\\n  RStudio [cph]\", \n  .             Maintainer = \"Hadley Wickham <hadley@rstudio.com>\", \n  .             Repository = \"CRAN\", `Date/Publication` = \"2017-08-24 14:35:38 UTC\", \n  .             Built = \"R 3.4.3; x86_64-conda_cos6-linux-gnu; 2018-04-04 16:39:36 UTC; unix\"), .Names = c(\"Package\", \n  .         \"Version\", \"Authors@R\", \"Title\", \"Description\", \"URL\", \n  .         \"BugReports\", \"Depends\", \"Imports\", \"LinkingTo\", \"Suggests\", \n  .         \"License\", \"LazyLoad\", \"RoxygenNote\", \"NeedsCompilation\", \n  .         \"Packaged\", \"Author\", \"Maintainer\", \"Repository\", \"Date/Publication\", \n  .         \"Built\"), class = \"packageDescription\", file = \"/cluster/work/bewi/members/tuncel/anaconda3/envs/pipe-env/lib/R/library/scales/Meta/package.rds\"), \n  .         abind = structure(list(Package = \"abind\", Version = \"1.4-5\", \n  .             Date = \"2016-06-19\", Title = \"Combine Multidimensional Arrays\", \n  .             Author = \"Tony Plate <tplate@acm.org> and Richard Heiberger\", \n  .             Maintainer = \"Tony Plate <tplate@acm.org>\", Description = \"Combine multidimensional arrays into a single array.\\n  This is a generalization of 'cbind' and 'rbind'.  Works with\\n  vectors, matrices, and higher-dimensional arrays.  Also\\n  provides functions 'adrop', 'asub', and 'afill' for manipulating,\\n  extracting and replacing data in arrays.\", \n  .             Depends = \"R (>= 1.5.0)\", Imports = \"methods, utils\", \n  .             License = \"LGPL (>= 2)\", NeedsCompilation = \"no\", \n  .             Packaged = \"2016-07-19 15:24:25 UTC; tap\", Repository = \"CRAN\", \n  .             `Date/Publication` = \"2016-07-21 19:18:05\", Built = \"R 3.4.3; ; 2018-04-05 09:57:51 UTC; unix\"), .Names = c(\"Package\", \n  .         \"Version\", \"Date\", \"Title\", \"Author\", \"Maintainer\", \"Description\", \n  .         \"Depends\", \"Imports\", \"License\", \"NeedsCompilation\", \n  .         \"Packaged\", \"Repository\", \"Date/Publication\", \"Built\"\n  .         ), class = \"packageDescription\", file = \"/cluster/work/bewi/members/tuncel/anaconda3/envs/pipe-env/lib/R/library/abind/Meta/package.rds\"), \n  .         colorspace = structure(list(Package = \"colorspace\", Version = \"1.3-2\", \n  .             Date = \"2016-12-14\", Title = \"Color Space Manipulation\", \n  .             `Authors@R` = \"c(person(given = \\\"Ross\\\", family = \\\"Ihaka\\\", role = \\\"aut\\\", email = \\\"ihaka@stat.auckland.ac.nz\\\"),\\n             person(given = \\\"Paul\\\", family = \\\"Murrell\\\", role = \\\"aut\\\", email = \\\"paul@stat.auckland.ac.nz\\\"),\\n             person(given = \\\"Kurt\\\", family = \\\"Hornik\\\", role = \\\"aut\\\", email = \\\"Kurt.Hornik@R-project.org\\\"),\\n             person(given = c(\\\"Jason\\\", \\\"C.\\\"), family = \\\"Fisher\\\", role = \\\"aut\\\", email = \\\"jfisher@usgs.gov\\\"),\\n             person(given = \\\"Reto\\\", family = \\\"Stauffer\\\", role = \\\"aut\\\", email = \\\"Reto.Stauffer@uibk.ac.at\\\"),\\n             person(given = \\\"Achim\\\", family = \\\"Zeileis\\\", role = c(\\\"aut\\\", \\\"cre\\\"), email = \\\"Achim.Zeileis@R-project.org\\\"))\", \n  .             Description = \"Carries out mapping between assorted color spaces including\\n             RGB, HSV, HLS, CIEXYZ, CIELUV, HCL (polar CIELUV),\\n\\t     CIELAB and polar CIELAB. Qualitative, sequential, and\\n\\t     diverging color palettes based on HCL colors are provided\\n\\t     along with an interactive palette picker (with either a Tcl/Tk\\n\\t     or a shiny GUI).\", \n  .             Depends = \"R (>= 2.13.0), methods\", Imports = \"graphics, grDevices\", \n  .             Suggests = \"datasets, stats, utils, KernSmooth, MASS, kernlab, mvtnorm,\\nvcd, dichromat, tcltk, shiny, shinyjs\", \n  .             License = \"BSD_3_clause + file LICENSE\", URL = \"https://hclwizard.org/\", \n  .             LazyData = \"yes\", NeedsCompilation = \"yes\", Packaged = \"2016-12-14 22:11:46 UTC; zeileis\", \n  .             Author = \"Ross Ihaka [aut],\\n  Paul Murrell [aut],\\n  Kurt Hornik [aut],\\n  Jason C. Fisher [aut],\\n  Reto Stauffer [aut],\\n  Achim Zeileis [aut, cre]\", \n  .             Maintainer = \"Achim Zeileis <Achim.Zeileis@R-project.org>\", \n  .             Repository = \"CRAN\", `Date/Publication` = \"2016-12-14 23:28:25\", \n  .             Built = \"R 3.4.3; x86_64-conda_cos6-linux-gnu; 2018-04-04 16:32:11 UTC; unix\"), .Names = c(\"Package\", \n  .         \"Version\", \"Date\", \"Title\", \"Authors@R\", \"Description\", \n  .         \"Depends\", \"Imports\", \"Suggests\", \"License\", \"URL\", \"LazyData\", \n  .         \"NeedsCompilation\", \"Packaged\", \"Author\", \"Maintainer\", \n  .         \"Repository\", \"Date/Publication\", \"Built\"), class = \"packageDescription\", file = \"/cluster/work/bewi/members/tuncel/anaconda3/envs/pipe-env/lib/R/library/colorspace/Meta/package.rds\"), \n  .         stringi = structure(list(Package = \"stringi\", Version = \"1.1.6\", \n  .             Date = \"2017-11-10\", Title = \"Character String Processing Facilities\", \n  .             Description = \"Allows for fast, correct, consistent, portable,\\n    as well as convenient character string/text processing in every locale\\n    and any native encoding. Owing to the use of the ICU library,\\n    the package provides R users with platform-independent functions\\n    known to Java, Perl, Python, PHP, and Ruby programmers. Available\\n    features include: pattern searching (e.g., with ICU Java-like regular\\n    expressions or the Unicode Collation Algorithm), random string generation,\\n    case mapping, string transliteration, concatenation,\\n    Unicode normalization, date-time formatting and parsing, etc.\", \n  .             URL = \"http://www.gagolewski.com/software/stringi/\\nhttp://site.icu-project.org/ http://www.unicode.org/\", \n  .             BugReports = \"http://github.com/gagolews/stringi/issues\", \n  .             SystemRequirements = \"ICU4C (>= 52, optional)\", Type = \"Package\", \n  .             Depends = \"R (>= 2.14)\", Imports = \"tools, utils, stats\", \n  .             Biarch = \"TRUE\", License = \"file LICENSE\", Author = \"Marek Gagolewski [aut, cre], Bartek Tartanus [ctb],\\n    and other contributors (stringi source code);\\n    IBM and other contributors (ICU4C 55.1 source code);\\n    Unicode, Inc. (Unicode Character Database)\", \n  .             Maintainer = \"Marek Gagolewski <gagolews@rexamine.com>\", \n  .             RoxygenNote = \"6.0.1\", NeedsCompilation = \"yes\", \n  .             Packaged = \"2017-11-10 13:42:04 UTC; gagolews\", License_is_FOSS = \"yes\", \n  .             Repository = \"CRAN\", `Date/Publication` = \"2017-11-17 13:13:14 UTC\", \n  .             Built = \"R 3.4.3; x86_64-conda_cos6-linux-gnu; 2018-02-25 01:20:34 UTC; unix\"), .Names = c(\"Package\", \n  .         \"Version\", \"Date\", \"Title\", \"Description\", \"URL\", \"BugReports\", \n  .         \"SystemRequirements\", \"Type\", \"Depends\", \"Imports\", \"Biarch\", \n  .         \"License\", \"Author\", \"Maintainer\", \"RoxygenNote\", \"NeedsCompilation\", \n  .         \"Packaged\", \"License_is_FOSS\", \"Repository\", \"Date/Publication\", \n  .         \"Built\"), class = \"packageDescription\", file = \"/cluster/work/bewi/members/tuncel/anaconda3/envs/pipe-env/lib/R/library/stringi/Meta/package.rds\"), \n  .         lazyeval = structure(list(Package = \"lazyeval\", Version = \"0.2.1\", \n  .             Title = \"Lazy (Non-Standard) Evaluation\", Description = \"An alternative approach to non-standard evaluation using\\n    formulas. Provides a full implementation of LISP style 'quasiquotation',\\n    making it easier to generate code with other code.\", \n  .             `Authors@R` = \"c(\\n    person(\\\"Hadley\\\", \\\"Wickham\\\", ,\\\"hadley@rstudio.com\\\", c(\\\"aut\\\", \\\"cre\\\")),\\n    person(\\\"RStudio\\\", role = \\\"cph\\\")\\n    )\", \n  .             License = \"GPL-3\", LazyData = \"true\", Depends = \"R (>= 3.1.0)\", \n  .             Suggests = \"knitr, rmarkdown (>= 0.2.65), testthat, covr\", \n  .             VignetteBuilder = \"knitr\", RoxygenNote = \"6.0.1\", \n  .             NeedsCompilation = \"yes\", Packaged = \"2017-10-18 22:37:44 UTC; lionel\", \n  .             Author = \"Hadley Wickham [aut, cre],\\n  RStudio [cph]\", \n  .             Maintainer = \"Hadley Wickham <hadley@rstudio.com>\", \n  .             Repository = \"CRAN\", `Date/Publication` = \"2017-10-29 22:59:36 UTC\", \n  .             Built = \"R 3.4.3; x86_64-conda_cos6-linux-gnu; 2018-04-04 16:35:04 UTC; unix\"), .Names = c(\"Package\", \n  .         \"Version\", \"Title\", \"Description\", \"Authors@R\", \"License\", \n  .         \"LazyData\", \"Depends\", \"Suggests\", \"VignetteBuilder\", \n  .         \"RoxygenNote\", \"NeedsCompilation\", \"Packaged\", \"Author\", \n  .         \"Maintainer\", \"Repository\", \"Date/Publication\", \"Built\"\n  .         ), class = \"packageDescription\", file = \"/cluster/work/bewi/members/tuncel/anaconda3/envs/pipe-env/lib/R/library/lazyeval/Meta/package.rds\"), \n  .         munsell = structure(list(Package = \"munsell\", Type = \"Package\", \n  .             Title = \"Utilities for Using Munsell Colours\", Version = \"0.4.3\", \n  .             Author = \"Charlotte Wickham <cwickham@gmail.com>\", \n  .             Maintainer = \"Charlotte Wickham <cwickham@gmail.com>\", \n  .             Description = \"Provides easy access to, and manipulation of, the Munsell \\n    colours. Provides a mapping between Munsell's \\n    original notation (e.g. \\\"5R 5/10\\\") and hexadecimal strings suitable \\n    for use directly in R graphics. Also provides utilities \\n    to explore slices through the Munsell colour tree, to transform \\n    Munsell colours and display colour palettes.\", \n  .             Suggests = \"ggplot2, testthat\", Imports = \"colorspace, methods\", \n  .             License = \"MIT + file LICENSE\", RoxygenNote = \"5.0.1\", \n  .             NeedsCompilation = \"no\", Packaged = \"2016-02-12 19:58:18 UTC; wickhamc\", \n  .             Repository = \"CRAN\", `Date/Publication` = \"2016-02-13 00:46:00\", \n  .             Built = \"R 3.4.3; ; 2018-04-04 16:37:28 UTC; unix\"), .Names = c(\"Package\", \n  .         \"Type\", \"Title\", \"Version\", \"Author\", \"Maintainer\", \"Description\", \n  .         \"Suggests\", \"Imports\", \"License\", \"RoxygenNote\", \"NeedsCompilation\", \n  .         \"Packaged\", \"Repository\", \"Date/Publication\", \"Built\"\n  .         ), class = \"packageDescription\", file = \"/cluster/work/bewi/members/tuncel/anaconda3/envs/pipe-env/lib/R/library/munsell/Meta/package.rds\"), \n  .         RCurl = structure(list(Package = \"RCurl\", Version = \"1.95-4.10\", \n  .             Title = \"General Network (HTTP/FTP/...) Client Interface for R\", \n  .             Author = \"Duncan Temple Lang and the CRAN team\", \n  .             SystemRequirements = \"GNU make, libcurl\", Maintainer = \"Duncan Temple Lang <duncan@r-project.org>\", \n  .             Description = \"A wrapper for 'libcurl' <http://curl.haxx.se/libcurl/>\\n\\tProvides functions to allow one to compose general HTTP requests\\n        and provides convenient functions to fetch URIs, get & post\\n        forms, etc. and process the results returned by the Web server.\\n        This provides a great deal of control over the HTTP/FTP/...\\n        connection and the form of the request while providing a\\n        higher-level interface than is available just using R socket\\n        connections.  Additionally, the underlying implementation is\\n        robust and extensive, supporting FTP/FTPS/TFTP (uploads and\\n        downloads), SSL/HTTPS, telnet, dict, ldap, and also supports\\n        cookies, redirects, authentication, etc.\", \n  .             License = \"BSD\", Depends = \"R (>= 3.0.0), methods, bitops\", \n  .             Suggests = \"Rcompression, XML\", URL = \"http://www.omegahat.net/RCurl\", \n  .             Additional_repositories = \"http://www.omegahat.net/R/\", \n  .             Limitations = \"One doesn't yet have full control over the contents of a\\nPOST form such as specifying files, content type. Error\\nhandling uses a single global variable at present.\", \n  .             Note = \"This will be used generally to communicate with HTTP servers and\\nspecifically in the SOAP package, HTML forms and for accessing\\ndata on Web sites that require more state information than\\nsimply URL access (e.g. cookies).\", \n  .             Check = \"To run R CMD check, one really needs network access. It is an\\nHTTP client! This can be problematic as a Web site may be down\\nwhen you run but the real tests are important.\", \n  .             Collate = \"aclassesEnums.R bitClasses.R xbits.R base64.R binary.S\\nclasses.S curl.S curlAuthConstants.R curlEnums.R curlError.R\\ncurlInfo.S dynamic.R form.S getFormParams.R getURLContent.R\\nheader.R http.R httpError.R httpErrors.R iconv.R info.S mime.R\\nmulti.S options.S scp.R support.S upload.R urlExists.R zclone.R\\nzzz.R\", \n  .             NeedsCompilation = \"yes\", Packaged = \"2018-01-02 17:59:16 UTC; ripley\", \n  .             Repository = \"CRAN\", `Date/Publication` = \"2018-01-04 07:31:37 UTC\", \n  .             Built = \"R 3.4.3; x86_64-conda_cos6-linux-gnu; 2018-03-25 21:36:02 UTC; unix\"), .Names = c(\"Package\", \n  .         \"Version\", \"Title\", \"Author\", \"SystemRequirements\", \"Maintainer\", \n  .         \"Description\", \"License\", \"Depends\", \"Suggests\", \"URL\", \n  .         \"Additional_repositories\", \"Limitations\", \"Note\", \"Check\", \n  .         \"Collate\", \"NeedsCompilation\", \"Packaged\", \"Repository\", \n  .         \"Date/Publication\", \"Built\"), class = \"packageDescription\", file = \"/cluster/work/bewi/members/tuncel/anaconda3/envs/pipe-env/lib/R/library/RCurl/Meta/package.rds\"), \n  .         crayon = structure(list(Package = \"crayon\", Title = \"Colored Terminal Output\", \n  .             Version = \"1.3.4\", `Authors@R` = \"c(\\n    person(\\\"Gábor\\\", \\\"Csárdi\\\", , \\\"csardi.gabor@gmail.com\\\",\\n    role = c(\\\"aut\\\", \\\"cre\\\")),\\n    person(\\n    \\\"Brodie\\\", \\\"Gaslam\\\", email=\\\"brodie.gaslam@yahoo.com\\\",\\n    role=c(\\\"ctb\\\"))\\n    )\", \n  .             Description = \"Colored terminal output on terminals that support 'ANSI'\\n    color and highlight codes. It also works in 'Emacs' 'ESS'. 'ANSI'\\n    color support is automatically detected. Colors and highlighting can\\n    be combined and nested. New styles can also be created easily.\\n    This package was inspired by the 'chalk' 'JavaScript' project.\", \n  .             License = \"MIT + file LICENSE\", LazyData = \"true\", \n  .             URL = \"https://github.com/r-lib/crayon#readme\", BugReports = \"https://github.com/r-lib/crayon/issues\", \n  .             Collate = \"'ansi-256.r' 'combine.r' 'string.r' 'utils.r'\\n'crayon-package.r' 'disposable.r' 'has_ansi.r' 'has_color.r'\\n'styles.r' 'machinery.r' 'parts.r' 'print.r' 'style-var.r'\\n'show.r' 'string_operations.r'\", \n  .             Imports = \"grDevices, methods, utils\", Suggests = \"mockery, rstudioapi, testthat, withr\", \n  .             RoxygenNote = \"6.0.1.9000\", Encoding = \"UTF-8\", NeedsCompilation = \"no\", \n  .             Packaged = \"2017-09-15 18:14:04 UTC; gaborcsardi\", \n  .             Author = \"Gábor Csárdi [aut, cre],\\n  Brodie Gaslam [ctb]\", \n  .             Maintainer = \"Gábor Csárdi <csardi.gabor@gmail.com>\", \n  .             Repository = \"CRAN\", `Date/Publication` = \"2017-09-16 19:49:46 UTC\", \n  .             Built = \"R 3.4.3; ; 2018-04-05 08:50:17 UTC; unix\"), .Names = c(\"Package\", \n  .         \"Title\", \"Version\", \"Authors@R\", \"Description\", \"License\", \n  .         \"LazyData\", \"URL\", \"BugReports\", \"Collate\", \"Imports\", \n  .         \"Suggests\", \"RoxygenNote\", \"Encoding\", \"NeedsCompilation\", \n  .         \"Packaged\", \"Author\", \"Maintainer\", \"Repository\", \"Date/Publication\", \n  .         \"Built\"), class = \"packageDescription\", file = \"/cluster/work/bewi/members/tuncel/anaconda3/envs/pipe-env/lib/R/library/crayon/Meta/package.rds\")), .Names = c(\"Rcpp\", \n  .     \"pillar\", \"plyr\", \"compiler\", \"XVector\", \"bitops\", \"tools\", \n  .     \"zlibbioc\", \"digest\", \"uuid\", \"tibble\", \"gtable\", \"jsonlite\", \n  .     \"evaluate\", \"lattice\", \"rlang\", \"Matrix\", \"IRdisplay\", \"IRkernel\", \n  .     \"GenomeInfoDbData\", \"repr\", \"stringr\", \"locfit\", \"grid\", \n  .     \"data.table\", \"pbdZMQ\", \"reshape2\", \"ggplot2\", \"magrittr\", \n  .     \"splines\", \"scales\", \"abind\", \"colorspace\", \"stringi\", \"lazyeval\", \n  .     \"munsell\", \"RCurl\", \"crayon\")), matprod = \"default\", BLAS = \"/cluster/work/bewi/members/tuncel/anaconda3/envs/pipe-env/lib/R/lib/libRblas.so\", \n  .     LAPACK = \"/cluster/work/bewi/members/tuncel/anaconda3/envs/pipe-env/lib/R/lib/libRblas.so\"), .Names = c(\"R.version\", \n  . \"platform\", \"locale\", \"running\", \"basePkgs\", \"otherPkgs\", \"loadedOnly\", \n  . \"matprod\", \"BLAS\", \"LAPACK\"), class = \"sessionInfo\"), check.names = FALSE, \n  .     fix.empty.names = TRUE, stringsAsFactors = TRUE)",
      "11. as.data.frame(x[[i]], optional = TRUE, stringsAsFactors = stringsAsFactors)",
      "12. as.data.frame.default(x[[i]], optional = TRUE, stringsAsFactors = stringsAsFactors)",
      "13. stop(gettextf(\"cannot coerce class \\\"%s\\\" to a data.frame\", deparse(class(x))), \n  .     domain = NA)"
     ]
    }
   ],
   "source": [
    "deg_res = list()\n",
    "i = 0\n",
    "cg = 1\n",
    "#for (cg in malignant_clusters)\n",
    "#{\n",
    "\n",
    " #   i = i + 1\n",
    "#}"
   ]
  },
  {
   "cell_type": "code",
   "execution_count": 29,
   "metadata": {
    "collapsed": true
   },
   "outputs": [],
   "source": [
    "cell_group = cg\n",
    "# detecting the other malignant groups\n",
    "malignant_clusters <- malignant_clusters[ malignant_clusters != cell_group ]\n",
    "# remove the other malignant groups\n",
    "a_malignant_and_normals <- all_clusters[ all_clusters != malignant_clusters ]\n",
    "filtered_matrix = matrix[, cell_groups$cluster %in% a_malignant_and_normals]\n",
    "filtered_cell_groups = cell_groups$cluster[cell_groups$cluster %in% a_malignant_and_normals]\n",
    "conditions = filtered_cell_groups == cell_group\n",
    "\n",
    "L <- list(count = filtered_matrix, condt = conditions)\n"
   ]
  },
  {
   "cell_type": "code",
   "execution_count": 31,
   "metadata": {},
   "outputs": [
    {
     "name": "stderr",
     "output_type": "stream",
     "text": [
      "edgeRQLFDetRate\n"
     ]
    }
   ],
   "source": [
    "edger_res = run_edgeRQLFDetRate(L)"
   ]
  },
  {
   "cell_type": "code",
   "execution_count": 32,
   "metadata": {},
   "outputs": [
    {
     "data": {
      "text/html": [
       "<table>\n",
       "<thead><tr><th></th><th scope=col>pval</th><th scope=col>padj</th></tr></thead>\n",
       "<tbody>\n",
       "\t<tr><th scope=row>9705</th><td> 0.000000e+00</td><td> 0.000000e+00</td></tr>\n",
       "\t<tr><th scope=row>12747</th><td> 0.000000e+00</td><td> 0.000000e+00</td></tr>\n",
       "\t<tr><th scope=row>18510</th><td> 0.000000e+00</td><td> 0.000000e+00</td></tr>\n",
       "\t<tr><th scope=row>7086</th><td> 0.000000e+00</td><td> 0.000000e+00</td></tr>\n",
       "\t<tr><th scope=row>11962</th><td> 0.000000e+00</td><td> 0.000000e+00</td></tr>\n",
       "\t<tr><th scope=row>1311</th><td> 0.000000e+00</td><td> 0.000000e+00</td></tr>\n",
       "\t<tr><th scope=row>19904</th><td> 0.000000e+00</td><td> 0.000000e+00</td></tr>\n",
       "\t<tr><th scope=row>7812</th><td> 0.000000e+00</td><td> 0.000000e+00</td></tr>\n",
       "\t<tr><th scope=row>18370</th><td> 0.000000e+00</td><td> 0.000000e+00</td></tr>\n",
       "\t<tr><th scope=row>18679</th><td> 0.000000e+00</td><td> 0.000000e+00</td></tr>\n",
       "\t<tr><th scope=row>2329</th><td> 0.000000e+00</td><td> 0.000000e+00</td></tr>\n",
       "\t<tr><th scope=row>3951</th><td> 0.000000e+00</td><td> 0.000000e+00</td></tr>\n",
       "\t<tr><th scope=row>13546</th><td> 0.000000e+00</td><td> 0.000000e+00</td></tr>\n",
       "\t<tr><th scope=row>4659</th><td> 0.000000e+00</td><td> 0.000000e+00</td></tr>\n",
       "\t<tr><th scope=row>8897</th><td> 0.000000e+00</td><td> 0.000000e+00</td></tr>\n",
       "\t<tr><th scope=row>9145</th><td> 0.000000e+00</td><td> 0.000000e+00</td></tr>\n",
       "\t<tr><th scope=row>9753</th><td> 0.000000e+00</td><td> 0.000000e+00</td></tr>\n",
       "\t<tr><th scope=row>14435</th><td> 0.000000e+00</td><td> 0.000000e+00</td></tr>\n",
       "\t<tr><th scope=row>14473</th><td>2.788141e-303</td><td>2.924320e-300</td></tr>\n",
       "\t<tr><th scope=row>3324</th><td>9.710125e-300</td><td>9.675168e-297</td></tr>\n",
       "\t<tr><th scope=row>14203</th><td>2.215507e-295</td><td>2.102411e-292</td></tr>\n",
       "\t<tr><th scope=row>12753</th><td>8.605828e-279</td><td>7.795316e-276</td></tr>\n",
       "\t<tr><th scope=row>19300</th><td>1.603821e-263</td><td>1.389606e-260</td></tr>\n",
       "\t<tr><th scope=row>4161</th><td>2.054118e-251</td><td>1.705602e-248</td></tr>\n",
       "\t<tr><th scope=row>11960</th><td>1.022882e-240</td><td>8.153600e-238</td></tr>\n",
       "\t<tr><th scope=row>4489</th><td>4.439962e-236</td><td>3.403060e-233</td></tr>\n",
       "\t<tr><th scope=row>4549</th><td>6.691166e-236</td><td>4.938576e-233</td></tr>\n",
       "\t<tr><th scope=row>10971</th><td>9.677804e-236</td><td>6.887831e-233</td></tr>\n",
       "\t<tr><th scope=row>6554</th><td>1.436027e-235</td><td>9.867984e-233</td></tr>\n",
       "\t<tr><th scope=row>449</th><td>3.269009e-229</td><td>2.171494e-226</td></tr>\n",
       "\t<tr><th scope=row>⋮</th><td>⋮</td><td>⋮</td></tr>\n",
       "\t<tr><th scope=row>15416</th><td>1</td><td>1</td></tr>\n",
       "\t<tr><th scope=row>15650</th><td>1</td><td>1</td></tr>\n",
       "\t<tr><th scope=row>15944</th><td>1</td><td>1</td></tr>\n",
       "\t<tr><th scope=row>16307</th><td>1</td><td>1</td></tr>\n",
       "\t<tr><th scope=row>16308</th><td>1</td><td>1</td></tr>\n",
       "\t<tr><th scope=row>16721</th><td>1</td><td>1</td></tr>\n",
       "\t<tr><th scope=row>16751</th><td>1</td><td>1</td></tr>\n",
       "\t<tr><th scope=row>17111</th><td>1</td><td>1</td></tr>\n",
       "\t<tr><th scope=row>17113</th><td>1</td><td>1</td></tr>\n",
       "\t<tr><th scope=row>17174</th><td>1</td><td>1</td></tr>\n",
       "\t<tr><th scope=row>17179</th><td>1</td><td>1</td></tr>\n",
       "\t<tr><th scope=row>17347</th><td>1</td><td>1</td></tr>\n",
       "\t<tr><th scope=row>17480</th><td>1</td><td>1</td></tr>\n",
       "\t<tr><th scope=row>17523</th><td>1</td><td>1</td></tr>\n",
       "\t<tr><th scope=row>17825</th><td>1</td><td>1</td></tr>\n",
       "\t<tr><th scope=row>17888</th><td>1</td><td>1</td></tr>\n",
       "\t<tr><th scope=row>18037</th><td>1</td><td>1</td></tr>\n",
       "\t<tr><th scope=row>18257</th><td>1</td><td>1</td></tr>\n",
       "\t<tr><th scope=row>18355</th><td>1</td><td>1</td></tr>\n",
       "\t<tr><th scope=row>18637</th><td>1</td><td>1</td></tr>\n",
       "\t<tr><th scope=row>18807</th><td>1</td><td>1</td></tr>\n",
       "\t<tr><th scope=row>18822</th><td>1</td><td>1</td></tr>\n",
       "\t<tr><th scope=row>18870</th><td>1</td><td>1</td></tr>\n",
       "\t<tr><th scope=row>18939</th><td>1</td><td>1</td></tr>\n",
       "\t<tr><th scope=row>18954</th><td>1</td><td>1</td></tr>\n",
       "\t<tr><th scope=row>19085</th><td>1</td><td>1</td></tr>\n",
       "\t<tr><th scope=row>19305</th><td>1</td><td>1</td></tr>\n",
       "\t<tr><th scope=row>19427</th><td>1</td><td>1</td></tr>\n",
       "\t<tr><th scope=row>19450</th><td>1</td><td>1</td></tr>\n",
       "\t<tr><th scope=row>19737</th><td>1</td><td>1</td></tr>\n",
       "</tbody>\n",
       "</table>\n"
      ],
      "text/latex": [
       "\\begin{tabular}{r|ll}\n",
       "  & pval & padj\\\\\n",
       "\\hline\n",
       "\t9705 &  0.000000e+00 &  0.000000e+00\\\\\n",
       "\t12747 &  0.000000e+00 &  0.000000e+00\\\\\n",
       "\t18510 &  0.000000e+00 &  0.000000e+00\\\\\n",
       "\t7086 &  0.000000e+00 &  0.000000e+00\\\\\n",
       "\t11962 &  0.000000e+00 &  0.000000e+00\\\\\n",
       "\t1311 &  0.000000e+00 &  0.000000e+00\\\\\n",
       "\t19904 &  0.000000e+00 &  0.000000e+00\\\\\n",
       "\t7812 &  0.000000e+00 &  0.000000e+00\\\\\n",
       "\t18370 &  0.000000e+00 &  0.000000e+00\\\\\n",
       "\t18679 &  0.000000e+00 &  0.000000e+00\\\\\n",
       "\t2329 &  0.000000e+00 &  0.000000e+00\\\\\n",
       "\t3951 &  0.000000e+00 &  0.000000e+00\\\\\n",
       "\t13546 &  0.000000e+00 &  0.000000e+00\\\\\n",
       "\t4659 &  0.000000e+00 &  0.000000e+00\\\\\n",
       "\t8897 &  0.000000e+00 &  0.000000e+00\\\\\n",
       "\t9145 &  0.000000e+00 &  0.000000e+00\\\\\n",
       "\t9753 &  0.000000e+00 &  0.000000e+00\\\\\n",
       "\t14435 &  0.000000e+00 &  0.000000e+00\\\\\n",
       "\t14473 & 2.788141e-303 & 2.924320e-300\\\\\n",
       "\t3324 & 9.710125e-300 & 9.675168e-297\\\\\n",
       "\t14203 & 2.215507e-295 & 2.102411e-292\\\\\n",
       "\t12753 & 8.605828e-279 & 7.795316e-276\\\\\n",
       "\t19300 & 1.603821e-263 & 1.389606e-260\\\\\n",
       "\t4161 & 2.054118e-251 & 1.705602e-248\\\\\n",
       "\t11960 & 1.022882e-240 & 8.153600e-238\\\\\n",
       "\t4489 & 4.439962e-236 & 3.403060e-233\\\\\n",
       "\t4549 & 6.691166e-236 & 4.938576e-233\\\\\n",
       "\t10971 & 9.677804e-236 & 6.887831e-233\\\\\n",
       "\t6554 & 1.436027e-235 & 9.867984e-233\\\\\n",
       "\t449 & 3.269009e-229 & 2.171494e-226\\\\\n",
       "\t⋮ & ⋮ & ⋮\\\\\n",
       "\t15416 & 1 & 1\\\\\n",
       "\t15650 & 1 & 1\\\\\n",
       "\t15944 & 1 & 1\\\\\n",
       "\t16307 & 1 & 1\\\\\n",
       "\t16308 & 1 & 1\\\\\n",
       "\t16721 & 1 & 1\\\\\n",
       "\t16751 & 1 & 1\\\\\n",
       "\t17111 & 1 & 1\\\\\n",
       "\t17113 & 1 & 1\\\\\n",
       "\t17174 & 1 & 1\\\\\n",
       "\t17179 & 1 & 1\\\\\n",
       "\t17347 & 1 & 1\\\\\n",
       "\t17480 & 1 & 1\\\\\n",
       "\t17523 & 1 & 1\\\\\n",
       "\t17825 & 1 & 1\\\\\n",
       "\t17888 & 1 & 1\\\\\n",
       "\t18037 & 1 & 1\\\\\n",
       "\t18257 & 1 & 1\\\\\n",
       "\t18355 & 1 & 1\\\\\n",
       "\t18637 & 1 & 1\\\\\n",
       "\t18807 & 1 & 1\\\\\n",
       "\t18822 & 1 & 1\\\\\n",
       "\t18870 & 1 & 1\\\\\n",
       "\t18939 & 1 & 1\\\\\n",
       "\t18954 & 1 & 1\\\\\n",
       "\t19085 & 1 & 1\\\\\n",
       "\t19305 & 1 & 1\\\\\n",
       "\t19427 & 1 & 1\\\\\n",
       "\t19450 & 1 & 1\\\\\n",
       "\t19737 & 1 & 1\\\\\n",
       "\\end{tabular}\n"
      ],
      "text/markdown": [
       "\n",
       "| <!--/--> | pval | padj | \n",
       "|---|---|---|---|---|---|---|---|---|---|---|---|---|---|---|---|---|---|---|---|---|---|---|---|---|---|---|---|---|---|---|---|---|---|---|---|---|---|---|---|---|---|---|---|---|---|---|---|---|---|---|---|---|---|---|---|---|---|---|---|---|\n",
       "| 9705 |  0.000000e+00 |  0.000000e+00 | \n",
       "| 12747 |  0.000000e+00 |  0.000000e+00 | \n",
       "| 18510 |  0.000000e+00 |  0.000000e+00 | \n",
       "| 7086 |  0.000000e+00 |  0.000000e+00 | \n",
       "| 11962 |  0.000000e+00 |  0.000000e+00 | \n",
       "| 1311 |  0.000000e+00 |  0.000000e+00 | \n",
       "| 19904 |  0.000000e+00 |  0.000000e+00 | \n",
       "| 7812 |  0.000000e+00 |  0.000000e+00 | \n",
       "| 18370 |  0.000000e+00 |  0.000000e+00 | \n",
       "| 18679 |  0.000000e+00 |  0.000000e+00 | \n",
       "| 2329 |  0.000000e+00 |  0.000000e+00 | \n",
       "| 3951 |  0.000000e+00 |  0.000000e+00 | \n",
       "| 13546 |  0.000000e+00 |  0.000000e+00 | \n",
       "| 4659 |  0.000000e+00 |  0.000000e+00 | \n",
       "| 8897 |  0.000000e+00 |  0.000000e+00 | \n",
       "| 9145 |  0.000000e+00 |  0.000000e+00 | \n",
       "| 9753 |  0.000000e+00 |  0.000000e+00 | \n",
       "| 14435 |  0.000000e+00 |  0.000000e+00 | \n",
       "| 14473 | 2.788141e-303 | 2.924320e-300 | \n",
       "| 3324 | 9.710125e-300 | 9.675168e-297 | \n",
       "| 14203 | 2.215507e-295 | 2.102411e-292 | \n",
       "| 12753 | 8.605828e-279 | 7.795316e-276 | \n",
       "| 19300 | 1.603821e-263 | 1.389606e-260 | \n",
       "| 4161 | 2.054118e-251 | 1.705602e-248 | \n",
       "| 11960 | 1.022882e-240 | 8.153600e-238 | \n",
       "| 4489 | 4.439962e-236 | 3.403060e-233 | \n",
       "| 4549 | 6.691166e-236 | 4.938576e-233 | \n",
       "| 10971 | 9.677804e-236 | 6.887831e-233 | \n",
       "| 6554 | 1.436027e-235 | 9.867984e-233 | \n",
       "| 449 | 3.269009e-229 | 2.171494e-226 | \n",
       "| ⋮ | ⋮ | ⋮ | \n",
       "| 15416 | 1 | 1 | \n",
       "| 15650 | 1 | 1 | \n",
       "| 15944 | 1 | 1 | \n",
       "| 16307 | 1 | 1 | \n",
       "| 16308 | 1 | 1 | \n",
       "| 16721 | 1 | 1 | \n",
       "| 16751 | 1 | 1 | \n",
       "| 17111 | 1 | 1 | \n",
       "| 17113 | 1 | 1 | \n",
       "| 17174 | 1 | 1 | \n",
       "| 17179 | 1 | 1 | \n",
       "| 17347 | 1 | 1 | \n",
       "| 17480 | 1 | 1 | \n",
       "| 17523 | 1 | 1 | \n",
       "| 17825 | 1 | 1 | \n",
       "| 17888 | 1 | 1 | \n",
       "| 18037 | 1 | 1 | \n",
       "| 18257 | 1 | 1 | \n",
       "| 18355 | 1 | 1 | \n",
       "| 18637 | 1 | 1 | \n",
       "| 18807 | 1 | 1 | \n",
       "| 18822 | 1 | 1 | \n",
       "| 18870 | 1 | 1 | \n",
       "| 18939 | 1 | 1 | \n",
       "| 18954 | 1 | 1 | \n",
       "| 19085 | 1 | 1 | \n",
       "| 19305 | 1 | 1 | \n",
       "| 19427 | 1 | 1 | \n",
       "| 19450 | 1 | 1 | \n",
       "| 19737 | 1 | 1 | \n",
       "\n",
       "\n"
      ],
      "text/plain": [
       "      pval          padj         \n",
       "9705   0.000000e+00  0.000000e+00\n",
       "12747  0.000000e+00  0.000000e+00\n",
       "18510  0.000000e+00  0.000000e+00\n",
       "7086   0.000000e+00  0.000000e+00\n",
       "11962  0.000000e+00  0.000000e+00\n",
       "1311   0.000000e+00  0.000000e+00\n",
       "19904  0.000000e+00  0.000000e+00\n",
       "7812   0.000000e+00  0.000000e+00\n",
       "18370  0.000000e+00  0.000000e+00\n",
       "18679  0.000000e+00  0.000000e+00\n",
       "2329   0.000000e+00  0.000000e+00\n",
       "3951   0.000000e+00  0.000000e+00\n",
       "13546  0.000000e+00  0.000000e+00\n",
       "4659   0.000000e+00  0.000000e+00\n",
       "8897   0.000000e+00  0.000000e+00\n",
       "9145   0.000000e+00  0.000000e+00\n",
       "9753   0.000000e+00  0.000000e+00\n",
       "14435  0.000000e+00  0.000000e+00\n",
       "14473 2.788141e-303 2.924320e-300\n",
       "3324  9.710125e-300 9.675168e-297\n",
       "14203 2.215507e-295 2.102411e-292\n",
       "12753 8.605828e-279 7.795316e-276\n",
       "19300 1.603821e-263 1.389606e-260\n",
       "4161  2.054118e-251 1.705602e-248\n",
       "11960 1.022882e-240 8.153600e-238\n",
       "4489  4.439962e-236 3.403060e-233\n",
       "4549  6.691166e-236 4.938576e-233\n",
       "10971 9.677804e-236 6.887831e-233\n",
       "6554  1.436027e-235 9.867984e-233\n",
       "449   3.269009e-229 2.171494e-226\n",
       "⋮     ⋮             ⋮            \n",
       "15416 1             1            \n",
       "15650 1             1            \n",
       "15944 1             1            \n",
       "16307 1             1            \n",
       "16308 1             1            \n",
       "16721 1             1            \n",
       "16751 1             1            \n",
       "17111 1             1            \n",
       "17113 1             1            \n",
       "17174 1             1            \n",
       "17179 1             1            \n",
       "17347 1             1            \n",
       "17480 1             1            \n",
       "17523 1             1            \n",
       "17825 1             1            \n",
       "17888 1             1            \n",
       "18037 1             1            \n",
       "18257 1             1            \n",
       "18355 1             1            \n",
       "18637 1             1            \n",
       "18807 1             1            \n",
       "18822 1             1            \n",
       "18870 1             1            \n",
       "18939 1             1            \n",
       "18954 1             1            \n",
       "19085 1             1            \n",
       "19305 1             1            \n",
       "19427 1             1            \n",
       "19450 1             1            \n",
       "19737 1             1            "
      ]
     },
     "metadata": {},
     "output_type": "display_data"
    }
   ],
   "source": [
    "edger_res"
   ]
  },
  {
   "cell_type": "code",
   "execution_count": null,
   "metadata": {
    "collapsed": true
   },
   "outputs": [],
   "source": []
  },
  {
   "cell_type": "code",
   "execution_count": null,
   "metadata": {
    "collapsed": true
   },
   "outputs": [],
   "source": [
    "\n",
    "f_name = paste('DE_malignant', i,sep='_')\n",
    "write.csv(edger_res, file=f_name, row.names=FALSE, quote=FALSE)"
   ]
  },
  {
   "cell_type": "code",
   "execution_count": null,
   "metadata": {
    "collapsed": true
   },
   "outputs": [],
   "source": []
  },
  {
   "cell_type": "code",
   "execution_count": null,
   "metadata": {
    "collapsed": true
   },
   "outputs": [],
   "source": [
    "deg_res"
   ]
  },
  {
   "cell_type": "code",
   "execution_count": 24,
   "metadata": {},
   "outputs": [
    {
     "data": {
      "text/html": [
       "5"
      ],
      "text/latex": [
       "5"
      ],
      "text/markdown": [
       "5"
      ],
      "text/plain": [
       "[1] 5"
      ]
     },
     "metadata": {},
     "output_type": "display_data"
    }
   ],
   "source": [
    "5"
   ]
  },
  {
   "cell_type": "code",
   "execution_count": null,
   "metadata": {
    "collapsed": true
   },
   "outputs": [],
   "source": []
  },
  {
   "cell_type": "markdown",
   "metadata": {},
   "source": [
    "## EdgeR\n",
    "Binarize the groups into two: the given cell group or not"
   ]
  },
  {
   "cell_type": "raw",
   "metadata": {
    "collapsed": true
   },
   "source": [
    "#deg_res = vector('list')\n",
    "for (cg in cgs)\n",
    "{\n",
    "    res = apply_edger(cg, matrix, cell_clusters)\n",
    "    lrtFiltered = res\n",
    "    decided_df = data.frame(decideTestsDGE(lrtFiltered))\n",
    "    colnames(decided_df) <- \"decideTestDGE\"\n",
    "    res = cbind(res$table, res$unshrunk.coefficients) \n",
    "    res$Pajd = p.adjust(res$PValue, method = \"BH\")\n",
    "    res$cluster_id = cg\n",
    "    res$gene_names = gene_names\n",
    "    res$gene_ids = gene_ids\n",
    "    res = cbind(decided_df, res)\n",
    "    \n",
    "    res[c(11, 10, 9, 7, 8,5,4,3,2,1,6)]\n",
    "    f_name = paste(c('./data/de_res_all_genes/DE_cluster', cg,'.csv'), collapse='')\n",
    "    write.csv(res, file=f_name, row.names=FALSE, quote=FALSE)\n",
    "}"
   ]
  },
  {
   "cell_type": "code",
   "execution_count": null,
   "metadata": {
    "collapsed": true
   },
   "outputs": [],
   "source": [
    "groups = cell_groups$cluster"
   ]
  },
  {
   "cell_type": "code",
   "execution_count": null,
   "metadata": {
    "collapsed": true
   },
   "outputs": [],
   "source": [
    "L <- list(count = matrix, condt = cell_groups)"
   ]
  },
  {
   "cell_type": "code",
   "execution_count": null,
   "metadata": {
    "collapsed": true
   },
   "outputs": [],
   "source": []
  },
  {
   "cell_type": "code",
   "execution_count": null,
   "metadata": {
    "collapsed": true
   },
   "outputs": [],
   "source": [
    "edger_res = apply_edger_quasi(2, matrix, cell_clusters)"
   ]
  },
  {
   "cell_type": "code",
   "execution_count": null,
   "metadata": {
    "collapsed": true
   },
   "outputs": [],
   "source": [
    "edger_res"
   ]
  },
  {
   "cell_type": "code",
   "execution_count": null,
   "metadata": {
    "collapsed": true
   },
   "outputs": [],
   "source": []
  },
  {
   "cell_type": "code",
   "execution_count": null,
   "metadata": {
    "collapsed": true
   },
   "outputs": [],
   "source": [
    "lrtFiltered = edger_res"
   ]
  },
  {
   "cell_type": "code",
   "execution_count": null,
   "metadata": {
    "collapsed": true
   },
   "outputs": [],
   "source": [
    "summary(decideTestsDGE(lrtFiltered))"
   ]
  },
  {
   "cell_type": "code",
   "execution_count": null,
   "metadata": {
    "collapsed": true
   },
   "outputs": [],
   "source": [
    "?decideTestsDGE"
   ]
  },
  {
   "cell_type": "code",
   "execution_count": null,
   "metadata": {
    "collapsed": true,
    "scrolled": false
   },
   "outputs": [],
   "source": [
    "names(edger_res)"
   ]
  },
  {
   "cell_type": "code",
   "execution_count": null,
   "metadata": {
    "collapsed": true
   },
   "outputs": [],
   "source": [
    "temp = edger_res$unshrunk.coefficients"
   ]
  },
  {
   "cell_type": "code",
   "execution_count": null,
   "metadata": {
    "collapsed": true
   },
   "outputs": [],
   "source": [
    "temp2 = cbind(temp, edger_res$table) "
   ]
  },
  {
   "cell_type": "code",
   "execution_count": null,
   "metadata": {
    "collapsed": true
   },
   "outputs": [],
   "source": []
  },
  {
   "cell_type": "code",
   "execution_count": null,
   "metadata": {
    "collapsed": true
   },
   "outputs": [],
   "source": [
    "edger_padj = p.adjust(edger_res$table$PValue, method = \"BH\")"
   ]
  },
  {
   "cell_type": "code",
   "execution_count": null,
   "metadata": {
    "collapsed": true
   },
   "outputs": [],
   "source": [
    "edger_res$table$Padj = edger_padj"
   ]
  },
  {
   "cell_type": "code",
   "execution_count": null,
   "metadata": {
    "collapsed": true
   },
   "outputs": [],
   "source": [
    "edger_res$table$cluster_id = 4"
   ]
  },
  {
   "cell_type": "code",
   "execution_count": null,
   "metadata": {
    "collapsed": true
   },
   "outputs": [],
   "source": [
    "edger_res$table$gene_names = gene_names\n",
    "edger_res$table$gene_ids = gene_ids\n"
   ]
  },
  {
   "cell_type": "code",
   "execution_count": null,
   "metadata": {
    "collapsed": true
   },
   "outputs": [],
   "source": [
    "edger_res = cbind(temp, edger_res$table) "
   ]
  },
  {
   "cell_type": "code",
   "execution_count": null,
   "metadata": {
    "collapsed": true
   },
   "outputs": [],
   "source": [
    "decide_res = decideTestsDGE(lrtFiltered)"
   ]
  },
  {
   "cell_type": "code",
   "execution_count": null,
   "metadata": {
    "collapsed": true
   },
   "outputs": [],
   "source": [
    "ss = show(decide_res)"
   ]
  },
  {
   "cell_type": "code",
   "execution_count": null,
   "metadata": {
    "collapsed": true
   },
   "outputs": [],
   "source": [
    "data.frame()"
   ]
  },
  {
   "cell_type": "code",
   "execution_count": null,
   "metadata": {
    "collapsed": true
   },
   "outputs": [],
   "source": [
    "decided_df = data.frame(decideTestsDGE(lrtFiltered))"
   ]
  },
  {
   "cell_type": "code",
   "execution_count": null,
   "metadata": {
    "collapsed": true
   },
   "outputs": [],
   "source": [
    "colnames(decided_df) <- \"decideTestDGE\""
   ]
  },
  {
   "cell_type": "code",
   "execution_count": null,
   "metadata": {
    "collapsed": true
   },
   "outputs": [],
   "source": []
  },
  {
   "cell_type": "code",
   "execution_count": null,
   "metadata": {
    "collapsed": true
   },
   "outputs": [],
   "source": [
    "edger_res = cbind(decided_df, edger_res)"
   ]
  },
  {
   "cell_type": "code",
   "execution_count": null,
   "metadata": {
    "collapsed": true
   },
   "outputs": [],
   "source": [
    "edger_res$"
   ]
  },
  {
   "cell_type": "code",
   "execution_count": null,
   "metadata": {
    "collapsed": true,
    "scrolled": true
   },
   "outputs": [],
   "source": [
    "edger_res"
   ]
  },
  {
   "cell_type": "code",
   "execution_count": null,
   "metadata": {
    "collapsed": true,
    "scrolled": true
   },
   "outputs": [],
   "source": [
    "edger_res[c(10, 9, 7, 8,5,4,3,2,1,6)]"
   ]
  },
  {
   "cell_type": "code",
   "execution_count": null,
   "metadata": {
    "collapsed": true
   },
   "outputs": [],
   "source": []
  },
  {
   "cell_type": "code",
   "execution_count": null,
   "metadata": {
    "collapsed": true
   },
   "outputs": [],
   "source": [
    "edger_res$table\n",
    "\n"
   ]
  },
  {
   "cell_type": "code",
   "execution_count": null,
   "metadata": {
    "collapsed": true
   },
   "outputs": [],
   "source": []
  },
  {
   "cell_type": "code",
   "execution_count": null,
   "metadata": {
    "collapsed": true
   },
   "outputs": [],
   "source": [
    "edger_pVals = apply_edger(cell_group, matrix, cell_groups)"
   ]
  },
  {
   "cell_type": "code",
   "execution_count": null,
   "metadata": {
    "collapsed": true
   },
   "outputs": [],
   "source": [
    "edger_pVals"
   ]
  },
  {
   "cell_type": "code",
   "execution_count": null,
   "metadata": {
    "collapsed": true
   },
   "outputs": [],
   "source": [
    "evaluate(edger_pVals, cell_group, gene_attrs)"
   ]
  },
  {
   "cell_type": "code",
   "execution_count": null,
   "metadata": {
    "collapsed": true
   },
   "outputs": [],
   "source": []
  },
  {
   "cell_type": "code",
   "execution_count": null,
   "metadata": {
    "collapsed": true
   },
   "outputs": [],
   "source": [
    "#EdgeR\n",
    "binary_groups = (h5f$cell_attrs$cell_groups==cell_group)\n",
    "counts = matrix "
   ]
  },
  {
   "cell_type": "code",
   "execution_count": null,
   "metadata": {
    "collapsed": true
   },
   "outputs": [],
   "source": [
    "dge <- DGEList(counts = counts)"
   ]
  },
  {
   "cell_type": "code",
   "execution_count": null,
   "metadata": {
    "collapsed": true
   },
   "outputs": [],
   "source": [
    "group_edgeR <- factor(binary_groups)\n",
    "design <- model.matrix(~ group_edgeR)\n",
    "dge <- estimateCommonDisp(dge, design = design, trend.method = \"none\")\n",
    "dge <- estimateTrendedDisp(dge, design = design, trend.method = \"none\")\n",
    "dge <- estimateTagwiseDisp(dge, design = design, trend.method = \"none\")\n"
   ]
  },
  {
   "cell_type": "code",
   "execution_count": null,
   "metadata": {
    "collapsed": true
   },
   "outputs": [],
   "source": [
    "fit <- glmFit(dge, design)\n",
    "res <- glmLRT(fit)\n",
    "pVals <- res$table[,4]\n",
    "names(pVals) <- rownames(res$table)\n",
    "\n",
    "pVals <- p.adjust(pVals, method = \"fdr\")"
   ]
  },
  {
   "cell_type": "code",
   "execution_count": null,
   "metadata": {
    "collapsed": true
   },
   "outputs": [],
   "source": [
    "?DGEList"
   ]
  },
  {
   "cell_type": "markdown",
   "metadata": {},
   "source": [
    "## MAST"
   ]
  },
  {
   "cell_type": "code",
   "execution_count": null,
   "metadata": {
    "collapsed": true
   },
   "outputs": [],
   "source": []
  }
 ],
 "metadata": {
  "kernelspec": {
   "display_name": "R",
   "language": "R",
   "name": "ir"
  },
  "language_info": {
   "codemirror_mode": "r",
   "file_extension": ".r",
   "mimetype": "text/x-r-source",
   "name": "R",
   "pygments_lexer": "r",
   "version": "3.4.3"
  }
 },
 "nbformat": 4,
 "nbformat_minor": 2
}
