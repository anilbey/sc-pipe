{
 "cells": [
  {
   "cell_type": "code",
   "execution_count": 34,
   "metadata": {},
   "outputs": [],
   "source": [
    "import numpy as np\n",
    "from sklearn.metrics.cluster import normalized_mutual_info_score\n",
    "from sklearn.metrics.cluster import adjusted_rand_score\n",
    "import sklearn.metrics as metrics\n",
    "import glob\n",
    "import matplotlib.pyplot as plt\n",
    "%matplotlib inline"
   ]
  },
  {
   "cell_type": "code",
   "execution_count": 2,
   "metadata": {},
   "outputs": [
    {
     "name": "stdout",
     "output_type": "stream",
     "text": [
      "block_zifa_clusters.csv       pca_clusters.csv\t       simlr.csv\r\n",
      "block_zifa.csv\t\t      pca.csv\t\t       tsne_clusters.csv\r\n",
      "factor_analysis_clusters.csv  phenograph_clusters.csv  tsne.csv\r\n",
      "factor_analysis.csv\t      simlr_clusters.csv\r\n"
     ]
    }
   ],
   "source": [
    "!ls ../analysis/PBMC68k/"
   ]
  },
  {
   "cell_type": "code",
   "execution_count": 3,
   "metadata": {},
   "outputs": [],
   "source": [
    "cluster_results_path = []\n",
    "dim_red_results_path = []\n",
    "for name in glob.glob('../analysis/PBMC68k/*.csv'):\n",
    "    if '_clusters' in name:\n",
    "        cluster_results_path.append(name)\n",
    "    else:\n",
    "        dim_red_results_path.append(name)"
   ]
  },
  {
   "cell_type": "code",
   "execution_count": 4,
   "metadata": {},
   "outputs": [
    {
     "name": "stdout",
     "output_type": "stream",
     "text": [
      "CD8+ Cytotoxic T\r\n",
      "CD8+/CD45RA+ Naive Cytotoxic\r\n",
      "CD4+/CD25 T Reg\r\n",
      "CD19+ B\r\n",
      "CD4+/CD25 T Reg\r\n",
      "CD4+/CD25 T Reg\r\n",
      "CD4+/CD45RO+ Memory\r\n",
      "CD8+ Cytotoxic T\r\n",
      "CD8+/CD45RA+ Naive Cytotoxic\r\n",
      "CD8+ Cytotoxic T\r\n"
     ]
    }
   ],
   "source": [
    "! head ../data/pbmc68k/PBMC68k.cellLables.txt"
   ]
  },
  {
   "cell_type": "code",
   "execution_count": 5,
   "metadata": {},
   "outputs": [],
   "source": [
    "cluster_labels_path = '../data/pbmc68k/PBMC68k.cellLables.txt'"
   ]
  },
  {
   "cell_type": "code",
   "execution_count": 6,
   "metadata": {},
   "outputs": [],
   "source": [
    "cell_groups = np.genfromtxt(cluster_labels_path, dtype='str', delimiter='/n')"
   ]
  },
  {
   "cell_type": "code",
   "execution_count": 7,
   "metadata": {},
   "outputs": [],
   "source": [
    "dim_results = []\n",
    "for d in dim_red_results_path:\n",
    "    dim_results.append(np.genfromtxt(d, delimiter=','))\n",
    "cluster_results = []\n",
    "for c in cluster_results_path:\n",
    "    cluster_results.append(np.genfromtxt(c, delimiter=',', dtype=np.int64))   "
   ]
  },
  {
   "cell_type": "code",
   "execution_count": 8,
   "metadata": {},
   "outputs": [
    {
     "data": {
      "text/plain": [
       "(68579,)"
      ]
     },
     "execution_count": 8,
     "metadata": {},
     "output_type": "execute_result"
    }
   ],
   "source": [
    "cluster_results[0].shape"
   ]
  },
  {
   "cell_type": "code",
   "execution_count": 9,
   "metadata": {},
   "outputs": [
    {
     "data": {
      "text/plain": [
       "(68579, 2)"
      ]
     },
     "execution_count": 9,
     "metadata": {},
     "output_type": "execute_result"
    }
   ],
   "source": [
    "dim_results[0].shape"
   ]
  },
  {
   "cell_type": "code",
   "execution_count": 10,
   "metadata": {},
   "outputs": [
    {
     "data": {
      "text/plain": [
       "'simlr'"
      ]
     },
     "execution_count": 10,
     "metadata": {},
     "output_type": "execute_result"
    }
   ],
   "source": [
    "dim_red_results_path[2].split('/')[3].split('.')[0]"
   ]
  },
  {
   "cell_type": "code",
   "execution_count": 11,
   "metadata": {},
   "outputs": [
    {
     "data": {
      "text/plain": [
       "(68579,)"
      ]
     },
     "execution_count": 11,
     "metadata": {},
     "output_type": "execute_result"
    }
   ],
   "source": [
    "cell_groups.shape"
   ]
  },
  {
   "cell_type": "code",
   "execution_count": 30,
   "metadata": {},
   "outputs": [],
   "source": [
    "keys = ['pca','fa','simlr','tsne','zifa','pg']"
   ]
  },
  {
   "cell_type": "code",
   "execution_count": 38,
   "metadata": {},
   "outputs": [],
   "source": [
    "i = 0\n",
    "res_dict = dict()\n",
    "for cr in cluster_results:\n",
    "    res_dict[keys[i]] = normalized_mutual_info_score(cell_groups, cr)\n",
    "    i = i + 1"
   ]
  },
  {
   "cell_type": "code",
   "execution_count": 39,
   "metadata": {},
   "outputs": [
    {
     "data": {
      "text/plain": [
       "{'fa': 0.36751651044931993,\n",
       " 'pca': 0.47386207422627125,\n",
       " 'pg': 0.5615924944309132,\n",
       " 'simlr': 0.496238999975089,\n",
       " 'tsne': 0.48361836135991243,\n",
       " 'zifa': 0.43865936211664697}"
      ]
     },
     "execution_count": 39,
     "metadata": {},
     "output_type": "execute_result"
    }
   ],
   "source": [
    "res_dict"
   ]
  },
  {
   "cell_type": "code",
   "execution_count": 40,
   "metadata": {},
   "outputs": [
    {
     "data": {
      "image/png": "[encoded data removed]",
      "text/plain": [
       "<matplotlib.figure.Figure at 0x2ae01f4540f0>"
      ]
     },
     "metadata": {},
     "output_type": "display_data"
    }
   ],
   "source": [
    "plt.bar(range(len(res_dict)), list(res_dict.values()), align='center')\n",
    "plt.xticks(range(len(res_dict)), list(res_dict.keys()))\n",
    "\n",
    "plt.show()"
   ]
  },
  {
   "cell_type": "code",
   "execution_count": null,
   "metadata": {},
   "outputs": [],
   "source": []
  }
 ],
 "metadata": {
  "kernelspec": {
   "display_name": "Python 3",
   "language": "python",
   "name": "python3"
  },
  "language_info": {
   "codemirror_mode": {
    "name": "ipython",
    "version": 3
   },
   "file_extension": ".py",
   "mimetype": "text/x-python",
   "name": "python",
   "nbconvert_exporter": "python",
   "pygments_lexer": "ipython3",
   "version": "3.6.3"
  }
 },
 "nbformat": 4,
 "nbformat_minor": 2
}
