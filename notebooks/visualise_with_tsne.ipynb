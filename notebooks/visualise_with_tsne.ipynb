{
 "cells": [
  {
   "cell_type": "code",
   "execution_count": 1,
   "metadata": {},
   "outputs": [
    {
     "name": "stderr",
     "output_type": "stream",
     "text": [
      "/cluster/work/bewi/members/tuncel/anaconda3/envs/r-3.4.1-env/lib/python3.6/site-packages/h5py/__init__.py:36: FutureWarning: Conversion of the second argument of issubdtype from `float` to `np.floating` is deprecated. In future, it will be treated as `np.float64 == np.dtype(float).type`.\n",
      "  from ._conv import register_converters as _register_converters\n"
     ]
    }
   ],
   "source": [
    "import h5py\n",
    "import numpy as np\n",
    "import phenograph\n",
    "import time\n",
    "from sklearn.metrics.cluster import normalized_mutual_info_score\n",
    "from sklearn.manifold import TSNE\n",
    "from sklearn.decomposition import PCA\n",
    "import matplotlib.pyplot as plt"
   ]
  },
  {
   "cell_type": "code",
   "execution_count": 2,
   "metadata": {},
   "outputs": [
    {
     "name": "stdout",
     "output_type": "stream",
     "text": [
      "total 150616\r\n",
      "drwxrwx---  9 mtuncel mtuncel-group     4096 Feb 23 15:24 analysis\r\n",
      "drwxrwx--- 13 mtuncel mtuncel-group     4096 Feb 23 15:24 log\r\n",
      "-rw-rw----  1 mtuncel mtuncel-group  7137020 Feb 23 14:26 melanomaS2_sim_loc0.25.h5\r\n",
      "-rw-rw----  1 mtuncel mtuncel-group 10076078 Feb 23 14:42 melanomaS2_sim_loc0.25_zheng17.h5\r\n",
      "-rw-rw----  1 mtuncel mtuncel-group  7140589 Feb 23 14:38 melanomaS2_sim_loc0.5.h5\r\n",
      "-rw-rw----  1 mtuncel mtuncel-group 10086116 Feb 23 14:42 melanomaS2_sim_loc0.5_zheng17.h5\r\n",
      "-rw-rw----  1 mtuncel mtuncel-group  7125243 Feb 23 14:26 melanomaS2_sim_loc0.75.h5\r\n",
      "-rw-rw----  1 mtuncel mtuncel-group 10086116 Feb 23 14:42 melanomaS2_sim_loc0.75_zheng17.h5\r\n",
      "-rw-rw----  1 mtuncel mtuncel-group  7078790 Feb 23 14:25 melanomaS2_sim_loc1.25.h5\r\n",
      "-rw-rw----  1 mtuncel mtuncel-group 10086116 Feb 23 14:42 melanomaS2_sim_loc1.25_zheng17.h5\r\n",
      "-rw-rw----  1 mtuncel mtuncel-group  7038040 Feb 23 14:26 melanomaS2_sim_loc1.5.h5\r\n",
      "-rw-rw----  1 mtuncel mtuncel-group 10076078 Feb 23 14:42 melanomaS2_sim_loc1.5_zheng17.h5\r\n",
      "-rw-rw----  1 mtuncel mtuncel-group  7113108 Feb 23 14:25 melanomaS2_sim_loc1.h5\r\n",
      "-rw-rw----  1 mtuncel mtuncel-group 10086116 Feb 23 14:42 melanomaS2_sim_loc1_zheng17.h5\r\n",
      "-rw-rw----  1 mtuncel mtuncel-group  6711159 Feb 23 14:25 melanomaS2_sim_loc2.5.h5\r\n",
      "-rw-rw----  1 mtuncel mtuncel-group 10076078 Feb 23 14:42 melanomaS2_sim_loc2.5_zheng17.h5\r\n",
      "-rw-rw----  1 mtuncel mtuncel-group  6913442 Feb 23 14:25 melanomaS2_sim_loc2.h5\r\n",
      "-rw-rw----  1 mtuncel mtuncel-group 10086116 Feb 23 14:42 melanomaS2_sim_loc2_zheng17.h5\r\n",
      "-rw-rw----  1 mtuncel mtuncel-group  6426419 Feb 23 14:26 melanomaS2_sim_loc3.h5\r\n",
      "-rw-rw----  1 mtuncel mtuncel-group 10086116 Feb 23 14:42 melanomaS2_sim_loc3_zheng17.h5\r\n",
      "-rw-rw----  1 mtuncel mtuncel-group    53462 Feb 23 15:29 stats.json\r\n"
     ]
    }
   ],
   "source": [
    "! ls -l ../simulated/23-02-2018/"
   ]
  },
  {
   "cell_type": "code",
   "execution_count": 3,
   "metadata": {},
   "outputs": [],
   "source": [
    "input_file = '../simulated/23-02-2018/melanomaS2_sim_loc3_zheng17.h5'"
   ]
  },
  {
   "cell_type": "code",
   "execution_count": 4,
   "metadata": {},
   "outputs": [],
   "source": [
    "h5f = h5py.File(input_file, 'r')\n",
    "matrix = h5f['matrix'][:]\n",
    "barcodes = h5f['cell_attrs']['cell_names'].value\n",
    "h5f.close()\n",
    "#matrix = np.log1p(matrix)"
   ]
  },
  {
   "cell_type": "code",
   "execution_count": 5,
   "metadata": {},
   "outputs": [
    {
     "name": "stdout",
     "output_type": "stream",
     "text": [
      "[t-SNE] Computing 91 nearest neighbors...\n",
      "[t-SNE] Indexed 2495 samples in 0.054s...\n",
      "[t-SNE] Computed neighbors for 2495 samples in 3.902s...\n",
      "[t-SNE] Computed conditional probabilities for sample 1000 / 2495\n",
      "[t-SNE] Computed conditional probabilities for sample 2000 / 2495\n",
      "[t-SNE] Computed conditional probabilities for sample 2495 / 2495\n",
      "[t-SNE] Mean sigma: 136.235435\n",
      "[t-SNE] Computed conditional probabilities in 0.170s\n",
      "[t-SNE] Iteration 50: error = 79.4435349, gradient norm = 0.0274429 (50 iterations in 2.262s)\n",
      "[t-SNE] Iteration 100: error = 84.1061096, gradient norm = 0.0446970 (50 iterations in 2.138s)\n",
      "[t-SNE] Iteration 150: error = 85.1553040, gradient norm = 0.0417536 (50 iterations in 1.993s)\n",
      "[t-SNE] Iteration 200: error = 87.1461563, gradient norm = 0.0515795 (50 iterations in 1.947s)\n",
      "[t-SNE] Iteration 250: error = 86.7518539, gradient norm = 0.0328607 (50 iterations in 1.925s)\n",
      "[t-SNE] KL divergence after 250 iterations with early exaggeration: 86.751854\n",
      "[t-SNE] Iteration 300: error = 2.4701807, gradient norm = 0.0011302 (50 iterations in 2.018s)\n",
      "[t-SNE] Iteration 350: error = 2.2454846, gradient norm = 0.0005281 (50 iterations in 2.110s)\n",
      "[t-SNE] Iteration 400: error = 2.1190441, gradient norm = 0.0004279 (50 iterations in 2.103s)\n",
      "[t-SNE] Iteration 450: error = 2.0168202, gradient norm = 0.0003348 (50 iterations in 2.098s)\n",
      "[t-SNE] Iteration 500: error = 1.9371740, gradient norm = 0.0002879 (50 iterations in 2.111s)\n",
      "[t-SNE] Iteration 550: error = 1.8669810, gradient norm = 0.0002369 (50 iterations in 2.094s)\n",
      "[t-SNE] Iteration 600: error = 1.8059664, gradient norm = 0.0002936 (50 iterations in 2.097s)\n",
      "[t-SNE] Iteration 650: error = 1.7503997, gradient norm = 0.0001918 (50 iterations in 2.142s)\n",
      "[t-SNE] Iteration 700: error = 1.6990994, gradient norm = 0.0002043 (50 iterations in 2.098s)\n",
      "[t-SNE] Iteration 750: error = 1.6522279, gradient norm = 0.0001735 (50 iterations in 2.102s)\n",
      "[t-SNE] Iteration 800: error = 1.6128557, gradient norm = 0.0001677 (50 iterations in 2.088s)\n",
      "[t-SNE] Iteration 850: error = 1.5750762, gradient norm = 0.0001508 (50 iterations in 2.158s)\n",
      "[t-SNE] Iteration 900: error = 1.5362393, gradient norm = 0.0001536 (50 iterations in 2.097s)\n",
      "[t-SNE] Iteration 950: error = 1.4951861, gradient norm = 0.0001450 (50 iterations in 2.088s)\n",
      "[t-SNE] Iteration 1000: error = 1.4545950, gradient norm = 0.0001476 (50 iterations in 2.093s)\n",
      "[t-SNE] Error after 1000 iterations: 1.454595\n"
     ]
    }
   ],
   "source": [
    "X_tsne = TSNE(n_components=2,init='pca', verbose = 2).fit_transform(matrix)\n",
    "X_pca = PCA().fit_transform(matrix)"
   ]
  },
  {
   "cell_type": "code",
   "execution_count": 6,
   "metadata": {},
   "outputs": [
    {
     "data": {
      "text/plain": [
       "<matplotlib.collections.PathCollection at 0x2b0251b60b70>"
      ]
     },
     "execution_count": 6,
     "metadata": {},
     "output_type": "execute_result"
    },
    {
     "data": {
      "image/png": "[encoded data removed]",
      "text/plain": [
       "<matplotlib.figure.Figure at 0x2b024ec578d0>"
      ]
     },
     "metadata": {},
     "output_type": "display_data"
    }
   ],
   "source": [
    "plt.figure(figsize=(10, 5))\n",
    "plt.subplot(121)\n",
    "plt.scatter(X_tsne[:, 0], X_tsne[:, 1])\n",
    "plt.subplot(122)\n",
    "plt.scatter(X_pca[:, 0], X_pca[:, 1])"
   ]
  },
  {
   "cell_type": "code",
   "execution_count": null,
   "metadata": {},
   "outputs": [],
   "source": []
  },
  {
   "cell_type": "code",
   "execution_count": null,
   "metadata": {},
   "outputs": [],
   "source": []
  },
  {
   "cell_type": "code",
   "execution_count": null,
   "metadata": {},
   "outputs": [],
   "source": []
  },
  {
   "cell_type": "code",
   "execution_count": null,
   "metadata": {},
   "outputs": [],
   "source": []
  },
  {
   "cell_type": "code",
   "execution_count": null,
   "metadata": {},
   "outputs": [],
   "source": []
  }
 ],
 "metadata": {
  "kernelspec": {
   "display_name": "Python 3",
   "language": "python",
   "name": "python3"
  },
  "language_info": {
   "codemirror_mode": {
    "name": "ipython",
    "version": 3
   },
   "file_extension": ".py",
   "mimetype": "text/x-python",
   "name": "python",
   "nbconvert_exporter": "python",
   "pygments_lexer": "ipython3",
   "version": "3.6.3"
  }
 },
 "nbformat": 4,
 "nbformat_minor": 2
}
