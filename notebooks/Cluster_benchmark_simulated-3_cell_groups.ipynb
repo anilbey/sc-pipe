{
 "cells": [
  {
   "cell_type": "code",
   "execution_count": 1,
   "metadata": {},
   "outputs": [
    {
     "name": "stderr",
     "output_type": "stream",
     "text": [
      "/cluster/work/bewi/members/tuncel/anaconda3/envs/r-3.4.1-env/lib/python3.6/site-packages/h5py/__init__.py:36: FutureWarning: Conversion of the second argument of issubdtype from `float` to `np.floating` is deprecated. In future, it will be treated as `np.float64 == np.dtype(float).type`.\n",
      "  from ._conv import register_converters as _register_converters\n"
     ]
    }
   ],
   "source": [
    "import h5py\n",
    "import numpy as np\n",
    "import glob\n",
    "from sklearn.metrics.cluster import normalized_mutual_info_score\n",
    "from sklearn.metrics.cluster import adjusted_rand_score\n",
    "import sklearn.metrics as metrics\n",
    "import matplotlib.pyplot as plt\n",
    "%matplotlib inline\n",
    "import pandas as pd"
   ]
  },
  {
   "cell_type": "code",
   "execution_count": 2,
   "metadata": {},
   "outputs": [],
   "source": [
    "loc_values = [0.25, 0.5, 0.75, 1, 1.25, 1.5, 2, 2.5, 3]"
   ]
  },
  {
   "cell_type": "code",
   "execution_count": 3,
   "metadata": {},
   "outputs": [
    {
     "data": {
      "text/plain": [
       "[0.25, 0.5, 0.75, 1, 1.25, 1.5, 2, 2.5, 3]"
      ]
     },
     "execution_count": 3,
     "metadata": {},
     "output_type": "execute_result"
    }
   ],
   "source": [
    "loc_values"
   ]
  },
  {
   "cell_type": "code",
   "execution_count": 4,
   "metadata": {},
   "outputs": [],
   "source": [
    "h5f = h5py.File('../simulated/from_raw_counts/melanomaS2_sim_loc1.h5', 'r')"
   ]
  },
  {
   "cell_type": "code",
   "execution_count": 7,
   "metadata": {},
   "outputs": [
    {
     "data": {
      "text/plain": [
       "['gene_names', 'cell_names', 'matrix', 'cells_on_rows', 'cell_groups']"
      ]
     },
     "execution_count": 7,
     "metadata": {},
     "output_type": "execute_result"
    }
   ],
   "source": [
    "list(h5f.keys())"
   ]
  },
  {
   "cell_type": "code",
   "execution_count": 8,
   "metadata": {},
   "outputs": [
    {
     "data": {
      "text/plain": [
       "numpy.ndarray"
      ]
     },
     "execution_count": 8,
     "metadata": {},
     "output_type": "execute_result"
    }
   ],
   "source": [
    "type(h5f['cell_groups'].value)"
   ]
  },
  {
   "cell_type": "code",
   "execution_count": 9,
   "metadata": {},
   "outputs": [],
   "source": [
    "str1 = '../simulated/from_raw_counts/analysis/block_zifa/clusters/melanomaS2_sim_loc0.5clusters.csv'"
   ]
  },
  {
   "cell_type": "code",
   "execution_count": 10,
   "metadata": {},
   "outputs": [
    {
     "data": {
      "text/plain": [
       "<function str.split>"
      ]
     },
     "execution_count": 10,
     "metadata": {},
     "output_type": "execute_result"
    }
   ],
   "source": [
    "str1.split"
   ]
  },
  {
   "cell_type": "code",
   "execution_count": 11,
   "metadata": {},
   "outputs": [],
   "source": [
    "def evaluate_once(loc_value):\n",
    "    loom_file_path =  '../simulated/from_raw_counts/melanomaS2_sim_loc'+str(loc_value)+'.h5'\n",
    "    dim_red_results_path = sorted(glob.glob('../simulated/from_raw_counts/analysis/*/melanomaS2_sim_loc'+str(loc_value)+'.csv'))\n",
    "    cluster_results_path = sorted(glob.glob('../simulated/from_raw_counts/analysis/*/clusters/melanomaS2_sim_loc'+str(loc_value)+'clusters.csv'))\n",
    "    h5f = h5py.File(loom_file_path, 'r')\n",
    "    cell_groups = h5f['cell_groups'].value\n",
    "    h5f.close()\n",
    "    vfunc1 = np.vectorize(lambda t: t.decode('UTF-8'))\n",
    "    cell_groups = vfunc1(cell_groups)\n",
    "    vfunc2 = np.vectorize(lambda t: int(t[-1:]))\n",
    "    cell_groups = vfunc2(cell_groups)\n",
    "    # cluster results\n",
    "    cluster_results = []\n",
    "    for c in cluster_results_path:\n",
    "        cluster_results.append(np.genfromtxt(c, delimiter=',', dtype=np.int64))   \n",
    "\n",
    "    results = []\n",
    "    i = 0\n",
    "    for cr in cluster_results:\n",
    "        #print (cluster_results_path[i])\n",
    "        #print ('nmi')\n",
    "        i = i + 1\n",
    "        #print(normalized_mutual_info_score(cell_groups, cr))\n",
    "        results.append(normalized_mutual_info_score(cell_groups, cr))\n",
    "    #print(cluster_results_path)\n",
    "    vfunc2 = np.vectorize(lambda t: t.split('/')[4])\n",
    "    index_list = vfunc2(cluster_results_path)\n",
    "    print(index_list)\n",
    "    return pd.Series(results, index=index_list)"
   ]
  },
  {
   "cell_type": "code",
   "execution_count": 12,
   "metadata": {},
   "outputs": [
    {
     "name": "stdout",
     "output_type": "stream",
     "text": [
      "['block_zifa' 'factor_analysis' 'griph' 'pca' 'phenograph' 'simlr' 'tsne']\n"
     ]
    }
   ],
   "source": [
    "index = evaluate_once(0.5).T.index.values"
   ]
  },
  {
   "cell_type": "code",
   "execution_count": 13,
   "metadata": {
    "scrolled": true
   },
   "outputs": [
    {
     "name": "stdout",
     "output_type": "stream",
     "text": [
      "['block_zifa' 'factor_analysis' 'griph' 'pca' 'phenograph' 'simlr' 'tsne']\n",
      "['block_zifa' 'factor_analysis' 'griph' 'pca' 'phenograph' 'simlr' 'tsne']\n",
      "['block_zifa' 'factor_analysis' 'griph' 'pca' 'phenograph' 'simlr' 'tsne']\n",
      "['block_zifa' 'factor_analysis' 'griph' 'pca' 'phenograph' 'simlr' 'tsne']\n",
      "['block_zifa' 'factor_analysis' 'griph' 'pca' 'phenograph' 'simlr' 'tsne']\n",
      "['block_zifa' 'factor_analysis' 'griph' 'pca' 'phenograph' 'simlr' 'tsne']\n",
      "['block_zifa' 'factor_analysis' 'griph' 'pca' 'phenograph' 'simlr' 'tsne']\n",
      "['block_zifa' 'factor_analysis' 'griph' 'pca' 'phenograph' 'simlr' 'tsne']\n",
      "['block_zifa' 'factor_analysis' 'griph' 'pca' 'phenograph' 'simlr' 'tsne']\n"
     ]
    }
   ],
   "source": [
    "df = pd.DataFrame(columns=index)\n",
    "for loc in loc_values:\n",
    "    df.loc[loc] = evaluate_once(loc)\n",
    "    #df.append(evaluate_once(loc),ignore_index=True)"
   ]
  },
  {
   "cell_type": "markdown",
   "metadata": {},
   "source": [
    " ### results 1"
   ]
  },
  {
   "cell_type": "code",
   "execution_count": 14,
   "metadata": {},
   "outputs": [
    {
     "data": {
      "text/html": [
       "<div>\n",
       "<style scoped>\n",
       "    .dataframe tbody tr th:only-of-type {\n",
       "        vertical-align: middle;\n",
       "    }\n",
       "\n",
       "    .dataframe tbody tr th {\n",
       "        vertical-align: top;\n",
       "    }\n",
       "\n",
       "    .dataframe thead th {\n",
       "        text-align: right;\n",
       "    }\n",
       "</style>\n",
       "<table border=\"1\" class=\"dataframe\">\n",
       "  <thead>\n",
       "    <tr style=\"text-align: right;\">\n",
       "      <th></th>\n",
       "      <th>block_zifa</th>\n",
       "      <th>factor_analysis</th>\n",
       "      <th>griph</th>\n",
       "      <th>pca</th>\n",
       "      <th>phenograph</th>\n",
       "      <th>simlr</th>\n",
       "      <th>tsne</th>\n",
       "    </tr>\n",
       "  </thead>\n",
       "  <tbody>\n",
       "    <tr>\n",
       "      <th>0.25</th>\n",
       "      <td>0.223112</td>\n",
       "      <td>0.009885</td>\n",
       "      <td>0.005040</td>\n",
       "      <td>0.067756</td>\n",
       "      <td>0.009378</td>\n",
       "      <td>0.009048</td>\n",
       "      <td>0.043198</td>\n",
       "    </tr>\n",
       "    <tr>\n",
       "      <th>0.50</th>\n",
       "      <td>0.619962</td>\n",
       "      <td>0.009885</td>\n",
       "      <td>0.006055</td>\n",
       "      <td>0.230594</td>\n",
       "      <td>0.199890</td>\n",
       "      <td>0.056528</td>\n",
       "      <td>0.151931</td>\n",
       "    </tr>\n",
       "    <tr>\n",
       "      <th>0.75</th>\n",
       "      <td>0.894941</td>\n",
       "      <td>0.010231</td>\n",
       "      <td>0.218964</td>\n",
       "      <td>0.414174</td>\n",
       "      <td>0.679268</td>\n",
       "      <td>0.484780</td>\n",
       "      <td>0.552289</td>\n",
       "    </tr>\n",
       "    <tr>\n",
       "      <th>1.00</th>\n",
       "      <td>0.980674</td>\n",
       "      <td>0.900939</td>\n",
       "      <td>0.515688</td>\n",
       "      <td>0.909232</td>\n",
       "      <td>0.891068</td>\n",
       "      <td>0.787362</td>\n",
       "      <td>0.853184</td>\n",
       "    </tr>\n",
       "    <tr>\n",
       "      <th>1.25</th>\n",
       "      <td>1.000000</td>\n",
       "      <td>0.997176</td>\n",
       "      <td>0.667645</td>\n",
       "      <td>0.997176</td>\n",
       "      <td>0.981348</td>\n",
       "      <td>0.950066</td>\n",
       "      <td>0.971125</td>\n",
       "    </tr>\n",
       "    <tr>\n",
       "      <th>1.50</th>\n",
       "      <td>1.000000</td>\n",
       "      <td>0.997176</td>\n",
       "      <td>0.707471</td>\n",
       "      <td>0.997176</td>\n",
       "      <td>0.992034</td>\n",
       "      <td>0.994367</td>\n",
       "      <td>0.991543</td>\n",
       "    </tr>\n",
       "    <tr>\n",
       "      <th>2.00</th>\n",
       "      <td>1.000000</td>\n",
       "      <td>1.000000</td>\n",
       "      <td>0.740851</td>\n",
       "      <td>1.000000</td>\n",
       "      <td>1.000000</td>\n",
       "      <td>1.000000</td>\n",
       "      <td>1.000000</td>\n",
       "    </tr>\n",
       "    <tr>\n",
       "      <th>2.50</th>\n",
       "      <td>1.000000</td>\n",
       "      <td>1.000000</td>\n",
       "      <td>0.741459</td>\n",
       "      <td>1.000000</td>\n",
       "      <td>1.000000</td>\n",
       "      <td>1.000000</td>\n",
       "      <td>1.000000</td>\n",
       "    </tr>\n",
       "    <tr>\n",
       "      <th>3.00</th>\n",
       "      <td>1.000000</td>\n",
       "      <td>1.000000</td>\n",
       "      <td>0.738901</td>\n",
       "      <td>1.000000</td>\n",
       "      <td>1.000000</td>\n",
       "      <td>1.000000</td>\n",
       "      <td>0.997176</td>\n",
       "    </tr>\n",
       "  </tbody>\n",
       "</table>\n",
       "</div>"
      ],
      "text/plain": [
       "      block_zifa  factor_analysis     griph       pca  phenograph     simlr  \\\n",
       "0.25    0.223112         0.009885  0.005040  0.067756    0.009378  0.009048   \n",
       "0.50    0.619962         0.009885  0.006055  0.230594    0.199890  0.056528   \n",
       "0.75    0.894941         0.010231  0.218964  0.414174    0.679268  0.484780   \n",
       "1.00    0.980674         0.900939  0.515688  0.909232    0.891068  0.787362   \n",
       "1.25    1.000000         0.997176  0.667645  0.997176    0.981348  0.950066   \n",
       "1.50    1.000000         0.997176  0.707471  0.997176    0.992034  0.994367   \n",
       "2.00    1.000000         1.000000  0.740851  1.000000    1.000000  1.000000   \n",
       "2.50    1.000000         1.000000  0.741459  1.000000    1.000000  1.000000   \n",
       "3.00    1.000000         1.000000  0.738901  1.000000    1.000000  1.000000   \n",
       "\n",
       "          tsne  \n",
       "0.25  0.043198  \n",
       "0.50  0.151931  \n",
       "0.75  0.552289  \n",
       "1.00  0.853184  \n",
       "1.25  0.971125  \n",
       "1.50  0.991543  \n",
       "2.00  1.000000  \n",
       "2.50  1.000000  \n",
       "3.00  0.997176  "
      ]
     },
     "execution_count": 14,
     "metadata": {},
     "output_type": "execute_result"
    }
   ],
   "source": [
    "df"
   ]
  },
  {
   "cell_type": "code",
   "execution_count": 1,
   "metadata": {},
   "outputs": [
    {
     "ename": "NameError",
     "evalue": "name 'df' is not defined",
     "output_type": "error",
     "traceback": [
      "\u001b[0;31m---------------------------------------------------------------------------\u001b[0m",
      "\u001b[0;31mNameError\u001b[0m                                 Traceback (most recent call last)",
      "\u001b[0;32m<ipython-input-1-00cf07b74dcd>\u001b[0m in \u001b[0;36m<module>\u001b[0;34m()\u001b[0m\n\u001b[0;32m----> 1\u001b[0;31m \u001b[0mdf\u001b[0m\u001b[0;34m\u001b[0m\u001b[0m\n\u001b[0m",
      "\u001b[0;31mNameError\u001b[0m: name 'df' is not defined"
     ]
    }
   ],
   "source": []
  },
  {
   "cell_type": "code",
   "execution_count": null,
   "metadata": {},
   "outputs": [],
   "source": []
  },
  {
   "cell_type": "code",
   "execution_count": null,
   "metadata": {},
   "outputs": [],
   "source": []
  },
  {
   "cell_type": "code",
   "execution_count": null,
   "metadata": {},
   "outputs": [],
   "source": []
  },
  {
   "cell_type": "code",
   "execution_count": 15,
   "metadata": {
    "scrolled": false
   },
   "outputs": [
    {
     "data": {
      "image/png": "[encoded data removed]",
      "text/plain": [
       "<matplotlib.figure.Figure at 0x2b5ce3bfda20>"
      ]
     },
     "metadata": {},
     "output_type": "display_data"
    }
   ],
   "source": [
    "ax = df.plot(title='Dimension Reduction Comparisons',figsize=(14,7))\n",
    "ax.set_xlabel('loc parameter')\n",
    "ax.set_ylabel('NMI')\n",
    "ax.invert_xaxis()"
   ]
  },
  {
   "cell_type": "code",
   "execution_count": null,
   "metadata": {},
   "outputs": [],
   "source": [
    "pd.write"
   ]
  },
  {
   "cell_type": "code",
   "execution_count": 1,
   "metadata": {},
   "outputs": [
    {
     "data": {
      "text/plain": [
       "2"
      ]
     },
     "execution_count": 1,
     "metadata": {},
     "output_type": "execute_result"
    }
   ],
   "source": [
    "2"
   ]
  },
  {
   "cell_type": "code",
   "execution_count": 3,
   "metadata": {},
   "outputs": [
    {
     "data": {
      "text/plain": [
       "22"
      ]
     },
     "execution_count": 3,
     "metadata": {},
     "output_type": "execute_result"
    }
   ],
   "source": [
    "22"
   ]
  },
  {
   "cell_type": "code",
   "execution_count": null,
   "metadata": {},
   "outputs": [],
   "source": []
  },
  {
   "cell_type": "code",
   "execution_count": 2,
   "metadata": {},
   "outputs": [
    {
     "data": {
      "text/plain": [
       "33"
      ]
     },
     "execution_count": 2,
     "metadata": {},
     "output_type": "execute_result"
    }
   ],
   "source": [
    "33"
   ]
  },
  {
   "cell_type": "code",
   "execution_count": null,
   "metadata": {},
   "outputs": [],
   "source": []
  },
  {
   "cell_type": "code",
   "execution_count": null,
   "metadata": {},
   "outputs": [],
   "source": []
  }
 ],
 "metadata": {
  "kernelspec": {
   "display_name": "Python 3",
   "language": "python",
   "name": "python3"
  },
  "language_info": {
   "codemirror_mode": {
    "name": "ipython",
    "version": 3
   },
   "file_extension": ".py",
   "mimetype": "text/x-python",
   "name": "python",
   "nbconvert_exporter": "python",
   "pygments_lexer": "ipython3",
   "version": "3.6.3"
  }
 },
 "nbformat": 4,
 "nbformat_minor": 2
}
