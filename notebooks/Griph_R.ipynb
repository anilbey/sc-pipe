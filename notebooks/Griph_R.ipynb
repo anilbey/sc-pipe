{
 "cells": [
  {
   "cell_type": "code",
   "execution_count": 1,
   "metadata": {},
   "outputs": [],
   "source": [
    "library(griph)\n",
    "library(rhdf5)"
   ]
  },
  {
   "cell_type": "code",
   "execution_count": 2,
   "metadata": {},
   "outputs": [],
   "source": [
    "input_hdf5 = '../simulated/from_raw_counts/melanomaS2_sim_loc4_zheng17.h5'\n",
    "h5f = H5Fopen(input_hdf5)\n",
    "matrix = h5f$matrix\n"
   ]
  },
  {
   "cell_type": "code",
   "execution_count": 3,
   "metadata": {},
   "outputs": [
    {
     "data": {
      "text/plain": [
       "HDF5 FILE\n",
       "        name /\n",
       "    filename \n",
       "\n",
       "         name       otype dclass         dim\n",
       "0 cell_groups H5I_DATASET STRING 2495       \n",
       "1 gene_names  H5I_DATASET STRING 1000       \n",
       "2 matrix      H5I_DATASET FLOAT  1000 x 2495"
      ]
     },
     "metadata": {},
     "output_type": "display_data"
    }
   ],
   "source": [
    "h5f"
   ]
  },
  {
   "cell_type": "code",
   "execution_count": null,
   "metadata": {},
   "outputs": [],
   "source": [
    "H5Fclose(h5f)"
   ]
  },
  {
   "cell_type": "code",
   "execution_count": 41,
   "metadata": {},
   "outputs": [
    {
     "name": "stderr",
     "output_type": "stream",
     "text": [
      "Preprocessing...\n",
      "Removed 97 uninformative (invariant/no-show) gene(s)...\n",
      "\n",
      "Filtering Genes...\n",
      "Retained the top 59.2% overdispersed gene(s)\n",
      "...done\n",
      "Calculating Pairwise and Diffused Similarities...Warning message in eval(formal.args[[as.character(substitute(arg))]]):\n",
      "“closing unused connection 11 (<-localhost:11231)”Warning message in eval(formal.args[[as.character(substitute(arg))]]):\n",
      "“closing unused connection 10 (<-localhost:11231)”Warning message in eval(formal.args[[as.character(substitute(arg))]]):\n",
      "“closing unused connection 9 (<-localhost:11231)”Warning message in eval(formal.args[[as.character(substitute(arg))]]):\n",
      "“closing unused connection 8 (<-localhost:11231)”Warning message in eval(formal.args[[as.character(substitute(arg))]]):\n",
      "“closing unused connection 7 (<-localhost:11231)”Warning message in eval(formal.args[[as.character(substitute(arg))]]):\n",
      "“closing unused connection 6 (<-localhost:11231)”Warning message in eval(formal.args[[as.character(substitute(arg))]]):\n",
      "“closing unused connection 5 (<-localhost:11231)”Warning message in eval(formal.args[[as.character(substitute(arg))]]):\n",
      "“closing unused connection 4 (<-localhost:11231)”done\n",
      "Estimating Graph Structure...done\n",
      "Calculating edge weights and knn-based pruning...done\n",
      "Pruning based on global node similarity: 1 / 1Detecting Graph Communities...done\n",
      "\n",
      "\n",
      "Refining Cluster Structure...\n",
      "\n",
      "3 substantial clusters found...\n",
      "\n",
      "Bootstrapping to refine clusters...\n",
      "Calculating Cell Distances to Cluster Centroids (Bulks)...\n",
      "..PearsonC: (Elapsed Time: 0.212)\n",
      "..Canberra: (Elapsed Time: 0.962)\n",
      "..SpearmanC: (Elapsed Time: 0.496)\n",
      "..Hellinger: (Elapsed Time: 0.752)\n",
      "Calculating KNNGraph (Elapsed Time: 5.453)\n",
      "done\n",
      "Calculating edge weights and knn-based pruning...done\n",
      "Detecting Graph Communities...done\n",
      "Computing LargeVis embedding...\n",
      "\tsaving LargeVis plot to Lvis_P81Cx.png\n",
      "Finished (Elapsed Time: 35.229)\n"
     ]
    }
   ],
   "source": [
    "res <- griph_cluster(matrix, ncores=8)"
   ]
  },
  {
   "cell_type": "code",
   "execution_count": 2,
   "metadata": {},
   "outputs": [],
   "source": [
    "?griph_cluster"
   ]
  },
  {
   "cell_type": "code",
   "execution_count": 62,
   "metadata": {},
   "outputs": [],
   "source": [
    "write.table(x=res$MEMB,file=\"griph_results2.csv\", sep=',', row.names=FALSE, col.names=FALSE)"
   ]
  },
  {
   "cell_type": "code",
   "execution_count": 56,
   "metadata": {},
   "outputs": [
    {
     "data": {
      "text/html": [
       "<strong>NA:</strong> NA"
      ],
      "text/latex": [
       "\\textbf{NA:} NA"
      ],
      "text/markdown": [
       "**NA:** NA"
      ],
      "text/plain": [
       "<NA> \n",
       "  NA "
      ]
     },
     "metadata": {},
     "output_type": "display_data"
    }
   ],
   "source": []
  },
  {
   "cell_type": "code",
   "execution_count": 11,
   "metadata": {},
   "outputs": [],
   "source": [
    "?write.csv"
   ]
  },
  {
   "cell_type": "code",
   "execution_count": null,
   "metadata": {},
   "outputs": [],
   "source": []
  }
 ],
 "metadata": {
  "kernelspec": {
   "display_name": "R",
   "language": "R",
   "name": "ir"
  },
  "language_info": {
   "codemirror_mode": "r",
   "file_extension": ".r",
   "mimetype": "text/x-r-source",
   "name": "R",
   "pygments_lexer": "r",
   "version": "3.4.1"
  }
 },
 "nbformat": 4,
 "nbformat_minor": 2
}
