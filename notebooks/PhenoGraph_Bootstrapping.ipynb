{
 "cells": [
  {
   "cell_type": "code",
   "execution_count": 1,
   "metadata": {},
   "outputs": [
    {
     "name": "stderr",
     "output_type": "stream",
     "text": [
      "/cluster/work/bewi/members/tuncel/anaconda3/lib/python3.6/site-packages/h5py/__init__.py:34: FutureWarning: Conversion of the second argument of issubdtype from `float` to `np.floating` is deprecated. In future, it will be treated as `np.float64 == np.dtype(float).type`.\n",
      "  from ._conv import register_converters as _register_converters\n"
     ]
    }
   ],
   "source": [
    "import h5py\n",
    "import numpy as np\n",
    "import pandas as pd\n",
    "import phenograph\n",
    "import time\n",
    "from sklearn.metrics.cluster import normalized_mutual_info_score\n",
    "from sklearn import manifold\n",
    "%matplotlib inline\n",
    "from sklearn.manifold import TSNE\n",
    "import scanpy.api as sc\n",
    "from collections import Counter\n",
    "from sklearn.metrics import mutual_info_score\n",
    "from sklearn.metrics import jaccard_similarity_score\n",
    "from numba import jit\n",
    "import matplotlib.pyplot as plt\n",
    "from tqdm import tqdm\n",
    "import pickle"
   ]
  },
  {
   "cell_type": "code",
   "execution_count": 2,
   "metadata": {},
   "outputs": [
    {
     "data": {
      "text/html": [
       "<script>\n",
       "code_show=true; \n",
       "function code_toggle() {\n",
       " if (code_show){\n",
       " $('div.input').hide();\n",
       " } else {\n",
       " $('div.input').show();\n",
       " }\n",
       " code_show = !code_show\n",
       "} \n",
       "$( document ).ready(code_toggle);\n",
       "</script>\n",
       "<form action=\"javascript:code_toggle()\"><input type=\"submit\" value=\"Click here to toggle on/off the raw code.\"></form>"
      ],
      "text/plain": [
       "<IPython.core.display.HTML object>"
      ]
     },
     "execution_count": 2,
     "metadata": {},
     "output_type": "execute_result"
    }
   ],
   "source": [
    "from IPython.display import HTML\n",
    "\n",
    "HTML('''<script>\n",
    "code_show=true; \n",
    "function code_toggle() {\n",
    " if (code_show){\n",
    " $('div.input').hide();\n",
    " } else {\n",
    " $('div.input').show();\n",
    " }\n",
    " code_show = !code_show\n",
    "} \n",
    "$( document ).ready(code_toggle);\n",
    "</script>\n",
    "<form action=\"javascript:code_toggle()\"><input type=\"submit\" value=\"Click here to toggle on/off the raw code.\"></form>''')\n",
    "\n"
   ]
  },
  {
   "cell_type": "code",
   "execution_count": 3,
   "metadata": {
    "collapsed": true
   },
   "outputs": [],
   "source": [
    "@jit\n",
    "def subsample(matrix, proportion=0.8):\n",
    "    # proportion percentages are going to be kept the same\n",
    "    n_samples_without_replacement = int(matrix.shape[0]*proportion)\n",
    "    n_samples_with_replacement = matrix.shape[0]-n_samples_without_replacement\n",
    "    subsampled = matrix.sample(n=n_samples_without_replacement, replace=False)\n",
    "    subsampled2 = subsampled.sample(n=n_samples_with_replacement, replace=False)\n",
    "    subsampled_final = pd.concat((subsampled, subsampled2), axis=0)\n",
    "    np.random.shuffle(subsampled_final)\n",
    "    return subsampled_final\n",
    "\n",
    "def preprocess_zheng17(matrix):\n",
    "    mask1 = (matrix.sum(axis=0) > 3)\n",
    "    filtered_matrix = matrix [:,mask1]\n",
    "    adata = sc.AnnData(filtered_matrix)\n",
    "    sc.pp.normalize_per_cell(adata)\n",
    "    filter_result = sc.pp.filter_genes_dispersion(adata.X, flavor='cell_ranger', n_top_genes=1000, log=False)\n",
    "    mask2 = filter_result.gene_subset\n",
    "    adata = adata[:, mask2]\n",
    "    sc.pp.normalize_per_cell(adata)\n",
    "    matrix = adata.X\n",
    "    return matrix\n",
    "\n",
    "def run_phenograph(matrix):\n",
    "    current = time.time()\n",
    "    communities, graph, Q = phenograph.cluster(matrix, n_jobs=8, k=100, primary_metric='euclidean')\n",
    "    end = time.time()\n",
    "    diff = end - current\n",
    "    print(diff)\n",
    "    return communities\n",
    "\n",
    "@jit\n",
    "def compute_jaccard(list1, list2):\n",
    "    intersection = len(set(list1) & set(list2))\n",
    "    union = len(set(list1) | set(list2))\n",
    "    return intersection / union"
   ]
  },
  {
   "cell_type": "code",
   "execution_count": 4,
   "metadata": {
    "collapsed": true
   },
   "outputs": [],
   "source": [
    "input_file = '/cluster/home/mtuncel/sc-pipe/intermediate_files/coding_region_only_melanomaS2.h5'"
   ]
  },
  {
   "cell_type": "code",
   "execution_count": 5,
   "metadata": {
    "collapsed": true
   },
   "outputs": [],
   "source": [
    "h5f = h5py.File(input_file, 'r')"
   ]
  },
  {
   "cell_type": "code",
   "execution_count": 6,
   "metadata": {
    "collapsed": true
   },
   "outputs": [],
   "source": [
    "h5f = h5py.File(input_file, 'r')\n",
    "matrix = h5f['matrix'][:]\n",
    "barcodes = h5f['cell_attrs']['cell_names'].value\n",
    "#cell_groups = h5f['cell_attrs']['cell_groups'].value\n",
    "\n",
    "matrix = np.log1p(matrix)"
   ]
  },
  {
   "cell_type": "code",
   "execution_count": 7,
   "metadata": {
    "collapsed": true
   },
   "outputs": [],
   "source": [
    "h5f.close()"
   ]
  },
  {
   "cell_type": "code",
   "execution_count": 8,
   "metadata": {
    "collapsed": true,
    "scrolled": true
   },
   "outputs": [],
   "source": [
    "%%capture\n",
    "preprocessed = preprocess_zheng17(matrix)\n",
    "communities = run_phenograph(preprocessed)"
   ]
  },
  {
   "cell_type": "code",
   "execution_count": 9,
   "metadata": {
    "collapsed": true
   },
   "outputs": [],
   "source": [
    "original_df = pd.DataFrame(matrix)"
   ]
  },
  {
   "cell_type": "code",
   "execution_count": 10,
   "metadata": {
    "collapsed": true
   },
   "outputs": [],
   "source": [
    "original_df['labels'] = communities\n",
    "original_df['original_index'] = original_df.index"
   ]
  },
  {
   "cell_type": "markdown",
   "metadata": {},
   "source": [
    "## Assessment of cluster robustness"
   ]
  },
  {
   "cell_type": "markdown",
   "metadata": {},
   "source": [
    "The evaluation procedure is described in the following publication: “Cluster-wise assessment of cluster stability,” Research Report 271, Dept. of Statistical Science, University College London, December 2006)\n",
    "<br>\n",
    "\n",
    "Given a clustering on a data set generated by a clustering method, the following principle is applied:\n",
    "* Interpret the Jaccard coefficient (Jaccard, 1901) as a measure of similarity between two subsets of a set based on set membership.\n",
    "* Resample new data sets from the original one (using various strategies) and apply the clustering method to them. \n",
    "* For every given cluster in the original clustering find the most similar cluster in the new clustering and record the\n",
    "similarity value.\n",
    "* Assess the cluster stability of every single cluster by the mean similarity taken over the resampled data sets.\n",
    "###### Notes:\n",
    "* Resampling is assessed by 100 bootstrap samples containing 80% of the unique cells.\n",
    "* The clusters bigger than 10% of the number of all cells are selected for the evaluation. "
   ]
  },
  {
   "cell_type": "code",
   "execution_count": null,
   "metadata": {
    "collapsed": true
   },
   "outputs": [],
   "source": []
  },
  {
   "cell_type": "code",
   "execution_count": null,
   "metadata": {
    "collapsed": true
   },
   "outputs": [],
   "source": []
  },
  {
   "cell_type": "markdown",
   "metadata": {},
   "source": [
    "### Original sizes of clusters"
   ]
  },
  {
   "cell_type": "code",
   "execution_count": 11,
   "metadata": {
    "scrolled": true
   },
   "outputs": [
    {
     "data": {
      "text/plain": [
       "{0: 892, 1: 282, 2: 280, 3: 222, 4: 171, 5: 169, 6: 106, 7: 94}"
      ]
     },
     "execution_count": 11,
     "metadata": {},
     "output_type": "execute_result"
    }
   ],
   "source": [
    "dict(Counter(communities))"
   ]
  },
  {
   "cell_type": "code",
   "execution_count": 12,
   "metadata": {
    "collapsed": true
   },
   "outputs": [],
   "source": [
    "significant_clusters = []\n",
    "size_criteria = len(communities)/10\n",
    "for k,v in dict(Counter(communities)).items():\n",
    "    if v>size_criteria:\n",
    "        significant_clusters.append(k)\n",
    "    else:\n",
    "        pass"
   ]
  },
  {
   "cell_type": "markdown",
   "metadata": {},
   "source": [
    "### The clusters that contain > 10% of all cells"
   ]
  },
  {
   "cell_type": "code",
   "execution_count": 13,
   "metadata": {},
   "outputs": [
    {
     "data": {
      "text/plain": [
       "[0, 2, 1, 3]"
      ]
     },
     "execution_count": 13,
     "metadata": {},
     "output_type": "execute_result"
    }
   ],
   "source": [
    "significant_clusters"
   ]
  },
  {
   "cell_type": "code",
   "execution_count": 14,
   "metadata": {},
   "outputs": [
    {
     "name": "stderr",
     "output_type": "stream",
     "text": [
      "\r",
      "  0%|          | 0/99 [00:00<?, ?it/s]"
     ]
    },
    {
     "name": "stdout",
     "output_type": "stream",
     "text": [
      "Finding 100 nearest neighbors using minkowski metric and 'auto' algorithm\n",
      "Neighbors computed in 0.9577445983886719 seconds\n",
      "Jaccard graph constructed in 1.1300320625305176 seconds\n",
      "Wrote graph to binary file in 0.42053771018981934 seconds\n",
      "Running Louvain modularity optimization\n",
      "After 1 runs, maximum modularity is Q = 0.795577\n",
      "Louvain completed 21 runs in 1.4192678928375244 seconds\n",
      "PhenoGraph complete in 4.0252978801727295 seconds\n",
      "4.075337648391724\n"
     ]
    },
    {
     "name": "stderr",
     "output_type": "stream",
     "text": [
      "\r",
      "  1%|          | 1/99 [00:08<13:25,  8.22s/it]"
     ]
    },
    {
     "name": "stdout",
     "output_type": "stream",
     "text": [
      "Finding 100 nearest neighbors using minkowski metric and 'auto' algorithm\n",
      "Neighbors computed in 1.3682069778442383 seconds\n",
      "Jaccard graph constructed in 1.0655848979949951 seconds\n",
      "Wrote graph to binary file in 0.4268367290496826 seconds\n",
      "Running Louvain modularity optimization\n",
      "After 1 runs, maximum modularity is Q = 0.796744\n",
      "After 6 runs, maximum modularity is Q = 0.797759\n",
      "Louvain completed 26 runs in 1.744666576385498 seconds\n",
      "PhenoGraph complete in 4.704603672027588 seconds\n"
     ]
    },
    {
     "name": "stderr",
     "output_type": "stream",
     "text": [
      "\r",
      "  2%|▏         | 2/99 [00:15<12:29,  7.72s/it]"
     ]
    },
    {
     "name": "stdout",
     "output_type": "stream",
     "text": [
      "4.745293617248535\n",
      "Finding 100 nearest neighbors using minkowski metric and 'auto' algorithm\n",
      "Neighbors computed in 1.3774266242980957 seconds\n",
      "Jaccard graph constructed in 1.1018073558807373 seconds\n",
      "Wrote graph to binary file in 0.4186367988586426 seconds\n",
      "Running Louvain modularity optimization\n",
      "After 1 runs, maximum modularity is Q = 0.814764\n",
      "Louvain completed 21 runs in 1.3090050220489502 seconds\n",
      "PhenoGraph complete in 4.305963039398193 seconds\n",
      "4.347801446914673\n"
     ]
    },
    {
     "name": "stderr",
     "output_type": "stream",
     "text": [
      "\r",
      "  3%|▎         | 3/99 [00:22<11:53,  7.43s/it]"
     ]
    },
    {
     "name": "stdout",
     "output_type": "stream",
     "text": [
      "Finding 100 nearest neighbors using minkowski metric and 'auto' algorithm\n",
      "Neighbors computed in 1.359654426574707 seconds\n",
      "Jaccard graph constructed in 1.1403279304504395 seconds\n",
      "Wrote graph to binary file in 0.4291853904724121 seconds\n",
      "Running Louvain modularity optimization\n",
      "After 1 runs, maximum modularity is Q = 0.810075\n",
      "After 4 runs, maximum modularity is Q = 0.812275\n",
      "Louvain completed 24 runs in 1.5709617137908936 seconds\n",
      "PhenoGraph complete in 4.610469579696655 seconds\n"
     ]
    },
    {
     "name": "stderr",
     "output_type": "stream",
     "text": [
      "\r",
      "  4%|▍         | 4/99 [00:29<11:40,  7.38s/it]"
     ]
    },
    {
     "name": "stdout",
     "output_type": "stream",
     "text": [
      "4.655852794647217\n",
      "Finding 100 nearest neighbors using minkowski metric and 'auto' algorithm\n",
      "Neighbors computed in 1.1847059726715088 seconds\n",
      "Jaccard graph constructed in 1.1050055027008057 seconds\n",
      "Wrote graph to binary file in 0.4563610553741455 seconds\n",
      "Running Louvain modularity optimization\n",
      "After 1 runs, maximum modularity is Q = 0.789477\n",
      "After 2 runs, maximum modularity is Q = 0.794761\n",
      "After 3 runs, maximum modularity is Q = 0.797147\n",
      "Louvain completed 23 runs in 1.6460387706756592 seconds\n",
      "PhenoGraph complete in 4.49229097366333 seconds\n"
     ]
    },
    {
     "name": "stderr",
     "output_type": "stream",
     "text": [
      "\r",
      "  5%|▌         | 5/99 [00:36<11:26,  7.30s/it]"
     ]
    },
    {
     "name": "stdout",
     "output_type": "stream",
     "text": [
      "4.537329912185669\n",
      "Finding 100 nearest neighbors using minkowski metric and 'auto' algorithm\n",
      "Neighbors computed in 1.1585872173309326 seconds\n",
      "Jaccard graph constructed in 1.0601449012756348 seconds\n",
      "Wrote graph to binary file in 0.34528684616088867 seconds\n",
      "Running Louvain modularity optimization\n",
      "After 1 runs, maximum modularity is Q = 0.794723\n",
      "After 3 runs, maximum modularity is Q = 0.796137\n",
      "Louvain completed 23 runs in 1.6286334991455078 seconds\n",
      "PhenoGraph complete in 4.294857740402222 seconds\n"
     ]
    },
    {
     "name": "stderr",
     "output_type": "stream",
     "text": [
      "\r",
      "  6%|▌         | 6/99 [00:43<11:11,  7.22s/it]"
     ]
    },
    {
     "name": "stdout",
     "output_type": "stream",
     "text": [
      "4.338042259216309\n",
      "Finding 100 nearest neighbors using minkowski metric and 'auto' algorithm\n",
      "Neighbors computed in 1.252225637435913 seconds\n",
      "Jaccard graph constructed in 1.2430953979492188 seconds\n",
      "Wrote graph to binary file in 0.33844757080078125 seconds\n",
      "Running Louvain modularity optimization\n",
      "After 1 runs, maximum modularity is Q = 0.806605\n",
      "After 14 runs, maximum modularity is Q = 0.807983\n",
      "Louvain completed 34 runs in 2.1854140758514404 seconds\n",
      "PhenoGraph complete in 5.11383843421936 seconds\n"
     ]
    },
    {
     "name": "stderr",
     "output_type": "stream",
     "text": [
      "\r",
      "  7%|▋         | 7/99 [00:50<11:09,  7.28s/it]"
     ]
    },
    {
     "name": "stdout",
     "output_type": "stream",
     "text": [
      "5.15778112411499\n",
      "Finding 100 nearest neighbors using minkowski metric and 'auto' algorithm\n",
      "Neighbors computed in 1.1607589721679688 seconds\n",
      "Jaccard graph constructed in 1.0955495834350586 seconds\n",
      "Wrote graph to binary file in 0.49315333366394043 seconds\n",
      "Running Louvain modularity optimization\n",
      "After 1 runs, maximum modularity is Q = 0.79515\n",
      "After 2 runs, maximum modularity is Q = 0.80356\n",
      "Louvain completed 22 runs in 1.5850660800933838 seconds\n",
      "PhenoGraph complete in 4.431582927703857 seconds\n",
      "4.472945213317871\n"
     ]
    },
    {
     "name": "stderr",
     "output_type": "stream",
     "text": [
      "\r",
      "  8%|▊         | 8/99 [00:57<10:58,  7.24s/it]"
     ]
    },
    {
     "name": "stdout",
     "output_type": "stream",
     "text": [
      "Finding 100 nearest neighbors using minkowski metric and 'auto' algorithm\n",
      "Neighbors computed in 1.2572450637817383 seconds\n",
      "Jaccard graph constructed in 1.1643946170806885 seconds\n",
      "Wrote graph to binary file in 0.4628276824951172 seconds\n",
      "Running Louvain modularity optimization\n",
      "After 1 runs, maximum modularity is Q = 0.804191\n",
      "Louvain completed 21 runs in 1.35689115524292 seconds\n",
      "PhenoGraph complete in 4.342218399047852 seconds\n"
     ]
    },
    {
     "name": "stderr",
     "output_type": "stream",
     "text": [
      "\r",
      "  9%|▉         | 9/99 [01:04<10:47,  7.19s/it]"
     ]
    },
    {
     "name": "stdout",
     "output_type": "stream",
     "text": [
      "4.386427640914917\n",
      "Finding 100 nearest neighbors using minkowski metric and 'auto' algorithm\n",
      "Neighbors computed in 0.956709623336792 seconds\n",
      "Jaccard graph constructed in 1.1003637313842773 seconds\n",
      "Wrote graph to binary file in 0.4832422733306885 seconds\n",
      "Running Louvain modularity optimization\n",
      "After 1 runs, maximum modularity is Q = 0.797393\n",
      "Louvain completed 21 runs in 1.3808393478393555 seconds\n",
      "PhenoGraph complete in 4.02570915222168 seconds\n"
     ]
    },
    {
     "name": "stderr",
     "output_type": "stream",
     "text": [
      "\r",
      " 10%|█         | 10/99 [01:11<10:34,  7.13s/it]"
     ]
    },
    {
     "name": "stdout",
     "output_type": "stream",
     "text": [
      "4.070281267166138\n",
      "Finding 100 nearest neighbors using minkowski metric and 'auto' algorithm\n",
      "Neighbors computed in 1.5578296184539795 seconds\n",
      "Jaccard graph constructed in 1.3320448398590088 seconds\n",
      "Wrote graph to binary file in 0.4285132884979248 seconds\n",
      "Running Louvain modularity optimization\n",
      "After 1 runs, maximum modularity is Q = 0.792664\n",
      "Louvain completed 21 runs in 1.490967035293579 seconds\n",
      "PhenoGraph complete in 4.911110877990723 seconds\n"
     ]
    },
    {
     "name": "stderr",
     "output_type": "stream",
     "text": [
      "\r",
      " 11%|█         | 11/99 [01:18<10:30,  7.16s/it]"
     ]
    },
    {
     "name": "stdout",
     "output_type": "stream",
     "text": [
      "4.949294090270996\n",
      "Finding 100 nearest neighbors using minkowski metric and 'auto' algorithm\n",
      "Neighbors computed in 1.3562839031219482 seconds\n",
      "Jaccard graph constructed in 1.058856725692749 seconds\n",
      "Wrote graph to binary file in 0.49414920806884766 seconds\n",
      "Running Louvain modularity optimization\n",
      "After 1 runs, maximum modularity is Q = 0.801243\n",
      "Louvain completed 21 runs in 1.3518531322479248 seconds\n",
      "PhenoGraph complete in 4.370672225952148 seconds\n"
     ]
    },
    {
     "name": "stderr",
     "output_type": "stream",
     "text": [
      "\r",
      " 12%|█▏        | 12/99 [01:25<10:20,  7.14s/it]"
     ]
    },
    {
     "name": "stdout",
     "output_type": "stream",
     "text": [
      "4.411421298980713\n",
      "Finding 100 nearest neighbors using minkowski metric and 'auto' algorithm\n",
      "Neighbors computed in 0.8769373893737793 seconds\n",
      "Jaccard graph constructed in 1.0817601680755615 seconds\n",
      "Wrote graph to binary file in 0.4716980457305908 seconds\n",
      "Running Louvain modularity optimization\n",
      "After 1 runs, maximum modularity is Q = 0.795854\n",
      "After 5 runs, maximum modularity is Q = 0.799419\n",
      "Louvain completed 25 runs in 1.6386315822601318 seconds\n",
      "PhenoGraph complete in 4.199163436889648 seconds\n"
     ]
    },
    {
     "name": "stderr",
     "output_type": "stream",
     "text": [
      "\r",
      " 13%|█▎        | 13/99 [01:32<10:10,  7.10s/it]"
     ]
    },
    {
     "name": "stdout",
     "output_type": "stream",
     "text": [
      "4.243617057800293\n",
      "Finding 100 nearest neighbors using minkowski metric and 'auto' algorithm\n",
      "Neighbors computed in 0.8552253246307373 seconds\n",
      "Jaccard graph constructed in 1.2051098346710205 seconds\n",
      "Wrote graph to binary file in 0.47771358489990234 seconds\n",
      "Running Louvain modularity optimization\n",
      "After 1 runs, maximum modularity is Q = 0.804655\n",
      "After 2 runs, maximum modularity is Q = 0.8066\n",
      "Louvain completed 22 runs in 1.6224007606506348 seconds\n",
      "PhenoGraph complete in 4.2649431228637695 seconds\n"
     ]
    },
    {
     "name": "stderr",
     "output_type": "stream",
     "text": [
      "\r",
      " 14%|█▍        | 14/99 [01:39<10:01,  7.07s/it]"
     ]
    },
    {
     "name": "stdout",
     "output_type": "stream",
     "text": [
      "4.305623531341553\n",
      "Finding 100 nearest neighbors using minkowski metric and 'auto' algorithm\n",
      "Neighbors computed in 1.3545186519622803 seconds\n",
      "Jaccard graph constructed in 1.1155550479888916 seconds\n",
      "Wrote graph to binary file in 0.49051594734191895 seconds\n",
      "Running Louvain modularity optimization\n",
      "After 1 runs, maximum modularity is Q = 0.790147\n",
      "After 4 runs, maximum modularity is Q = 0.792481\n",
      "Louvain completed 24 runs in 1.652109146118164 seconds\n",
      "PhenoGraph complete in 4.722389459609985 seconds\n"
     ]
    },
    {
     "name": "stderr",
     "output_type": "stream",
     "text": [
      "\r",
      " 15%|█▌        | 15/99 [01:46<09:54,  7.08s/it]"
     ]
    },
    {
     "name": "stdout",
     "output_type": "stream",
     "text": [
      "4.7667155265808105\n",
      "Finding 100 nearest neighbors using minkowski metric and 'auto' algorithm\n",
      "Neighbors computed in 1.1550145149230957 seconds\n",
      "Jaccard graph constructed in 1.1382713317871094 seconds\n",
      "Wrote graph to binary file in 0.36457037925720215 seconds\n",
      "Running Louvain modularity optimization\n",
      "After 1 runs, maximum modularity is Q = 0.790414\n",
      "After 2 runs, maximum modularity is Q = 0.792707\n",
      "After 6 runs, maximum modularity is Q = 0.793794\n",
      "Louvain completed 26 runs in 1.9160041809082031 seconds\n",
      "PhenoGraph complete in 4.670425891876221 seconds\n"
     ]
    },
    {
     "name": "stderr",
     "output_type": "stream",
     "text": [
      "\r",
      " 16%|█▌        | 16/99 [01:53<09:48,  7.09s/it]"
     ]
    },
    {
     "name": "stdout",
     "output_type": "stream",
     "text": [
      "4.727193593978882\n",
      "Finding 100 nearest neighbors using minkowski metric and 'auto' algorithm\n",
      "Neighbors computed in 1.1536450386047363 seconds\n",
      "Jaccard graph constructed in 1.116877555847168 seconds\n",
      "Wrote graph to binary file in 0.47974562644958496 seconds\n",
      "Running Louvain modularity optimization\n",
      "After 1 runs, maximum modularity is Q = 0.811414\n",
      "After 5 runs, maximum modularity is Q = 0.812617\n",
      "Louvain completed 25 runs in 1.7569279670715332 seconds\n",
      "PhenoGraph complete in 4.62733268737793 seconds\n"
     ]
    },
    {
     "name": "stderr",
     "output_type": "stream",
     "text": [
      "\r",
      " 17%|█▋        | 17/99 [02:00<09:41,  7.09s/it]"
     ]
    },
    {
     "name": "stdout",
     "output_type": "stream",
     "text": [
      "4.670916318893433\n",
      "Finding 100 nearest neighbors using minkowski metric and 'auto' algorithm\n",
      "Neighbors computed in 1.3557603359222412 seconds\n",
      "Jaccard graph constructed in 1.1143240928649902 seconds\n",
      "Wrote graph to binary file in 0.5297331809997559 seconds\n",
      "Running Louvain modularity optimization\n",
      "After 1 runs, maximum modularity is Q = 0.794244\n",
      "After 4 runs, maximum modularity is Q = 0.795261\n",
      "Louvain completed 24 runs in 1.5856115818023682 seconds\n",
      "PhenoGraph complete in 4.688129425048828 seconds\n"
     ]
    },
    {
     "name": "stderr",
     "output_type": "stream",
     "text": [
      "\r",
      " 18%|█▊        | 18/99 [02:07<09:35,  7.10s/it]"
     ]
    },
    {
     "name": "stdout",
     "output_type": "stream",
     "text": [
      "4.7328550815582275\n",
      "Finding 100 nearest neighbors using minkowski metric and 'auto' algorithm\n",
      "Neighbors computed in 0.870328426361084 seconds\n",
      "Jaccard graph constructed in 1.108856201171875 seconds\n",
      "Wrote graph to binary file in 0.5011234283447266 seconds\n",
      "Running Louvain modularity optimization\n",
      "After 1 runs, maximum modularity is Q = 0.803558\n",
      "Louvain completed 21 runs in 1.4887373447418213 seconds\n",
      "PhenoGraph complete in 4.101238489151001 seconds\n"
     ]
    },
    {
     "name": "stderr",
     "output_type": "stream",
     "text": [
      "\r",
      " 19%|█▉        | 19/99 [02:14<09:26,  7.08s/it]"
     ]
    },
    {
     "name": "stdout",
     "output_type": "stream",
     "text": [
      "4.147666692733765\n",
      "Finding 100 nearest neighbors using minkowski metric and 'auto' algorithm\n",
      "Neighbors computed in 1.2513279914855957 seconds\n",
      "Jaccard graph constructed in 1.1960339546203613 seconds\n",
      "Wrote graph to binary file in 0.37186551094055176 seconds\n",
      "Running Louvain modularity optimization\n",
      "After 1 runs, maximum modularity is Q = 0.808152\n",
      "Louvain completed 21 runs in 1.4136326313018799 seconds\n",
      "PhenoGraph complete in 4.330359220504761 seconds\n"
     ]
    },
    {
     "name": "stderr",
     "output_type": "stream",
     "text": [
      "\r",
      " 20%|██        | 20/99 [02:21<09:18,  7.07s/it]"
     ]
    },
    {
     "name": "stdout",
     "output_type": "stream",
     "text": [
      "4.371003866195679\n",
      "Finding 100 nearest neighbors using minkowski metric and 'auto' algorithm\n",
      "Neighbors computed in 0.9529533386230469 seconds\n",
      "Jaccard graph constructed in 1.08005952835083 seconds\n",
      "Wrote graph to binary file in 0.5448317527770996 seconds\n",
      "Running Louvain modularity optimization\n",
      "After 1 runs, maximum modularity is Q = 0.795368\n",
      "After 4 runs, maximum modularity is Q = 0.796949\n",
      "After 22 runs, maximum modularity is Q = 0.798062\n",
      "Louvain completed 42 runs in 2.8741092681884766 seconds\n",
      "PhenoGraph complete in 5.556420564651489 seconds\n"
     ]
    },
    {
     "name": "stderr",
     "output_type": "stream",
     "text": [
      "\r",
      " 21%|██        | 21/99 [02:29<09:14,  7.11s/it]"
     ]
    },
    {
     "name": "stdout",
     "output_type": "stream",
     "text": [
      "5.604201793670654\n",
      "Finding 100 nearest neighbors using minkowski metric and 'auto' algorithm\n",
      "Neighbors computed in 0.9633188247680664 seconds\n",
      "Jaccard graph constructed in 1.0288059711456299 seconds\n",
      "Wrote graph to binary file in 0.5195825099945068 seconds\n",
      "Running Louvain modularity optimization\n",
      "After 1 runs, maximum modularity is Q = 0.799974\n",
      "After 3 runs, maximum modularity is Q = 0.801779\n",
      "After 5 runs, maximum modularity is Q = 0.803021\n",
      "Louvain completed 25 runs in 1.8268218040466309 seconds\n",
      "PhenoGraph complete in 4.437646865844727 seconds\n",
      "4.499152421951294\n"
     ]
    },
    {
     "name": "stderr",
     "output_type": "stream",
     "text": [
      "\r",
      " 22%|██▏       | 22/99 [02:36<09:07,  7.11s/it]"
     ]
    },
    {
     "name": "stdout",
     "output_type": "stream",
     "text": [
      "Finding 100 nearest neighbors using minkowski metric and 'auto' algorithm\n",
      "Neighbors computed in 0.9570939540863037 seconds\n",
      "Jaccard graph constructed in 1.2276508808135986 seconds\n",
      "Wrote graph to binary file in 0.4708995819091797 seconds\n",
      "Running Louvain modularity optimization\n",
      "After 1 runs, maximum modularity is Q = 0.799703\n",
      "Louvain completed 21 runs in 1.4338843822479248 seconds\n",
      "PhenoGraph complete in 4.1910154819488525 seconds\n"
     ]
    },
    {
     "name": "stderr",
     "output_type": "stream",
     "text": [
      "\r",
      " 23%|██▎       | 23/99 [02:43<08:59,  7.09s/it]"
     ]
    },
    {
     "name": "stdout",
     "output_type": "stream",
     "text": [
      "4.239872217178345\n",
      "Finding 100 nearest neighbors using minkowski metric and 'auto' algorithm\n",
      "Neighbors computed in 1.3617424964904785 seconds\n",
      "Jaccard graph constructed in 1.0886943340301514 seconds\n",
      "Wrote graph to binary file in 0.4583323001861572 seconds\n",
      "Running Louvain modularity optimization\n",
      "After 1 runs, maximum modularity is Q = 0.8071\n",
      "Louvain completed 21 runs in 1.2703189849853516 seconds\n",
      "PhenoGraph complete in 4.30812406539917 seconds\n",
      "4.35646653175354\n"
     ]
    },
    {
     "name": "stderr",
     "output_type": "stream",
     "text": [
      "\r",
      " 24%|██▍       | 24/99 [02:50<08:51,  7.09s/it]"
     ]
    },
    {
     "name": "stdout",
     "output_type": "stream",
     "text": [
      "Finding 100 nearest neighbors using minkowski metric and 'auto' algorithm\n",
      "Neighbors computed in 1.4779605865478516 seconds\n",
      "Jaccard graph constructed in 1.170668601989746 seconds\n",
      "Wrote graph to binary file in 0.6182441711425781 seconds\n",
      "Running Louvain modularity optimization\n",
      "After 1 runs, maximum modularity is Q = 0.785731\n",
      "After 2 runs, maximum modularity is Q = 0.787554\n",
      "After 3 runs, maximum modularity is Q = 0.789934\n",
      "Louvain completed 23 runs in 1.7268762588500977 seconds\n",
      "PhenoGraph complete in 5.1098105907440186 seconds\n",
      "5.150177478790283\n"
     ]
    },
    {
     "name": "stderr",
     "output_type": "stream",
     "text": [
      "\r",
      " 25%|██▌       | 25/99 [02:58<08:47,  7.13s/it]"
     ]
    },
    {
     "name": "stdout",
     "output_type": "stream",
     "text": [
      "Finding 100 nearest neighbors using minkowski metric and 'auto' algorithm\n",
      "Neighbors computed in 1.362278938293457 seconds\n",
      "Jaccard graph constructed in 1.2237896919250488 seconds\n",
      "Wrote graph to binary file in 0.46489882469177246 seconds\n",
      "Running Louvain modularity optimization\n",
      "After 1 runs, maximum modularity is Q = 0.800767\n",
      "After 2 runs, maximum modularity is Q = 0.80198\n",
      "Louvain completed 22 runs in 1.593374252319336 seconds\n",
      "PhenoGraph complete in 4.747162818908691 seconds\n",
      "4.788288831710815\n"
     ]
    },
    {
     "name": "stderr",
     "output_type": "stream",
     "text": [
      "\r",
      " 26%|██▋       | 26/99 [03:05<08:41,  7.14s/it]"
     ]
    },
    {
     "name": "stdout",
     "output_type": "stream",
     "text": [
      "Finding 100 nearest neighbors using minkowski metric and 'auto' algorithm\n",
      "Neighbors computed in 0.9660470485687256 seconds\n",
      "Jaccard graph constructed in 1.1589009761810303 seconds\n",
      "Wrote graph to binary file in 0.48885393142700195 seconds\n",
      "Running Louvain modularity optimization\n",
      "After 1 runs, maximum modularity is Q = 0.797282\n",
      "After 7 runs, maximum modularity is Q = 0.798785\n",
      "Louvain completed 27 runs in 2.09281063079834 seconds\n",
      "PhenoGraph complete in 4.833311557769775 seconds\n",
      "4.877972602844238\n"
     ]
    },
    {
     "name": "stderr",
     "output_type": "stream",
     "text": [
      "\r",
      " 27%|██▋       | 27/99 [03:13<08:35,  7.15s/it]"
     ]
    },
    {
     "name": "stdout",
     "output_type": "stream",
     "text": [
      "Finding 100 nearest neighbors using minkowski metric and 'auto' algorithm\n",
      "Neighbors computed in 1.456362247467041 seconds\n",
      "Jaccard graph constructed in 1.1587433815002441 seconds\n",
      "Wrote graph to binary file in 0.4278738498687744 seconds\n",
      "Running Louvain modularity optimization\n",
      "After 1 runs, maximum modularity is Q = 0.801966\n",
      "Louvain completed 21 runs in 1.3535957336425781 seconds\n",
      "PhenoGraph complete in 4.520318031311035 seconds\n",
      "4.579528570175171\n"
     ]
    },
    {
     "name": "stderr",
     "output_type": "stream",
     "text": [
      "\r",
      " 28%|██▊       | 28/99 [03:20<08:27,  7.15s/it]"
     ]
    },
    {
     "name": "stdout",
     "output_type": "stream",
     "text": [
      "Finding 100 nearest neighbors using minkowski metric and 'auto' algorithm\n",
      "Neighbors computed in 1.2613928318023682 seconds\n",
      "Jaccard graph constructed in 1.4131536483764648 seconds\n",
      "Wrote graph to binary file in 0.3470308780670166 seconds\n",
      "Running Louvain modularity optimization\n",
      "After 1 runs, maximum modularity is Q = 0.792025\n",
      "After 7 runs, maximum modularity is Q = 0.793202\n",
      "Louvain completed 27 runs in 1.8345866203308105 seconds\n",
      "PhenoGraph complete in 4.951289892196655 seconds\n"
     ]
    },
    {
     "name": "stderr",
     "output_type": "stream",
     "text": [
      "\r",
      " 29%|██▉       | 29/99 [03:27<08:21,  7.17s/it]"
     ]
    },
    {
     "name": "stdout",
     "output_type": "stream",
     "text": [
      "4.998832702636719\n",
      "Finding 100 nearest neighbors using minkowski metric and 'auto' algorithm\n",
      "Neighbors computed in 1.4756200313568115 seconds\n",
      "Jaccard graph constructed in 1.2284166812896729 seconds\n",
      "Wrote graph to binary file in 0.4462850093841553 seconds\n",
      "Running Louvain modularity optimization\n",
      "After 1 runs, maximum modularity is Q = 0.79203\n",
      "Louvain completed 21 runs in 1.5439035892486572 seconds\n",
      "PhenoGraph complete in 4.791243553161621 seconds\n",
      "4.835441589355469\n"
     ]
    },
    {
     "name": "stderr",
     "output_type": "stream",
     "text": [
      "\r",
      " 30%|███       | 30/99 [03:35<08:15,  7.18s/it]"
     ]
    },
    {
     "name": "stdout",
     "output_type": "stream",
     "text": [
      "Finding 100 nearest neighbors using minkowski metric and 'auto' algorithm\n",
      "Neighbors computed in 1.3629529476165771 seconds\n",
      "Jaccard graph constructed in 1.172060251235962 seconds\n",
      "Wrote graph to binary file in 0.46711134910583496 seconds\n",
      "Running Louvain modularity optimization\n",
      "After 1 runs, maximum modularity is Q = 0.79449\n",
      "Louvain completed 21 runs in 1.3915090560913086 seconds\n",
      "PhenoGraph complete in 4.525712013244629 seconds\n"
     ]
    },
    {
     "name": "stderr",
     "output_type": "stream",
     "text": [
      "\r",
      " 31%|███▏      | 31/99 [03:42<08:07,  7.18s/it]"
     ]
    },
    {
     "name": "stdout",
     "output_type": "stream",
     "text": [
      "4.582864284515381\n",
      "Finding 100 nearest neighbors using minkowski metric and 'auto' algorithm\n",
      "Neighbors computed in 1.3557844161987305 seconds\n",
      "Jaccard graph constructed in 1.2107772827148438 seconds\n",
      "Wrote graph to binary file in 0.4888150691986084 seconds\n",
      "Running Louvain modularity optimization\n",
      "After 1 runs, maximum modularity is Q = 0.796981\n",
      "After 3 runs, maximum modularity is Q = 0.799351\n",
      "Louvain completed 23 runs in 1.7020111083984375 seconds\n",
      "PhenoGraph complete in 4.858680009841919 seconds\n"
     ]
    },
    {
     "name": "stderr",
     "output_type": "stream",
     "text": [
      "\r",
      " 32%|███▏      | 32/99 [03:49<08:01,  7.18s/it]"
     ]
    },
    {
     "name": "stdout",
     "output_type": "stream",
     "text": [
      "4.9049131870269775\n",
      "Finding 100 nearest neighbors using minkowski metric and 'auto' algorithm\n",
      "Neighbors computed in 1.2602455615997314 seconds\n",
      "Jaccard graph constructed in 1.2028377056121826 seconds\n",
      "Wrote graph to binary file in 0.37951064109802246 seconds\n",
      "Running Louvain modularity optimization\n",
      "After 1 runs, maximum modularity is Q = 0.809784\n",
      "After 19 runs, maximum modularity is Q = 0.810801\n",
      "Louvain completed 39 runs in 2.5961496829986572 seconds\n",
      "PhenoGraph complete in 5.543459177017212 seconds\n"
     ]
    },
    {
     "name": "stderr",
     "output_type": "stream",
     "text": [
      "\r",
      " 33%|███▎      | 33/99 [03:58<07:56,  7.22s/it]"
     ]
    },
    {
     "name": "stdout",
     "output_type": "stream",
     "text": [
      "5.7602362632751465\n",
      "Finding 100 nearest neighbors using minkowski metric and 'auto' algorithm\n",
      "Neighbors computed in 1.3595678806304932 seconds\n",
      "Jaccard graph constructed in 1.196946382522583 seconds\n",
      "Wrote graph to binary file in 0.44728684425354004 seconds\n",
      "Running Louvain modularity optimization\n",
      "After 1 runs, maximum modularity is Q = 0.792099\n",
      "After 3 runs, maximum modularity is Q = 0.79382\n",
      "Louvain completed 23 runs in 1.8025918006896973 seconds\n",
      "PhenoGraph complete in 4.904568195343018 seconds\n"
     ]
    },
    {
     "name": "stderr",
     "output_type": "stream",
     "text": [
      "\r",
      " 34%|███▍      | 34/99 [04:05<07:49,  7.23s/it]"
     ]
    },
    {
     "name": "stdout",
     "output_type": "stream",
     "text": [
      "4.949826002120972\n",
      "Finding 100 nearest neighbors using minkowski metric and 'auto' algorithm\n",
      "Neighbors computed in 1.3740196228027344 seconds\n",
      "Jaccard graph constructed in 1.1776103973388672 seconds\n",
      "Wrote graph to binary file in 0.4621288776397705 seconds\n",
      "Running Louvain modularity optimization\n",
      "After 1 runs, maximum modularity is Q = 0.792895\n",
      "After 2 runs, maximum modularity is Q = 0.793925\n",
      "After 4 runs, maximum modularity is Q = 0.794931\n",
      "Louvain completed 24 runs in 2.0748631954193115 seconds\n",
      "PhenoGraph complete in 5.23350977897644 seconds\n"
     ]
    },
    {
     "name": "stderr",
     "output_type": "stream",
     "text": [
      "\r",
      " 35%|███▌      | 35/99 [04:13<07:43,  7.25s/it]"
     ]
    },
    {
     "name": "stdout",
     "output_type": "stream",
     "text": [
      "5.279780626296997\n",
      "Finding 100 nearest neighbors using minkowski metric and 'auto' algorithm\n",
      "Neighbors computed in 1.3707857131958008 seconds\n",
      "Jaccard graph constructed in 1.3218562602996826 seconds\n",
      "Wrote graph to binary file in 0.47601914405822754 seconds\n",
      "Running Louvain modularity optimization\n",
      "After 1 runs, maximum modularity is Q = 0.800972\n",
      "After 2 runs, maximum modularity is Q = 0.802248\n",
      "Louvain completed 22 runs in 1.6941320896148682 seconds\n",
      "PhenoGraph complete in 4.966059923171997 seconds\n",
      "5.015181064605713\n"
     ]
    },
    {
     "name": "stderr",
     "output_type": "stream",
     "text": [
      "\r",
      " 36%|███▋      | 36/99 [04:21<07:37,  7.27s/it]"
     ]
    },
    {
     "name": "stdout",
     "output_type": "stream",
     "text": [
      "Finding 100 nearest neighbors using minkowski metric and 'auto' algorithm\n",
      "Neighbors computed in 1.4759917259216309 seconds\n",
      "Jaccard graph constructed in 1.2055425643920898 seconds\n",
      "Wrote graph to binary file in 0.5147860050201416 seconds\n",
      "Running Louvain modularity optimization\n",
      "After 1 runs, maximum modularity is Q = 0.807087\n",
      "Louvain completed 21 runs in 1.5029053688049316 seconds\n",
      "PhenoGraph complete in 4.802160739898682 seconds\n"
     ]
    },
    {
     "name": "stderr",
     "output_type": "stream",
     "text": [
      "\r",
      " 37%|███▋      | 37/99 [04:29<07:31,  7.28s/it]"
     ]
    },
    {
     "name": "stdout",
     "output_type": "stream",
     "text": [
      "4.851278305053711\n",
      "Finding 100 nearest neighbors using minkowski metric and 'auto' algorithm\n",
      "Neighbors computed in 1.4588899612426758 seconds\n",
      "Jaccard graph constructed in 1.2286412715911865 seconds\n",
      "Wrote graph to binary file in 0.6045138835906982 seconds\n",
      "Running Louvain modularity optimization\n",
      "After 1 runs, maximum modularity is Q = 0.80565\n",
      "After 4 runs, maximum modularity is Q = 0.807128\n",
      "Louvain completed 24 runs in 1.7433950901031494 seconds\n",
      "PhenoGraph complete in 5.167481422424316 seconds\n",
      "5.215270280838013\n"
     ]
    },
    {
     "name": "stderr",
     "output_type": "stream",
     "text": [
      "\r",
      " 38%|███▊      | 38/99 [04:36<07:24,  7.29s/it]"
     ]
    },
    {
     "name": "stdout",
     "output_type": "stream",
     "text": [
      "Finding 100 nearest neighbors using minkowski metric and 'auto' algorithm\n",
      "Neighbors computed in 0.9531044960021973 seconds\n",
      "Jaccard graph constructed in 1.1364150047302246 seconds\n",
      "Wrote graph to binary file in 0.44863367080688477 seconds\n",
      "Running Louvain modularity optimization\n",
      "After 1 runs, maximum modularity is Q = 0.792503\n",
      "After 18 runs, maximum modularity is Q = 0.794477\n",
      "Louvain completed 38 runs in 2.552704334259033 seconds\n",
      "PhenoGraph complete in 5.190840005874634 seconds\n"
     ]
    },
    {
     "name": "stderr",
     "output_type": "stream",
     "text": [
      "\r",
      " 39%|███▉      | 39/99 [04:44<07:18,  7.30s/it]"
     ]
    },
    {
     "name": "stdout",
     "output_type": "stream",
     "text": [
      "5.23708701133728\n",
      "Finding 100 nearest neighbors using minkowski metric and 'auto' algorithm\n",
      "Neighbors computed in 1.3603863716125488 seconds\n",
      "Jaccard graph constructed in 1.1278843879699707 seconds\n",
      "Wrote graph to binary file in 0.5368974208831787 seconds\n",
      "Running Louvain modularity optimization\n",
      "After 1 runs, maximum modularity is Q = 0.792032\n",
      "After 6 runs, maximum modularity is Q = 0.7935\n",
      "Louvain completed 26 runs in 1.745967149734497 seconds\n",
      "PhenoGraph complete in 4.875571012496948 seconds\n",
      "4.931361198425293\n"
     ]
    },
    {
     "name": "stderr",
     "output_type": "stream",
     "text": [
      "\r",
      " 40%|████      | 40/99 [04:52<07:11,  7.31s/it]"
     ]
    },
    {
     "name": "stdout",
     "output_type": "stream",
     "text": [
      "Finding 100 nearest neighbors using minkowski metric and 'auto' algorithm\n",
      "Neighbors computed in 1.357604742050171 seconds\n",
      "Jaccard graph constructed in 1.1999151706695557 seconds\n",
      "Wrote graph to binary file in 0.44246840476989746 seconds\n",
      "Running Louvain modularity optimization\n",
      "After 1 runs, maximum modularity is Q = 0.80771\n",
      "Louvain completed 21 runs in 1.4499523639678955 seconds\n",
      "PhenoGraph complete in 4.545199155807495 seconds\n"
     ]
    },
    {
     "name": "stderr",
     "output_type": "stream",
     "text": [
      "\r",
      " 41%|████▏     | 41/99 [04:59<07:03,  7.30s/it]"
     ]
    },
    {
     "name": "stdout",
     "output_type": "stream",
     "text": [
      "4.585787057876587\n",
      "Finding 100 nearest neighbors using minkowski metric and 'auto' algorithm\n",
      "Neighbors computed in 1.4591038227081299 seconds\n",
      "Jaccard graph constructed in 1.2583632469177246 seconds\n",
      "Wrote graph to binary file in 0.48471617698669434 seconds\n",
      "Running Louvain modularity optimization\n",
      "After 1 runs, maximum modularity is Q = 0.802082\n",
      "After 2 runs, maximum modularity is Q = 0.804226\n",
      "Louvain completed 22 runs in 1.673452615737915 seconds\n",
      "PhenoGraph complete in 4.996819019317627 seconds\n"
     ]
    },
    {
     "name": "stderr",
     "output_type": "stream",
     "text": [
      "\r",
      " 42%|████▏     | 42/99 [05:07<06:56,  7.31s/it]"
     ]
    },
    {
     "name": "stdout",
     "output_type": "stream",
     "text": [
      "5.040994167327881\n",
      "Finding 100 nearest neighbors using minkowski metric and 'auto' algorithm\n",
      "Neighbors computed in 1.3558390140533447 seconds\n",
      "Jaccard graph constructed in 1.1612577438354492 seconds\n",
      "Wrote graph to binary file in 0.4349541664123535 seconds\n",
      "Running Louvain modularity optimization\n",
      "After 1 runs, maximum modularity is Q = 0.809777\n",
      "After 6 runs, maximum modularity is Q = 0.811142\n",
      "Louvain completed 26 runs in 1.7768959999084473 seconds\n",
      "PhenoGraph complete in 4.837102174758911 seconds\n"
     ]
    },
    {
     "name": "stderr",
     "output_type": "stream",
     "text": [
      "\r",
      " 43%|████▎     | 43/99 [05:14<06:49,  7.31s/it]"
     ]
    },
    {
     "name": "stdout",
     "output_type": "stream",
     "text": [
      "4.8795716762542725\n",
      "Finding 100 nearest neighbors using minkowski metric and 'auto' algorithm\n",
      "Neighbors computed in 1.0638782978057861 seconds\n",
      "Jaccard graph constructed in 1.2386765480041504 seconds\n",
      "Wrote graph to binary file in 0.445096492767334 seconds\n",
      "Running Louvain modularity optimization\n",
      "After 1 runs, maximum modularity is Q = 0.804704\n",
      "After 4 runs, maximum modularity is Q = 0.805922\n",
      "Louvain completed 24 runs in 1.675323724746704 seconds\n",
      "PhenoGraph complete in 4.519642114639282 seconds\n"
     ]
    },
    {
     "name": "stderr",
     "output_type": "stream",
     "text": [
      "\r",
      " 44%|████▍     | 44/99 [05:21<06:41,  7.31s/it]"
     ]
    },
    {
     "name": "stdout",
     "output_type": "stream",
     "text": [
      "4.5644237995147705\n",
      "Finding 100 nearest neighbors using minkowski metric and 'auto' algorithm\n",
      "Neighbors computed in 1.0537772178649902 seconds\n",
      "Jaccard graph constructed in 1.0890371799468994 seconds\n",
      "Wrote graph to binary file in 0.5575878620147705 seconds\n",
      "Running Louvain modularity optimization\n",
      "After 1 runs, maximum modularity is Q = 0.801133\n",
      "Louvain completed 21 runs in 1.2986915111541748 seconds\n",
      "PhenoGraph complete in 4.0948474407196045 seconds\n"
     ]
    },
    {
     "name": "stderr",
     "output_type": "stream",
     "text": [
      "\r",
      " 45%|████▌     | 45/99 [05:28<06:33,  7.29s/it]"
     ]
    },
    {
     "name": "stdout",
     "output_type": "stream",
     "text": [
      "4.140197277069092\n",
      "Finding 100 nearest neighbors using minkowski metric and 'auto' algorithm\n",
      "Neighbors computed in 1.2598214149475098 seconds\n",
      "Jaccard graph constructed in 1.265744924545288 seconds\n",
      "Wrote graph to binary file in 0.47706031799316406 seconds\n",
      "Running Louvain modularity optimization\n",
      "After 1 runs, maximum modularity is Q = 0.794351\n",
      "After 4 runs, maximum modularity is Q = 0.796324\n",
      "After 17 runs, maximum modularity is Q = 0.797324\n",
      "Louvain completed 37 runs in 2.4886248111724854 seconds\n",
      "PhenoGraph complete in 5.593265771865845 seconds\n"
     ]
    },
    {
     "name": "stderr",
     "output_type": "stream",
     "text": [
      "\r",
      " 46%|████▋     | 46/99 [05:36<06:27,  7.31s/it]"
     ]
    },
    {
     "name": "stdout",
     "output_type": "stream",
     "text": [
      "5.650058746337891\n",
      "Finding 100 nearest neighbors using minkowski metric and 'auto' algorithm\n",
      "Neighbors computed in 1.2566101551055908 seconds\n",
      "Jaccard graph constructed in 1.284989833831787 seconds\n",
      "Wrote graph to binary file in 0.34898948669433594 seconds\n",
      "Running Louvain modularity optimization\n",
      "After 1 runs, maximum modularity is Q = 0.797845\n",
      "After 2 runs, maximum modularity is Q = 0.799524\n",
      "After 3 runs, maximum modularity is Q = 0.800906\n",
      "Louvain completed 23 runs in 1.9231963157653809 seconds\n",
      "PhenoGraph complete in 4.912721872329712 seconds\n"
     ]
    },
    {
     "name": "stderr",
     "output_type": "stream",
     "text": [
      "\r",
      " 47%|████▋     | 47/99 [05:43<06:20,  7.32s/it]"
     ]
    },
    {
     "name": "stdout",
     "output_type": "stream",
     "text": [
      "4.957190752029419\n",
      "Finding 100 nearest neighbors using minkowski metric and 'auto' algorithm\n",
      "Neighbors computed in 1.0679149627685547 seconds\n",
      "Jaccard graph constructed in 1.1764862537384033 seconds\n",
      "Wrote graph to binary file in 0.4561026096343994 seconds\n",
      "Running Louvain modularity optimization\n",
      "After 1 runs, maximum modularity is Q = 0.799131\n",
      "After 5 runs, maximum modularity is Q = 0.800346\n",
      "Louvain completed 25 runs in 1.8307733535766602 seconds\n",
      "PhenoGraph complete in 4.642035961151123 seconds\n"
     ]
    },
    {
     "name": "stderr",
     "output_type": "stream",
     "text": [
      "\r",
      " 48%|████▊     | 48/99 [05:51<06:13,  7.32s/it]"
     ]
    },
    {
     "name": "stdout",
     "output_type": "stream",
     "text": [
      "4.687557697296143\n",
      "Finding 100 nearest neighbors using minkowski metric and 'auto' algorithm\n",
      "Neighbors computed in 0.9583871364593506 seconds\n",
      "Jaccard graph constructed in 1.0885472297668457 seconds\n",
      "Wrote graph to binary file in 0.4401240348815918 seconds\n",
      "Running Louvain modularity optimization\n",
      "After 1 runs, maximum modularity is Q = 0.789522\n",
      "After 2 runs, maximum modularity is Q = 0.793238\n",
      "After 4 runs, maximum modularity is Q = 0.795304\n",
      "Louvain completed 24 runs in 1.7494571208953857 seconds\n",
      "PhenoGraph complete in 4.332285404205322 seconds\n"
     ]
    },
    {
     "name": "stderr",
     "output_type": "stream",
     "text": [
      "\r",
      " 49%|████▉     | 49/99 [05:57<06:05,  7.31s/it]"
     ]
    },
    {
     "name": "stdout",
     "output_type": "stream",
     "text": [
      "4.372427940368652\n",
      "Finding 100 nearest neighbors using minkowski metric and 'auto' algorithm\n",
      "Neighbors computed in 0.8785111904144287 seconds\n",
      "Jaccard graph constructed in 1.1853001117706299 seconds\n",
      "Wrote graph to binary file in 0.44913506507873535 seconds\n",
      "Running Louvain modularity optimization\n",
      "After 1 runs, maximum modularity is Q = 0.794907\n",
      "After 5 runs, maximum modularity is Q = 0.795989\n",
      "Louvain completed 25 runs in 1.8324694633483887 seconds\n",
      "PhenoGraph complete in 4.47117280960083 seconds\n"
     ]
    },
    {
     "name": "stderr",
     "output_type": "stream",
     "text": [
      "\r",
      " 51%|█████     | 50/99 [06:05<05:57,  7.30s/it]"
     ]
    },
    {
     "name": "stdout",
     "output_type": "stream",
     "text": [
      "4.515009164810181\n",
      "Finding 100 nearest neighbors using minkowski metric and 'auto' algorithm\n",
      "Neighbors computed in 1.353008508682251 seconds\n",
      "Jaccard graph constructed in 1.0714406967163086 seconds\n",
      "Wrote graph to binary file in 0.5395801067352295 seconds\n",
      "Running Louvain modularity optimization\n",
      "After 1 runs, maximum modularity is Q = 0.807643\n",
      "After 13 runs, maximum modularity is Q = 0.808749\n",
      "Louvain completed 33 runs in 2.0710196495056152 seconds\n",
      "PhenoGraph complete in 5.129728317260742 seconds\n"
     ]
    },
    {
     "name": "stderr",
     "output_type": "stream",
     "text": [
      "\r",
      " 52%|█████▏    | 51/99 [06:12<05:50,  7.31s/it]"
     ]
    },
    {
     "name": "stdout",
     "output_type": "stream",
     "text": [
      "5.184214353561401\n",
      "Finding 100 nearest neighbors using minkowski metric and 'auto' algorithm\n",
      "Neighbors computed in 1.3605537414550781 seconds\n",
      "Jaccard graph constructed in 1.1005542278289795 seconds\n",
      "Wrote graph to binary file in 0.3600180149078369 seconds\n",
      "Running Louvain modularity optimization\n",
      "After 1 runs, maximum modularity is Q = 0.793397\n",
      "After 2 runs, maximum modularity is Q = 0.795569\n",
      "After 16 runs, maximum modularity is Q = 0.796643\n",
      "Louvain completed 36 runs in 2.4463586807250977 seconds\n",
      "PhenoGraph complete in 5.36428689956665 seconds\n"
     ]
    },
    {
     "name": "stderr",
     "output_type": "stream",
     "text": [
      "\r",
      " 53%|█████▎    | 52/99 [06:20<05:44,  7.32s/it]"
     ]
    },
    {
     "name": "stdout",
     "output_type": "stream",
     "text": [
      "5.408202886581421\n",
      "Finding 100 nearest neighbors using minkowski metric and 'auto' algorithm\n",
      "Neighbors computed in 1.0589888095855713 seconds\n",
      "Jaccard graph constructed in 1.2139496803283691 seconds\n",
      "Wrote graph to binary file in 0.4547147750854492 seconds\n",
      "Running Louvain modularity optimization\n",
      "After 1 runs, maximum modularity is Q = 0.799644\n",
      "Louvain completed 21 runs in 1.3581135272979736 seconds\n",
      "PhenoGraph complete in 4.184588670730591 seconds\n"
     ]
    },
    {
     "name": "stderr",
     "output_type": "stream",
     "text": [
      "\r",
      " 54%|█████▎    | 53/99 [06:27<05:36,  7.31s/it]"
     ]
    },
    {
     "name": "stdout",
     "output_type": "stream",
     "text": [
      "4.224593162536621\n",
      "Finding 100 nearest neighbors using minkowski metric and 'auto' algorithm\n",
      "Neighbors computed in 1.4674062728881836 seconds\n",
      "Jaccard graph constructed in 1.1569643020629883 seconds\n",
      "Wrote graph to binary file in 0.47634053230285645 seconds\n",
      "Running Louvain modularity optimization\n",
      "After 1 runs, maximum modularity is Q = 0.798884\n",
      "After 2 runs, maximum modularity is Q = 0.800624\n",
      "After 11 runs, maximum modularity is Q = 0.80183\n",
      "Louvain completed 31 runs in 2.1950464248657227 seconds\n",
      "PhenoGraph complete in 5.402020215988159 seconds\n"
     ]
    },
    {
     "name": "stderr",
     "output_type": "stream",
     "text": [
      "\r",
      " 55%|█████▍    | 54/99 [06:35<05:29,  7.32s/it]"
     ]
    },
    {
     "name": "stdout",
     "output_type": "stream",
     "text": [
      "5.446655988693237\n",
      "Finding 100 nearest neighbors using minkowski metric and 'auto' algorithm\n",
      "Neighbors computed in 0.9604926109313965 seconds\n",
      "Jaccard graph constructed in 1.1234264373779297 seconds\n",
      "Wrote graph to binary file in 0.548959493637085 seconds\n",
      "Running Louvain modularity optimization\n",
      "After 1 runs, maximum modularity is Q = 0.797119\n",
      "After 2 runs, maximum modularity is Q = 0.79875\n",
      "Louvain completed 22 runs in 1.4024157524108887 seconds\n",
      "PhenoGraph complete in 4.141988754272461 seconds\n"
     ]
    },
    {
     "name": "stderr",
     "output_type": "stream",
     "text": [
      "\r",
      " 56%|█████▌    | 55/99 [06:42<05:21,  7.31s/it]"
     ]
    },
    {
     "name": "stdout",
     "output_type": "stream",
     "text": [
      "4.18684720993042\n",
      "Finding 100 nearest neighbors using minkowski metric and 'auto' algorithm\n",
      "Neighbors computed in 0.8559174537658691 seconds\n",
      "Jaccard graph constructed in 1.1257846355438232 seconds\n",
      "Wrote graph to binary file in 0.4575321674346924 seconds\n",
      "Running Louvain modularity optimization\n",
      "After 1 runs, maximum modularity is Q = 0.799358\n",
      "Louvain completed 21 runs in 1.4786548614501953 seconds\n",
      "PhenoGraph complete in 4.021296977996826 seconds\n",
      "4.067203044891357\n"
     ]
    },
    {
     "name": "stderr",
     "output_type": "stream",
     "text": [
      "\r",
      " 57%|█████▋    | 56/99 [06:48<05:13,  7.30s/it]"
     ]
    },
    {
     "name": "stdout",
     "output_type": "stream",
     "text": [
      "Finding 100 nearest neighbors using minkowski metric and 'auto' algorithm\n",
      "Neighbors computed in 1.4601237773895264 seconds\n",
      "Jaccard graph constructed in 1.0886707305908203 seconds\n",
      "Wrote graph to binary file in 0.3727271556854248 seconds\n",
      "Running Louvain modularity optimization\n",
      "After 1 runs, maximum modularity is Q = 0.802603\n",
      "Louvain completed 21 runs in 1.3963658809661865 seconds\n",
      "PhenoGraph complete in 4.416031122207642 seconds\n"
     ]
    },
    {
     "name": "stderr",
     "output_type": "stream",
     "text": [
      "\r",
      " 58%|█████▊    | 57/99 [06:55<05:06,  7.29s/it]"
     ]
    },
    {
     "name": "stdout",
     "output_type": "stream",
     "text": [
      "4.455523490905762\n",
      "Finding 100 nearest neighbors using minkowski metric and 'auto' algorithm\n",
      "Neighbors computed in 1.0592217445373535 seconds\n",
      "Jaccard graph constructed in 1.0912084579467773 seconds\n",
      "Wrote graph to binary file in 0.4600207805633545 seconds\n",
      "Running Louvain modularity optimization\n",
      "After 1 runs, maximum modularity is Q = 0.803524\n",
      "Louvain completed 21 runs in 1.4351425170898438 seconds\n",
      "PhenoGraph complete in 4.189643859863281 seconds\n"
     ]
    },
    {
     "name": "stderr",
     "output_type": "stream",
     "text": [
      "\r",
      " 59%|█████▊    | 58/99 [07:02<04:58,  7.28s/it]"
     ]
    },
    {
     "name": "stdout",
     "output_type": "stream",
     "text": [
      "4.244777679443359\n",
      "Finding 100 nearest neighbors using minkowski metric and 'auto' algorithm\n",
      "Neighbors computed in 1.0565354824066162 seconds\n",
      "Jaccard graph constructed in 1.1777031421661377 seconds\n",
      "Wrote graph to binary file in 0.45184326171875 seconds\n",
      "Running Louvain modularity optimization\n",
      "After 1 runs, maximum modularity is Q = 0.792991\n",
      "After 2 runs, maximum modularity is Q = 0.794442\n",
      "After 15 runs, maximum modularity is Q = 0.795458\n",
      "Louvain completed 35 runs in 2.3642451763153076 seconds\n",
      "PhenoGraph complete in 5.1546311378479 seconds\n"
     ]
    },
    {
     "name": "stderr",
     "output_type": "stream",
     "text": [
      "\r",
      " 60%|█████▉    | 59/99 [07:10<04:51,  7.29s/it]"
     ]
    },
    {
     "name": "stdout",
     "output_type": "stream",
     "text": [
      "5.196566104888916\n",
      "Finding 100 nearest neighbors using minkowski metric and 'auto' algorithm\n",
      "Neighbors computed in 1.3692340850830078 seconds\n",
      "Jaccard graph constructed in 1.3902595043182373 seconds\n",
      "Wrote graph to binary file in 0.6120870113372803 seconds\n",
      "Running Louvain modularity optimization\n",
      "After 1 runs, maximum modularity is Q = 0.800008\n",
      "Louvain completed 21 runs in 1.8171217441558838 seconds\n",
      "PhenoGraph complete in 5.346382141113281 seconds\n"
     ]
    },
    {
     "name": "stderr",
     "output_type": "stream",
     "text": [
      "\r",
      " 61%|██████    | 60/99 [07:18<04:45,  7.31s/it]"
     ]
    },
    {
     "name": "stdout",
     "output_type": "stream",
     "text": [
      "5.724822998046875\n",
      "Finding 100 nearest neighbors using minkowski metric and 'auto' algorithm\n",
      "Neighbors computed in 1.0645065307617188 seconds\n",
      "Jaccard graph constructed in 1.2734768390655518 seconds\n",
      "Wrote graph to binary file in 0.3909940719604492 seconds\n",
      "Running Louvain modularity optimization\n",
      "After 1 runs, maximum modularity is Q = 0.807231\n",
      "After 5 runs, maximum modularity is Q = 0.808899\n",
      "Louvain completed 25 runs in 1.8276004791259766 seconds\n",
      "PhenoGraph complete in 4.662955045700073 seconds\n"
     ]
    },
    {
     "name": "stderr",
     "output_type": "stream",
     "text": [
      "\r",
      " 62%|██████▏   | 61/99 [07:25<04:37,  7.31s/it]"
     ]
    },
    {
     "name": "stdout",
     "output_type": "stream",
     "text": [
      "4.706911325454712\n",
      "Finding 100 nearest neighbors using minkowski metric and 'auto' algorithm\n",
      "Neighbors computed in 1.2829296588897705 seconds\n",
      "Jaccard graph constructed in 1.0951578617095947 seconds\n",
      "Wrote graph to binary file in 0.4291553497314453 seconds\n",
      "Running Louvain modularity optimization\n",
      "After 1 runs, maximum modularity is Q = 0.812184\n",
      "After 6 runs, maximum modularity is Q = 0.813237\n",
      "Louvain completed 26 runs in 1.7173383235931396 seconds\n",
      "PhenoGraph complete in 4.628087043762207 seconds\n",
      "4.672530174255371\n"
     ]
    },
    {
     "name": "stderr",
     "output_type": "stream",
     "text": [
      "\r",
      " 63%|██████▎   | 62/99 [07:33<04:30,  7.31s/it]"
     ]
    },
    {
     "name": "stdout",
     "output_type": "stream",
     "text": [
      "Finding 100 nearest neighbors using minkowski metric and 'auto' algorithm\n",
      "Neighbors computed in 0.955150842666626 seconds\n",
      "Jaccard graph constructed in 1.1139898300170898 seconds\n",
      "Wrote graph to binary file in 0.43921852111816406 seconds\n",
      "Running Louvain modularity optimization\n",
      "After 1 runs, maximum modularity is Q = 0.797585\n",
      "Louvain completed 21 runs in 1.363654613494873 seconds\n",
      "PhenoGraph complete in 3.975144624710083 seconds\n"
     ]
    },
    {
     "name": "stderr",
     "output_type": "stream",
     "text": [
      "\r",
      " 64%|██████▎   | 63/99 [07:39<04:22,  7.30s/it]"
     ]
    },
    {
     "name": "stdout",
     "output_type": "stream",
     "text": [
      "4.024863243103027\n",
      "Finding 100 nearest neighbors using minkowski metric and 'auto' algorithm\n",
      "Neighbors computed in 1.059154748916626 seconds\n",
      "Jaccard graph constructed in 1.1069142818450928 seconds\n",
      "Wrote graph to binary file in 0.44899702072143555 seconds\n",
      "Running Louvain modularity optimization\n",
      "After 1 runs, maximum modularity is Q = 0.798163\n",
      "After 5 runs, maximum modularity is Q = 0.799814\n",
      "Louvain completed 25 runs in 1.7799913883209229 seconds\n",
      "PhenoGraph complete in 4.533591032028198 seconds\n"
     ]
    },
    {
     "name": "stderr",
     "output_type": "stream",
     "text": [
      "\r",
      " 65%|██████▍   | 64/99 [07:46<04:15,  7.29s/it]"
     ]
    },
    {
     "name": "stdout",
     "output_type": "stream",
     "text": [
      "4.583351135253906\n",
      "Finding 100 nearest neighbors using minkowski metric and 'auto' algorithm\n",
      "Neighbors computed in 1.3630528450012207 seconds\n",
      "Jaccard graph constructed in 1.1588261127471924 seconds\n",
      "Wrote graph to binary file in 0.4557349681854248 seconds\n",
      "Running Louvain modularity optimization\n",
      "After 1 runs, maximum modularity is Q = 0.802696\n",
      "After 3 runs, maximum modularity is Q = 0.803993\n",
      "Louvain completed 23 runs in 1.6260020732879639 seconds\n",
      "PhenoGraph complete in 4.706387042999268 seconds\n"
     ]
    },
    {
     "name": "stderr",
     "output_type": "stream",
     "text": [
      "\r",
      " 66%|██████▌   | 65/99 [07:54<04:08,  7.29s/it]"
     ]
    },
    {
     "name": "stdout",
     "output_type": "stream",
     "text": [
      "4.751718044281006\n",
      "Finding 100 nearest neighbors using minkowski metric and 'auto' algorithm\n",
      "Neighbors computed in 1.1577105522155762 seconds\n",
      "Jaccard graph constructed in 1.1756086349487305 seconds\n",
      "Wrote graph to binary file in 0.3610358238220215 seconds\n",
      "Running Louvain modularity optimization\n",
      "After 1 runs, maximum modularity is Q = 0.796806\n",
      "After 2 runs, maximum modularity is Q = 0.798525\n",
      "After 8 runs, maximum modularity is Q = 0.8002\n",
      "Louvain completed 28 runs in 2.029783248901367 seconds\n",
      "PhenoGraph complete in 4.824535131454468 seconds\n",
      "4.868173837661743\n"
     ]
    },
    {
     "name": "stderr",
     "output_type": "stream",
     "text": [
      "\r",
      " 67%|██████▋   | 66/99 [08:01<04:00,  7.30s/it]"
     ]
    },
    {
     "name": "stdout",
     "output_type": "stream",
     "text": [
      "Finding 100 nearest neighbors using minkowski metric and 'auto' algorithm\n",
      "Neighbors computed in 0.9573533535003662 seconds\n",
      "Jaccard graph constructed in 1.094548225402832 seconds\n",
      "Wrote graph to binary file in 0.47316980361938477 seconds\n",
      "Running Louvain modularity optimization\n",
      "After 1 runs, maximum modularity is Q = 0.789313\n",
      "Louvain completed 21 runs in 1.3657336235046387 seconds\n",
      "PhenoGraph complete in 3.990802526473999 seconds\n"
     ]
    },
    {
     "name": "stderr",
     "output_type": "stream",
     "text": [
      "\r",
      " 68%|██████▊   | 67/99 [08:08<03:53,  7.29s/it]"
     ]
    },
    {
     "name": "stdout",
     "output_type": "stream",
     "text": [
      "4.0326247215271\n",
      "Finding 100 nearest neighbors using minkowski metric and 'auto' algorithm\n",
      "Neighbors computed in 0.8592586517333984 seconds\n",
      "Jaccard graph constructed in 1.0987014770507812 seconds\n",
      "Wrote graph to binary file in 0.4173111915588379 seconds\n",
      "Running Louvain modularity optimization\n",
      "After 1 runs, maximum modularity is Q = 0.80341\n",
      "After 20 runs, maximum modularity is Q = 0.80448\n",
      "Louvain completed 40 runs in 2.458203077316284 seconds\n",
      "PhenoGraph complete in 4.948606252670288 seconds\n"
     ]
    },
    {
     "name": "stderr",
     "output_type": "stream",
     "text": [
      "\r",
      " 69%|██████▊   | 68/99 [08:15<03:46,  7.29s/it]"
     ]
    },
    {
     "name": "stdout",
     "output_type": "stream",
     "text": [
      "4.9929163455963135\n",
      "Finding 100 nearest neighbors using minkowski metric and 'auto' algorithm\n",
      "Neighbors computed in 1.4638714790344238 seconds\n",
      "Jaccard graph constructed in 1.109508752822876 seconds\n",
      "Wrote graph to binary file in 0.4175393581390381 seconds\n",
      "Running Louvain modularity optimization\n",
      "After 1 runs, maximum modularity is Q = 0.80119\n",
      "Louvain completed 21 runs in 1.4416930675506592 seconds\n",
      "PhenoGraph complete in 4.534627199172974 seconds\n"
     ]
    },
    {
     "name": "stderr",
     "output_type": "stream",
     "text": [
      "\r",
      " 70%|██████▉   | 69/99 [08:22<03:38,  7.29s/it]"
     ]
    },
    {
     "name": "stdout",
     "output_type": "stream",
     "text": [
      "4.5753278732299805\n",
      "Finding 100 nearest neighbors using minkowski metric and 'auto' algorithm\n",
      "Neighbors computed in 1.0572001934051514 seconds\n",
      "Jaccard graph constructed in 1.1236302852630615 seconds\n",
      "Wrote graph to binary file in 0.34696269035339355 seconds\n",
      "Running Louvain modularity optimization\n",
      "After 1 runs, maximum modularity is Q = 0.798038\n",
      "Louvain completed 21 runs in 1.4749436378479004 seconds\n",
      "PhenoGraph complete in 4.099426984786987 seconds\n"
     ]
    },
    {
     "name": "stderr",
     "output_type": "stream",
     "text": [
      "\r",
      " 71%|███████   | 70/99 [08:29<03:31,  7.28s/it]"
     ]
    },
    {
     "name": "stdout",
     "output_type": "stream",
     "text": [
      "4.143861532211304\n",
      "Finding 100 nearest neighbors using minkowski metric and 'auto' algorithm\n",
      "Neighbors computed in 1.0530743598937988 seconds\n",
      "Jaccard graph constructed in 1.3038551807403564 seconds\n",
      "Wrote graph to binary file in 0.35643482208251953 seconds\n",
      "Running Louvain modularity optimization\n",
      "After 1 runs, maximum modularity is Q = 0.802795\n",
      "Louvain completed 21 runs in 1.4248130321502686 seconds\n",
      "PhenoGraph complete in 4.26945948600769 seconds\n"
     ]
    },
    {
     "name": "stderr",
     "output_type": "stream",
     "text": [
      "\r",
      " 72%|███████▏  | 71/99 [08:36<03:23,  7.27s/it]"
     ]
    },
    {
     "name": "stdout",
     "output_type": "stream",
     "text": [
      "4.31555962562561\n",
      "Finding 100 nearest neighbors using minkowski metric and 'auto' algorithm\n",
      "Neighbors computed in 0.8573250770568848 seconds\n",
      "Jaccard graph constructed in 1.1246094703674316 seconds\n",
      "Wrote graph to binary file in 0.44074201583862305 seconds\n",
      "Running Louvain modularity optimization\n",
      "After 1 runs, maximum modularity is Q = 0.790432\n",
      "Louvain completed 21 runs in 1.4279687404632568 seconds\n",
      "PhenoGraph complete in 3.946255922317505 seconds\n"
     ]
    },
    {
     "name": "stderr",
     "output_type": "stream",
     "text": [
      "\r",
      " 73%|███████▎  | 72/99 [08:42<03:16,  7.26s/it]"
     ]
    },
    {
     "name": "stdout",
     "output_type": "stream",
     "text": [
      "3.983524799346924\n",
      "Finding 100 nearest neighbors using minkowski metric and 'auto' algorithm\n",
      "Neighbors computed in 0.9559237957000732 seconds\n",
      "Jaccard graph constructed in 1.1472194194793701 seconds\n",
      "Wrote graph to binary file in 0.44148778915405273 seconds\n",
      "Running Louvain modularity optimization\n",
      "After 1 runs, maximum modularity is Q = 0.797318\n",
      "After 2 runs, maximum modularity is Q = 0.798981\n",
      "Louvain completed 22 runs in 1.6221799850463867 seconds\n",
      "PhenoGraph complete in 4.272413492202759 seconds\n"
     ]
    },
    {
     "name": "stderr",
     "output_type": "stream",
     "text": [
      "\r",
      " 74%|███████▎  | 73/99 [08:49<03:08,  7.26s/it]"
     ]
    },
    {
     "name": "stdout",
     "output_type": "stream",
     "text": [
      "4.316633224487305\n",
      "Finding 100 nearest neighbors using minkowski metric and 'auto' algorithm\n",
      "Neighbors computed in 0.9725508689880371 seconds\n",
      "Jaccard graph constructed in 1.129668951034546 seconds\n",
      "Wrote graph to binary file in 0.44513797760009766 seconds\n",
      "Running Louvain modularity optimization\n",
      "After 1 runs, maximum modularity is Q = 0.793756\n",
      "After 2 runs, maximum modularity is Q = 0.796144\n",
      "Louvain completed 22 runs in 1.64839506149292 seconds\n",
      "PhenoGraph complete in 4.318628311157227 seconds\n"
     ]
    },
    {
     "name": "stderr",
     "output_type": "stream",
     "text": [
      "\r",
      " 75%|███████▍  | 74/99 [08:56<03:01,  7.25s/it]"
     ]
    },
    {
     "name": "stdout",
     "output_type": "stream",
     "text": [
      "4.36042332649231\n",
      "Finding 100 nearest neighbors using minkowski metric and 'auto' algorithm\n",
      "Neighbors computed in 1.4622681140899658 seconds\n",
      "Jaccard graph constructed in 1.113173484802246 seconds\n",
      "Wrote graph to binary file in 0.4829580783843994 seconds\n",
      "Running Louvain modularity optimization\n",
      "After 1 runs, maximum modularity is Q = 0.807998\n",
      "Louvain completed 21 runs in 1.4590075016021729 seconds\n",
      "PhenoGraph complete in 4.616164445877075 seconds\n"
     ]
    },
    {
     "name": "stderr",
     "output_type": "stream",
     "text": [
      "\r",
      " 76%|███████▌  | 75/99 [09:03<02:54,  7.25s/it]"
     ]
    },
    {
     "name": "stdout",
     "output_type": "stream",
     "text": [
      "4.656792640686035\n",
      "Finding 100 nearest neighbors using minkowski metric and 'auto' algorithm\n",
      "Neighbors computed in 1.2552030086517334 seconds\n",
      "Jaccard graph constructed in 1.1515357494354248 seconds\n",
      "Wrote graph to binary file in 0.36189818382263184 seconds\n",
      "Running Louvain modularity optimization\n",
      "After 1 runs, maximum modularity is Q = 0.805258\n",
      "After 4 runs, maximum modularity is Q = 0.80663\n",
      "After 20 runs, maximum modularity is Q = 0.807722\n",
      "Louvain completed 40 runs in 2.582007884979248 seconds\n",
      "PhenoGraph complete in 5.445713520050049 seconds\n"
     ]
    },
    {
     "name": "stderr",
     "output_type": "stream",
     "text": [
      "\r",
      " 77%|███████▋  | 76/99 [09:11<02:47,  7.26s/it]"
     ]
    },
    {
     "name": "stdout",
     "output_type": "stream",
     "text": [
      "5.492644786834717\n",
      "Finding 100 nearest neighbors using minkowski metric and 'auto' algorithm\n",
      "Neighbors computed in 0.85137939453125 seconds\n",
      "Jaccard graph constructed in 1.1147356033325195 seconds\n",
      "Wrote graph to binary file in 0.48212099075317383 seconds\n",
      "Running Louvain modularity optimization\n",
      "After 1 runs, maximum modularity is Q = 0.791736\n",
      "After 2 runs, maximum modularity is Q = 0.797419\n",
      "Louvain completed 22 runs in 1.6657214164733887 seconds\n",
      "PhenoGraph complete in 4.2100136280059814 seconds\n"
     ]
    },
    {
     "name": "stderr",
     "output_type": "stream",
     "text": [
      "\r",
      " 78%|███████▊  | 77/99 [09:18<02:39,  7.25s/it]"
     ]
    },
    {
     "name": "stdout",
     "output_type": "stream",
     "text": [
      "4.26569390296936\n",
      "Finding 100 nearest neighbors using minkowski metric and 'auto' algorithm\n",
      "Neighbors computed in 0.8556303977966309 seconds\n",
      "Jaccard graph constructed in 1.127547025680542 seconds\n",
      "Wrote graph to binary file in 0.44045019149780273 seconds\n",
      "Running Louvain modularity optimization\n",
      "After 1 runs, maximum modularity is Q = 0.796236\n",
      "After 12 runs, maximum modularity is Q = 0.797352\n",
      "Louvain completed 32 runs in 2.13881778717041 seconds\n",
      "PhenoGraph complete in 4.65885591506958 seconds\n"
     ]
    },
    {
     "name": "stderr",
     "output_type": "stream",
     "text": [
      "\r",
      " 79%|███████▉  | 78/99 [09:25<02:32,  7.25s/it]"
     ]
    },
    {
     "name": "stdout",
     "output_type": "stream",
     "text": [
      "4.707498550415039\n",
      "Finding 100 nearest neighbors using minkowski metric and 'auto' algorithm\n",
      "Neighbors computed in 0.9590969085693359 seconds\n",
      "Jaccard graph constructed in 1.1394329071044922 seconds\n",
      "Wrote graph to binary file in 0.48270392417907715 seconds\n",
      "Running Louvain modularity optimization\n",
      "After 1 runs, maximum modularity is Q = 0.793032\n",
      "After 3 runs, maximum modularity is Q = 0.794452\n",
      "Louvain completed 23 runs in 1.7235438823699951 seconds\n",
      "PhenoGraph complete in 4.445058584213257 seconds\n"
     ]
    },
    {
     "name": "stderr",
     "output_type": "stream",
     "text": [
      "\r",
      " 80%|███████▉  | 79/99 [09:32<02:25,  7.25s/it]"
     ]
    },
    {
     "name": "stdout",
     "output_type": "stream",
     "text": [
      "4.4894490242004395\n",
      "Finding 100 nearest neighbors using minkowski metric and 'auto' algorithm\n",
      "Neighbors computed in 0.8588335514068604 seconds\n",
      "Jaccard graph constructed in 1.2376627922058105 seconds\n",
      "Wrote graph to binary file in 0.36861300468444824 seconds\n",
      "Running Louvain modularity optimization\n",
      "After 1 runs, maximum modularity is Q = 0.807368\n",
      "Louvain completed 21 runs in 1.4033374786376953 seconds\n",
      "PhenoGraph complete in 3.9624099731445312 seconds\n"
     ]
    },
    {
     "name": "stderr",
     "output_type": "stream",
     "text": [
      "\r",
      " 81%|████████  | 80/99 [09:39<02:17,  7.24s/it]"
     ]
    },
    {
     "name": "stdout",
     "output_type": "stream",
     "text": [
      "4.011162519454956\n",
      "Finding 100 nearest neighbors using minkowski metric and 'auto' algorithm\n",
      "Neighbors computed in 1.0564165115356445 seconds\n",
      "Jaccard graph constructed in 1.2046377658843994 seconds\n",
      "Wrote graph to binary file in 0.3500552177429199 seconds\n",
      "Running Louvain modularity optimization\n",
      "After 1 runs, maximum modularity is Q = 0.800034\n",
      "Louvain completed 21 runs in 1.401423692703247 seconds\n",
      "PhenoGraph complete in 4.114272356033325 seconds\n"
     ]
    },
    {
     "name": "stderr",
     "output_type": "stream",
     "text": [
      "\r",
      " 82%|████████▏ | 81/99 [09:45<02:10,  7.23s/it]"
     ]
    },
    {
     "name": "stdout",
     "output_type": "stream",
     "text": [
      "4.159231901168823\n",
      "Finding 100 nearest neighbors using minkowski metric and 'auto' algorithm\n",
      "Neighbors computed in 1.055056095123291 seconds\n",
      "Jaccard graph constructed in 1.1403768062591553 seconds\n",
      "Wrote graph to binary file in 0.4244801998138428 seconds\n",
      "Running Louvain modularity optimization\n",
      "After 1 runs, maximum modularity is Q = 0.796464\n",
      "Louvain completed 21 runs in 1.3001487255096436 seconds\n",
      "PhenoGraph complete in 4.041004419326782 seconds\n",
      "4.081639766693115\n"
     ]
    },
    {
     "name": "stderr",
     "output_type": "stream",
     "text": [
      "\r",
      " 83%|████████▎ | 82/99 [09:52<02:02,  7.23s/it]"
     ]
    },
    {
     "name": "stdout",
     "output_type": "stream",
     "text": [
      "Finding 100 nearest neighbors using minkowski metric and 'auto' algorithm\n",
      "Neighbors computed in 1.3570833206176758 seconds\n",
      "Jaccard graph constructed in 1.2057225704193115 seconds\n",
      "Wrote graph to binary file in 0.44339823722839355 seconds\n",
      "Running Louvain modularity optimization\n",
      "After 1 runs, maximum modularity is Q = 0.782476\n",
      "After 2 runs, maximum modularity is Q = 0.784986\n",
      "Louvain completed 22 runs in 1.6159889698028564 seconds\n",
      "PhenoGraph complete in 4.720106601715088 seconds\n"
     ]
    },
    {
     "name": "stderr",
     "output_type": "stream",
     "text": [
      "\r",
      " 84%|████████▍ | 83/99 [09:59<01:55,  7.23s/it]"
     ]
    },
    {
     "name": "stdout",
     "output_type": "stream",
     "text": [
      "4.769221782684326\n",
      "Finding 100 nearest neighbors using minkowski metric and 'auto' algorithm\n",
      "Neighbors computed in 1.1588878631591797 seconds\n",
      "Jaccard graph constructed in 1.1289360523223877 seconds\n",
      "Wrote graph to binary file in 0.4684727191925049 seconds\n",
      "Running Louvain modularity optimization\n",
      "After 1 runs, maximum modularity is Q = 0.801391\n",
      "Louvain completed 21 runs in 1.5740370750427246 seconds\n",
      "PhenoGraph complete in 4.458539962768555 seconds\n"
     ]
    },
    {
     "name": "stderr",
     "output_type": "stream",
     "text": [
      "\r",
      " 85%|████████▍ | 84/99 [10:06<01:48,  7.22s/it]"
     ]
    },
    {
     "name": "stdout",
     "output_type": "stream",
     "text": [
      "4.509068489074707\n",
      "Finding 100 nearest neighbors using minkowski metric and 'auto' algorithm\n",
      "Neighbors computed in 1.1551682949066162 seconds\n",
      "Jaccard graph constructed in 1.1739230155944824 seconds\n",
      "Wrote graph to binary file in 0.3568418025970459 seconds\n",
      "Running Louvain modularity optimization\n",
      "After 1 runs, maximum modularity is Q = 0.812474\n",
      "Louvain completed 21 runs in 1.2992594242095947 seconds\n",
      "PhenoGraph complete in 4.08599591255188 seconds\n"
     ]
    },
    {
     "name": "stderr",
     "output_type": "stream",
     "text": [
      "\r",
      " 86%|████████▌ | 85/99 [10:13<01:41,  7.22s/it]"
     ]
    },
    {
     "name": "stdout",
     "output_type": "stream",
     "text": [
      "4.132943391799927\n",
      "Finding 100 nearest neighbors using minkowski metric and 'auto' algorithm\n",
      "Neighbors computed in 1.3541481494903564 seconds\n",
      "Jaccard graph constructed in 1.114332914352417 seconds\n",
      "Wrote graph to binary file in 0.4482004642486572 seconds\n",
      "Running Louvain modularity optimization\n",
      "After 1 runs, maximum modularity is Q = 0.809027\n",
      "After 3 runs, maximum modularity is Q = 0.8102\n",
      "Louvain completed 23 runs in 1.7968552112579346 seconds\n",
      "PhenoGraph complete in 4.835173606872559 seconds\n"
     ]
    },
    {
     "name": "stderr",
     "output_type": "stream",
     "text": [
      "\r",
      " 87%|████████▋ | 86/99 [10:21<01:33,  7.22s/it]"
     ]
    },
    {
     "name": "stdout",
     "output_type": "stream",
     "text": [
      "4.88664698600769\n",
      "Finding 100 nearest neighbors using minkowski metric and 'auto' algorithm\n",
      "Neighbors computed in 1.259795904159546 seconds\n",
      "Jaccard graph constructed in 1.1188325881958008 seconds\n",
      "Wrote graph to binary file in 0.4498765468597412 seconds\n",
      "Running Louvain modularity optimization\n",
      "After 1 runs, maximum modularity is Q = 0.805329\n",
      "Louvain completed 21 runs in 1.3204448223114014 seconds\n",
      "PhenoGraph complete in 4.249229669570923 seconds\n"
     ]
    },
    {
     "name": "stderr",
     "output_type": "stream",
     "text": [
      "\r",
      " 88%|████████▊ | 87/99 [10:27<01:26,  7.22s/it]"
     ]
    },
    {
     "name": "stdout",
     "output_type": "stream",
     "text": [
      "4.2969818115234375\n",
      "Finding 100 nearest neighbors using minkowski metric and 'auto' algorithm\n",
      "Neighbors computed in 1.3584175109863281 seconds\n",
      "Jaccard graph constructed in 1.200242280960083 seconds\n",
      "Wrote graph to binary file in 0.4726841449737549 seconds\n",
      "Running Louvain modularity optimization\n",
      "After 1 runs, maximum modularity is Q = 0.795589\n",
      "After 2 runs, maximum modularity is Q = 0.796593\n",
      "After 8 runs, maximum modularity is Q = 0.798485\n",
      "After 27 runs, maximum modularity is Q = 0.799792\n",
      "Louvain completed 47 runs in 3.126594066619873 seconds\n",
      "PhenoGraph complete in 6.264121055603027 seconds\n",
      "6.333433151245117\n"
     ]
    },
    {
     "name": "stderr",
     "output_type": "stream",
     "text": [
      "\r",
      " 89%|████████▉ | 88/99 [10:36<01:19,  7.23s/it]"
     ]
    },
    {
     "name": "stdout",
     "output_type": "stream",
     "text": [
      "Finding 100 nearest neighbors using minkowski metric and 'auto' algorithm\n",
      "Neighbors computed in 1.257798194885254 seconds\n",
      "Jaccard graph constructed in 1.1760389804840088 seconds\n",
      "Wrote graph to binary file in 0.4477958679199219 seconds\n",
      "Running Louvain modularity optimization\n",
      "After 1 runs, maximum modularity is Q = 0.792749\n",
      "Louvain completed 21 runs in 1.4332163333892822 seconds\n",
      "PhenoGraph complete in 4.411767959594727 seconds\n"
     ]
    },
    {
     "name": "stderr",
     "output_type": "stream",
     "text": [
      "\r",
      " 90%|████████▉ | 89/99 [10:43<01:12,  7.23s/it]"
     ]
    },
    {
     "name": "stdout",
     "output_type": "stream",
     "text": [
      "4.455551862716675\n",
      "Finding 100 nearest neighbors using minkowski metric and 'auto' algorithm\n",
      "Neighbors computed in 1.2554242610931396 seconds\n",
      "Jaccard graph constructed in 1.1076843738555908 seconds\n",
      "Wrote graph to binary file in 0.38900327682495117 seconds\n",
      "Running Louvain modularity optimization\n",
      "After 1 runs, maximum modularity is Q = 0.791541\n",
      "After 2 runs, maximum modularity is Q = 0.796376\n",
      "Louvain completed 22 runs in 1.4642982482910156 seconds\n",
      "PhenoGraph complete in 4.334847688674927 seconds\n"
     ]
    },
    {
     "name": "stderr",
     "output_type": "stream",
     "text": [
      "\r",
      " 91%|█████████ | 90/99 [10:50<01:05,  7.23s/it]"
     ]
    },
    {
     "name": "stdout",
     "output_type": "stream",
     "text": [
      "4.378723621368408\n",
      "Finding 100 nearest neighbors using minkowski metric and 'auto' algorithm\n",
      "Neighbors computed in 0.8509998321533203 seconds\n",
      "Jaccard graph constructed in 1.1510756015777588 seconds\n",
      "Wrote graph to binary file in 0.4305908679962158 seconds\n",
      "Running Louvain modularity optimization\n",
      "After 1 runs, maximum modularity is Q = 0.802812\n",
      "Louvain completed 21 runs in 1.5562784671783447 seconds\n",
      "PhenoGraph complete in 4.098382472991943 seconds\n"
     ]
    },
    {
     "name": "stderr",
     "output_type": "stream",
     "text": [
      "\r",
      " 92%|█████████▏| 91/99 [10:57<00:57,  7.22s/it]"
     ]
    },
    {
     "name": "stdout",
     "output_type": "stream",
     "text": [
      "4.139261245727539\n",
      "Finding 100 nearest neighbors using minkowski metric and 'auto' algorithm\n",
      "Neighbors computed in 1.2578644752502441 seconds\n",
      "Jaccard graph constructed in 1.1328370571136475 seconds\n",
      "Wrote graph to binary file in 0.44191598892211914 seconds\n",
      "Running Louvain modularity optimization\n",
      "After 1 runs, maximum modularity is Q = 0.804309\n",
      "Louvain completed 21 runs in 1.4140832424163818 seconds\n",
      "PhenoGraph complete in 4.343942403793335 seconds\n"
     ]
    },
    {
     "name": "stderr",
     "output_type": "stream",
     "text": [
      "\r",
      " 93%|█████████▎| 92/99 [11:03<00:50,  7.22s/it]"
     ]
    },
    {
     "name": "stdout",
     "output_type": "stream",
     "text": [
      "4.384541034698486\n",
      "Finding 100 nearest neighbors using minkowski metric and 'auto' algorithm\n",
      "Neighbors computed in 1.1573801040649414 seconds\n",
      "Jaccard graph constructed in 1.083632230758667 seconds\n",
      "Wrote graph to binary file in 0.46427226066589355 seconds\n",
      "Running Louvain modularity optimization\n",
      "After 1 runs, maximum modularity is Q = 0.803035\n",
      "Louvain completed 21 runs in 1.2999389171600342 seconds\n",
      "PhenoGraph complete in 4.139532804489136 seconds\n"
     ]
    },
    {
     "name": "stderr",
     "output_type": "stream",
     "text": [
      "\r",
      " 94%|█████████▍| 93/99 [11:10<00:43,  7.21s/it]"
     ]
    },
    {
     "name": "stdout",
     "output_type": "stream",
     "text": [
      "4.181689739227295\n",
      "Finding 100 nearest neighbors using minkowski metric and 'auto' algorithm\n",
      "Neighbors computed in 1.3542494773864746 seconds\n",
      "Jaccard graph constructed in 1.2097575664520264 seconds\n",
      "Wrote graph to binary file in 0.47856712341308594 seconds\n",
      "Running Louvain modularity optimization\n",
      "After 1 runs, maximum modularity is Q = 0.798947\n",
      "Louvain completed 21 runs in 1.4085431098937988 seconds\n",
      "PhenoGraph complete in 4.546159505844116 seconds\n"
     ]
    },
    {
     "name": "stderr",
     "output_type": "stream",
     "text": [
      "\r",
      " 95%|█████████▍| 94/99 [11:17<00:36,  7.21s/it]"
     ]
    },
    {
     "name": "stdout",
     "output_type": "stream",
     "text": [
      "4.592787027359009\n",
      "Finding 100 nearest neighbors using minkowski metric and 'auto' algorithm\n",
      "Neighbors computed in 1.153956413269043 seconds\n",
      "Jaccard graph constructed in 1.104645013809204 seconds\n",
      "Wrote graph to binary file in 0.4360525608062744 seconds\n",
      "Running Louvain modularity optimization\n",
      "After 1 runs, maximum modularity is Q = 0.795295\n",
      "Louvain completed 21 runs in 1.3502099514007568 seconds\n",
      "PhenoGraph complete in 4.141560792922974 seconds\n"
     ]
    },
    {
     "name": "stderr",
     "output_type": "stream",
     "text": [
      "\r",
      " 96%|█████████▌| 95/99 [11:24<00:28,  7.20s/it]"
     ]
    },
    {
     "name": "stdout",
     "output_type": "stream",
     "text": [
      "4.18198037147522\n",
      "Finding 100 nearest neighbors using minkowski metric and 'auto' algorithm\n",
      "Neighbors computed in 0.9682154655456543 seconds\n",
      "Jaccard graph constructed in 1.1460423469543457 seconds\n",
      "Wrote graph to binary file in 0.4479954242706299 seconds\n",
      "Running Louvain modularity optimization\n",
      "After 1 runs, maximum modularity is Q = 0.797779\n",
      "Louvain completed 21 runs in 1.4887497425079346 seconds\n",
      "PhenoGraph complete in 4.158674955368042 seconds\n"
     ]
    },
    {
     "name": "stderr",
     "output_type": "stream",
     "text": [
      "\r",
      " 97%|█████████▋| 96/99 [11:30<00:21,  7.20s/it]"
     ]
    },
    {
     "name": "stdout",
     "output_type": "stream",
     "text": [
      "4.199637413024902\n",
      "Finding 100 nearest neighbors using minkowski metric and 'auto' algorithm\n",
      "Neighbors computed in 1.4621899127960205 seconds\n",
      "Jaccard graph constructed in 1.1937990188598633 seconds\n",
      "Wrote graph to binary file in 0.46439647674560547 seconds\n",
      "Running Louvain modularity optimization\n",
      "After 1 runs, maximum modularity is Q = 0.803777\n",
      "After 2 runs, maximum modularity is Q = 0.804894\n",
      "After 3 runs, maximum modularity is Q = 0.806359\n",
      "Louvain completed 23 runs in 1.701901912689209 seconds\n",
      "PhenoGraph complete in 4.938373804092407 seconds\n"
     ]
    },
    {
     "name": "stderr",
     "output_type": "stream",
     "text": [
      "\r",
      " 98%|█████████▊| 97/99 [11:38<00:14,  7.20s/it]"
     ]
    },
    {
     "name": "stdout",
     "output_type": "stream",
     "text": [
      "4.987739324569702\n",
      "Finding 100 nearest neighbors using minkowski metric and 'auto' algorithm\n",
      "Neighbors computed in 0.9723575115203857 seconds\n",
      "Jaccard graph constructed in 1.1315581798553467 seconds\n",
      "Wrote graph to binary file in 0.48540711402893066 seconds\n",
      "Running Louvain modularity optimization\n",
      "After 1 runs, maximum modularity is Q = 0.802427\n",
      "After 12 runs, maximum modularity is Q = 0.803566\n",
      "Louvain completed 32 runs in 2.212559938430786 seconds\n",
      "PhenoGraph complete in 4.9081220626831055 seconds\n"
     ]
    },
    {
     "name": "stderr",
     "output_type": "stream",
     "text": [
      "\r",
      " 99%|█████████▉| 98/99 [11:46<00:07,  7.20s/it]"
     ]
    },
    {
     "name": "stdout",
     "output_type": "stream",
     "text": [
      "4.949841022491455\n",
      "Finding 100 nearest neighbors using minkowski metric and 'auto' algorithm\n",
      "Neighbors computed in 0.9737765789031982 seconds\n",
      "Jaccard graph constructed in 1.1755998134613037 seconds\n",
      "Wrote graph to binary file in 0.3966197967529297 seconds\n",
      "Running Louvain modularity optimization\n",
      "After 1 runs, maximum modularity is Q = 0.800507\n",
      "After 19 runs, maximum modularity is Q = 0.801712\n",
      "Louvain completed 39 runs in 2.5550756454467773 seconds\n",
      "PhenoGraph complete in 5.211965084075928 seconds\n",
      "5.257213592529297\n"
     ]
    },
    {
     "name": "stderr",
     "output_type": "stream",
     "text": [
      "100%|██████████| 99/99 [11:54<00:00,  7.21s/it]\n"
     ]
    }
   ],
   "source": [
    "max_jaccard_vals_dist = []\n",
    "for j in tqdm(range(1,100)):\n",
    "    ss = subsample(original_df)\n",
    "    ss_index = ss.index.values\n",
    "    ss = ss.drop(['labels','original_index'], axis=1)\n",
    "    preprocessed_ss = preprocess_zheng17(ss.values)\n",
    "    ss_communities = run_phenograph(preprocessed_ss)\n",
    "    \n",
    "    max_jaccard_vals = []\n",
    "    for i in significant_clusters:\n",
    "        original_clust_vals = original_df[communities==i].index.values\n",
    "        ss_jaccard_vals = []\n",
    "        for k,v in dict(Counter(ss_communities)).items():\n",
    "            ss_clust_vals = ss_index[ss_communities == k]\n",
    "            jaccard = compute_jaccard(original_clust_vals, ss_clust_vals)\n",
    "            #print('jaccard value for' + str(k) + 'is equal to: ' + str(jaccard))\n",
    "            ss_jaccard_vals.append(jaccard)\n",
    "        max_jaccard_vals.append(max(ss_jaccard_vals))\n",
    "    max_jaccard_vals_dist.append(max_jaccard_vals)"
   ]
  },
  {
   "cell_type": "code",
   "execution_count": 15,
   "metadata": {
    "collapsed": true
   },
   "outputs": [],
   "source": [
    "res = pd.DataFrame(max_jaccard_vals_dist)"
   ]
  },
  {
   "cell_type": "code",
   "execution_count": 17,
   "metadata": {},
   "outputs": [
    {
     "data": {
      "text/html": [
       "<div>\n",
       "<style scoped>\n",
       "    .dataframe tbody tr th:only-of-type {\n",
       "        vertical-align: middle;\n",
       "    }\n",
       "\n",
       "    .dataframe tbody tr th {\n",
       "        vertical-align: top;\n",
       "    }\n",
       "\n",
       "    .dataframe thead th {\n",
       "        text-align: right;\n",
       "    }\n",
       "</style>\n",
       "<table border=\"1\" class=\"dataframe\">\n",
       "  <thead>\n",
       "    <tr style=\"text-align: right;\">\n",
       "      <th></th>\n",
       "      <th>0</th>\n",
       "      <th>1</th>\n",
       "      <th>2</th>\n",
       "      <th>3</th>\n",
       "    </tr>\n",
       "  </thead>\n",
       "  <tbody>\n",
       "    <tr>\n",
       "      <th>0</th>\n",
       "      <td>0.410056</td>\n",
       "      <td>0.621429</td>\n",
       "      <td>0.616197</td>\n",
       "      <td>0.316964</td>\n",
       "    </tr>\n",
       "    <tr>\n",
       "      <th>1</th>\n",
       "      <td>0.635754</td>\n",
       "      <td>0.632143</td>\n",
       "      <td>0.597173</td>\n",
       "      <td>0.574561</td>\n",
       "    </tr>\n",
       "    <tr>\n",
       "      <th>2</th>\n",
       "      <td>0.572707</td>\n",
       "      <td>0.578767</td>\n",
       "      <td>0.566901</td>\n",
       "      <td>0.555118</td>\n",
       "    </tr>\n",
       "    <tr>\n",
       "      <th>3</th>\n",
       "      <td>0.601336</td>\n",
       "      <td>0.614286</td>\n",
       "      <td>0.383275</td>\n",
       "      <td>0.500000</td>\n",
       "    </tr>\n",
       "    <tr>\n",
       "      <th>4</th>\n",
       "      <td>0.436384</td>\n",
       "      <td>0.567857</td>\n",
       "      <td>0.471631</td>\n",
       "      <td>0.520833</td>\n",
       "    </tr>\n",
       "    <tr>\n",
       "      <th>5</th>\n",
       "      <td>0.343017</td>\n",
       "      <td>0.560748</td>\n",
       "      <td>0.469965</td>\n",
       "      <td>0.538136</td>\n",
       "    </tr>\n",
       "    <tr>\n",
       "      <th>6</th>\n",
       "      <td>0.600221</td>\n",
       "      <td>0.596026</td>\n",
       "      <td>0.537102</td>\n",
       "      <td>0.543478</td>\n",
       "    </tr>\n",
       "    <tr>\n",
       "      <th>7</th>\n",
       "      <td>0.605088</td>\n",
       "      <td>0.654804</td>\n",
       "      <td>0.617544</td>\n",
       "      <td>0.547826</td>\n",
       "    </tr>\n",
       "    <tr>\n",
       "      <th>8</th>\n",
       "      <td>0.320312</td>\n",
       "      <td>0.632867</td>\n",
       "      <td>0.593640</td>\n",
       "      <td>0.546939</td>\n",
       "    </tr>\n",
       "    <tr>\n",
       "      <th>9</th>\n",
       "      <td>0.418994</td>\n",
       "      <td>0.642857</td>\n",
       "      <td>0.634752</td>\n",
       "      <td>0.596491</td>\n",
       "    </tr>\n",
       "    <tr>\n",
       "      <th>10</th>\n",
       "      <td>0.640177</td>\n",
       "      <td>0.610345</td>\n",
       "      <td>0.587413</td>\n",
       "      <td>0.502242</td>\n",
       "    </tr>\n",
       "    <tr>\n",
       "      <th>11</th>\n",
       "      <td>0.606630</td>\n",
       "      <td>0.607843</td>\n",
       "      <td>0.521127</td>\n",
       "      <td>0.426724</td>\n",
       "    </tr>\n",
       "    <tr>\n",
       "      <th>12</th>\n",
       "      <td>0.358259</td>\n",
       "      <td>0.596026</td>\n",
       "      <td>0.555944</td>\n",
       "      <td>0.500000</td>\n",
       "    </tr>\n",
       "    <tr>\n",
       "      <th>13</th>\n",
       "      <td>0.562222</td>\n",
       "      <td>0.577922</td>\n",
       "      <td>0.565371</td>\n",
       "      <td>0.511811</td>\n",
       "    </tr>\n",
       "    <tr>\n",
       "      <th>14</th>\n",
       "      <td>0.409396</td>\n",
       "      <td>0.578073</td>\n",
       "      <td>0.543554</td>\n",
       "      <td>0.575000</td>\n",
       "    </tr>\n",
       "    <tr>\n",
       "      <th>15</th>\n",
       "      <td>0.315789</td>\n",
       "      <td>0.604982</td>\n",
       "      <td>0.507042</td>\n",
       "      <td>0.476562</td>\n",
       "    </tr>\n",
       "    <tr>\n",
       "      <th>16</th>\n",
       "      <td>0.359865</td>\n",
       "      <td>0.609589</td>\n",
       "      <td>0.595070</td>\n",
       "      <td>0.283784</td>\n",
       "    </tr>\n",
       "    <tr>\n",
       "      <th>17</th>\n",
       "      <td>0.482103</td>\n",
       "      <td>0.636054</td>\n",
       "      <td>0.542553</td>\n",
       "      <td>0.475410</td>\n",
       "    </tr>\n",
       "    <tr>\n",
       "      <th>18</th>\n",
       "      <td>0.414716</td>\n",
       "      <td>0.540717</td>\n",
       "      <td>0.557895</td>\n",
       "      <td>0.503876</td>\n",
       "    </tr>\n",
       "    <tr>\n",
       "      <th>19</th>\n",
       "      <td>0.575893</td>\n",
       "      <td>0.630662</td>\n",
       "      <td>0.626761</td>\n",
       "      <td>0.572034</td>\n",
       "    </tr>\n",
       "    <tr>\n",
       "      <th>20</th>\n",
       "      <td>0.398438</td>\n",
       "      <td>0.596429</td>\n",
       "      <td>0.623693</td>\n",
       "      <td>0.423423</td>\n",
       "    </tr>\n",
       "    <tr>\n",
       "      <th>21</th>\n",
       "      <td>0.417877</td>\n",
       "      <td>0.605442</td>\n",
       "      <td>0.571930</td>\n",
       "      <td>0.254464</td>\n",
       "    </tr>\n",
       "    <tr>\n",
       "      <th>22</th>\n",
       "      <td>0.310538</td>\n",
       "      <td>0.514184</td>\n",
       "      <td>0.505300</td>\n",
       "      <td>0.245536</td>\n",
       "    </tr>\n",
       "    <tr>\n",
       "      <th>23</th>\n",
       "      <td>0.465922</td>\n",
       "      <td>0.640569</td>\n",
       "      <td>0.566434</td>\n",
       "      <td>0.548936</td>\n",
       "    </tr>\n",
       "    <tr>\n",
       "      <th>24</th>\n",
       "      <td>0.458613</td>\n",
       "      <td>0.571429</td>\n",
       "      <td>0.580205</td>\n",
       "      <td>0.428571</td>\n",
       "    </tr>\n",
       "    <tr>\n",
       "      <th>25</th>\n",
       "      <td>0.614444</td>\n",
       "      <td>0.592593</td>\n",
       "      <td>0.528169</td>\n",
       "      <td>0.493724</td>\n",
       "    </tr>\n",
       "    <tr>\n",
       "      <th>26</th>\n",
       "      <td>0.434637</td>\n",
       "      <td>0.615658</td>\n",
       "      <td>0.642105</td>\n",
       "      <td>0.570213</td>\n",
       "    </tr>\n",
       "    <tr>\n",
       "      <th>27</th>\n",
       "      <td>0.458613</td>\n",
       "      <td>0.621429</td>\n",
       "      <td>0.600694</td>\n",
       "      <td>0.551020</td>\n",
       "    </tr>\n",
       "    <tr>\n",
       "      <th>28</th>\n",
       "      <td>0.455357</td>\n",
       "      <td>0.615646</td>\n",
       "      <td>0.547368</td>\n",
       "      <td>0.500000</td>\n",
       "    </tr>\n",
       "    <tr>\n",
       "      <th>29</th>\n",
       "      <td>0.441341</td>\n",
       "      <td>0.554455</td>\n",
       "      <td>0.552817</td>\n",
       "      <td>0.284444</td>\n",
       "    </tr>\n",
       "    <tr>\n",
       "      <th>...</th>\n",
       "      <td>...</td>\n",
       "      <td>...</td>\n",
       "      <td>...</td>\n",
       "      <td>...</td>\n",
       "    </tr>\n",
       "    <tr>\n",
       "      <th>69</th>\n",
       "      <td>0.340733</td>\n",
       "      <td>0.627660</td>\n",
       "      <td>0.585965</td>\n",
       "      <td>0.485477</td>\n",
       "    </tr>\n",
       "    <tr>\n",
       "      <th>70</th>\n",
       "      <td>0.606667</td>\n",
       "      <td>0.592857</td>\n",
       "      <td>0.503521</td>\n",
       "      <td>0.554585</td>\n",
       "    </tr>\n",
       "    <tr>\n",
       "      <th>71</th>\n",
       "      <td>0.634337</td>\n",
       "      <td>0.584459</td>\n",
       "      <td>0.561404</td>\n",
       "      <td>0.534188</td>\n",
       "    </tr>\n",
       "    <tr>\n",
       "      <th>72</th>\n",
       "      <td>0.293527</td>\n",
       "      <td>0.574675</td>\n",
       "      <td>0.508834</td>\n",
       "      <td>0.544000</td>\n",
       "    </tr>\n",
       "    <tr>\n",
       "      <th>73</th>\n",
       "      <td>0.610188</td>\n",
       "      <td>0.614334</td>\n",
       "      <td>0.584507</td>\n",
       "      <td>0.532751</td>\n",
       "    </tr>\n",
       "    <tr>\n",
       "      <th>74</th>\n",
       "      <td>0.609375</td>\n",
       "      <td>0.644128</td>\n",
       "      <td>0.605634</td>\n",
       "      <td>0.576132</td>\n",
       "    </tr>\n",
       "    <tr>\n",
       "      <th>75</th>\n",
       "      <td>0.412486</td>\n",
       "      <td>0.583051</td>\n",
       "      <td>0.599303</td>\n",
       "      <td>0.472803</td>\n",
       "    </tr>\n",
       "    <tr>\n",
       "      <th>76</th>\n",
       "      <td>0.405375</td>\n",
       "      <td>0.557692</td>\n",
       "      <td>0.528169</td>\n",
       "      <td>0.373333</td>\n",
       "    </tr>\n",
       "    <tr>\n",
       "      <th>77</th>\n",
       "      <td>0.418527</td>\n",
       "      <td>0.627660</td>\n",
       "      <td>0.382979</td>\n",
       "      <td>0.369369</td>\n",
       "    </tr>\n",
       "    <tr>\n",
       "      <th>78</th>\n",
       "      <td>0.622768</td>\n",
       "      <td>0.628571</td>\n",
       "      <td>0.544170</td>\n",
       "      <td>0.493506</td>\n",
       "    </tr>\n",
       "    <tr>\n",
       "      <th>79</th>\n",
       "      <td>0.428094</td>\n",
       "      <td>0.546624</td>\n",
       "      <td>0.508711</td>\n",
       "      <td>0.545455</td>\n",
       "    </tr>\n",
       "    <tr>\n",
       "      <th>80</th>\n",
       "      <td>0.425532</td>\n",
       "      <td>0.579661</td>\n",
       "      <td>0.574468</td>\n",
       "      <td>0.504065</td>\n",
       "    </tr>\n",
       "    <tr>\n",
       "      <th>81</th>\n",
       "      <td>0.612653</td>\n",
       "      <td>0.597865</td>\n",
       "      <td>0.588028</td>\n",
       "      <td>0.563025</td>\n",
       "    </tr>\n",
       "    <tr>\n",
       "      <th>82</th>\n",
       "      <td>0.632402</td>\n",
       "      <td>0.608541</td>\n",
       "      <td>0.418685</td>\n",
       "      <td>0.535865</td>\n",
       "    </tr>\n",
       "    <tr>\n",
       "      <th>83</th>\n",
       "      <td>0.467634</td>\n",
       "      <td>0.571895</td>\n",
       "      <td>0.528169</td>\n",
       "      <td>0.528926</td>\n",
       "    </tr>\n",
       "    <tr>\n",
       "      <th>84</th>\n",
       "      <td>0.412094</td>\n",
       "      <td>0.575342</td>\n",
       "      <td>0.598592</td>\n",
       "      <td>0.531008</td>\n",
       "    </tr>\n",
       "    <tr>\n",
       "      <th>85</th>\n",
       "      <td>0.403803</td>\n",
       "      <td>0.604240</td>\n",
       "      <td>0.329825</td>\n",
       "      <td>0.255605</td>\n",
       "    </tr>\n",
       "    <tr>\n",
       "      <th>86</th>\n",
       "      <td>0.437500</td>\n",
       "      <td>0.589286</td>\n",
       "      <td>0.397163</td>\n",
       "      <td>0.506329</td>\n",
       "    </tr>\n",
       "    <tr>\n",
       "      <th>87</th>\n",
       "      <td>0.442222</td>\n",
       "      <td>0.628571</td>\n",
       "      <td>0.648084</td>\n",
       "      <td>0.473684</td>\n",
       "    </tr>\n",
       "    <tr>\n",
       "      <th>88</th>\n",
       "      <td>0.592634</td>\n",
       "      <td>0.616197</td>\n",
       "      <td>0.590278</td>\n",
       "      <td>0.551181</td>\n",
       "    </tr>\n",
       "    <tr>\n",
       "      <th>89</th>\n",
       "      <td>0.418527</td>\n",
       "      <td>0.492857</td>\n",
       "      <td>0.484099</td>\n",
       "      <td>0.544681</td>\n",
       "    </tr>\n",
       "    <tr>\n",
       "      <th>90</th>\n",
       "      <td>0.626949</td>\n",
       "      <td>0.617450</td>\n",
       "      <td>0.539792</td>\n",
       "      <td>0.565789</td>\n",
       "    </tr>\n",
       "    <tr>\n",
       "      <th>91</th>\n",
       "      <td>0.608647</td>\n",
       "      <td>0.596429</td>\n",
       "      <td>0.602113</td>\n",
       "      <td>0.628205</td>\n",
       "    </tr>\n",
       "    <tr>\n",
       "      <th>92</th>\n",
       "      <td>0.449162</td>\n",
       "      <td>0.596610</td>\n",
       "      <td>0.586572</td>\n",
       "      <td>0.255605</td>\n",
       "    </tr>\n",
       "    <tr>\n",
       "      <th>93</th>\n",
       "      <td>0.394855</td>\n",
       "      <td>0.619217</td>\n",
       "      <td>0.595070</td>\n",
       "      <td>0.278761</td>\n",
       "    </tr>\n",
       "    <tr>\n",
       "      <th>94</th>\n",
       "      <td>0.629014</td>\n",
       "      <td>0.589226</td>\n",
       "      <td>0.545775</td>\n",
       "      <td>0.533333</td>\n",
       "    </tr>\n",
       "    <tr>\n",
       "      <th>95</th>\n",
       "      <td>0.626116</td>\n",
       "      <td>0.602740</td>\n",
       "      <td>0.570423</td>\n",
       "      <td>0.471111</td>\n",
       "    </tr>\n",
       "    <tr>\n",
       "      <th>96</th>\n",
       "      <td>0.464804</td>\n",
       "      <td>0.580071</td>\n",
       "      <td>0.418440</td>\n",
       "      <td>0.598291</td>\n",
       "    </tr>\n",
       "    <tr>\n",
       "      <th>97</th>\n",
       "      <td>0.625835</td>\n",
       "      <td>0.617857</td>\n",
       "      <td>0.585965</td>\n",
       "      <td>0.458150</td>\n",
       "    </tr>\n",
       "    <tr>\n",
       "      <th>98</th>\n",
       "      <td>0.419712</td>\n",
       "      <td>0.597270</td>\n",
       "      <td>0.517606</td>\n",
       "      <td>0.473684</td>\n",
       "    </tr>\n",
       "  </tbody>\n",
       "</table>\n",
       "<p>99 rows × 4 columns</p>\n",
       "</div>"
      ],
      "text/plain": [
       "           0         1         2         3\n",
       "0   0.410056  0.621429  0.616197  0.316964\n",
       "1   0.635754  0.632143  0.597173  0.574561\n",
       "2   0.572707  0.578767  0.566901  0.555118\n",
       "3   0.601336  0.614286  0.383275  0.500000\n",
       "4   0.436384  0.567857  0.471631  0.520833\n",
       "5   0.343017  0.560748  0.469965  0.538136\n",
       "6   0.600221  0.596026  0.537102  0.543478\n",
       "7   0.605088  0.654804  0.617544  0.547826\n",
       "8   0.320312  0.632867  0.593640  0.546939\n",
       "9   0.418994  0.642857  0.634752  0.596491\n",
       "10  0.640177  0.610345  0.587413  0.502242\n",
       "11  0.606630  0.607843  0.521127  0.426724\n",
       "12  0.358259  0.596026  0.555944  0.500000\n",
       "13  0.562222  0.577922  0.565371  0.511811\n",
       "14  0.409396  0.578073  0.543554  0.575000\n",
       "15  0.315789  0.604982  0.507042  0.476562\n",
       "16  0.359865  0.609589  0.595070  0.283784\n",
       "17  0.482103  0.636054  0.542553  0.475410\n",
       "18  0.414716  0.540717  0.557895  0.503876\n",
       "19  0.575893  0.630662  0.626761  0.572034\n",
       "20  0.398438  0.596429  0.623693  0.423423\n",
       "21  0.417877  0.605442  0.571930  0.254464\n",
       "22  0.310538  0.514184  0.505300  0.245536\n",
       "23  0.465922  0.640569  0.566434  0.548936\n",
       "24  0.458613  0.571429  0.580205  0.428571\n",
       "25  0.614444  0.592593  0.528169  0.493724\n",
       "26  0.434637  0.615658  0.642105  0.570213\n",
       "27  0.458613  0.621429  0.600694  0.551020\n",
       "28  0.455357  0.615646  0.547368  0.500000\n",
       "29  0.441341  0.554455  0.552817  0.284444\n",
       "..       ...       ...       ...       ...\n",
       "69  0.340733  0.627660  0.585965  0.485477\n",
       "70  0.606667  0.592857  0.503521  0.554585\n",
       "71  0.634337  0.584459  0.561404  0.534188\n",
       "72  0.293527  0.574675  0.508834  0.544000\n",
       "73  0.610188  0.614334  0.584507  0.532751\n",
       "74  0.609375  0.644128  0.605634  0.576132\n",
       "75  0.412486  0.583051  0.599303  0.472803\n",
       "76  0.405375  0.557692  0.528169  0.373333\n",
       "77  0.418527  0.627660  0.382979  0.369369\n",
       "78  0.622768  0.628571  0.544170  0.493506\n",
       "79  0.428094  0.546624  0.508711  0.545455\n",
       "80  0.425532  0.579661  0.574468  0.504065\n",
       "81  0.612653  0.597865  0.588028  0.563025\n",
       "82  0.632402  0.608541  0.418685  0.535865\n",
       "83  0.467634  0.571895  0.528169  0.528926\n",
       "84  0.412094  0.575342  0.598592  0.531008\n",
       "85  0.403803  0.604240  0.329825  0.255605\n",
       "86  0.437500  0.589286  0.397163  0.506329\n",
       "87  0.442222  0.628571  0.648084  0.473684\n",
       "88  0.592634  0.616197  0.590278  0.551181\n",
       "89  0.418527  0.492857  0.484099  0.544681\n",
       "90  0.626949  0.617450  0.539792  0.565789\n",
       "91  0.608647  0.596429  0.602113  0.628205\n",
       "92  0.449162  0.596610  0.586572  0.255605\n",
       "93  0.394855  0.619217  0.595070  0.278761\n",
       "94  0.629014  0.589226  0.545775  0.533333\n",
       "95  0.626116  0.602740  0.570423  0.471111\n",
       "96  0.464804  0.580071  0.418440  0.598291\n",
       "97  0.625835  0.617857  0.585965  0.458150\n",
       "98  0.419712  0.597270  0.517606  0.473684\n",
       "\n",
       "[99 rows x 4 columns]"
      ]
     },
     "execution_count": 17,
     "metadata": {},
     "output_type": "execute_result"
    }
   ],
   "source": [
    "res"
   ]
  },
  {
   "cell_type": "code",
   "execution_count": 18,
   "metadata": {},
   "outputs": [],
   "source": [
    "res.columns = ['cluster0', 'cluster1', 'cluster2', 'cluster3']"
   ]
  },
  {
   "cell_type": "markdown",
   "metadata": {},
   "source": [
    "### Jaccard score statistics after 100 bootstrap"
   ]
  },
  {
   "cell_type": "code",
   "execution_count": 19,
   "metadata": {
    "scrolled": true
   },
   "outputs": [
    {
     "data": {
      "text/html": [
       "<div>\n",
       "<style scoped>\n",
       "    .dataframe tbody tr th:only-of-type {\n",
       "        vertical-align: middle;\n",
       "    }\n",
       "\n",
       "    .dataframe tbody tr th {\n",
       "        vertical-align: top;\n",
       "    }\n",
       "\n",
       "    .dataframe thead th {\n",
       "        text-align: right;\n",
       "    }\n",
       "</style>\n",
       "<table border=\"1\" class=\"dataframe\">\n",
       "  <thead>\n",
       "    <tr style=\"text-align: right;\">\n",
       "      <th></th>\n",
       "      <th>cluster0</th>\n",
       "      <th>cluster1</th>\n",
       "      <th>cluster2</th>\n",
       "      <th>cluster3</th>\n",
       "    </tr>\n",
       "  </thead>\n",
       "  <tbody>\n",
       "    <tr>\n",
       "      <th>count</th>\n",
       "      <td>99.000000</td>\n",
       "      <td>99.000000</td>\n",
       "      <td>99.000000</td>\n",
       "      <td>99.000000</td>\n",
       "    </tr>\n",
       "    <tr>\n",
       "      <th>mean</th>\n",
       "      <td>0.488074</td>\n",
       "      <td>0.601002</td>\n",
       "      <td>0.546126</td>\n",
       "      <td>0.490987</td>\n",
       "    </tr>\n",
       "    <tr>\n",
       "      <th>std</th>\n",
       "      <td>0.105804</td>\n",
       "      <td>0.032878</td>\n",
       "      <td>0.067260</td>\n",
       "      <td>0.098565</td>\n",
       "    </tr>\n",
       "    <tr>\n",
       "      <th>min</th>\n",
       "      <td>0.293527</td>\n",
       "      <td>0.492857</td>\n",
       "      <td>0.329825</td>\n",
       "      <td>0.245536</td>\n",
       "    </tr>\n",
       "    <tr>\n",
       "      <th>25%</th>\n",
       "      <td>0.412094</td>\n",
       "      <td>0.580414</td>\n",
       "      <td>0.524648</td>\n",
       "      <td>0.473357</td>\n",
       "    </tr>\n",
       "    <tr>\n",
       "      <th>50%</th>\n",
       "      <td>0.458613</td>\n",
       "      <td>0.602740</td>\n",
       "      <td>0.561837</td>\n",
       "      <td>0.524444</td>\n",
       "    </tr>\n",
       "    <tr>\n",
       "      <th>75%</th>\n",
       "      <td>0.600780</td>\n",
       "      <td>0.621429</td>\n",
       "      <td>0.588439</td>\n",
       "      <td>0.548381</td>\n",
       "    </tr>\n",
       "    <tr>\n",
       "      <th>max</th>\n",
       "      <td>0.640177</td>\n",
       "      <td>0.676157</td>\n",
       "      <td>0.648084</td>\n",
       "      <td>0.685841</td>\n",
       "    </tr>\n",
       "  </tbody>\n",
       "</table>\n",
       "</div>"
      ],
      "text/plain": [
       "        cluster0   cluster1   cluster2   cluster3\n",
       "count  99.000000  99.000000  99.000000  99.000000\n",
       "mean    0.488074   0.601002   0.546126   0.490987\n",
       "std     0.105804   0.032878   0.067260   0.098565\n",
       "min     0.293527   0.492857   0.329825   0.245536\n",
       "25%     0.412094   0.580414   0.524648   0.473357\n",
       "50%     0.458613   0.602740   0.561837   0.524444\n",
       "75%     0.600780   0.621429   0.588439   0.548381\n",
       "max     0.640177   0.676157   0.648084   0.685841"
      ]
     },
     "execution_count": 19,
     "metadata": {},
     "output_type": "execute_result"
    }
   ],
   "source": [
    "res.describe()"
   ]
  },
  {
   "cell_type": "markdown",
   "metadata": {},
   "source": [
    "### Coefficient of variation for each cluster"
   ]
  },
  {
   "cell_type": "code",
   "execution_count": 20,
   "metadata": {},
   "outputs": [
    {
     "data": {
      "text/plain": [
       "cluster0    21.677830\n",
       "cluster1     5.470460\n",
       "cluster2    12.315787\n",
       "cluster3    20.074796\n",
       "dtype: float64"
      ]
     },
     "execution_count": 20,
     "metadata": {},
     "output_type": "execute_result"
    }
   ],
   "source": [
    "CV = ( res.std() / res.mean() ) * 100\n",
    "CV"
   ]
  },
  {
   "cell_type": "markdown",
   "metadata": {},
   "source": [
    "### Jaccard scores over 100 bootstraps"
   ]
  },
  {
   "cell_type": "code",
   "execution_count": 21,
   "metadata": {
    "scrolled": true
   },
   "outputs": [
    {
     "data": {
      "image/png": "[encoded data removed]",
      "text/plain": [
       "<Figure size 432x288 with 3 Axes>"
      ]
     },
     "metadata": {},
     "output_type": "display_data"
    }
   ],
   "source": [
    "ax = plt.subplot(311)\n",
    "ax.set_title(\"Cluster 0\")\n",
    "plt.hist(res['cluster0'], color=None)\n",
    "ax = plt.subplot(312) # creates 2nd subplot with yellow background\n",
    "ax.set_title(\"Cluster 1\")\n",
    "plt.hist(res['cluster1'], color='g')\n",
    "ax = plt.subplot(313) # creates 2nd subplot with yellow background\n",
    "ax.set_title(\"Cluster 2\")\n",
    "plt.hist(res['cluster2'], color='r')\n",
    "plt.tight_layout()"
   ]
  },
  {
   "cell_type": "code",
   "execution_count": null,
   "metadata": {
    "collapsed": true
   },
   "outputs": [],
   "source": []
  },
  {
   "cell_type": "code",
   "execution_count": null,
   "metadata": {
    "collapsed": true
   },
   "outputs": [],
   "source": [
    "# pickle.dump( res, open( \"bootstrap_results.pickle\", \"wb\" ) )"
   ]
  }
 ],
 "metadata": {
  "kernelspec": {
   "display_name": "Python 3",
   "language": "python",
   "name": "python3"
  },
  "language_info": {
   "codemirror_mode": {
    "name": "ipython",
    "version": 3
   },
   "file_extension": ".py",
   "mimetype": "text/x-python",
   "name": "python",
   "nbconvert_exporter": "python",
   "pygments_lexer": "ipython3",
   "version": "3.6.3"
  }
 },
 "nbformat": 4,
 "nbformat_minor": 2
}
